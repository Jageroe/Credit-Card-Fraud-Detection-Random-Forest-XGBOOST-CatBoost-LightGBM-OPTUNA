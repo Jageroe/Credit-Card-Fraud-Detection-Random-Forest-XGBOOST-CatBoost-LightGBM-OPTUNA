{
 "cells": [
  {
   "cell_type": "code",
   "execution_count": 36,
   "metadata": {},
   "outputs": [],
   "source": [
    "import os\n",
    "from IPython.display import display\n",
    "from datetime import datetime\n",
    "\n",
    "import pandas as pd\n",
    "import numpy as np\n",
    "\n",
    "import matplotlib.pyplot as plt\n",
    "import seaborn as sns\n",
    "import plotly.express as px\n",
    "import plotly.graph_objects as go\n",
    "\n",
    "\n",
    "from sklearn.model_selection import train_test_split, StratifiedKFold, RandomizedSearchCV\n",
    "from sklearn.ensemble import RandomForestClassifier\n",
    "from sklearn.metrics import (\n",
    "    precision_score,\n",
    "    recall_score,\n",
    "    confusion_matrix,\n",
    "    classification_report,\n",
    "    precision_recall_curve,\n",
    "    auc\n",
    ")\n",
    "\n",
    "from sklearnex import patch_sklearn\n",
    "import pickle\n",
    "from imblearn.over_sampling import SMOTE\n",
    "\n",
    "import optuna\n",
    "import xgboost as xgb\n",
    "import catboost as cb\n",
    "import lightgbm as lgb\n",
    "from lightgbm import early_stopping\n",
    "\n",
    "FOLDER_TO_SAVE_MODELS = 'saved_models'\n"
   ]
  },
  {
   "cell_type": "markdown",
   "metadata": {},
   "source": [
    "### Exploring and processing the data"
   ]
  },
  {
   "cell_type": "code",
   "execution_count": 8,
   "metadata": {},
   "outputs": [],
   "source": [
    "# Reading the data \n",
    "df_orig = pd.read_csv('creditcard.csv')"
   ]
  },
  {
   "cell_type": "code",
   "execution_count": 9,
   "metadata": {},
   "outputs": [
    {
     "data": {
      "text/html": [
       "<div>\n",
       "<style scoped>\n",
       "    .dataframe tbody tr th:only-of-type {\n",
       "        vertical-align: middle;\n",
       "    }\n",
       "\n",
       "    .dataframe tbody tr th {\n",
       "        vertical-align: top;\n",
       "    }\n",
       "\n",
       "    .dataframe thead th {\n",
       "        text-align: right;\n",
       "    }\n",
       "</style>\n",
       "<table border=\"1\" class=\"dataframe\">\n",
       "  <thead>\n",
       "    <tr style=\"text-align: right;\">\n",
       "      <th></th>\n",
       "      <th>Time</th>\n",
       "      <th>V1</th>\n",
       "      <th>V2</th>\n",
       "      <th>V3</th>\n",
       "      <th>V4</th>\n",
       "      <th>V5</th>\n",
       "      <th>V6</th>\n",
       "      <th>V7</th>\n",
       "      <th>V8</th>\n",
       "      <th>V9</th>\n",
       "      <th>...</th>\n",
       "      <th>V21</th>\n",
       "      <th>V22</th>\n",
       "      <th>V23</th>\n",
       "      <th>V24</th>\n",
       "      <th>V25</th>\n",
       "      <th>V26</th>\n",
       "      <th>V27</th>\n",
       "      <th>V28</th>\n",
       "      <th>Amount</th>\n",
       "      <th>Class</th>\n",
       "    </tr>\n",
       "  </thead>\n",
       "  <tbody>\n",
       "    <tr>\n",
       "      <th>0</th>\n",
       "      <td>0.0</td>\n",
       "      <td>-1.359807</td>\n",
       "      <td>-0.072781</td>\n",
       "      <td>2.536347</td>\n",
       "      <td>1.378155</td>\n",
       "      <td>-0.338321</td>\n",
       "      <td>0.462388</td>\n",
       "      <td>0.239599</td>\n",
       "      <td>0.098698</td>\n",
       "      <td>0.363787</td>\n",
       "      <td>...</td>\n",
       "      <td>-0.018307</td>\n",
       "      <td>0.277838</td>\n",
       "      <td>-0.110474</td>\n",
       "      <td>0.066928</td>\n",
       "      <td>0.128539</td>\n",
       "      <td>-0.189115</td>\n",
       "      <td>0.133558</td>\n",
       "      <td>-0.021053</td>\n",
       "      <td>149.62</td>\n",
       "      <td>0</td>\n",
       "    </tr>\n",
       "    <tr>\n",
       "      <th>1</th>\n",
       "      <td>0.0</td>\n",
       "      <td>1.191857</td>\n",
       "      <td>0.266151</td>\n",
       "      <td>0.166480</td>\n",
       "      <td>0.448154</td>\n",
       "      <td>0.060018</td>\n",
       "      <td>-0.082361</td>\n",
       "      <td>-0.078803</td>\n",
       "      <td>0.085102</td>\n",
       "      <td>-0.255425</td>\n",
       "      <td>...</td>\n",
       "      <td>-0.225775</td>\n",
       "      <td>-0.638672</td>\n",
       "      <td>0.101288</td>\n",
       "      <td>-0.339846</td>\n",
       "      <td>0.167170</td>\n",
       "      <td>0.125895</td>\n",
       "      <td>-0.008983</td>\n",
       "      <td>0.014724</td>\n",
       "      <td>2.69</td>\n",
       "      <td>0</td>\n",
       "    </tr>\n",
       "    <tr>\n",
       "      <th>2</th>\n",
       "      <td>1.0</td>\n",
       "      <td>-1.358354</td>\n",
       "      <td>-1.340163</td>\n",
       "      <td>1.773209</td>\n",
       "      <td>0.379780</td>\n",
       "      <td>-0.503198</td>\n",
       "      <td>1.800499</td>\n",
       "      <td>0.791461</td>\n",
       "      <td>0.247676</td>\n",
       "      <td>-1.514654</td>\n",
       "      <td>...</td>\n",
       "      <td>0.247998</td>\n",
       "      <td>0.771679</td>\n",
       "      <td>0.909412</td>\n",
       "      <td>-0.689281</td>\n",
       "      <td>-0.327642</td>\n",
       "      <td>-0.139097</td>\n",
       "      <td>-0.055353</td>\n",
       "      <td>-0.059752</td>\n",
       "      <td>378.66</td>\n",
       "      <td>0</td>\n",
       "    </tr>\n",
       "    <tr>\n",
       "      <th>3</th>\n",
       "      <td>1.0</td>\n",
       "      <td>-0.966272</td>\n",
       "      <td>-0.185226</td>\n",
       "      <td>1.792993</td>\n",
       "      <td>-0.863291</td>\n",
       "      <td>-0.010309</td>\n",
       "      <td>1.247203</td>\n",
       "      <td>0.237609</td>\n",
       "      <td>0.377436</td>\n",
       "      <td>-1.387024</td>\n",
       "      <td>...</td>\n",
       "      <td>-0.108300</td>\n",
       "      <td>0.005274</td>\n",
       "      <td>-0.190321</td>\n",
       "      <td>-1.175575</td>\n",
       "      <td>0.647376</td>\n",
       "      <td>-0.221929</td>\n",
       "      <td>0.062723</td>\n",
       "      <td>0.061458</td>\n",
       "      <td>123.50</td>\n",
       "      <td>0</td>\n",
       "    </tr>\n",
       "    <tr>\n",
       "      <th>4</th>\n",
       "      <td>2.0</td>\n",
       "      <td>-1.158233</td>\n",
       "      <td>0.877737</td>\n",
       "      <td>1.548718</td>\n",
       "      <td>0.403034</td>\n",
       "      <td>-0.407193</td>\n",
       "      <td>0.095921</td>\n",
       "      <td>0.592941</td>\n",
       "      <td>-0.270533</td>\n",
       "      <td>0.817739</td>\n",
       "      <td>...</td>\n",
       "      <td>-0.009431</td>\n",
       "      <td>0.798278</td>\n",
       "      <td>-0.137458</td>\n",
       "      <td>0.141267</td>\n",
       "      <td>-0.206010</td>\n",
       "      <td>0.502292</td>\n",
       "      <td>0.219422</td>\n",
       "      <td>0.215153</td>\n",
       "      <td>69.99</td>\n",
       "      <td>0</td>\n",
       "    </tr>\n",
       "  </tbody>\n",
       "</table>\n",
       "<p>5 rows × 31 columns</p>\n",
       "</div>"
      ],
      "text/plain": [
       "   Time        V1        V2        V3        V4        V5        V6        V7  \\\n",
       "0   0.0 -1.359807 -0.072781  2.536347  1.378155 -0.338321  0.462388  0.239599   \n",
       "1   0.0  1.191857  0.266151  0.166480  0.448154  0.060018 -0.082361 -0.078803   \n",
       "2   1.0 -1.358354 -1.340163  1.773209  0.379780 -0.503198  1.800499  0.791461   \n",
       "3   1.0 -0.966272 -0.185226  1.792993 -0.863291 -0.010309  1.247203  0.237609   \n",
       "4   2.0 -1.158233  0.877737  1.548718  0.403034 -0.407193  0.095921  0.592941   \n",
       "\n",
       "         V8        V9  ...       V21       V22       V23       V24       V25  \\\n",
       "0  0.098698  0.363787  ... -0.018307  0.277838 -0.110474  0.066928  0.128539   \n",
       "1  0.085102 -0.255425  ... -0.225775 -0.638672  0.101288 -0.339846  0.167170   \n",
       "2  0.247676 -1.514654  ...  0.247998  0.771679  0.909412 -0.689281 -0.327642   \n",
       "3  0.377436 -1.387024  ... -0.108300  0.005274 -0.190321 -1.175575  0.647376   \n",
       "4 -0.270533  0.817739  ... -0.009431  0.798278 -0.137458  0.141267 -0.206010   \n",
       "\n",
       "        V26       V27       V28  Amount  Class  \n",
       "0 -0.189115  0.133558 -0.021053  149.62      0  \n",
       "1  0.125895 -0.008983  0.014724    2.69      0  \n",
       "2 -0.139097 -0.055353 -0.059752  378.66      0  \n",
       "3 -0.221929  0.062723  0.061458  123.50      0  \n",
       "4  0.502292  0.219422  0.215153   69.99      0  \n",
       "\n",
       "[5 rows x 31 columns]"
      ]
     },
     "execution_count": 9,
     "metadata": {},
     "output_type": "execute_result"
    }
   ],
   "source": [
    "# First glance at the dataset\n",
    "df_orig.head()"
   ]
  },
  {
   "cell_type": "code",
   "execution_count": 10,
   "metadata": {},
   "outputs": [
    {
     "data": {
      "text/plain": [
       "Time      0\n",
       "V1        0\n",
       "V2        0\n",
       "V3        0\n",
       "V4        0\n",
       "V5        0\n",
       "V6        0\n",
       "V7        0\n",
       "V8        0\n",
       "V9        0\n",
       "V10       0\n",
       "V11       0\n",
       "V12       0\n",
       "V13       0\n",
       "V14       0\n",
       "V15       0\n",
       "V16       0\n",
       "V17       0\n",
       "V18       0\n",
       "V19       0\n",
       "V20       0\n",
       "V21       0\n",
       "V22       0\n",
       "V23       0\n",
       "V24       0\n",
       "V25       0\n",
       "V26       0\n",
       "V27       0\n",
       "V28       0\n",
       "Amount    0\n",
       "Class     0\n",
       "dtype: int64"
      ]
     },
     "execution_count": 10,
     "metadata": {},
     "output_type": "execute_result"
    }
   ],
   "source": [
    "# Checking if we've got any missing value\n",
    "df_orig.isnull().sum()"
   ]
  },
  {
   "cell_type": "code",
   "execution_count": 11,
   "metadata": {},
   "outputs": [
    {
     "data": {
      "text/html": [
       "<div>\n",
       "<style scoped>\n",
       "    .dataframe tbody tr th:only-of-type {\n",
       "        vertical-align: middle;\n",
       "    }\n",
       "\n",
       "    .dataframe tbody tr th {\n",
       "        vertical-align: top;\n",
       "    }\n",
       "\n",
       "    .dataframe thead th {\n",
       "        text-align: right;\n",
       "    }\n",
       "</style>\n",
       "<table border=\"1\" class=\"dataframe\">\n",
       "  <thead>\n",
       "    <tr style=\"text-align: right;\">\n",
       "      <th></th>\n",
       "      <th>Count</th>\n",
       "      <th>Proportion</th>\n",
       "    </tr>\n",
       "    <tr>\n",
       "      <th>Class</th>\n",
       "      <th></th>\n",
       "      <th></th>\n",
       "    </tr>\n",
       "  </thead>\n",
       "  <tbody>\n",
       "    <tr>\n",
       "      <th>0</th>\n",
       "      <td>284315</td>\n",
       "      <td>0.998273</td>\n",
       "    </tr>\n",
       "    <tr>\n",
       "      <th>1</th>\n",
       "      <td>492</td>\n",
       "      <td>0.001727</td>\n",
       "    </tr>\n",
       "  </tbody>\n",
       "</table>\n",
       "</div>"
      ],
      "text/plain": [
       "        Count  Proportion\n",
       "Class                    \n",
       "0      284315    0.998273\n",
       "1         492    0.001727"
      ]
     },
     "execution_count": 11,
     "metadata": {},
     "output_type": "execute_result"
    }
   ],
   "source": [
    "value_counts = df_orig['Class'].value_counts()\n",
    "proportions = value_counts / len(df_orig)\n",
    "pd.DataFrame({\n",
    "    'Count': value_counts, \n",
    "    'Proportion': proportions\n",
    "})"
   ]
  },
  {
   "cell_type": "markdown",
   "metadata": {},
   "source": [
    "We are dealing with an extremely imbalanced dataset, where only 0.17% of the transactions are fraudulant. It's really important to consider this class imbalance when building our model.\n",
    "\n",
    "If I use the original data to calculate the correlation matrix, it will be influenced by the class imbalance, with non-fraud cases dominating the fraud cases. This could lead us to distorted results. "
   ]
  },
  {
   "cell_type": "code",
   "execution_count": 12,
   "metadata": {},
   "outputs": [],
   "source": [
    "# Oversampling the original data using the SMOTE algorithm\n",
    "smote = SMOTE(random_state=1234)\n",
    "X_smote, y_smote = smote.fit_resample(df_orig.drop(columns='Class'), df_orig['Class'])\n",
    "df_smote = X_smote.join(y_smote)"
   ]
  },
  {
   "cell_type": "code",
   "execution_count": 13,
   "metadata": {},
   "outputs": [
    {
     "data": {
      "text/plain": [
       "Text(0.5, 1.05, 'Correlation heatmap:\\noversampled data')"
      ]
     },
     "execution_count": 13,
     "metadata": {},
     "output_type": "execute_result"
    },
    {
     "data": {
      "image/png": "[encoded data removed]",
      "text/plain": [
       "<Figure size 1500x800 with 4 Axes>"
      ]
     },
     "metadata": {},
     "output_type": "display_data"
    }
   ],
   "source": [
    "# Let's plot the correlation heatmaps for both the original data and the oversampled data.\n",
    "f, (ax1, ax2) = plt.subplots(1,2)\n",
    "f.set_figheight(8)\n",
    "f.set_figwidth(15)\n",
    "mask = np.triu(np.ones_like(df_orig.corr(), dtype=bool))\n",
    "sns.heatmap(df_orig.corr(), mask = mask, ax=ax1)\n",
    "ax1.set_title(\"Correlation heatmap:\\noriginal data\",fontsize=20, y=1.05)\n",
    "sns.heatmap(df_smote.corr(), mask = mask, ax=ax2)\n",
    "ax2.set_title(\"Correlation heatmap:\\noversampled data\",fontsize=20, y=1.05)"
   ]
  },
  {
   "cell_type": "code",
   "execution_count": 14,
   "metadata": {},
   "outputs": [
    {
     "data": {
      "image/png": "[encoded data removed]",
      "text/plain": [
       "<Figure size 700x400 with 1 Axes>"
      ]
     },
     "metadata": {},
     "output_type": "display_data"
    }
   ],
   "source": [
    "# Creating a pd Series containing the columns with their correlation values based on the oversampled dataset\n",
    "correlations = df_smote.corr()['Class'].sort_values()\n",
    "correlations = correlations.loc[correlations.index != 'Class']\n",
    "\n",
    "# Plot the correlations on a barplot\n",
    "plt.figure(figsize = (7,4))\n",
    "plt.title('Correlations on the oversampled data',fontsize=14)\n",
    "s = sns.barplot(y=correlations, x=correlations.index)\n",
    "s.set_xticklabels(s.get_xticklabels(),rotation=90)\n",
    "s.set_ylabel(\"\")\n",
    "plt.show()  "
   ]
  },
  {
   "cell_type": "code",
   "execution_count": 15,
   "metadata": {},
   "outputs": [
    {
     "data": {
      "image/png": "[encoded data removed]",
      "text/plain": [
       "<Figure size 800x3500 with 28 Axes>"
      ]
     },
     "metadata": {},
     "output_type": "display_data"
    }
   ],
   "source": [
    "important_features = correlations[np.abs(correlations) > 0.4].index\n",
    "\n",
    "f, axes = plt.subplots(len(important_features),2)\n",
    "f.suptitle('Distributions and boxplots on original data',fontsize=15,y=1.0005)\n",
    "f.set_figheight(2.5*len(important_features))\n",
    "f.set_figwidth(8)\n",
    "f.tight_layout(pad=2.5)\n",
    "\n",
    "for i, feature in enumerate(important_features):\n",
    "\n",
    "    sns.kdeplot(\n",
    "        data = df_orig.loc[df_orig.Class == 0], \n",
    "        x = feature, \n",
    "        fill = True, \n",
    "        color =\"#3386FF\",\n",
    "        linewidth=0.6, \n",
    "        ax=axes[i,0], \n",
    "        label=0\n",
    "    )\n",
    "    \n",
    "    sns.kdeplot(\n",
    "        data = df_orig.loc[df_orig.Class == 1], \n",
    "        x = feature, \n",
    "        fill = True, \n",
    "        color =\"#EFB000\",\n",
    "        linewidth=0.6, \n",
    "        ax=axes[i,0], \n",
    "        label=1\n",
    "    )\n",
    "    \n",
    "    axes[i,0].set_xlabel('')\n",
    "    axes[i,0].legend()\n",
    "    axes[i,0].set_title(feature,fontsize=10, y=1.00)\n",
    "\n",
    "\n",
    "    sns.boxplot(x = df_orig[feature],\n",
    "                y = df_orig['Class'],\n",
    "                orient='h',\n",
    "                palette= [\"#3386FF\",\"#EFB000\"],\n",
    "                ax=axes[i][1],\n",
    "                boxprops=dict(alpha=.4)\n",
    "    )\n",
    "    axes[i,1].set_xlabel('')\n",
    "    axes[i][1].set_title(feature,fontsize=10, y=1.00)\n"
   ]
  },
  {
   "cell_type": "markdown",
   "metadata": {},
   "source": [
    "As the boxplots show us, our dataset contains several outliers. Removing these outliers would eliminate a significant number of observations from the fraud cases.\n",
    "\n",
    "Additionally, this approach may lead to a loss of valuable information and potentially weaken the generalization capability of our model, i.e. it might achieve better results on this dataset but could perform poorly on unseen, real-life data.\n",
    "\n",
    "Furthermore, considering the fact that we are working mostly with features that were transformed by PCA, I believe it is wiser to put the emphasis on building a robust model instead of trying to figure out what is considered to be an outlier. "
   ]
  },
  {
   "cell_type": "code",
   "execution_count": 16,
   "metadata": {},
   "outputs": [],
   "source": [
    "df = df_orig\n",
    "\n",
    "X = df.drop(columns='Class')\n",
    "y = df['Class']"
   ]
  },
  {
   "cell_type": "code",
   "execution_count": 17,
   "metadata": {},
   "outputs": [],
   "source": [
    "# Splitting the dataset into a test and train set. \n",
    "# I will perform cross validation on the trainset, and eventually I will test on the test set\n",
    "X_train, X_test, y_train, y_test = train_test_split(X, y, test_size=0.2, random_state=1234, stratify=y)"
   ]
  },
  {
   "cell_type": "markdown",
   "metadata": {},
   "source": [
    "Here, I am implementing some functions that will be used during the optimization and the evaluation process of our models.\""
   ]
  },
  {
   "cell_type": "code",
   "execution_count": 18,
   "metadata": {},
   "outputs": [],
   "source": [
    "\n",
    "def predict_threshold(threshold, model, x):\n",
    "    \"\"\" \n",
    "    Make binary predictions based on the given threshold\n",
    "    \"\"\"\n",
    "\n",
    "    return np.array([int(x[0] <threshold) for x in model.predict_proba(x)])\n",
    "\n",
    "\n",
    "def optimize_objective(objective, n_trials, direction):\n",
    "    \"\"\"\n",
    "    Optimize an objective function using Optuna.\n",
    "    \"\"\"\n",
    "    \n",
    "    study = optuna.create_study(direction=direction)\n",
    "    study.optimize(objective, n_trials=n_trials, timeout=600)\n",
    "\n",
    "    print(\"Number of finished trials: \", len(study.trials))\n",
    "    print(\"Best trial:\")\n",
    "    trial = study.best_trial\n",
    "\n",
    "    print(\"  Value: {}\".format(trial.value))\n",
    "    print(\"  Params: \")\n",
    "    for key, value in trial.params.items():\n",
    "        print(\"    {}: {}\".format(key, value))\n",
    "\n",
    "    return study\n",
    "\n",
    "\n",
    "def evaluate_model(model, x_test, y_test):\n",
    "\n",
    "    \"\"\"\n",
    "    Evaluate the model's performance on test data and print out and visualize some metrics.\n",
    "\n",
    "    Returns:\n",
    "    - results_df_diff_thresholds: A DataFrame containing metrics for different thresholds.\n",
    "    - auc_precision_recall: Area Under the PR Curve (AUCPR).\n",
    "    - lr_recall: Recall values for the Precision-Recall Curve.\n",
    "    - lr_precision: Precision values for the Precision-Recall Curve.\n",
    "\n",
    "    \"\"\"\n",
    "\n",
    "    # Get the results. \n",
    "    y_pred = model.predict(x_test)\n",
    "    y_pred_proba = model.predict_proba(x_test)[:, 1]\n",
    "\n",
    "\n",
    "    # dictionary to store the metrics on different thresholds\n",
    "    results_on_diff_threshold = {\n",
    "        'threshold': [],\n",
    "        'precision': [],\n",
    "        'recall': [],\n",
    "        'FN': [],\n",
    "        'FP': [],\n",
    "        'TP': [],\n",
    "        'TN': [],\n",
    "    }\n",
    "    \n",
    "    # loop trough the different thresholds and populate the results_on_diff_threshold dict\n",
    "    for i in np.linspace(0.1,0.9,9):\n",
    "\n",
    "        results_on_diff_threshold['threshold'].append(i)\n",
    "\n",
    "        y_pred_threshold = predict_threshold(i,model, X_test)\n",
    "\n",
    "        recall = recall_score(y_test, y_pred_threshold)\n",
    "        precision = precision_score(y_test, y_pred_threshold)\n",
    "\n",
    "        results_on_diff_threshold['precision'].append(precision)\n",
    "        results_on_diff_threshold['recall'].append(recall)\n",
    "\n",
    "        cm_threshold = confusion_matrix(y_test, y_pred_threshold)\n",
    "        tn, fp, fn, tp = cm_threshold.ravel()\n",
    "\n",
    "        results_on_diff_threshold['FN'].append(fn)\n",
    "        results_on_diff_threshold['FP'].append(fp)\n",
    "        results_on_diff_threshold['TP'].append(tp)\n",
    "        results_on_diff_threshold['TN'].append(tn)\n",
    "\n",
    "    # Getting the data for the PR curve\n",
    "    lr_precision, lr_recall, _ = precision_recall_curve(y_test, y_pred_proba)\n",
    "\n",
    "    # auc score\n",
    "    auc_precision_recall = auc(lr_recall, lr_precision)\n",
    "\n",
    "    results_df_diff_thresholds = pd.DataFrame(results_on_diff_threshold)\n",
    "\n",
    "    # Printing out the results\n",
    "    print(\"-------------------- Evaulation scores --------------------\\n\")\n",
    "    print(classification_report(y_test, y_pred))\n",
    "    print(\"-----------------------------------------------------------\")\n",
    "    print(f\"AUCPR score: {auc_precision_recall:.4f}\\n\")\n",
    "    print(\"-----------------------------------------------------------\")\n",
    "    print(\"Metrics when different threshold is used on test data: \")\n",
    "\n",
    "    display(results_df_diff_thresholds)\n",
    "    print(\"\\n\")\n",
    "\n",
    "    plt.figure(figsize = (5,5))\n",
    "    plt.plot(lr_recall, lr_precision)\n",
    "    plt.xlabel('Recall')\n",
    "    plt.ylabel('Precision')\n",
    "    plt.title('Precision-Recall curve')\n",
    "    plt.show()\n",
    "\n",
    "    return results_df_diff_thresholds, auc_precision_recall, lr_recall, lr_precision"
   ]
  },
  {
   "cell_type": "markdown",
   "metadata": {},
   "source": [
    "### Random forest - optimized with RandomSearchCV "
   ]
  },
  {
   "cell_type": "code",
   "execution_count": 23,
   "metadata": {},
   "outputs": [
    {
     "name": "stderr",
     "output_type": "stream",
     "text": [
      "Intel(R) Extension for Scikit-learn* enabled (https://github.com/intel/scikit-learn-intelex)\n"
     ]
    },
    {
     "name": "stdout",
     "output_type": "stream",
     "text": [
      "Fitting 3 folds for each of 30 candidates, totalling 90 fits\n"
     ]
    },
    {
     "data": {
      "text/html": [
       "<style>#sk-container-id-1 {color: black;background-color: white;}#sk-container-id-1 pre{padding: 0;}#sk-container-id-1 div.sk-toggleable {background-color: white;}#sk-container-id-1 label.sk-toggleable__label {cursor: pointer;display: block;width: 100%;margin-bottom: 0;padding: 0.3em;box-sizing: border-box;text-align: center;}#sk-container-id-1 label.sk-toggleable__label-arrow:before {content: \"▸\";float: left;margin-right: 0.25em;color: #696969;}#sk-container-id-1 label.sk-toggleable__label-arrow:hover:before {color: black;}#sk-container-id-1 div.sk-estimator:hover label.sk-toggleable__label-arrow:before {color: black;}#sk-container-id-1 div.sk-toggleable__content {max-height: 0;max-width: 0;overflow: hidden;text-align: left;background-color: #f0f8ff;}#sk-container-id-1 div.sk-toggleable__content pre {margin: 0.2em;color: black;border-radius: 0.25em;background-color: #f0f8ff;}#sk-container-id-1 input.sk-toggleable__control:checked~div.sk-toggleable__content {max-height: 200px;max-width: 100%;overflow: auto;}#sk-container-id-1 input.sk-toggleable__control:checked~label.sk-toggleable__label-arrow:before {content: \"▾\";}#sk-container-id-1 div.sk-estimator input.sk-toggleable__control:checked~label.sk-toggleable__label {background-color: #d4ebff;}#sk-container-id-1 div.sk-label input.sk-toggleable__control:checked~label.sk-toggleable__label {background-color: #d4ebff;}#sk-container-id-1 input.sk-hidden--visually {border: 0;clip: rect(1px 1px 1px 1px);clip: rect(1px, 1px, 1px, 1px);height: 1px;margin: -1px;overflow: hidden;padding: 0;position: absolute;width: 1px;}#sk-container-id-1 div.sk-estimator {font-family: monospace;background-color: #f0f8ff;border: 1px dotted black;border-radius: 0.25em;box-sizing: border-box;margin-bottom: 0.5em;}#sk-container-id-1 div.sk-estimator:hover {background-color: #d4ebff;}#sk-container-id-1 div.sk-parallel-item::after {content: \"\";width: 100%;border-bottom: 1px solid gray;flex-grow: 1;}#sk-container-id-1 div.sk-label:hover label.sk-toggleable__label {background-color: #d4ebff;}#sk-container-id-1 div.sk-serial::before {content: \"\";position: absolute;border-left: 1px solid gray;box-sizing: border-box;top: 0;bottom: 0;left: 50%;z-index: 0;}#sk-container-id-1 div.sk-serial {display: flex;flex-direction: column;align-items: center;background-color: white;padding-right: 0.2em;padding-left: 0.2em;position: relative;}#sk-container-id-1 div.sk-item {position: relative;z-index: 1;}#sk-container-id-1 div.sk-parallel {display: flex;align-items: stretch;justify-content: center;background-color: white;position: relative;}#sk-container-id-1 div.sk-item::before, #sk-container-id-1 div.sk-parallel-item::before {content: \"\";position: absolute;border-left: 1px solid gray;box-sizing: border-box;top: 0;bottom: 0;left: 50%;z-index: -1;}#sk-container-id-1 div.sk-parallel-item {display: flex;flex-direction: column;z-index: 1;position: relative;background-color: white;}#sk-container-id-1 div.sk-parallel-item:first-child::after {align-self: flex-end;width: 50%;}#sk-container-id-1 div.sk-parallel-item:last-child::after {align-self: flex-start;width: 50%;}#sk-container-id-1 div.sk-parallel-item:only-child::after {width: 0;}#sk-container-id-1 div.sk-dashed-wrapped {border: 1px dashed gray;margin: 0 0.4em 0.5em 0.4em;box-sizing: border-box;padding-bottom: 0.4em;background-color: white;}#sk-container-id-1 div.sk-label label {font-family: monospace;font-weight: bold;display: inline-block;line-height: 1.2em;}#sk-container-id-1 div.sk-label-container {text-align: center;}#sk-container-id-1 div.sk-container {/* jupyter's `normalize.less` sets `[hidden] { display: none; }` but bootstrap.min.css set `[hidden] { display: none !important; }` so we also need the `!important` here to be able to override the default hidden behavior on the sphinx rendered scikit-learn.org. See: https://github.com/scikit-learn/scikit-learn/issues/21755 */display: inline-block !important;position: relative;}#sk-container-id-1 div.sk-text-repr-fallback {display: none;}</style><div id=\"sk-container-id-1\" class=\"sk-top-container\"><div class=\"sk-text-repr-fallback\"><pre>RandomizedSearchCV(cv=StratifiedKFold(n_splits=3, random_state=None, shuffle=False),\n",
       "                   estimator=RandomForestClassifier(n_jobs=-1), n_iter=30,\n",
       "                   param_distributions={&#x27;class_weight&#x27;: [{1: 24.026793419648342}],\n",
       "                                        &#x27;max_depth&#x27;: [80, 90, 100, 110],\n",
       "                                        &#x27;max_features&#x27;: [2, 3],\n",
       "                                        &#x27;min_samples_leaf&#x27;: [3, 4, 5],\n",
       "                                        &#x27;min_samples_split&#x27;: [8, 10, 12],\n",
       "                                        &#x27;n_estimators&#x27;: [100, 200, 300, 500]},\n",
       "                   random_state=42, scoring=&#x27;neg_log_loss&#x27;, verbose=1)</pre><b>In a Jupyter environment, please rerun this cell to show the HTML representation or trust the notebook. <br />On GitHub, the HTML representation is unable to render, please try loading this page with nbviewer.org.</b></div><div class=\"sk-container\" hidden><div class=\"sk-item sk-dashed-wrapped\"><div class=\"sk-label-container\"><div class=\"sk-label sk-toggleable\"><input class=\"sk-toggleable__control sk-hidden--visually\" id=\"sk-estimator-id-1\" type=\"checkbox\" ><label for=\"sk-estimator-id-1\" class=\"sk-toggleable__label sk-toggleable__label-arrow\">RandomizedSearchCV</label><div class=\"sk-toggleable__content\"><pre>RandomizedSearchCV(cv=StratifiedKFold(n_splits=3, random_state=None, shuffle=False),\n",
       "                   estimator=RandomForestClassifier(n_jobs=-1), n_iter=30,\n",
       "                   param_distributions={&#x27;class_weight&#x27;: [{1: 24.026793419648342}],\n",
       "                                        &#x27;max_depth&#x27;: [80, 90, 100, 110],\n",
       "                                        &#x27;max_features&#x27;: [2, 3],\n",
       "                                        &#x27;min_samples_leaf&#x27;: [3, 4, 5],\n",
       "                                        &#x27;min_samples_split&#x27;: [8, 10, 12],\n",
       "                                        &#x27;n_estimators&#x27;: [100, 200, 300, 500]},\n",
       "                   random_state=42, scoring=&#x27;neg_log_loss&#x27;, verbose=1)</pre></div></div></div><div class=\"sk-parallel\"><div class=\"sk-parallel-item\"><div class=\"sk-item\"><div class=\"sk-label-container\"><div class=\"sk-label sk-toggleable\"><input class=\"sk-toggleable__control sk-hidden--visually\" id=\"sk-estimator-id-2\" type=\"checkbox\" ><label for=\"sk-estimator-id-2\" class=\"sk-toggleable__label sk-toggleable__label-arrow\">estimator: RandomForestClassifier</label><div class=\"sk-toggleable__content\"><pre>RandomForestClassifier(n_jobs=-1)</pre></div></div></div><div class=\"sk-serial\"><div class=\"sk-item\"><div class=\"sk-estimator sk-toggleable\"><input class=\"sk-toggleable__control sk-hidden--visually\" id=\"sk-estimator-id-3\" type=\"checkbox\" ><label for=\"sk-estimator-id-3\" class=\"sk-toggleable__label sk-toggleable__label-arrow\">RandomForestClassifier</label><div class=\"sk-toggleable__content\"><pre>RandomForestClassifier(n_jobs=-1)</pre></div></div></div></div></div></div></div></div></div></div>"
      ],
      "text/plain": [
       "RandomizedSearchCV(cv=StratifiedKFold(n_splits=3, random_state=None, shuffle=False),\n",
       "                   estimator=RandomForestClassifier(n_jobs=-1), n_iter=30,\n",
       "                   param_distributions={'class_weight': [{1: 24.026793419648342}],\n",
       "                                        'max_depth': [80, 90, 100, 110],\n",
       "                                        'max_features': [2, 3],\n",
       "                                        'min_samples_leaf': [3, 4, 5],\n",
       "                                        'min_samples_split': [8, 10, 12],\n",
       "                                        'n_estimators': [100, 200, 300, 500]},\n",
       "                   random_state=42, scoring='neg_log_loss', verbose=1)"
      ]
     },
     "execution_count": 23,
     "metadata": {},
     "output_type": "execute_result"
    }
   ],
   "source": [
    "# Enable the intel extension to boost performance in time\n",
    "patch_sklearn(['RandomForestClassifier'])\n",
    "\n",
    "\n",
    "class_weights = {1: np.sqrt(y_train.value_counts()[0] / y_train.value_counts()[1])}\n",
    "\n",
    "param_grid = {\n",
    "    'max_depth': [80, 90, 100, 110],\n",
    "    'max_features': [2, 3],\n",
    "    'min_samples_leaf': [3, 4, 5],\n",
    "    'min_samples_split': [8, 10, 12],\n",
    "    'n_estimators': [100, 200, 300, 500],\n",
    "    'class_weight':[class_weights]\n",
    "}\n",
    "\n",
    "\n",
    "\n",
    "kfold = StratifiedKFold(n_splits=3)\n",
    "\n",
    "model_rf = RandomizedSearchCV(\n",
    "        RandomForestClassifier(n_jobs=-1),\n",
    "        param_grid,\n",
    "        cv=kfold,\n",
    "        scoring= 'neg_log_loss',\n",
    "        verbose=1,\n",
    "        n_iter=30,\n",
    "        random_state=42 \n",
    ")\n",
    "\n",
    "\n",
    "model_rf.fit(X_train, y_train)"
   ]
  },
  {
   "cell_type": "code",
   "execution_count": 24,
   "metadata": {},
   "outputs": [
    {
     "name": "stdout",
     "output_type": "stream",
     "text": [
      "-------------------- Evaulation scores --------------------\n",
      "\n",
      "              precision    recall  f1-score   support\n",
      "\n",
      "           0       1.00      1.00      1.00     56864\n",
      "           1       0.89      0.85      0.87        98\n",
      "\n",
      "    accuracy                           1.00     56962\n",
      "   macro avg       0.95      0.92      0.93     56962\n",
      "weighted avg       1.00      1.00      1.00     56962\n",
      "\n",
      "-----------------------------------------------------------\n",
      "AUCPR score: 0.8850\n",
      "\n",
      "-----------------------------------------------------------\n",
      "Metrics when different threshold is used on test data: \n"
     ]
    },
    {
     "data": {
      "text/html": [
       "<div>\n",
       "<style scoped>\n",
       "    .dataframe tbody tr th:only-of-type {\n",
       "        vertical-align: middle;\n",
       "    }\n",
       "\n",
       "    .dataframe tbody tr th {\n",
       "        vertical-align: top;\n",
       "    }\n",
       "\n",
       "    .dataframe thead th {\n",
       "        text-align: right;\n",
       "    }\n",
       "</style>\n",
       "<table border=\"1\" class=\"dataframe\">\n",
       "  <thead>\n",
       "    <tr style=\"text-align: right;\">\n",
       "      <th></th>\n",
       "      <th>threshold</th>\n",
       "      <th>precision</th>\n",
       "      <th>recall</th>\n",
       "      <th>FN</th>\n",
       "      <th>FP</th>\n",
       "      <th>TP</th>\n",
       "      <th>TN</th>\n",
       "    </tr>\n",
       "  </thead>\n",
       "  <tbody>\n",
       "    <tr>\n",
       "      <th>0</th>\n",
       "      <td>0.1</td>\n",
       "      <td>0.955224</td>\n",
       "      <td>0.653061</td>\n",
       "      <td>34</td>\n",
       "      <td>3</td>\n",
       "      <td>64</td>\n",
       "      <td>56861</td>\n",
       "    </tr>\n",
       "    <tr>\n",
       "      <th>1</th>\n",
       "      <td>0.2</td>\n",
       "      <td>0.961039</td>\n",
       "      <td>0.755102</td>\n",
       "      <td>24</td>\n",
       "      <td>3</td>\n",
       "      <td>74</td>\n",
       "      <td>56861</td>\n",
       "    </tr>\n",
       "    <tr>\n",
       "      <th>2</th>\n",
       "      <td>0.3</td>\n",
       "      <td>0.962500</td>\n",
       "      <td>0.785714</td>\n",
       "      <td>21</td>\n",
       "      <td>3</td>\n",
       "      <td>77</td>\n",
       "      <td>56861</td>\n",
       "    </tr>\n",
       "    <tr>\n",
       "      <th>3</th>\n",
       "      <td>0.4</td>\n",
       "      <td>0.929412</td>\n",
       "      <td>0.806122</td>\n",
       "      <td>19</td>\n",
       "      <td>6</td>\n",
       "      <td>79</td>\n",
       "      <td>56858</td>\n",
       "    </tr>\n",
       "    <tr>\n",
       "      <th>4</th>\n",
       "      <td>0.5</td>\n",
       "      <td>0.892473</td>\n",
       "      <td>0.846939</td>\n",
       "      <td>15</td>\n",
       "      <td>10</td>\n",
       "      <td>83</td>\n",
       "      <td>56854</td>\n",
       "    </tr>\n",
       "    <tr>\n",
       "      <th>5</th>\n",
       "      <td>0.6</td>\n",
       "      <td>0.848485</td>\n",
       "      <td>0.857143</td>\n",
       "      <td>14</td>\n",
       "      <td>15</td>\n",
       "      <td>84</td>\n",
       "      <td>56849</td>\n",
       "    </tr>\n",
       "    <tr>\n",
       "      <th>6</th>\n",
       "      <td>0.7</td>\n",
       "      <td>0.825243</td>\n",
       "      <td>0.867347</td>\n",
       "      <td>13</td>\n",
       "      <td>18</td>\n",
       "      <td>85</td>\n",
       "      <td>56846</td>\n",
       "    </tr>\n",
       "    <tr>\n",
       "      <th>7</th>\n",
       "      <td>0.8</td>\n",
       "      <td>0.781818</td>\n",
       "      <td>0.877551</td>\n",
       "      <td>12</td>\n",
       "      <td>24</td>\n",
       "      <td>86</td>\n",
       "      <td>56840</td>\n",
       "    </tr>\n",
       "    <tr>\n",
       "      <th>8</th>\n",
       "      <td>0.9</td>\n",
       "      <td>0.676923</td>\n",
       "      <td>0.897959</td>\n",
       "      <td>10</td>\n",
       "      <td>42</td>\n",
       "      <td>88</td>\n",
       "      <td>56822</td>\n",
       "    </tr>\n",
       "  </tbody>\n",
       "</table>\n",
       "</div>"
      ],
      "text/plain": [
       "   threshold  precision    recall  FN  FP  TP     TN\n",
       "0        0.1   0.955224  0.653061  34   3  64  56861\n",
       "1        0.2   0.961039  0.755102  24   3  74  56861\n",
       "2        0.3   0.962500  0.785714  21   3  77  56861\n",
       "3        0.4   0.929412  0.806122  19   6  79  56858\n",
       "4        0.5   0.892473  0.846939  15  10  83  56854\n",
       "5        0.6   0.848485  0.857143  14  15  84  56849\n",
       "6        0.7   0.825243  0.867347  13  18  85  56846\n",
       "7        0.8   0.781818  0.877551  12  24  86  56840\n",
       "8        0.9   0.676923  0.897959  10  42  88  56822"
      ]
     },
     "metadata": {},
     "output_type": "display_data"
    },
    {
     "name": "stdout",
     "output_type": "stream",
     "text": [
      "\n",
      "\n"
     ]
    },
    {
     "data": {
      "image/png": "[encoded data removed]",
      "text/plain": [
       "<Figure size 500x500 with 1 Axes>"
      ]
     },
     "metadata": {},
     "output_type": "display_data"
    }
   ],
   "source": [
    "result_rf = evaluate_model(model_rf, X_test, y_test)"
   ]
  },
  {
   "cell_type": "code",
   "execution_count": 38,
   "metadata": {},
   "outputs": [],
   "source": [
    "# Saving our model with the best performance\n",
    "\n",
    "# Check if the folder exists\n",
    "if not os.path.exists(FOLDER_TO_SAVE_MODELS):\n",
    "    # If it doesn't exist, create the folder\n",
    "    os.mkdir(FOLDER_TO_SAVE_MODELS)\n",
    "\n",
    "filename = os.path.join(FOLDER_TO_SAVE_MODELS,f\"Random-forest-{datetime.now().strftime('%Y%m%d')}.sav\")\n",
    "pickle.dump(model_rf, open(filename, 'wb'))\n",
    "\n",
    "# Example to load rf model\n",
    "# loaded_model_rf = pickle.load(open(filename, 'rb'))"
   ]
  },
  {
   "cell_type": "markdown",
   "metadata": {},
   "source": [
    "### XGBOOST classifier - optimized with OPTUNA"
   ]
  },
  {
   "cell_type": "code",
   "execution_count": 26,
   "metadata": {},
   "outputs": [],
   "source": [
    "def objective_xgb(\n",
    "        trial,\n",
    "        eval_metric='logloss',\n",
    "        x_train=X_train,\n",
    "        x_test=X_test,\n",
    "        y_train=y_train,\n",
    "        y_test=y_test,\n",
    "        seed=42,\n",
    "        n_folds=3,\n",
    "):\n",
    "    \n",
    "    dtrain = xgb.DMatrix(x_train, label=y_train)\n",
    "    dvalid = xgb.DMatrix(x_test, label=y_test)\n",
    "\n",
    "    pos_weight = np.sqrt(y_train.value_counts()[0] / y_train.value_counts()[1])\n",
    "\n",
    "    param = {\n",
    "        \"verbosity\":0,\n",
    "        'objective':trial.suggest_categorical('objective',['binary:logistic']),\n",
    "        \"eval_metric\": [eval_metric],\n",
    "        'predictor': trial.suggest_categorical('predictor',['gpu_predictor']),\n",
    "        'tree_method':trial.suggest_categorical('tree_method',['gpu_hist']),\n",
    "        'lambda'           : trial.suggest_float('lambda', 1e-3, 5.0),\n",
    "        'alpha'            : trial.suggest_float('alpha', 1e-3, 5.0),\n",
    "        'min_child_weight' : trial.suggest_int('min_child_weight', 1, 150),\n",
    "        'subsample'        : trial.suggest_float(\"subsample\", 0.2, 1.0),\n",
    "        \"colsample_bytree\": trial.suggest_float(\"colsample_bytree\", 0.2, 1.0),\n",
    "        'max_depth'        : trial.suggest_int(\"max_depth\", 1, 9),\n",
    "        'eta'    : trial.suggest_categorical('eta', [0.001,0.01,0.05,0.1,0.2,0.25,0.3]),\n",
    "        'scale_pos_weight': trial.suggest_categorical('scale_pos_weight',[pos_weight])\n",
    "    }\n",
    "\n",
    "    pruning_callback = optuna.integration.XGBoostPruningCallback(trial, f\"test-{eval_metric}\")\n",
    "\n",
    "    xgb_cv_results = xgb.cv(\n",
    "        params=param,\n",
    "        dtrain=dtrain,\n",
    "        num_boost_round=10000,\n",
    "        callbacks=[pruning_callback],\n",
    "        nfold=n_folds,\n",
    "        stratified=True,\n",
    "        early_stopping_rounds=100,\n",
    "        seed=seed,\n",
    "        verbose_eval=False,\n",
    "    )\n",
    "\n",
    "    # Set n_estimators as a trial attribute; Accessible via study.trials_dataframe().\n",
    "    trial.set_user_attr(\"n_estimators\", len(xgb_cv_results))\n",
    "\n",
    "    # Extract the best score.\n",
    "    best_score = xgb_cv_results[f\"test-{eval_metric}-mean\"].values[-1]\n",
    "    return best_score\n"
   ]
  },
  {
   "cell_type": "code",
   "execution_count": 27,
   "metadata": {},
   "outputs": [
    {
     "name": "stderr",
     "output_type": "stream",
     "text": [
      "[I 2023-10-12 18:06:22,907] A new study created in memory with name: no-name-a78e175b-7ee7-4d17-b61a-ed0c130554e5\n",
      "[I 2023-10-12 18:06:27,204] Trial 0 finished with value: 0.004791392002898374 and parameters: {'objective': 'binary:logistic', 'predictor': 'gpu_predictor', 'tree_method': 'gpu_hist', 'lambda': 4.0297815833626585, 'alpha': 0.7087179669823224, 'min_child_weight': 65, 'subsample': 0.35344732889670044, 'colsample_bytree': 0.8290254897922171, 'max_depth': 9, 'eta': 0.1, 'scale_pos_weight': 24.026793419648342}. Best is trial 0 with value: 0.004791392002898374.\n",
      "[I 2023-10-12 18:06:30,109] Trial 1 finished with value: 0.00641293592849644 and parameters: {'objective': 'binary:logistic', 'predictor': 'gpu_predictor', 'tree_method': 'gpu_hist', 'lambda': 0.8557084965014216, 'alpha': 2.731344925374908, 'min_child_weight': 94, 'subsample': 0.3484890559339651, 'colsample_bytree': 0.8024915531962971, 'max_depth': 7, 'eta': 0.25, 'scale_pos_weight': 24.026793419648342}. Best is trial 0 with value: 0.004791392002898374.\n",
      "[I 2023-10-12 18:06:57,482] Trial 2 finished with value: 0.0038610585856086363 and parameters: {'objective': 'binary:logistic', 'predictor': 'gpu_predictor', 'tree_method': 'gpu_hist', 'lambda': 4.231960273526842, 'alpha': 1.485531247248859, 'min_child_weight': 145, 'subsample': 0.9710837645365151, 'colsample_bytree': 0.3086068838899421, 'max_depth': 7, 'eta': 0.05, 'scale_pos_weight': 24.026793419648342}. Best is trial 2 with value: 0.0038610585856086363.\n",
      "[I 2023-10-12 18:07:03,869] Trial 3 finished with value: 0.005263501328426523 and parameters: {'objective': 'binary:logistic', 'predictor': 'gpu_predictor', 'tree_method': 'gpu_hist', 'lambda': 4.290537059829486, 'alpha': 2.9734431073971104, 'min_child_weight': 148, 'subsample': 0.6932102931921247, 'colsample_bytree': 0.44219131207981177, 'max_depth': 1, 'eta': 0.25, 'scale_pos_weight': 24.026793419648342}. Best is trial 2 with value: 0.0038610585856086363.\n",
      "[I 2023-10-12 18:08:22,657] Trial 4 finished with value: 0.007171008174619023 and parameters: {'objective': 'binary:logistic', 'predictor': 'gpu_predictor', 'tree_method': 'gpu_hist', 'lambda': 2.304967593839034, 'alpha': 2.2641140009732497, 'min_child_weight': 119, 'subsample': 0.9389201135827336, 'colsample_bytree': 0.26496487283420145, 'max_depth': 9, 'eta': 0.001, 'scale_pos_weight': 24.026793419648342}. Best is trial 2 with value: 0.0038610585856086363.\n",
      "[I 2023-10-12 18:08:22,916] Trial 5 pruned. Trial was pruned at iteration 0.\n",
      "[I 2023-10-12 18:08:23,182] Trial 6 pruned. Trial was pruned at iteration 0.\n",
      "[I 2023-10-12 18:08:23,412] Trial 7 pruned. Trial was pruned at iteration 0.\n",
      "[I 2023-10-12 18:08:23,846] Trial 8 pruned. Trial was pruned at iteration 59.\n",
      "[I 2023-10-12 18:08:30,291] Trial 9 finished with value: 0.0041883173281266235 and parameters: {'objective': 'binary:logistic', 'predictor': 'gpu_predictor', 'tree_method': 'gpu_hist', 'lambda': 2.404088087810248, 'alpha': 3.9464851400111995, 'min_child_weight': 133, 'subsample': 0.7637211840246154, 'colsample_bytree': 0.3918690488819263, 'max_depth': 6, 'eta': 0.3, 'scale_pos_weight': 24.026793419648342}. Best is trial 2 with value: 0.0038610585856086363.\n",
      "[I 2023-10-12 18:08:30,590] Trial 10 pruned. Trial was pruned at iteration 0.\n",
      "[I 2023-10-12 18:08:37,431] Trial 11 finished with value: 0.004207540258965269 and parameters: {'objective': 'binary:logistic', 'predictor': 'gpu_predictor', 'tree_method': 'gpu_hist', 'lambda': 3.5754251077426145, 'alpha': 4.042692307681342, 'min_child_weight': 146, 'subsample': 0.7992474734802492, 'colsample_bytree': 0.3788126759442031, 'max_depth': 6, 'eta': 0.3, 'scale_pos_weight': 24.026793419648342}. Best is trial 2 with value: 0.0038610585856086363.\n",
      "[I 2023-10-12 18:08:44,837] Trial 12 finished with value: 0.003281832566864864 and parameters: {'objective': 'binary:logistic', 'predictor': 'gpu_predictor', 'tree_method': 'gpu_hist', 'lambda': 3.067776628317268, 'alpha': 1.3072889016377691, 'min_child_weight': 85, 'subsample': 0.9822338335911994, 'colsample_bytree': 0.2125439259462482, 'max_depth': 5, 'eta': 0.3, 'scale_pos_weight': 24.026793419648342}. Best is trial 12 with value: 0.003281832566864864.\n",
      "[I 2023-10-12 18:09:02,034] Trial 13 finished with value: 0.0032026958339653067 and parameters: {'objective': 'binary:logistic', 'predictor': 'gpu_predictor', 'tree_method': 'gpu_hist', 'lambda': 3.2769844633248932, 'alpha': 1.3039542961495347, 'min_child_weight': 82, 'subsample': 0.9958616618172682, 'colsample_bytree': 0.20257454877101558, 'max_depth': 4, 'eta': 0.3, 'scale_pos_weight': 24.026793419648342}. Best is trial 13 with value: 0.0032026958339653067.\n",
      "[I 2023-10-12 18:09:12,857] Trial 14 finished with value: 0.0032413565582192863 and parameters: {'objective': 'binary:logistic', 'predictor': 'gpu_predictor', 'tree_method': 'gpu_hist', 'lambda': 3.01639636945487, 'alpha': 1.1935296314815016, 'min_child_weight': 77, 'subsample': 0.9930235047320737, 'colsample_bytree': 0.22038633017145523, 'max_depth': 3, 'eta': 0.3, 'scale_pos_weight': 24.026793419648342}. Best is trial 13 with value: 0.0032026958339653067.\n",
      "[I 2023-10-12 18:09:17,753] Trial 15 finished with value: 0.0031581439954918833 and parameters: {'objective': 'binary:logistic', 'predictor': 'gpu_predictor', 'tree_method': 'gpu_hist', 'lambda': 3.118424014193485, 'alpha': 0.9803311519308195, 'min_child_weight': 60, 'subsample': 0.9966764650468286, 'colsample_bytree': 0.20009650443906735, 'max_depth': 3, 'eta': 0.3, 'scale_pos_weight': 24.026793419648342}. Best is trial 15 with value: 0.0031581439954918833.\n",
      "[I 2023-10-12 18:09:20,607] Trial 16 finished with value: 0.0030836742009205803 and parameters: {'objective': 'binary:logistic', 'predictor': 'gpu_predictor', 'tree_method': 'gpu_hist', 'lambda': 1.5967160666151252, 'alpha': 0.8187724381036257, 'min_child_weight': 48, 'subsample': 0.865747012933032, 'colsample_bytree': 0.33754330949467953, 'max_depth': 3, 'eta': 0.3, 'scale_pos_weight': 24.026793419648342}. Best is trial 16 with value: 0.0030836742009205803.\n",
      "[I 2023-10-12 18:09:20,819] Trial 17 pruned. Trial was pruned at iteration 0.\n",
      "[I 2023-10-12 18:09:21,078] Trial 18 pruned. Trial was pruned at iteration 0.\n",
      "[I 2023-10-12 18:09:21,346] Trial 19 pruned. Trial was pruned at iteration 0.\n",
      "[I 2023-10-12 18:09:21,727] Trial 20 pruned. Trial was pruned at iteration 18.\n",
      "[I 2023-10-12 18:09:27,023] Trial 21 finished with value: 0.0031573313508988427 and parameters: {'objective': 'binary:logistic', 'predictor': 'gpu_predictor', 'tree_method': 'gpu_hist', 'lambda': 3.641254484303173, 'alpha': 1.1419077935378472, 'min_child_weight': 59, 'subsample': 0.9075963573043124, 'colsample_bytree': 0.22059972371878783, 'max_depth': 4, 'eta': 0.3, 'scale_pos_weight': 24.026793419648342}. Best is trial 16 with value: 0.0030836742009205803.\n",
      "[I 2023-10-12 18:09:27,333] Trial 22 pruned. Trial was pruned at iteration 2.\n",
      "[I 2023-10-12 18:09:31,163] Trial 23 finished with value: 0.0031328126435671167 and parameters: {'objective': 'binary:logistic', 'predictor': 'gpu_predictor', 'tree_method': 'gpu_hist', 'lambda': 2.7487618773212064, 'alpha': 0.8350767257845048, 'min_child_weight': 60, 'subsample': 0.9116264344851237, 'colsample_bytree': 0.36629416523645975, 'max_depth': 5, 'eta': 0.3, 'scale_pos_weight': 24.026793419648342}. Best is trial 16 with value: 0.0030836742009205803.\n",
      "[I 2023-10-12 18:09:33,413] Trial 24 finished with value: 0.002950204138486396 and parameters: {'objective': 'binary:logistic', 'predictor': 'gpu_predictor', 'tree_method': 'gpu_hist', 'lambda': 2.8036760198170327, 'alpha': 0.44363415481263413, 'min_child_weight': 29, 'subsample': 0.8087100476605588, 'colsample_bytree': 0.37329632749516506, 'max_depth': 5, 'eta': 0.3, 'scale_pos_weight': 24.026793419648342}. Best is trial 24 with value: 0.002950204138486396.\n",
      "[I 2023-10-12 18:09:35,670] Trial 25 finished with value: 0.0029680457807973863 and parameters: {'objective': 'binary:logistic', 'predictor': 'gpu_predictor', 'tree_method': 'gpu_hist', 'lambda': 2.599561693264435, 'alpha': 0.3532111514076265, 'min_child_weight': 22, 'subsample': 0.8006632760673394, 'colsample_bytree': 0.38231183424066567, 'max_depth': 5, 'eta': 0.3, 'scale_pos_weight': 24.026793419648342}. Best is trial 24 with value: 0.002950204138486396.\n",
      "[I 2023-10-12 18:09:37,492] Trial 26 finished with value: 0.0029228741673807466 and parameters: {'objective': 'binary:logistic', 'predictor': 'gpu_predictor', 'tree_method': 'gpu_hist', 'lambda': 1.663105763055996, 'alpha': 0.04909667577397725, 'min_child_weight': 25, 'subsample': 0.8051900287733712, 'colsample_bytree': 0.41240258265544383, 'max_depth': 5, 'eta': 0.3, 'scale_pos_weight': 24.026793419648342}. Best is trial 26 with value: 0.0029228741673807466.\n",
      "[I 2023-10-12 18:09:37,744] Trial 27 pruned. Trial was pruned at iteration 0.\n",
      "[I 2023-10-12 18:09:38,005] Trial 28 pruned. Trial was pruned at iteration 0.\n",
      "[I 2023-10-12 18:09:38,243] Trial 29 pruned. Trial was pruned at iteration 0.\n"
     ]
    },
    {
     "name": "stdout",
     "output_type": "stream",
     "text": [
      "Number of finished trials:  30\n",
      "Best trial:\n",
      "  Value: 0.0029228741673807466\n",
      "  Params: \n",
      "    objective: binary:logistic\n",
      "    predictor: gpu_predictor\n",
      "    tree_method: gpu_hist\n",
      "    lambda: 1.663105763055996\n",
      "    alpha: 0.04909667577397725\n",
      "    min_child_weight: 25\n",
      "    subsample: 0.8051900287733712\n",
      "    colsample_bytree: 0.41240258265544383\n",
      "    max_depth: 5\n",
      "    eta: 0.3\n",
      "    scale_pos_weight: 24.026793419648342\n"
     ]
    }
   ],
   "source": [
    "study_xgb = optimize_objective(\n",
    "    objective=objective_xgb,\n",
    "    n_trials=30,\n",
    "    direction=\"minimize\"\n",
    ")"
   ]
  },
  {
   "cell_type": "code",
   "execution_count": 39,
   "metadata": {},
   "outputs": [
    {
     "data": {
      "application/vnd.plotly.v1+json": {
       "config": {
        "plotlyServerURL": "https://plot.ly"
       },
       "data": [
        {
         "mode": "markers",
         "name": "Objective Value",
         "type": "scatter",
         "x": [
          0,
          1,
          2,
          3,
          4,
          9,
          11,
          12,
          13,
          14,
          15,
          16,
          21,
          23,
          24,
          25,
          26
         ],
         "y": [
          0.004791392002898374,
          0.00641293592849644,
          0.0038610585856086363,
          0.005263501328426523,
          0.007171008174619023,
          0.0041883173281266235,
          0.004207540258965269,
          0.003281832566864864,
          0.0032026958339653067,
          0.0032413565582192863,
          0.0031581439954918833,
          0.0030836742009205803,
          0.0031573313508988427,
          0.0031328126435671167,
          0.002950204138486396,
          0.0029680457807973863,
          0.0029228741673807466
         ]
        },
        {
         "mode": "lines",
         "name": "Best Value",
         "type": "scatter",
         "x": [
          0,
          1,
          2,
          3,
          4,
          5,
          6,
          7,
          8,
          9,
          10,
          11,
          12,
          13,
          14,
          15,
          16,
          17,
          18,
          19,
          20,
          21,
          22,
          23,
          24,
          25,
          26,
          27,
          28,
          29
         ],
         "y": [
          0.004791392002898374,
          0.004791392002898374,
          0.0038610585856086363,
          0.0038610585856086363,
          0.0038610585856086363,
          0.0038610585856086363,
          0.0038610585856086363,
          0.0038610585856086363,
          0.0038610585856086363,
          0.0038610585856086363,
          0.0038610585856086363,
          0.0038610585856086363,
          0.003281832566864864,
          0.0032026958339653067,
          0.0032026958339653067,
          0.0031581439954918833,
          0.0030836742009205803,
          0.0030836742009205803,
          0.0030836742009205803,
          0.0030836742009205803,
          0.0030836742009205803,
          0.0030836742009205803,
          0.0030836742009205803,
          0.0030836742009205803,
          0.002950204138486396,
          0.002950204138486396,
          0.0029228741673807466,
          0.0029228741673807466,
          0.0029228741673807466,
          0.0029228741673807466
         ]
        },
        {
         "marker": {
          "color": "#cccccc"
         },
         "mode": "markers",
         "name": "Infeasible Trial",
         "showlegend": false,
         "type": "scatter",
         "x": [],
         "y": []
        }
       ],
       "layout": {
        "template": {
         "data": {
          "bar": [
           {
            "error_x": {
             "color": "#2a3f5f"
            },
            "error_y": {
             "color": "#2a3f5f"
            },
            "marker": {
             "line": {
              "color": "#E5ECF6",
              "width": 0.5
             },
             "pattern": {
              "fillmode": "overlay",
              "size": 10,
              "solidity": 0.2
             }
            },
            "type": "bar"
           }
          ],
          "barpolar": [
           {
            "marker": {
             "line": {
              "color": "#E5ECF6",
              "width": 0.5
             },
             "pattern": {
              "fillmode": "overlay",
              "size": 10,
              "solidity": 0.2
             }
            },
            "type": "barpolar"
           }
          ],
          "carpet": [
           {
            "aaxis": {
             "endlinecolor": "#2a3f5f",
             "gridcolor": "white",
             "linecolor": "white",
             "minorgridcolor": "white",
             "startlinecolor": "#2a3f5f"
            },
            "baxis": {
             "endlinecolor": "#2a3f5f",
             "gridcolor": "white",
             "linecolor": "white",
             "minorgridcolor": "white",
             "startlinecolor": "#2a3f5f"
            },
            "type": "carpet"
           }
          ],
          "choropleth": [
           {
            "colorbar": {
             "outlinewidth": 0,
             "ticks": ""
            },
            "type": "choropleth"
           }
          ],
          "contour": [
           {
            "colorbar": {
             "outlinewidth": 0,
             "ticks": ""
            },
            "colorscale": [
             [
              0,
              "#0d0887"
             ],
             [
              0.1111111111111111,
              "#46039f"
             ],
             [
              0.2222222222222222,
              "#7201a8"
             ],
             [
              0.3333333333333333,
              "#9c179e"
             ],
             [
              0.4444444444444444,
              "#bd3786"
             ],
             [
              0.5555555555555556,
              "#d8576b"
             ],
             [
              0.6666666666666666,
              "#ed7953"
             ],
             [
              0.7777777777777778,
              "#fb9f3a"
             ],
             [
              0.8888888888888888,
              "#fdca26"
             ],
             [
              1,
              "#f0f921"
             ]
            ],
            "type": "contour"
           }
          ],
          "contourcarpet": [
           {
            "colorbar": {
             "outlinewidth": 0,
             "ticks": ""
            },
            "type": "contourcarpet"
           }
          ],
          "heatmap": [
           {
            "colorbar": {
             "outlinewidth": 0,
             "ticks": ""
            },
            "colorscale": [
             [
              0,
              "#0d0887"
             ],
             [
              0.1111111111111111,
              "#46039f"
             ],
             [
              0.2222222222222222,
              "#7201a8"
             ],
             [
              0.3333333333333333,
              "#9c179e"
             ],
             [
              0.4444444444444444,
              "#bd3786"
             ],
             [
              0.5555555555555556,
              "#d8576b"
             ],
             [
              0.6666666666666666,
              "#ed7953"
             ],
             [
              0.7777777777777778,
              "#fb9f3a"
             ],
             [
              0.8888888888888888,
              "#fdca26"
             ],
             [
              1,
              "#f0f921"
             ]
            ],
            "type": "heatmap"
           }
          ],
          "heatmapgl": [
           {
            "colorbar": {
             "outlinewidth": 0,
             "ticks": ""
            },
            "colorscale": [
             [
              0,
              "#0d0887"
             ],
             [
              0.1111111111111111,
              "#46039f"
             ],
             [
              0.2222222222222222,
              "#7201a8"
             ],
             [
              0.3333333333333333,
              "#9c179e"
             ],
             [
              0.4444444444444444,
              "#bd3786"
             ],
             [
              0.5555555555555556,
              "#d8576b"
             ],
             [
              0.6666666666666666,
              "#ed7953"
             ],
             [
              0.7777777777777778,
              "#fb9f3a"
             ],
             [
              0.8888888888888888,
              "#fdca26"
             ],
             [
              1,
              "#f0f921"
             ]
            ],
            "type": "heatmapgl"
           }
          ],
          "histogram": [
           {
            "marker": {
             "pattern": {
              "fillmode": "overlay",
              "size": 10,
              "solidity": 0.2
             }
            },
            "type": "histogram"
           }
          ],
          "histogram2d": [
           {
            "colorbar": {
             "outlinewidth": 0,
             "ticks": ""
            },
            "colorscale": [
             [
              0,
              "#0d0887"
             ],
             [
              0.1111111111111111,
              "#46039f"
             ],
             [
              0.2222222222222222,
              "#7201a8"
             ],
             [
              0.3333333333333333,
              "#9c179e"
             ],
             [
              0.4444444444444444,
              "#bd3786"
             ],
             [
              0.5555555555555556,
              "#d8576b"
             ],
             [
              0.6666666666666666,
              "#ed7953"
             ],
             [
              0.7777777777777778,
              "#fb9f3a"
             ],
             [
              0.8888888888888888,
              "#fdca26"
             ],
             [
              1,
              "#f0f921"
             ]
            ],
            "type": "histogram2d"
           }
          ],
          "histogram2dcontour": [
           {
            "colorbar": {
             "outlinewidth": 0,
             "ticks": ""
            },
            "colorscale": [
             [
              0,
              "#0d0887"
             ],
             [
              0.1111111111111111,
              "#46039f"
             ],
             [
              0.2222222222222222,
              "#7201a8"
             ],
             [
              0.3333333333333333,
              "#9c179e"
             ],
             [
              0.4444444444444444,
              "#bd3786"
             ],
             [
              0.5555555555555556,
              "#d8576b"
             ],
             [
              0.6666666666666666,
              "#ed7953"
             ],
             [
              0.7777777777777778,
              "#fb9f3a"
             ],
             [
              0.8888888888888888,
              "#fdca26"
             ],
             [
              1,
              "#f0f921"
             ]
            ],
            "type": "histogram2dcontour"
           }
          ],
          "mesh3d": [
           {
            "colorbar": {
             "outlinewidth": 0,
             "ticks": ""
            },
            "type": "mesh3d"
           }
          ],
          "parcoords": [
           {
            "line": {
             "colorbar": {
              "outlinewidth": 0,
              "ticks": ""
             }
            },
            "type": "parcoords"
           }
          ],
          "pie": [
           {
            "automargin": true,
            "type": "pie"
           }
          ],
          "scatter": [
           {
            "fillpattern": {
             "fillmode": "overlay",
             "size": 10,
             "solidity": 0.2
            },
            "type": "scatter"
           }
          ],
          "scatter3d": [
           {
            "line": {
             "colorbar": {
              "outlinewidth": 0,
              "ticks": ""
             }
            },
            "marker": {
             "colorbar": {
              "outlinewidth": 0,
              "ticks": ""
             }
            },
            "type": "scatter3d"
           }
          ],
          "scattercarpet": [
           {
            "marker": {
             "colorbar": {
              "outlinewidth": 0,
              "ticks": ""
             }
            },
            "type": "scattercarpet"
           }
          ],
          "scattergeo": [
           {
            "marker": {
             "colorbar": {
              "outlinewidth": 0,
              "ticks": ""
             }
            },
            "type": "scattergeo"
           }
          ],
          "scattergl": [
           {
            "marker": {
             "colorbar": {
              "outlinewidth": 0,
              "ticks": ""
             }
            },
            "type": "scattergl"
           }
          ],
          "scattermapbox": [
           {
            "marker": {
             "colorbar": {
              "outlinewidth": 0,
              "ticks": ""
             }
            },
            "type": "scattermapbox"
           }
          ],
          "scatterpolar": [
           {
            "marker": {
             "colorbar": {
              "outlinewidth": 0,
              "ticks": ""
             }
            },
            "type": "scatterpolar"
           }
          ],
          "scatterpolargl": [
           {
            "marker": {
             "colorbar": {
              "outlinewidth": 0,
              "ticks": ""
             }
            },
            "type": "scatterpolargl"
           }
          ],
          "scatterternary": [
           {
            "marker": {
             "colorbar": {
              "outlinewidth": 0,
              "ticks": ""
             }
            },
            "type": "scatterternary"
           }
          ],
          "surface": [
           {
            "colorbar": {
             "outlinewidth": 0,
             "ticks": ""
            },
            "colorscale": [
             [
              0,
              "#0d0887"
             ],
             [
              0.1111111111111111,
              "#46039f"
             ],
             [
              0.2222222222222222,
              "#7201a8"
             ],
             [
              0.3333333333333333,
              "#9c179e"
             ],
             [
              0.4444444444444444,
              "#bd3786"
             ],
             [
              0.5555555555555556,
              "#d8576b"
             ],
             [
              0.6666666666666666,
              "#ed7953"
             ],
             [
              0.7777777777777778,
              "#fb9f3a"
             ],
             [
              0.8888888888888888,
              "#fdca26"
             ],
             [
              1,
              "#f0f921"
             ]
            ],
            "type": "surface"
           }
          ],
          "table": [
           {
            "cells": {
             "fill": {
              "color": "#EBF0F8"
             },
             "line": {
              "color": "white"
             }
            },
            "header": {
             "fill": {
              "color": "#C8D4E3"
             },
             "line": {
              "color": "white"
             }
            },
            "type": "table"
           }
          ]
         },
         "layout": {
          "annotationdefaults": {
           "arrowcolor": "#2a3f5f",
           "arrowhead": 0,
           "arrowwidth": 1
          },
          "autotypenumbers": "strict",
          "coloraxis": {
           "colorbar": {
            "outlinewidth": 0,
            "ticks": ""
           }
          },
          "colorscale": {
           "diverging": [
            [
             0,
             "#8e0152"
            ],
            [
             0.1,
             "#c51b7d"
            ],
            [
             0.2,
             "#de77ae"
            ],
            [
             0.3,
             "#f1b6da"
            ],
            [
             0.4,
             "#fde0ef"
            ],
            [
             0.5,
             "#f7f7f7"
            ],
            [
             0.6,
             "#e6f5d0"
            ],
            [
             0.7,
             "#b8e186"
            ],
            [
             0.8,
             "#7fbc41"
            ],
            [
             0.9,
             "#4d9221"
            ],
            [
             1,
             "#276419"
            ]
           ],
           "sequential": [
            [
             0,
             "#0d0887"
            ],
            [
             0.1111111111111111,
             "#46039f"
            ],
            [
             0.2222222222222222,
             "#7201a8"
            ],
            [
             0.3333333333333333,
             "#9c179e"
            ],
            [
             0.4444444444444444,
             "#bd3786"
            ],
            [
             0.5555555555555556,
             "#d8576b"
            ],
            [
             0.6666666666666666,
             "#ed7953"
            ],
            [
             0.7777777777777778,
             "#fb9f3a"
            ],
            [
             0.8888888888888888,
             "#fdca26"
            ],
            [
             1,
             "#f0f921"
            ]
           ],
           "sequentialminus": [
            [
             0,
             "#0d0887"
            ],
            [
             0.1111111111111111,
             "#46039f"
            ],
            [
             0.2222222222222222,
             "#7201a8"
            ],
            [
             0.3333333333333333,
             "#9c179e"
            ],
            [
             0.4444444444444444,
             "#bd3786"
            ],
            [
             0.5555555555555556,
             "#d8576b"
            ],
            [
             0.6666666666666666,
             "#ed7953"
            ],
            [
             0.7777777777777778,
             "#fb9f3a"
            ],
            [
             0.8888888888888888,
             "#fdca26"
            ],
            [
             1,
             "#f0f921"
            ]
           ]
          },
          "colorway": [
           "#636efa",
           "#EF553B",
           "#00cc96",
           "#ab63fa",
           "#FFA15A",
           "#19d3f3",
           "#FF6692",
           "#B6E880",
           "#FF97FF",
           "#FECB52"
          ],
          "font": {
           "color": "#2a3f5f"
          },
          "geo": {
           "bgcolor": "white",
           "lakecolor": "white",
           "landcolor": "#E5ECF6",
           "showlakes": true,
           "showland": true,
           "subunitcolor": "white"
          },
          "hoverlabel": {
           "align": "left"
          },
          "hovermode": "closest",
          "mapbox": {
           "style": "light"
          },
          "paper_bgcolor": "white",
          "plot_bgcolor": "#E5ECF6",
          "polar": {
           "angularaxis": {
            "gridcolor": "white",
            "linecolor": "white",
            "ticks": ""
           },
           "bgcolor": "#E5ECF6",
           "radialaxis": {
            "gridcolor": "white",
            "linecolor": "white",
            "ticks": ""
           }
          },
          "scene": {
           "xaxis": {
            "backgroundcolor": "#E5ECF6",
            "gridcolor": "white",
            "gridwidth": 2,
            "linecolor": "white",
            "showbackground": true,
            "ticks": "",
            "zerolinecolor": "white"
           },
           "yaxis": {
            "backgroundcolor": "#E5ECF6",
            "gridcolor": "white",
            "gridwidth": 2,
            "linecolor": "white",
            "showbackground": true,
            "ticks": "",
            "zerolinecolor": "white"
           },
           "zaxis": {
            "backgroundcolor": "#E5ECF6",
            "gridcolor": "white",
            "gridwidth": 2,
            "linecolor": "white",
            "showbackground": true,
            "ticks": "",
            "zerolinecolor": "white"
           }
          },
          "shapedefaults": {
           "line": {
            "color": "#2a3f5f"
           }
          },
          "ternary": {
           "aaxis": {
            "gridcolor": "white",
            "linecolor": "white",
            "ticks": ""
           },
           "baxis": {
            "gridcolor": "white",
            "linecolor": "white",
            "ticks": ""
           },
           "bgcolor": "#E5ECF6",
           "caxis": {
            "gridcolor": "white",
            "linecolor": "white",
            "ticks": ""
           }
          },
          "title": {
           "x": 0.05
          },
          "xaxis": {
           "automargin": true,
           "gridcolor": "white",
           "linecolor": "white",
           "ticks": "",
           "title": {
            "standoff": 15
           },
           "zerolinecolor": "white",
           "zerolinewidth": 2
          },
          "yaxis": {
           "automargin": true,
           "gridcolor": "white",
           "linecolor": "white",
           "ticks": "",
           "title": {
            "standoff": 15
           },
           "zerolinecolor": "white",
           "zerolinewidth": 2
          }
         }
        },
        "title": {
         "text": "Optimization History Plot"
        },
        "xaxis": {
         "title": {
          "text": "Trial"
         }
        },
        "yaxis": {
         "title": {
          "text": "Objective Value"
         }
        }
       }
      }
     },
     "metadata": {},
     "output_type": "display_data"
    }
   ],
   "source": [
    "optuna.visualization.plot_optimization_history(study_xgb)"
   ]
  },
  {
   "cell_type": "code",
   "execution_count": 40,
   "metadata": {},
   "outputs": [
    {
     "name": "stdout",
     "output_type": "stream",
     "text": [
      "-------------------- Evaulation scores --------------------\n",
      "\n",
      "              precision    recall  f1-score   support\n",
      "\n",
      "           0       1.00      1.00      1.00     56864\n",
      "           1       0.89      0.87      0.88        98\n",
      "\n",
      "    accuracy                           1.00     56962\n",
      "   macro avg       0.94      0.93      0.94     56962\n",
      "weighted avg       1.00      1.00      1.00     56962\n",
      "\n",
      "-----------------------------------------------------------\n",
      "AUCPR score: 0.8777\n",
      "\n",
      "-----------------------------------------------------------\n",
      "Metrics when different threshold is used on test data: \n"
     ]
    },
    {
     "data": {
      "text/html": [
       "<div>\n",
       "<style scoped>\n",
       "    .dataframe tbody tr th:only-of-type {\n",
       "        vertical-align: middle;\n",
       "    }\n",
       "\n",
       "    .dataframe tbody tr th {\n",
       "        vertical-align: top;\n",
       "    }\n",
       "\n",
       "    .dataframe thead th {\n",
       "        text-align: right;\n",
       "    }\n",
       "</style>\n",
       "<table border=\"1\" class=\"dataframe\">\n",
       "  <thead>\n",
       "    <tr style=\"text-align: right;\">\n",
       "      <th></th>\n",
       "      <th>threshold</th>\n",
       "      <th>precision</th>\n",
       "      <th>recall</th>\n",
       "      <th>FN</th>\n",
       "      <th>FP</th>\n",
       "      <th>TP</th>\n",
       "      <th>TN</th>\n",
       "    </tr>\n",
       "  </thead>\n",
       "  <tbody>\n",
       "    <tr>\n",
       "      <th>0</th>\n",
       "      <td>0.1</td>\n",
       "      <td>0.952381</td>\n",
       "      <td>0.816327</td>\n",
       "      <td>18</td>\n",
       "      <td>4</td>\n",
       "      <td>80</td>\n",
       "      <td>56860</td>\n",
       "    </tr>\n",
       "    <tr>\n",
       "      <th>1</th>\n",
       "      <td>0.2</td>\n",
       "      <td>0.954023</td>\n",
       "      <td>0.846939</td>\n",
       "      <td>15</td>\n",
       "      <td>4</td>\n",
       "      <td>83</td>\n",
       "      <td>56860</td>\n",
       "    </tr>\n",
       "    <tr>\n",
       "      <th>2</th>\n",
       "      <td>0.3</td>\n",
       "      <td>0.913043</td>\n",
       "      <td>0.857143</td>\n",
       "      <td>14</td>\n",
       "      <td>8</td>\n",
       "      <td>84</td>\n",
       "      <td>56856</td>\n",
       "    </tr>\n",
       "    <tr>\n",
       "      <th>3</th>\n",
       "      <td>0.4</td>\n",
       "      <td>0.893617</td>\n",
       "      <td>0.857143</td>\n",
       "      <td>14</td>\n",
       "      <td>10</td>\n",
       "      <td>84</td>\n",
       "      <td>56854</td>\n",
       "    </tr>\n",
       "    <tr>\n",
       "      <th>4</th>\n",
       "      <td>0.5</td>\n",
       "      <td>0.885417</td>\n",
       "      <td>0.867347</td>\n",
       "      <td>13</td>\n",
       "      <td>11</td>\n",
       "      <td>85</td>\n",
       "      <td>56853</td>\n",
       "    </tr>\n",
       "    <tr>\n",
       "      <th>5</th>\n",
       "      <td>0.6</td>\n",
       "      <td>0.817308</td>\n",
       "      <td>0.867347</td>\n",
       "      <td>13</td>\n",
       "      <td>19</td>\n",
       "      <td>85</td>\n",
       "      <td>56845</td>\n",
       "    </tr>\n",
       "    <tr>\n",
       "      <th>6</th>\n",
       "      <td>0.7</td>\n",
       "      <td>0.801887</td>\n",
       "      <td>0.867347</td>\n",
       "      <td>13</td>\n",
       "      <td>21</td>\n",
       "      <td>85</td>\n",
       "      <td>56843</td>\n",
       "    </tr>\n",
       "    <tr>\n",
       "      <th>7</th>\n",
       "      <td>0.8</td>\n",
       "      <td>0.741379</td>\n",
       "      <td>0.877551</td>\n",
       "      <td>12</td>\n",
       "      <td>30</td>\n",
       "      <td>86</td>\n",
       "      <td>56834</td>\n",
       "    </tr>\n",
       "    <tr>\n",
       "      <th>8</th>\n",
       "      <td>0.9</td>\n",
       "      <td>0.639706</td>\n",
       "      <td>0.887755</td>\n",
       "      <td>11</td>\n",
       "      <td>49</td>\n",
       "      <td>87</td>\n",
       "      <td>56815</td>\n",
       "    </tr>\n",
       "  </tbody>\n",
       "</table>\n",
       "</div>"
      ],
      "text/plain": [
       "   threshold  precision    recall  FN  FP  TP     TN\n",
       "0        0.1   0.952381  0.816327  18   4  80  56860\n",
       "1        0.2   0.954023  0.846939  15   4  83  56860\n",
       "2        0.3   0.913043  0.857143  14   8  84  56856\n",
       "3        0.4   0.893617  0.857143  14  10  84  56854\n",
       "4        0.5   0.885417  0.867347  13  11  85  56853\n",
       "5        0.6   0.817308  0.867347  13  19  85  56845\n",
       "6        0.7   0.801887  0.867347  13  21  85  56843\n",
       "7        0.8   0.741379  0.877551  12  30  86  56834\n",
       "8        0.9   0.639706  0.887755  11  49  87  56815"
      ]
     },
     "metadata": {},
     "output_type": "display_data"
    },
    {
     "name": "stdout",
     "output_type": "stream",
     "text": [
      "\n",
      "\n"
     ]
    },
    {
     "data": {
      "image/png": "[encoded data removed]",
      "text/plain": [
       "<Figure size 500x500 with 1 Axes>"
      ]
     },
     "metadata": {},
     "output_type": "display_data"
    }
   ],
   "source": [
    "def create_fit_xgb(study, x, y):\n",
    "\n",
    "    model = xgb.XGBClassifier(\n",
    "        **study.best_params, \n",
    "        n_estimators = study.best_trial.user_attrs['n_estimators']\n",
    "    )\n",
    "    model.fit(x, y)\n",
    "\n",
    "    return model\n",
    "\n",
    "model_xgb = create_fit_xgb(study_xgb, X_train, y_train)\n",
    "result_xgb = evaluate_model(model_xgb, X_test, y_test)"
   ]
  },
  {
   "cell_type": "code",
   "execution_count": 41,
   "metadata": {},
   "outputs": [],
   "source": [
    "# Saving the model with the best performance\n",
    "model_xgb.save_model(os.path.join(FOLDER_TO_SAVE_MODELS,f\"XGB-{datetime.now().strftime('%Y%m%d')}.json\"))\n",
    "\n",
    "# Example to load model\n",
    "# loaded_model_xgb = xgb.XGBClassifier()\n",
    "# loaded_model_xgb.load_model(\"model_sklearn.json\")"
   ]
  },
  {
   "cell_type": "markdown",
   "metadata": {},
   "source": [
    "### CATBOOST + OPTUNA"
   ]
  },
  {
   "cell_type": "code",
   "execution_count": 42,
   "metadata": {},
   "outputs": [],
   "source": [
    "def objective_cb(\n",
    "        trial,\n",
    "        eval_metric='Logloss', \n",
    "        x_train=X_train,\n",
    "        x_test=X_test,\n",
    "        y_train=y_train,\n",
    "        y_test=y_test,\n",
    "        seed=42,\n",
    "        n_folds=3\n",
    "):\n",
    "    \n",
    "        train_pool = cb.Pool(data=x_train, label=y_train, has_header=True)\n",
    "        test_pool = cb.Pool(data=x_test, label=y_test, has_header=True)\n",
    "\n",
    "        pos_weight = np.sqrt(y_train.value_counts()[0] / y_train.value_counts()[1])\n",
    "\n",
    "        params = {\n",
    "                \"objective\": trial.suggest_categorical(\"objective\", [\"Logloss\"]),\n",
    "                # \"colsample_bylevel\": trial.suggest_float(\"colsample_bylevel\", 0.01, 0.1),\n",
    "                \"depth\": trial.suggest_int(\"depth\", 1, 12),\n",
    "                \"learning_rate\":trial.suggest_float(\"learning_rate\", 1e-3, 1, log=True),\n",
    "                # With this amount of data ordered boosting_type would make our training \n",
    "                \"boosting_type\": trial.suggest_categorical(\"boosting_type\", [\"Plain\"]),\n",
    "                \"bootstrap_type\": trial.suggest_categorical(\n",
    "                \"bootstrap_type\", [\"Bayesian\", \"Bernoulli\", \"MVS\"]\n",
    "                ),\n",
    "                \"scale_pos_weight\": trial.suggest_categorical('scale_pos_weight',[pos_weight]),\n",
    "                \"task_type\":trial.suggest_categorical(\"task_type\",[\"GPU\"]),\n",
    "                \"verbose\": False\n",
    "\n",
    "        }\n",
    "\n",
    "        if params[\"bootstrap_type\"] == \"Bayesian\":\n",
    "                params[\"bagging_temperature\"] = trial.suggest_float(\"bagging_temperature\", 0, 10)\n",
    "        elif params[\"bootstrap_type\"] == \"Bernoulli\":\n",
    "                params[\"subsample\"] = trial.suggest_float(\"subsample\", 0.1, 1)\n",
    "\n",
    "\n",
    "        catboost_cv_results = cb.cv(train_pool,\n",
    "                params,\n",
    "                nfold=n_folds,\n",
    "                stratified=True,\n",
    "                early_stopping_rounds=100,\n",
    "                seed=seed,\n",
    "                verbose=0\n",
    "                \n",
    "        )\n",
    "\n",
    "\n",
    "        # Set n_estimators as a trial attribute; Accessible via study.trials_dataframe().\n",
    "        trial.set_user_attr(\"iterations\", len(catboost_cv_results))\n",
    "\n",
    "        # Extract the best score.\n",
    "        best_score = catboost_cv_results[F\"test-{eval_metric}-mean\"].values[-1]\n",
    "        return best_score\n"
   ]
  },
  {
   "cell_type": "code",
   "execution_count": 48,
   "metadata": {},
   "outputs": [
    {
     "name": "stderr",
     "output_type": "stream",
     "text": [
      "[I 2023-10-12 18:26:29,971] A new study created in memory with name: no-name-108a6b86-29e7-4c2a-b1d2-cf214e01dc50\n"
     ]
    },
    {
     "name": "stdout",
     "output_type": "stream",
     "text": [
      "Training on fold [0/3]\n",
      "bestTest = 0.04142926884\n",
      "bestIteration = 22\n",
      "Training on fold [1/3]\n",
      "bestTest = 0.03097950667\n",
      "bestIteration = 36\n",
      "Training on fold [2/3]\n"
     ]
    },
    {
     "name": "stderr",
     "output_type": "stream",
     "text": [
      "[I 2023-10-12 18:26:33,999] Trial 0 finished with value: 0.04989384300166825 and parameters: {'objective': 'Logloss', 'depth': 9, 'learning_rate': 0.08030623475741054, 'boosting_type': 'Plain', 'bootstrap_type': 'MVS', 'scale_pos_weight': 24.026793419648342, 'task_type': 'GPU'}. Best is trial 0 with value: 0.04989384300166825.\n"
     ]
    },
    {
     "name": "stdout",
     "output_type": "stream",
     "text": [
      "bestTest = 0.04587165982\n",
      "bestIteration = 29\n",
      "Training on fold [0/3]\n",
      "bestTest = 0.03724731552\n",
      "bestIteration = 117\n",
      "Training on fold [1/3]\n",
      "bestTest = 0.02764737249\n",
      "bestIteration = 119\n",
      "Training on fold [2/3]\n"
     ]
    },
    {
     "name": "stderr",
     "output_type": "stream",
     "text": [
      "[I 2023-10-12 18:26:45,277] Trial 1 finished with value: 0.03834422317627186 and parameters: {'objective': 'Logloss', 'depth': 10, 'learning_rate': 0.017269472897444998, 'boosting_type': 'Plain', 'bootstrap_type': 'Bayesian', 'scale_pos_weight': 24.026793419648342, 'task_type': 'GPU', 'bagging_temperature': 6.895388079824291}. Best is trial 1 with value: 0.03834422317627186.\n"
     ]
    },
    {
     "name": "stdout",
     "output_type": "stream",
     "text": [
      "bestTest = 0.04448728602\n",
      "bestIteration = 92\n",
      "Training on fold [0/3]\n",
      "bestTest = 0.03779612123\n",
      "bestIteration = 999\n",
      "Training on fold [1/3]\n",
      "bestTest = 0.0302523054\n",
      "bestIteration = 963\n",
      "Training on fold [2/3]\n"
     ]
    },
    {
     "name": "stderr",
     "output_type": "stream",
     "text": [
      "[I 2023-10-12 18:26:52,158] Trial 2 finished with value: 0.03839170732084173 and parameters: {'objective': 'Logloss', 'depth': 3, 'learning_rate': 0.009133570886478112, 'boosting_type': 'Plain', 'bootstrap_type': 'Bayesian', 'scale_pos_weight': 24.026793419648342, 'task_type': 'GPU', 'bagging_temperature': 8.242006629456144}. Best is trial 1 with value: 0.03834422317627186.\n"
     ]
    },
    {
     "name": "stdout",
     "output_type": "stream",
     "text": [
      "bestTest = 0.04710759743\n",
      "bestIteration = 997\n",
      "Training on fold [0/3]\n",
      "bestTest = 0.03458487269\n",
      "bestIteration = 314\n",
      "Training on fold [1/3]\n",
      "bestTest = 0.02751873913\n",
      "bestIteration = 317\n",
      "Training on fold [2/3]\n"
     ]
    },
    {
     "name": "stderr",
     "output_type": "stream",
     "text": [
      "[I 2023-10-12 18:27:00,420] Trial 3 finished with value: 0.03630916759931572 and parameters: {'objective': 'Logloss', 'depth': 8, 'learning_rate': 0.012457552077016924, 'boosting_type': 'Plain', 'bootstrap_type': 'Bayesian', 'scale_pos_weight': 24.026793419648342, 'task_type': 'GPU', 'bagging_temperature': 4.181371323707541}. Best is trial 3 with value: 0.03630916759931572.\n"
     ]
    },
    {
     "name": "stdout",
     "output_type": "stream",
     "text": [
      "bestTest = 0.0454217136\n",
      "bestIteration = 175\n",
      "Training on fold [0/3]\n",
      "bestTest = 0.0381094547\n",
      "bestIteration = 221\n",
      "Training on fold [1/3]\n",
      "bestTest = 0.03101635755\n",
      "bestIteration = 356\n",
      "Training on fold [2/3]\n"
     ]
    },
    {
     "name": "stderr",
     "output_type": "stream",
     "text": [
      "[I 2023-10-12 18:27:04,776] Trial 4 finished with value: 0.03909154679158068 and parameters: {'objective': 'Logloss', 'depth': 3, 'learning_rate': 0.03584511639218657, 'boosting_type': 'Plain', 'bootstrap_type': 'MVS', 'scale_pos_weight': 24.026793419648342, 'task_type': 'GPU'}. Best is trial 3 with value: 0.03630916759931572.\n"
     ]
    },
    {
     "name": "stdout",
     "output_type": "stream",
     "text": [
      "bestTest = 0.0479142388\n",
      "bestIteration = 970\n",
      "Training on fold [0/3]\n",
      "bestTest = 0.03720604977\n",
      "bestIteration = 99\n",
      "Training on fold [1/3]\n",
      "bestTest = 0.02997433615\n",
      "bestIteration = 300\n",
      "Training on fold [2/3]\n"
     ]
    },
    {
     "name": "stderr",
     "output_type": "stream",
     "text": [
      "[I 2023-10-12 18:27:07,449] Trial 5 finished with value: 0.03887408687380751 and parameters: {'objective': 'Logloss', 'depth': 5, 'learning_rate': 0.05382468847667113, 'boosting_type': 'Plain', 'bootstrap_type': 'Bayesian', 'scale_pos_weight': 24.026793419648342, 'task_type': 'GPU', 'bagging_temperature': 9.767255997791292}. Best is trial 3 with value: 0.03630916759931572.\n"
     ]
    },
    {
     "name": "stdout",
     "output_type": "stream",
     "text": [
      "bestTest = 0.04498665119\n",
      "bestIteration = 155\n",
      "Training on fold [0/3]\n",
      "bestTest = 0.03629867312\n",
      "bestIteration = 192\n",
      "Training on fold [1/3]\n",
      "bestTest = 0.02746652212\n",
      "bestIteration = 307\n",
      "Training on fold [2/3]\n"
     ]
    },
    {
     "name": "stderr",
     "output_type": "stream",
     "text": [
      "[I 2023-10-12 18:27:17,040] Trial 6 finished with value: 0.037774667606589346 and parameters: {'objective': 'Logloss', 'depth': 9, 'learning_rate': 0.009674255436332857, 'boosting_type': 'Plain', 'bootstrap_type': 'Bayesian', 'scale_pos_weight': 24.026793419648342, 'task_type': 'GPU', 'bagging_temperature': 6.65547844017285}. Best is trial 3 with value: 0.03630916759931572.\n"
     ]
    },
    {
     "name": "stdout",
     "output_type": "stream",
     "text": [
      "bestTest = 0.04751522032\n",
      "bestIteration = 178\n",
      "Training on fold [0/3]\n",
      "bestTest = 0.04714955894\n",
      "bestIteration = 999\n",
      "Training on fold [1/3]\n",
      "bestTest = 0.04042902343\n",
      "bestIteration = 999\n",
      "Training on fold [2/3]\n"
     ]
    },
    {
     "name": "stderr",
     "output_type": "stream",
     "text": [
      "[I 2023-10-12 18:27:21,951] Trial 7 finished with value: 0.047546228750318165 and parameters: {'objective': 'Logloss', 'depth': 1, 'learning_rate': 0.002138456217312663, 'boosting_type': 'Plain', 'bootstrap_type': 'Bernoulli', 'scale_pos_weight': 24.026793419648342, 'task_type': 'GPU', 'subsample': 0.7193043253606086}. Best is trial 3 with value: 0.03630916759931572.\n"
     ]
    },
    {
     "name": "stdout",
     "output_type": "stream",
     "text": [
      "bestTest = 0.05506010389\n",
      "bestIteration = 999\n",
      "Training on fold [0/3]\n",
      "bestTest = 0.03624327607\n",
      "bestIteration = 54\n",
      "Training on fold [1/3]\n",
      "bestTest = 0.02859251616\n",
      "bestIteration = 72\n",
      "Training on fold [2/3]\n"
     ]
    },
    {
     "name": "stderr",
     "output_type": "stream",
     "text": [
      "[I 2023-10-12 18:27:25,158] Trial 8 finished with value: 0.04134986767310544 and parameters: {'objective': 'Logloss', 'depth': 8, 'learning_rate': 0.04601276989231925, 'boosting_type': 'Plain', 'bootstrap_type': 'Bernoulli', 'scale_pos_weight': 24.026793419648342, 'task_type': 'GPU', 'subsample': 0.2087221893688722}. Best is trial 3 with value: 0.03630916759931572.\n"
     ]
    },
    {
     "name": "stdout",
     "output_type": "stream",
     "text": [
      "bestTest = 0.04427589199\n",
      "bestIteration = 67\n",
      "Training on fold [0/3]\n",
      "bestTest = 0.03754046584\n",
      "bestIteration = 11\n",
      "Training on fold [1/3]\n",
      "bestTest = 0.02881526319\n",
      "bestIteration = 13\n",
      "Training on fold [2/3]\n"
     ]
    },
    {
     "name": "stderr",
     "output_type": "stream",
     "text": [
      "[I 2023-10-12 18:27:27,461] Trial 9 finished with value: 0.059932532401659966 and parameters: {'objective': 'Logloss', 'depth': 8, 'learning_rate': 0.24651901621627537, 'boosting_type': 'Plain', 'bootstrap_type': 'Bernoulli', 'scale_pos_weight': 24.026793419648342, 'task_type': 'GPU', 'subsample': 0.2837068499642318}. Best is trial 3 with value: 0.03630916759931572.\n"
     ]
    },
    {
     "name": "stdout",
     "output_type": "stream",
     "text": [
      "bestTest = 0.0471711829\n",
      "bestIteration = 5\n",
      "Training on fold [0/3]\n",
      "bestTest = 0.05231904665\n",
      "bestIteration = 0\n",
      "Training on fold [1/3]\n",
      "bestTest = 0.03892723942\n",
      "bestIteration = 0\n",
      "Training on fold [2/3]\n"
     ]
    },
    {
     "name": "stderr",
     "output_type": "stream",
     "text": [
      "[I 2023-10-12 18:27:44,765] Trial 10 finished with value: 0.09397863888602508 and parameters: {'objective': 'Logloss', 'depth': 12, 'learning_rate': 0.8872335581303664, 'boosting_type': 'Plain', 'bootstrap_type': 'Bayesian', 'scale_pos_weight': 24.026793419648342, 'task_type': 'GPU', 'bagging_temperature': 2.102328943974918}. Best is trial 3 with value: 0.03630916759931572.\n"
     ]
    },
    {
     "name": "stdout",
     "output_type": "stream",
     "text": [
      "bestTest = 0.05252319005\n",
      "bestIteration = 0\n",
      "Training on fold [0/3]\n",
      "bestTest = 0.0346589693\n",
      "bestIteration = 999\n",
      "Training on fold [1/3]\n",
      "bestTest = 0.02782136839\n",
      "bestIteration = 996\n",
      "Training on fold [2/3]\n"
     ]
    },
    {
     "name": "stderr",
     "output_type": "stream",
     "text": [
      "[I 2023-10-12 18:27:54,717] Trial 11 finished with value: 0.03616606302034389 and parameters: {'objective': 'Logloss', 'depth': 6, 'learning_rate': 0.005351567179807343, 'boosting_type': 'Plain', 'bootstrap_type': 'Bayesian', 'scale_pos_weight': 24.026793419648342, 'task_type': 'GPU', 'bagging_temperature': 4.173359650186536}. Best is trial 11 with value: 0.03616606302034389.\n"
     ]
    },
    {
     "name": "stdout",
     "output_type": "stream",
     "text": [
      "bestTest = 0.04581247703\n",
      "bestIteration = 483\n",
      "Training on fold [0/3]\n",
      "bestTest = 0.03738805673\n",
      "bestIteration = 999\n",
      "Training on fold [1/3]\n",
      "bestTest = 0.03058739831\n",
      "bestIteration = 999\n",
      "Training on fold [2/3]\n"
     ]
    },
    {
     "name": "stderr",
     "output_type": "stream",
     "text": [
      "[I 2023-10-12 18:28:06,080] Trial 12 finished with value: 0.037811747955074436 and parameters: {'objective': 'Logloss', 'depth': 6, 'learning_rate': 0.0024676767220064393, 'boosting_type': 'Plain', 'bootstrap_type': 'Bayesian', 'scale_pos_weight': 24.026793419648342, 'task_type': 'GPU', 'bagging_temperature': 3.631738693496008}. Best is trial 11 with value: 0.03616606302034389.\n"
     ]
    },
    {
     "name": "stdout",
     "output_type": "stream",
     "text": [
      "bestTest = 0.04545973627\n",
      "bestIteration = 997\n",
      "Training on fold [0/3]\n",
      "bestTest = 0.05657553548\n",
      "bestIteration = 999\n",
      "Training on fold [1/3]\n",
      "bestTest = 0.05314707961\n",
      "bestIteration = 999\n",
      "Training on fold [2/3]\n"
     ]
    },
    {
     "name": "stderr",
     "output_type": "stream",
     "text": [
      "[I 2023-10-12 18:28:15,386] Trial 13 finished with value: 0.05604879127052767 and parameters: {'objective': 'Logloss', 'depth': 5, 'learning_rate': 0.0010825782991601765, 'boosting_type': 'Plain', 'bootstrap_type': 'Bayesian', 'scale_pos_weight': 24.026793419648342, 'task_type': 'GPU', 'bagging_temperature': 4.125390281601066}. Best is trial 11 with value: 0.03616606302034389.\n"
     ]
    },
    {
     "name": "stdout",
     "output_type": "stream",
     "text": [
      "bestTest = 0.05842375872\n",
      "bestIteration = 999\n",
      "Training on fold [0/3]\n",
      "bestTest = 0.0355215752\n",
      "bestIteration = 490\n",
      "Training on fold [1/3]\n",
      "bestTest = 0.02835055374\n",
      "bestIteration = 751\n",
      "Training on fold [2/3]\n"
     ]
    },
    {
     "name": "stderr",
     "output_type": "stream",
     "text": [
      "[I 2023-10-12 18:28:24,824] Trial 14 finished with value: 0.03632200679537766 and parameters: {'objective': 'Logloss', 'depth': 7, 'learning_rate': 0.005603158930395397, 'boosting_type': 'Plain', 'bootstrap_type': 'Bayesian', 'scale_pos_weight': 24.026793419648342, 'task_type': 'GPU', 'bagging_temperature': 0.645149618415195}. Best is trial 11 with value: 0.03616606302034389.\n"
     ]
    },
    {
     "name": "stdout",
     "output_type": "stream",
     "text": [
      "bestTest = 0.04477164597\n",
      "bestIteration = 356\n",
      "Training on fold [0/3]\n",
      "bestTest = 0.03696906922\n",
      "bestIteration = 234\n",
      "Training on fold [1/3]\n",
      "bestTest = 0.03073783797\n",
      "bestIteration = 238\n",
      "Training on fold [2/3]\n"
     ]
    },
    {
     "name": "stderr",
     "output_type": "stream",
     "text": [
      "[I 2023-10-12 18:28:27,794] Trial 15 finished with value: 0.03876900031260981 and parameters: {'objective': 'Logloss', 'depth': 4, 'learning_rate': 0.01655067302375426, 'boosting_type': 'Plain', 'bootstrap_type': 'MVS', 'scale_pos_weight': 24.026793419648342, 'task_type': 'GPU'}. Best is trial 11 with value: 0.03616606302034389.\n"
     ]
    },
    {
     "name": "stdout",
     "output_type": "stream",
     "text": [
      "bestTest = 0.04811163944\n",
      "bestIteration = 241\n",
      "Training on fold [0/3]\n",
      "bestTest = 0.03503176118\n",
      "bestIteration = 441\n",
      "Training on fold [1/3]\n",
      "bestTest = 0.02757028832\n",
      "bestIteration = 550\n",
      "Training on fold [2/3]\n"
     ]
    },
    {
     "name": "stderr",
     "output_type": "stream",
     "text": [
      "[I 2023-10-12 18:29:16,756] Trial 16 finished with value: 0.035557243232131275 and parameters: {'objective': 'Logloss', 'depth': 11, 'learning_rate': 0.00434989029126983, 'boosting_type': 'Plain', 'bootstrap_type': 'Bayesian', 'scale_pos_weight': 24.026793419648342, 'task_type': 'GPU', 'bagging_temperature': 4.80789382081378}. Best is trial 16 with value: 0.035557243232131275.\n"
     ]
    },
    {
     "name": "stdout",
     "output_type": "stream",
     "text": [
      "bestTest = 0.04267306874\n",
      "bestIteration = 366\n",
      "Training on fold [0/3]\n",
      "bestTest = 0.03340444234\n",
      "bestIteration = 373\n",
      "Training on fold [1/3]\n",
      "bestTest = 0.027876368\n",
      "bestIteration = 554\n",
      "Training on fold [2/3]\n"
     ]
    },
    {
     "name": "stderr",
     "output_type": "stream",
     "text": [
      "[I 2023-10-12 18:30:03,467] Trial 17 finished with value: 0.03598731655679207 and parameters: {'objective': 'Logloss', 'depth': 11, 'learning_rate': 0.0044541051205298264, 'boosting_type': 'Plain', 'bootstrap_type': 'Bayesian', 'scale_pos_weight': 24.026793419648342, 'task_type': 'GPU', 'bagging_temperature': 5.527005094779235}. Best is trial 16 with value: 0.035557243232131275.\n"
     ]
    },
    {
     "name": "stdout",
     "output_type": "stream",
     "text": [
      "bestTest = 0.04536293893\n",
      "bestIteration = 315\n",
      "Training on fold [0/3]\n",
      "bestTest = 0.03680753905\n",
      "bestIteration = 995\n",
      "Training on fold [1/3]\n",
      "bestTest = 0.02899188092\n",
      "bestIteration = 999\n",
      "Training on fold [2/3]\n"
     ]
    },
    {
     "name": "stderr",
     "output_type": "stream",
     "text": [
      "[I 2023-10-12 18:31:24,558] Trial 18 finished with value: 0.03710629820013898 and parameters: {'objective': 'Logloss', 'depth': 12, 'learning_rate': 0.0027595105660017417, 'boosting_type': 'Plain', 'bootstrap_type': 'MVS', 'scale_pos_weight': 24.026793419648342, 'task_type': 'GPU'}. Best is trial 16 with value: 0.035557243232131275.\n"
     ]
    },
    {
     "name": "stdout",
     "output_type": "stream",
     "text": [
      "bestTest = 0.04549785478\n",
      "bestIteration = 991\n",
      "Training on fold [0/3]\n",
      "bestTest = 0.03560079023\n",
      "bestIteration = 351\n",
      "Training on fold [1/3]\n",
      "bestTest = 0.02780521695\n",
      "bestIteration = 377\n",
      "Training on fold [2/3]\n"
     ]
    },
    {
     "name": "stderr",
     "output_type": "stream",
     "text": [
      "[I 2023-10-12 18:32:01,922] Trial 19 finished with value: 0.036523309976012684 and parameters: {'objective': 'Logloss', 'depth': 11, 'learning_rate': 0.00504769636981087, 'boosting_type': 'Plain', 'bootstrap_type': 'Bernoulli', 'scale_pos_weight': 24.026793419648342, 'task_type': 'GPU', 'subsample': 0.9764217558869108}. Best is trial 16 with value: 0.035557243232131275.\n"
     ]
    },
    {
     "name": "stdout",
     "output_type": "stream",
     "text": [
      "bestTest = 0.04379713042\n",
      "bestIteration = 299\n",
      "Training on fold [0/3]\n",
      "bestTest = 0.03544129692\n",
      "bestIteration = 78\n",
      "Training on fold [1/3]\n",
      "bestTest = 0.02867119569\n",
      "bestIteration = 114\n",
      "Training on fold [2/3]\n"
     ]
    },
    {
     "name": "stderr",
     "output_type": "stream",
     "text": [
      "[I 2023-10-12 18:32:17,988] Trial 20 finished with value: 0.03989779409352422 and parameters: {'objective': 'Logloss', 'depth': 11, 'learning_rate': 0.022547921419213038, 'boosting_type': 'Plain', 'bootstrap_type': 'Bayesian', 'scale_pos_weight': 24.026793419648342, 'task_type': 'GPU', 'bagging_temperature': 5.837959992428098}. Best is trial 16 with value: 0.035557243232131275.\n"
     ]
    },
    {
     "name": "stdout",
     "output_type": "stream",
     "text": [
      "bestTest = 0.0438840248\n",
      "bestIteration = 74\n",
      "Training on fold [0/3]\n",
      "bestTest = 0.03485307069\n",
      "bestIteration = 372\n",
      "Training on fold [1/3]\n",
      "bestTest = 0.02862783043\n",
      "bestIteration = 426\n",
      "Training on fold [2/3]\n"
     ]
    },
    {
     "name": "stderr",
     "output_type": "stream",
     "text": [
      "[I 2023-10-12 18:32:39,591] Trial 21 finished with value: 0.03703540000571657 and parameters: {'objective': 'Logloss', 'depth': 10, 'learning_rate': 0.0058784047875989716, 'boosting_type': 'Plain', 'bootstrap_type': 'Bayesian', 'scale_pos_weight': 24.026793419648342, 'task_type': 'GPU', 'bagging_temperature': 5.25420776934679}. Best is trial 16 with value: 0.035557243232131275.\n"
     ]
    },
    {
     "name": "stdout",
     "output_type": "stream",
     "text": [
      "bestTest = 0.04603285267\n",
      "bestIteration = 283\n",
      "Training on fold [0/3]\n",
      "bestTest = 0.05260150577\n",
      "bestIteration = 999\n",
      "Training on fold [1/3]\n",
      "bestTest = 0.04912396742\n",
      "bestIteration = 999\n",
      "Training on fold [2/3]\n"
     ]
    },
    {
     "name": "stderr",
     "output_type": "stream",
     "text": [
      "[I 2023-10-12 18:32:49,415] Trial 22 finished with value: 0.05238822198645341 and parameters: {'objective': 'Logloss', 'depth': 6, 'learning_rate': 0.001090146181699897, 'boosting_type': 'Plain', 'bootstrap_type': 'Bayesian', 'scale_pos_weight': 24.026793419648342, 'task_type': 'GPU', 'bagging_temperature': 3.209431048277238}. Best is trial 16 with value: 0.035557243232131275.\n"
     ]
    },
    {
     "name": "stdout",
     "output_type": "stream",
     "text": [
      "bestTest = 0.05543919277\n",
      "bestIteration = 999\n",
      "Training on fold [0/3]\n",
      "bestTest = 0.03603526901\n",
      "bestIteration = 473\n",
      "Training on fold [1/3]\n",
      "bestTest = 0.02742105137\n",
      "bestIteration = 623\n",
      "Training on fold [2/3]\n"
     ]
    },
    {
     "name": "stderr",
     "output_type": "stream",
     "text": [
      "[I 2023-10-12 18:33:17,129] Trial 23 finished with value: 0.03659954598420767 and parameters: {'objective': 'Logloss', 'depth': 10, 'learning_rate': 0.00411093044871644, 'boosting_type': 'Plain', 'bootstrap_type': 'Bayesian', 'scale_pos_weight': 24.026793419648342, 'task_type': 'GPU', 'bagging_temperature': 5.598636350630215}. Best is trial 16 with value: 0.035557243232131275.\n"
     ]
    },
    {
     "name": "stdout",
     "output_type": "stream",
     "text": [
      "bestTest = 0.04557532851\n",
      "bestIteration = 377\n",
      "Training on fold [0/3]\n",
      "bestTest = 0.03475385796\n",
      "bestIteration = 516\n",
      "Training on fold [1/3]\n",
      "bestTest = 0.02737074198\n",
      "bestIteration = 551\n",
      "Training on fold [2/3]\n"
     ]
    },
    {
     "name": "stderr",
     "output_type": "stream",
     "text": [
      "[I 2023-10-12 18:33:24,486] Trial 24 finished with value: 0.03618228600195895 and parameters: {'objective': 'Logloss', 'depth': 7, 'learning_rate': 0.00884558777440683, 'boosting_type': 'Plain', 'bootstrap_type': 'Bayesian', 'scale_pos_weight': 24.026793419648342, 'task_type': 'GPU', 'bagging_temperature': 4.728399145064696}. Best is trial 16 with value: 0.035557243232131275.\n"
     ]
    },
    {
     "name": "stdout",
     "output_type": "stream",
     "text": [
      "bestTest = 0.04578401105\n",
      "bestIteration = 312\n",
      "Training on fold [0/3]\n",
      "bestTest = 0.03529296153\n",
      "bestIteration = 975\n",
      "Training on fold [1/3]\n",
      "bestTest = 0.02831276915\n",
      "bestIteration = 998\n",
      "Training on fold [2/3]\n"
     ]
    },
    {
     "name": "stderr",
     "output_type": "stream",
     "text": [
      "[I 2023-10-12 18:34:46,595] Trial 25 finished with value: 0.03568870448848911 and parameters: {'objective': 'Logloss', 'depth': 11, 'learning_rate': 0.0019930858780542768, 'boosting_type': 'Plain', 'bootstrap_type': 'Bayesian', 'scale_pos_weight': 24.026793419648342, 'task_type': 'GPU', 'bagging_temperature': 2.6903229996210323}. Best is trial 16 with value: 0.035557243232131275.\n"
     ]
    },
    {
     "name": "stdout",
     "output_type": "stream",
     "text": [
      "bestTest = 0.04334369668\n",
      "bestIteration = 785\n",
      "Training on fold [0/3]\n",
      "bestTest = 0.03574602551\n",
      "bestIteration = 999\n",
      "Training on fold [1/3]\n",
      "bestTest = 0.02903096716\n",
      "bestIteration = 999\n",
      "Training on fold [2/3]\n"
     ]
    },
    {
     "name": "stderr",
     "output_type": "stream",
     "text": [
      "[I 2023-10-12 18:36:12,444] Trial 26 finished with value: 0.036081641034291755 and parameters: {'objective': 'Logloss', 'depth': 11, 'learning_rate': 0.00172880991991602, 'boosting_type': 'Plain', 'bootstrap_type': 'Bayesian', 'scale_pos_weight': 24.026793419648342, 'task_type': 'GPU', 'bagging_temperature': 2.763524417228804}. Best is trial 16 with value: 0.035557243232131275.\n"
     ]
    },
    {
     "name": "stdout",
     "output_type": "stream",
     "text": [
      "bestTest = 0.04332870466\n",
      "bestIteration = 883\n",
      "Training on fold [0/3]\n",
      "bestTest = 0.03564088764\n",
      "bestIteration = 689\n",
      "Training on fold [1/3]\n",
      "bestTest = 0.02831622884\n",
      "bestIteration = 754\n",
      "Training on fold [2/3]\n"
     ]
    },
    {
     "name": "stderr",
     "output_type": "stream",
     "text": [
      "[I 2023-10-12 18:38:13,197] Trial 27 finished with value: 0.0359613544716977 and parameters: {'objective': 'Logloss', 'depth': 12, 'learning_rate': 0.002775482343741305, 'boosting_type': 'Plain', 'bootstrap_type': 'Bayesian', 'scale_pos_weight': 24.026793419648342, 'task_type': 'GPU', 'bagging_temperature': 1.9788178450408211}. Best is trial 16 with value: 0.035557243232131275.\n"
     ]
    },
    {
     "name": "stdout",
     "output_type": "stream",
     "text": [
      "bestTest = 0.04295237673\n",
      "bestIteration = 561\n",
      "Number of finished trials:  28\n",
      "Best trial:\n",
      "  Value: 0.035557243232131275\n",
      "  Params: \n",
      "    objective: Logloss\n",
      "    depth: 11\n",
      "    learning_rate: 0.00434989029126983\n",
      "    boosting_type: Plain\n",
      "    bootstrap_type: Bayesian\n",
      "    scale_pos_weight: 24.026793419648342\n",
      "    task_type: GPU\n",
      "    bagging_temperature: 4.80789382081378\n"
     ]
    }
   ],
   "source": [
    "study_cb = optimize_objective(\n",
    "    objective=objective_cb,\n",
    "    n_trials=30,\n",
    "    direction=\"minimize\"\n",
    ")"
   ]
  },
  {
   "cell_type": "code",
   "execution_count": 49,
   "metadata": {},
   "outputs": [
    {
     "data": {
      "application/vnd.plotly.v1+json": {
       "config": {
        "plotlyServerURL": "https://plot.ly"
       },
       "data": [
        {
         "mode": "markers",
         "name": "Objective Value",
         "type": "scatter",
         "x": [
          0,
          1,
          2,
          3,
          4,
          5,
          6,
          7,
          8,
          9,
          10,
          11,
          12,
          13,
          14,
          15,
          16,
          17,
          18,
          19,
          20,
          21,
          22,
          23,
          24,
          25,
          26,
          27
         ],
         "y": [
          0.04989384300166825,
          0.03834422317627186,
          0.03839170732084173,
          0.03630916759931572,
          0.03909154679158068,
          0.03887408687380751,
          0.037774667606589346,
          0.047546228750318165,
          0.04134986767310544,
          0.059932532401659966,
          0.09397863888602508,
          0.03616606302034389,
          0.037811747955074436,
          0.05604879127052767,
          0.03632200679537766,
          0.03876900031260981,
          0.035557243232131275,
          0.03598731655679207,
          0.03710629820013898,
          0.036523309976012684,
          0.03989779409352422,
          0.03703540000571657,
          0.05238822198645341,
          0.03659954598420767,
          0.03618228600195895,
          0.03568870448848911,
          0.036081641034291755,
          0.0359613544716977
         ]
        },
        {
         "mode": "lines",
         "name": "Best Value",
         "type": "scatter",
         "x": [
          0,
          1,
          2,
          3,
          4,
          5,
          6,
          7,
          8,
          9,
          10,
          11,
          12,
          13,
          14,
          15,
          16,
          17,
          18,
          19,
          20,
          21,
          22,
          23,
          24,
          25,
          26,
          27
         ],
         "y": [
          0.04989384300166825,
          0.03834422317627186,
          0.03834422317627186,
          0.03630916759931572,
          0.03630916759931572,
          0.03630916759931572,
          0.03630916759931572,
          0.03630916759931572,
          0.03630916759931572,
          0.03630916759931572,
          0.03630916759931572,
          0.03616606302034389,
          0.03616606302034389,
          0.03616606302034389,
          0.03616606302034389,
          0.03616606302034389,
          0.035557243232131275,
          0.035557243232131275,
          0.035557243232131275,
          0.035557243232131275,
          0.035557243232131275,
          0.035557243232131275,
          0.035557243232131275,
          0.035557243232131275,
          0.035557243232131275,
          0.035557243232131275,
          0.035557243232131275,
          0.035557243232131275
         ]
        },
        {
         "marker": {
          "color": "#cccccc"
         },
         "mode": "markers",
         "name": "Infeasible Trial",
         "showlegend": false,
         "type": "scatter",
         "x": [],
         "y": []
        }
       ],
       "layout": {
        "template": {
         "data": {
          "bar": [
           {
            "error_x": {
             "color": "#2a3f5f"
            },
            "error_y": {
             "color": "#2a3f5f"
            },
            "marker": {
             "line": {
              "color": "#E5ECF6",
              "width": 0.5
             },
             "pattern": {
              "fillmode": "overlay",
              "size": 10,
              "solidity": 0.2
             }
            },
            "type": "bar"
           }
          ],
          "barpolar": [
           {
            "marker": {
             "line": {
              "color": "#E5ECF6",
              "width": 0.5
             },
             "pattern": {
              "fillmode": "overlay",
              "size": 10,
              "solidity": 0.2
             }
            },
            "type": "barpolar"
           }
          ],
          "carpet": [
           {
            "aaxis": {
             "endlinecolor": "#2a3f5f",
             "gridcolor": "white",
             "linecolor": "white",
             "minorgridcolor": "white",
             "startlinecolor": "#2a3f5f"
            },
            "baxis": {
             "endlinecolor": "#2a3f5f",
             "gridcolor": "white",
             "linecolor": "white",
             "minorgridcolor": "white",
             "startlinecolor": "#2a3f5f"
            },
            "type": "carpet"
           }
          ],
          "choropleth": [
           {
            "colorbar": {
             "outlinewidth": 0,
             "ticks": ""
            },
            "type": "choropleth"
           }
          ],
          "contour": [
           {
            "colorbar": {
             "outlinewidth": 0,
             "ticks": ""
            },
            "colorscale": [
             [
              0,
              "#0d0887"
             ],
             [
              0.1111111111111111,
              "#46039f"
             ],
             [
              0.2222222222222222,
              "#7201a8"
             ],
             [
              0.3333333333333333,
              "#9c179e"
             ],
             [
              0.4444444444444444,
              "#bd3786"
             ],
             [
              0.5555555555555556,
              "#d8576b"
             ],
             [
              0.6666666666666666,
              "#ed7953"
             ],
             [
              0.7777777777777778,
              "#fb9f3a"
             ],
             [
              0.8888888888888888,
              "#fdca26"
             ],
             [
              1,
              "#f0f921"
             ]
            ],
            "type": "contour"
           }
          ],
          "contourcarpet": [
           {
            "colorbar": {
             "outlinewidth": 0,
             "ticks": ""
            },
            "type": "contourcarpet"
           }
          ],
          "heatmap": [
           {
            "colorbar": {
             "outlinewidth": 0,
             "ticks": ""
            },
            "colorscale": [
             [
              0,
              "#0d0887"
             ],
             [
              0.1111111111111111,
              "#46039f"
             ],
             [
              0.2222222222222222,
              "#7201a8"
             ],
             [
              0.3333333333333333,
              "#9c179e"
             ],
             [
              0.4444444444444444,
              "#bd3786"
             ],
             [
              0.5555555555555556,
              "#d8576b"
             ],
             [
              0.6666666666666666,
              "#ed7953"
             ],
             [
              0.7777777777777778,
              "#fb9f3a"
             ],
             [
              0.8888888888888888,
              "#fdca26"
             ],
             [
              1,
              "#f0f921"
             ]
            ],
            "type": "heatmap"
           }
          ],
          "heatmapgl": [
           {
            "colorbar": {
             "outlinewidth": 0,
             "ticks": ""
            },
            "colorscale": [
             [
              0,
              "#0d0887"
             ],
             [
              0.1111111111111111,
              "#46039f"
             ],
             [
              0.2222222222222222,
              "#7201a8"
             ],
             [
              0.3333333333333333,
              "#9c179e"
             ],
             [
              0.4444444444444444,
              "#bd3786"
             ],
             [
              0.5555555555555556,
              "#d8576b"
             ],
             [
              0.6666666666666666,
              "#ed7953"
             ],
             [
              0.7777777777777778,
              "#fb9f3a"
             ],
             [
              0.8888888888888888,
              "#fdca26"
             ],
             [
              1,
              "#f0f921"
             ]
            ],
            "type": "heatmapgl"
           }
          ],
          "histogram": [
           {
            "marker": {
             "pattern": {
              "fillmode": "overlay",
              "size": 10,
              "solidity": 0.2
             }
            },
            "type": "histogram"
           }
          ],
          "histogram2d": [
           {
            "colorbar": {
             "outlinewidth": 0,
             "ticks": ""
            },
            "colorscale": [
             [
              0,
              "#0d0887"
             ],
             [
              0.1111111111111111,
              "#46039f"
             ],
             [
              0.2222222222222222,
              "#7201a8"
             ],
             [
              0.3333333333333333,
              "#9c179e"
             ],
             [
              0.4444444444444444,
              "#bd3786"
             ],
             [
              0.5555555555555556,
              "#d8576b"
             ],
             [
              0.6666666666666666,
              "#ed7953"
             ],
             [
              0.7777777777777778,
              "#fb9f3a"
             ],
             [
              0.8888888888888888,
              "#fdca26"
             ],
             [
              1,
              "#f0f921"
             ]
            ],
            "type": "histogram2d"
           }
          ],
          "histogram2dcontour": [
           {
            "colorbar": {
             "outlinewidth": 0,
             "ticks": ""
            },
            "colorscale": [
             [
              0,
              "#0d0887"
             ],
             [
              0.1111111111111111,
              "#46039f"
             ],
             [
              0.2222222222222222,
              "#7201a8"
             ],
             [
              0.3333333333333333,
              "#9c179e"
             ],
             [
              0.4444444444444444,
              "#bd3786"
             ],
             [
              0.5555555555555556,
              "#d8576b"
             ],
             [
              0.6666666666666666,
              "#ed7953"
             ],
             [
              0.7777777777777778,
              "#fb9f3a"
             ],
             [
              0.8888888888888888,
              "#fdca26"
             ],
             [
              1,
              "#f0f921"
             ]
            ],
            "type": "histogram2dcontour"
           }
          ],
          "mesh3d": [
           {
            "colorbar": {
             "outlinewidth": 0,
             "ticks": ""
            },
            "type": "mesh3d"
           }
          ],
          "parcoords": [
           {
            "line": {
             "colorbar": {
              "outlinewidth": 0,
              "ticks": ""
             }
            },
            "type": "parcoords"
           }
          ],
          "pie": [
           {
            "automargin": true,
            "type": "pie"
           }
          ],
          "scatter": [
           {
            "fillpattern": {
             "fillmode": "overlay",
             "size": 10,
             "solidity": 0.2
            },
            "type": "scatter"
           }
          ],
          "scatter3d": [
           {
            "line": {
             "colorbar": {
              "outlinewidth": 0,
              "ticks": ""
             }
            },
            "marker": {
             "colorbar": {
              "outlinewidth": 0,
              "ticks": ""
             }
            },
            "type": "scatter3d"
           }
          ],
          "scattercarpet": [
           {
            "marker": {
             "colorbar": {
              "outlinewidth": 0,
              "ticks": ""
             }
            },
            "type": "scattercarpet"
           }
          ],
          "scattergeo": [
           {
            "marker": {
             "colorbar": {
              "outlinewidth": 0,
              "ticks": ""
             }
            },
            "type": "scattergeo"
           }
          ],
          "scattergl": [
           {
            "marker": {
             "colorbar": {
              "outlinewidth": 0,
              "ticks": ""
             }
            },
            "type": "scattergl"
           }
          ],
          "scattermapbox": [
           {
            "marker": {
             "colorbar": {
              "outlinewidth": 0,
              "ticks": ""
             }
            },
            "type": "scattermapbox"
           }
          ],
          "scatterpolar": [
           {
            "marker": {
             "colorbar": {
              "outlinewidth": 0,
              "ticks": ""
             }
            },
            "type": "scatterpolar"
           }
          ],
          "scatterpolargl": [
           {
            "marker": {
             "colorbar": {
              "outlinewidth": 0,
              "ticks": ""
             }
            },
            "type": "scatterpolargl"
           }
          ],
          "scatterternary": [
           {
            "marker": {
             "colorbar": {
              "outlinewidth": 0,
              "ticks": ""
             }
            },
            "type": "scatterternary"
           }
          ],
          "surface": [
           {
            "colorbar": {
             "outlinewidth": 0,
             "ticks": ""
            },
            "colorscale": [
             [
              0,
              "#0d0887"
             ],
             [
              0.1111111111111111,
              "#46039f"
             ],
             [
              0.2222222222222222,
              "#7201a8"
             ],
             [
              0.3333333333333333,
              "#9c179e"
             ],
             [
              0.4444444444444444,
              "#bd3786"
             ],
             [
              0.5555555555555556,
              "#d8576b"
             ],
             [
              0.6666666666666666,
              "#ed7953"
             ],
             [
              0.7777777777777778,
              "#fb9f3a"
             ],
             [
              0.8888888888888888,
              "#fdca26"
             ],
             [
              1,
              "#f0f921"
             ]
            ],
            "type": "surface"
           }
          ],
          "table": [
           {
            "cells": {
             "fill": {
              "color": "#EBF0F8"
             },
             "line": {
              "color": "white"
             }
            },
            "header": {
             "fill": {
              "color": "#C8D4E3"
             },
             "line": {
              "color": "white"
             }
            },
            "type": "table"
           }
          ]
         },
         "layout": {
          "annotationdefaults": {
           "arrowcolor": "#2a3f5f",
           "arrowhead": 0,
           "arrowwidth": 1
          },
          "autotypenumbers": "strict",
          "coloraxis": {
           "colorbar": {
            "outlinewidth": 0,
            "ticks": ""
           }
          },
          "colorscale": {
           "diverging": [
            [
             0,
             "#8e0152"
            ],
            [
             0.1,
             "#c51b7d"
            ],
            [
             0.2,
             "#de77ae"
            ],
            [
             0.3,
             "#f1b6da"
            ],
            [
             0.4,
             "#fde0ef"
            ],
            [
             0.5,
             "#f7f7f7"
            ],
            [
             0.6,
             "#e6f5d0"
            ],
            [
             0.7,
             "#b8e186"
            ],
            [
             0.8,
             "#7fbc41"
            ],
            [
             0.9,
             "#4d9221"
            ],
            [
             1,
             "#276419"
            ]
           ],
           "sequential": [
            [
             0,
             "#0d0887"
            ],
            [
             0.1111111111111111,
             "#46039f"
            ],
            [
             0.2222222222222222,
             "#7201a8"
            ],
            [
             0.3333333333333333,
             "#9c179e"
            ],
            [
             0.4444444444444444,
             "#bd3786"
            ],
            [
             0.5555555555555556,
             "#d8576b"
            ],
            [
             0.6666666666666666,
             "#ed7953"
            ],
            [
             0.7777777777777778,
             "#fb9f3a"
            ],
            [
             0.8888888888888888,
             "#fdca26"
            ],
            [
             1,
             "#f0f921"
            ]
           ],
           "sequentialminus": [
            [
             0,
             "#0d0887"
            ],
            [
             0.1111111111111111,
             "#46039f"
            ],
            [
             0.2222222222222222,
             "#7201a8"
            ],
            [
             0.3333333333333333,
             "#9c179e"
            ],
            [
             0.4444444444444444,
             "#bd3786"
            ],
            [
             0.5555555555555556,
             "#d8576b"
            ],
            [
             0.6666666666666666,
             "#ed7953"
            ],
            [
             0.7777777777777778,
             "#fb9f3a"
            ],
            [
             0.8888888888888888,
             "#fdca26"
            ],
            [
             1,
             "#f0f921"
            ]
           ]
          },
          "colorway": [
           "#636efa",
           "#EF553B",
           "#00cc96",
           "#ab63fa",
           "#FFA15A",
           "#19d3f3",
           "#FF6692",
           "#B6E880",
           "#FF97FF",
           "#FECB52"
          ],
          "font": {
           "color": "#2a3f5f"
          },
          "geo": {
           "bgcolor": "white",
           "lakecolor": "white",
           "landcolor": "#E5ECF6",
           "showlakes": true,
           "showland": true,
           "subunitcolor": "white"
          },
          "hoverlabel": {
           "align": "left"
          },
          "hovermode": "closest",
          "mapbox": {
           "style": "light"
          },
          "paper_bgcolor": "white",
          "plot_bgcolor": "#E5ECF6",
          "polar": {
           "angularaxis": {
            "gridcolor": "white",
            "linecolor": "white",
            "ticks": ""
           },
           "bgcolor": "#E5ECF6",
           "radialaxis": {
            "gridcolor": "white",
            "linecolor": "white",
            "ticks": ""
           }
          },
          "scene": {
           "xaxis": {
            "backgroundcolor": "#E5ECF6",
            "gridcolor": "white",
            "gridwidth": 2,
            "linecolor": "white",
            "showbackground": true,
            "ticks": "",
            "zerolinecolor": "white"
           },
           "yaxis": {
            "backgroundcolor": "#E5ECF6",
            "gridcolor": "white",
            "gridwidth": 2,
            "linecolor": "white",
            "showbackground": true,
            "ticks": "",
            "zerolinecolor": "white"
           },
           "zaxis": {
            "backgroundcolor": "#E5ECF6",
            "gridcolor": "white",
            "gridwidth": 2,
            "linecolor": "white",
            "showbackground": true,
            "ticks": "",
            "zerolinecolor": "white"
           }
          },
          "shapedefaults": {
           "line": {
            "color": "#2a3f5f"
           }
          },
          "ternary": {
           "aaxis": {
            "gridcolor": "white",
            "linecolor": "white",
            "ticks": ""
           },
           "baxis": {
            "gridcolor": "white",
            "linecolor": "white",
            "ticks": ""
           },
           "bgcolor": "#E5ECF6",
           "caxis": {
            "gridcolor": "white",
            "linecolor": "white",
            "ticks": ""
           }
          },
          "title": {
           "x": 0.05
          },
          "xaxis": {
           "automargin": true,
           "gridcolor": "white",
           "linecolor": "white",
           "ticks": "",
           "title": {
            "standoff": 15
           },
           "zerolinecolor": "white",
           "zerolinewidth": 2
          },
          "yaxis": {
           "automargin": true,
           "gridcolor": "white",
           "linecolor": "white",
           "ticks": "",
           "title": {
            "standoff": 15
           },
           "zerolinecolor": "white",
           "zerolinewidth": 2
          }
         }
        },
        "title": {
         "text": "Optimization History Plot"
        },
        "xaxis": {
         "title": {
          "text": "Trial"
         }
        },
        "yaxis": {
         "title": {
          "text": "Objective Value"
         }
        }
       }
      }
     },
     "metadata": {},
     "output_type": "display_data"
    }
   ],
   "source": [
    "optuna.visualization.plot_optimization_history(study_cb)"
   ]
  },
  {
   "cell_type": "code",
   "execution_count": 50,
   "metadata": {},
   "outputs": [
    {
     "name": "stdout",
     "output_type": "stream",
     "text": [
      "0:\tlearn: 0.6810953\ttotal: 29.2ms\tremaining: 19s\n",
      "1:\tlearn: 0.6689684\ttotal: 59.4ms\tremaining: 19.3s\n",
      "2:\tlearn: 0.6574052\ttotal: 87.3ms\tremaining: 18.9s\n",
      "3:\tlearn: 0.6467979\ttotal: 114ms\tremaining: 18.5s\n",
      "4:\tlearn: 0.6342787\ttotal: 145ms\tremaining: 18.8s\n",
      "5:\tlearn: 0.6216617\ttotal: 190ms\tremaining: 20.4s\n",
      "6:\tlearn: 0.6080469\ttotal: 229ms\tremaining: 21.1s\n",
      "7:\tlearn: 0.5955597\ttotal: 260ms\tremaining: 20.9s\n",
      "8:\tlearn: 0.5849274\ttotal: 290ms\tremaining: 20.7s\n",
      "9:\tlearn: 0.5721821\ttotal: 317ms\tremaining: 20.3s\n",
      "10:\tlearn: 0.5623065\ttotal: 343ms\tremaining: 19.9s\n",
      "11:\tlearn: 0.5516650\ttotal: 370ms\tremaining: 19.7s\n",
      "12:\tlearn: 0.5419122\ttotal: 397ms\tremaining: 19.5s\n",
      "13:\tlearn: 0.5315838\ttotal: 422ms\tremaining: 19.2s\n",
      "14:\tlearn: 0.5219784\ttotal: 450ms\tremaining: 19.1s\n",
      "15:\tlearn: 0.5113101\ttotal: 476ms\tremaining: 18.9s\n",
      "16:\tlearn: 0.5021598\ttotal: 504ms\tremaining: 18.8s\n",
      "17:\tlearn: 0.4928535\ttotal: 530ms\tremaining: 18.6s\n",
      "18:\tlearn: 0.4836105\ttotal: 558ms\tremaining: 18.5s\n",
      "19:\tlearn: 0.4745087\ttotal: 583ms\tremaining: 18.4s\n",
      "20:\tlearn: 0.4663623\ttotal: 609ms\tremaining: 18.3s\n",
      "21:\tlearn: 0.4581913\ttotal: 635ms\tremaining: 18.1s\n",
      "22:\tlearn: 0.4501648\ttotal: 661ms\tremaining: 18.1s\n",
      "23:\tlearn: 0.4420742\ttotal: 716ms\tremaining: 18.7s\n",
      "24:\tlearn: 0.4341268\ttotal: 743ms\tremaining: 18.6s\n",
      "25:\tlearn: 0.4261249\ttotal: 772ms\tremaining: 18.6s\n",
      "26:\tlearn: 0.4191367\ttotal: 801ms\tremaining: 18.5s\n",
      "27:\tlearn: 0.4118630\ttotal: 830ms\tremaining: 18.5s\n",
      "28:\tlearn: 0.4039918\ttotal: 859ms\tremaining: 18.4s\n",
      "29:\tlearn: 0.3969818\ttotal: 889ms\tremaining: 18.4s\n",
      "30:\tlearn: 0.3899543\ttotal: 918ms\tremaining: 18.4s\n",
      "31:\tlearn: 0.3826605\ttotal: 947ms\tremaining: 18.3s\n",
      "32:\tlearn: 0.3761401\ttotal: 977ms\tremaining: 18.3s\n",
      "33:\tlearn: 0.3691052\ttotal: 1.01s\tremaining: 18.3s\n",
      "34:\tlearn: 0.3625179\ttotal: 1.04s\tremaining: 18.2s\n",
      "35:\tlearn: 0.3561004\ttotal: 1.06s\tremaining: 18.2s\n",
      "36:\tlearn: 0.3491160\ttotal: 1.09s\tremaining: 18.2s\n",
      "37:\tlearn: 0.3431741\ttotal: 1.13s\tremaining: 18.2s\n",
      "38:\tlearn: 0.3372180\ttotal: 1.15s\tremaining: 18.1s\n",
      "39:\tlearn: 0.3300110\ttotal: 1.21s\tremaining: 18.5s\n",
      "40:\tlearn: 0.3243744\ttotal: 1.24s\tremaining: 18.4s\n",
      "41:\tlearn: 0.3188679\ttotal: 1.27s\tremaining: 18.4s\n",
      "42:\tlearn: 0.3132578\ttotal: 1.3s\tremaining: 18.4s\n",
      "43:\tlearn: 0.3075791\ttotal: 1.33s\tremaining: 18.3s\n",
      "44:\tlearn: 0.3013361\ttotal: 1.36s\tremaining: 18.3s\n",
      "45:\tlearn: 0.2947247\ttotal: 1.39s\tremaining: 18.3s\n",
      "46:\tlearn: 0.2893169\ttotal: 1.42s\tremaining: 18.2s\n",
      "47:\tlearn: 0.2844007\ttotal: 1.45s\tremaining: 18.2s\n",
      "48:\tlearn: 0.2794225\ttotal: 1.48s\tremaining: 18.1s\n",
      "49:\tlearn: 0.2744976\ttotal: 1.5s\tremaining: 18.1s\n",
      "50:\tlearn: 0.2699084\ttotal: 1.53s\tremaining: 18s\n",
      "51:\tlearn: 0.2651522\ttotal: 1.56s\tremaining: 18s\n",
      "52:\tlearn: 0.2608102\ttotal: 1.59s\tremaining: 18s\n",
      "53:\tlearn: 0.2555006\ttotal: 1.62s\tremaining: 17.9s\n",
      "54:\tlearn: 0.2506005\ttotal: 1.65s\tremaining: 17.9s\n",
      "55:\tlearn: 0.2453646\ttotal: 1.71s\tremaining: 18.1s\n",
      "56:\tlearn: 0.2414574\ttotal: 1.74s\tremaining: 18.1s\n",
      "57:\tlearn: 0.2364911\ttotal: 1.77s\tremaining: 18.1s\n",
      "58:\tlearn: 0.2327111\ttotal: 1.8s\tremaining: 18s\n",
      "59:\tlearn: 0.2289447\ttotal: 1.82s\tremaining: 18s\n",
      "60:\tlearn: 0.2251457\ttotal: 1.85s\tremaining: 17.9s\n",
      "61:\tlearn: 0.2215442\ttotal: 1.88s\tremaining: 17.9s\n",
      "62:\tlearn: 0.2176945\ttotal: 1.91s\tremaining: 17.9s\n",
      "63:\tlearn: 0.2138394\ttotal: 1.94s\tremaining: 17.8s\n",
      "64:\tlearn: 0.2100005\ttotal: 1.97s\tremaining: 17.8s\n",
      "65:\tlearn: 0.2062409\ttotal: 2s\tremaining: 17.7s\n",
      "66:\tlearn: 0.2028820\ttotal: 2.03s\tremaining: 17.7s\n",
      "67:\tlearn: 0.1990559\ttotal: 2.06s\tremaining: 17.7s\n",
      "68:\tlearn: 0.1957231\ttotal: 2.09s\tremaining: 17.6s\n",
      "69:\tlearn: 0.1925867\ttotal: 2.12s\tremaining: 17.6s\n",
      "70:\tlearn: 0.1893759\ttotal: 2.15s\tremaining: 17.6s\n",
      "71:\tlearn: 0.1863707\ttotal: 2.2s\tremaining: 17.7s\n",
      "72:\tlearn: 0.1830640\ttotal: 2.23s\tremaining: 17.7s\n",
      "73:\tlearn: 0.1798026\ttotal: 2.26s\tremaining: 17.6s\n",
      "74:\tlearn: 0.1767778\ttotal: 2.29s\tremaining: 17.6s\n",
      "75:\tlearn: 0.1736475\ttotal: 2.32s\tremaining: 17.6s\n",
      "76:\tlearn: 0.1705362\ttotal: 2.35s\tremaining: 17.5s\n",
      "77:\tlearn: 0.1680322\ttotal: 2.38s\tremaining: 17.5s\n",
      "78:\tlearn: 0.1654928\ttotal: 2.41s\tremaining: 17.4s\n",
      "79:\tlearn: 0.1626013\ttotal: 2.44s\tremaining: 17.4s\n",
      "80:\tlearn: 0.1600385\ttotal: 2.47s\tremaining: 17.4s\n",
      "81:\tlearn: 0.1573307\ttotal: 2.5s\tremaining: 17.3s\n",
      "82:\tlearn: 0.1547994\ttotal: 2.53s\tremaining: 17.3s\n",
      "83:\tlearn: 0.1523976\ttotal: 2.56s\tremaining: 17.3s\n",
      "84:\tlearn: 0.1497220\ttotal: 2.59s\tremaining: 17.2s\n",
      "85:\tlearn: 0.1474730\ttotal: 2.62s\tremaining: 17.2s\n",
      "86:\tlearn: 0.1453497\ttotal: 2.65s\tremaining: 17.1s\n",
      "87:\tlearn: 0.1428997\ttotal: 2.69s\tremaining: 17.2s\n",
      "88:\tlearn: 0.1408180\ttotal: 2.73s\tremaining: 17.2s\n",
      "89:\tlearn: 0.1387331\ttotal: 2.76s\tremaining: 17.2s\n",
      "90:\tlearn: 0.1364658\ttotal: 2.79s\tremaining: 17.2s\n",
      "91:\tlearn: 0.1342948\ttotal: 2.82s\tremaining: 17.1s\n",
      "92:\tlearn: 0.1319833\ttotal: 2.85s\tremaining: 17.1s\n",
      "93:\tlearn: 0.1301988\ttotal: 2.88s\tremaining: 17.1s\n",
      "94:\tlearn: 0.1279863\ttotal: 2.91s\tremaining: 17s\n",
      "95:\tlearn: 0.1260395\ttotal: 2.94s\tremaining: 17s\n",
      "96:\tlearn: 0.1243524\ttotal: 2.97s\tremaining: 16.9s\n",
      "97:\tlearn: 0.1225016\ttotal: 3s\tremaining: 16.9s\n",
      "98:\tlearn: 0.1207250\ttotal: 3.02s\tremaining: 16.9s\n",
      "99:\tlearn: 0.1190888\ttotal: 3.06s\tremaining: 16.8s\n",
      "100:\tlearn: 0.1173503\ttotal: 3.08s\tremaining: 16.8s\n",
      "101:\tlearn: 0.1157446\ttotal: 3.11s\tremaining: 16.8s\n",
      "102:\tlearn: 0.1140412\ttotal: 3.14s\tremaining: 16.7s\n",
      "103:\tlearn: 0.1123344\ttotal: 3.19s\tremaining: 16.8s\n",
      "104:\tlearn: 0.1107432\ttotal: 3.23s\tremaining: 16.8s\n",
      "105:\tlearn: 0.1091077\ttotal: 3.26s\tremaining: 16.7s\n",
      "106:\tlearn: 0.1074670\ttotal: 3.29s\tremaining: 16.7s\n",
      "107:\tlearn: 0.1058462\ttotal: 3.31s\tremaining: 16.7s\n",
      "108:\tlearn: 0.1043363\ttotal: 3.34s\tremaining: 16.6s\n",
      "109:\tlearn: 0.1027881\ttotal: 3.37s\tremaining: 16.6s\n",
      "110:\tlearn: 0.1014196\ttotal: 3.4s\tremaining: 16.6s\n",
      "111:\tlearn: 0.0998859\ttotal: 3.43s\tremaining: 16.5s\n",
      "112:\tlearn: 0.0986518\ttotal: 3.46s\tremaining: 16.5s\n",
      "113:\tlearn: 0.0971166\ttotal: 3.49s\tremaining: 16.4s\n",
      "114:\tlearn: 0.0959934\ttotal: 3.52s\tremaining: 16.4s\n",
      "115:\tlearn: 0.0947320\ttotal: 3.55s\tremaining: 16.4s\n",
      "116:\tlearn: 0.0934250\ttotal: 3.58s\tremaining: 16.3s\n",
      "117:\tlearn: 0.0922038\ttotal: 3.61s\tremaining: 16.3s\n",
      "118:\tlearn: 0.0908042\ttotal: 3.64s\tremaining: 16.3s\n",
      "119:\tlearn: 0.0895573\ttotal: 3.69s\tremaining: 16.3s\n",
      "120:\tlearn: 0.0884815\ttotal: 3.73s\tremaining: 16.3s\n",
      "121:\tlearn: 0.0873110\ttotal: 3.76s\tremaining: 16.3s\n",
      "122:\tlearn: 0.0862439\ttotal: 3.79s\tremaining: 16.3s\n",
      "123:\tlearn: 0.0852738\ttotal: 3.81s\tremaining: 16.2s\n",
      "124:\tlearn: 0.0841883\ttotal: 3.84s\tremaining: 16.2s\n",
      "125:\tlearn: 0.0831095\ttotal: 3.87s\tremaining: 16.1s\n",
      "126:\tlearn: 0.0820034\ttotal: 3.9s\tremaining: 16.1s\n",
      "127:\tlearn: 0.0810614\ttotal: 3.93s\tremaining: 16.1s\n",
      "128:\tlearn: 0.0801332\ttotal: 3.96s\tremaining: 16s\n",
      "129:\tlearn: 0.0791854\ttotal: 3.99s\tremaining: 16s\n",
      "130:\tlearn: 0.0782049\ttotal: 4.02s\tremaining: 16s\n",
      "131:\tlearn: 0.0773865\ttotal: 4.05s\tremaining: 15.9s\n",
      "132:\tlearn: 0.0764222\ttotal: 4.08s\tremaining: 15.9s\n",
      "133:\tlearn: 0.0755975\ttotal: 4.11s\tremaining: 15.8s\n",
      "134:\tlearn: 0.0747333\ttotal: 4.14s\tremaining: 15.8s\n",
      "135:\tlearn: 0.0738081\ttotal: 4.18s\tremaining: 15.8s\n",
      "136:\tlearn: 0.0729609\ttotal: 4.22s\tremaining: 15.8s\n",
      "137:\tlearn: 0.0722210\ttotal: 4.25s\tremaining: 15.8s\n",
      "138:\tlearn: 0.0713860\ttotal: 4.28s\tremaining: 15.8s\n",
      "139:\tlearn: 0.0706006\ttotal: 4.31s\tremaining: 15.7s\n",
      "140:\tlearn: 0.0698083\ttotal: 4.34s\tremaining: 15.7s\n",
      "141:\tlearn: 0.0690406\ttotal: 4.37s\tremaining: 15.7s\n",
      "142:\tlearn: 0.0683088\ttotal: 4.4s\tremaining: 15.6s\n",
      "143:\tlearn: 0.0675858\ttotal: 4.42s\tremaining: 15.6s\n",
      "144:\tlearn: 0.0669109\ttotal: 4.45s\tremaining: 15.5s\n",
      "145:\tlearn: 0.0660140\ttotal: 4.48s\tremaining: 15.5s\n",
      "146:\tlearn: 0.0653865\ttotal: 4.51s\tremaining: 15.5s\n",
      "147:\tlearn: 0.0647474\ttotal: 4.54s\tremaining: 15.4s\n",
      "148:\tlearn: 0.0638982\ttotal: 4.57s\tremaining: 15.4s\n",
      "149:\tlearn: 0.0631147\ttotal: 4.6s\tremaining: 15.4s\n",
      "150:\tlearn: 0.0624240\ttotal: 4.63s\tremaining: 15.3s\n",
      "151:\tlearn: 0.0616563\ttotal: 4.68s\tremaining: 15.4s\n",
      "152:\tlearn: 0.0609687\ttotal: 4.72s\tremaining: 15.4s\n",
      "153:\tlearn: 0.0603867\ttotal: 4.75s\tremaining: 15.3s\n",
      "154:\tlearn: 0.0597991\ttotal: 4.78s\tremaining: 15.3s\n",
      "155:\tlearn: 0.0592024\ttotal: 4.81s\tremaining: 15.3s\n",
      "156:\tlearn: 0.0586369\ttotal: 4.83s\tremaining: 15.2s\n",
      "157:\tlearn: 0.0581084\ttotal: 4.86s\tremaining: 15.2s\n",
      "158:\tlearn: 0.0576333\ttotal: 4.89s\tremaining: 15.1s\n",
      "159:\tlearn: 0.0570476\ttotal: 4.92s\tremaining: 15.1s\n",
      "160:\tlearn: 0.0565567\ttotal: 4.95s\tremaining: 15.1s\n",
      "161:\tlearn: 0.0559112\ttotal: 4.98s\tremaining: 15s\n",
      "162:\tlearn: 0.0553830\ttotal: 5.01s\tremaining: 15s\n",
      "163:\tlearn: 0.0548060\ttotal: 5.04s\tremaining: 15s\n",
      "164:\tlearn: 0.0542713\ttotal: 5.07s\tremaining: 14.9s\n",
      "165:\tlearn: 0.0537702\ttotal: 5.1s\tremaining: 14.9s\n",
      "166:\tlearn: 0.0532002\ttotal: 5.13s\tremaining: 14.9s\n",
      "167:\tlearn: 0.0526226\ttotal: 5.17s\tremaining: 14.9s\n",
      "168:\tlearn: 0.0520919\ttotal: 5.22s\tremaining: 14.9s\n",
      "169:\tlearn: 0.0516933\ttotal: 5.25s\tremaining: 14.8s\n",
      "170:\tlearn: 0.0511847\ttotal: 5.27s\tremaining: 14.8s\n",
      "171:\tlearn: 0.0507537\ttotal: 5.3s\tremaining: 14.8s\n",
      "172:\tlearn: 0.0503074\ttotal: 5.33s\tremaining: 14.7s\n",
      "173:\tlearn: 0.0498580\ttotal: 5.36s\tremaining: 14.7s\n",
      "174:\tlearn: 0.0494269\ttotal: 5.39s\tremaining: 14.7s\n",
      "175:\tlearn: 0.0489760\ttotal: 5.42s\tremaining: 14.6s\n",
      "176:\tlearn: 0.0485832\ttotal: 5.45s\tremaining: 14.6s\n",
      "177:\tlearn: 0.0482109\ttotal: 5.48s\tremaining: 14.6s\n",
      "178:\tlearn: 0.0478161\ttotal: 5.51s\tremaining: 14.5s\n",
      "179:\tlearn: 0.0474200\ttotal: 5.54s\tremaining: 14.5s\n",
      "180:\tlearn: 0.0470500\ttotal: 5.57s\tremaining: 14.5s\n",
      "181:\tlearn: 0.0466309\ttotal: 5.6s\tremaining: 14.4s\n",
      "182:\tlearn: 0.0462610\ttotal: 5.63s\tremaining: 14.4s\n",
      "183:\tlearn: 0.0459083\ttotal: 5.65s\tremaining: 14.3s\n",
      "184:\tlearn: 0.0454106\ttotal: 5.71s\tremaining: 14.4s\n",
      "185:\tlearn: 0.0451035\ttotal: 5.74s\tremaining: 14.4s\n",
      "186:\tlearn: 0.0447499\ttotal: 5.77s\tremaining: 14.3s\n",
      "187:\tlearn: 0.0443737\ttotal: 5.8s\tremaining: 14.3s\n",
      "188:\tlearn: 0.0439286\ttotal: 5.83s\tremaining: 14.3s\n",
      "189:\tlearn: 0.0435209\ttotal: 5.86s\tremaining: 14.2s\n",
      "190:\tlearn: 0.0431959\ttotal: 5.89s\tremaining: 14.2s\n",
      "191:\tlearn: 0.0427122\ttotal: 5.92s\tremaining: 14.2s\n",
      "192:\tlearn: 0.0423961\ttotal: 5.95s\tremaining: 14.1s\n",
      "193:\tlearn: 0.0421118\ttotal: 5.98s\tremaining: 14.1s\n",
      "194:\tlearn: 0.0417595\ttotal: 6.01s\tremaining: 14.1s\n",
      "195:\tlearn: 0.0413823\ttotal: 6.04s\tremaining: 14s\n",
      "196:\tlearn: 0.0410319\ttotal: 6.07s\tremaining: 14s\n",
      "197:\tlearn: 0.0407434\ttotal: 6.1s\tremaining: 13.9s\n",
      "198:\tlearn: 0.0404101\ttotal: 6.13s\tremaining: 13.9s\n",
      "199:\tlearn: 0.0401241\ttotal: 6.15s\tremaining: 13.9s\n",
      "200:\tlearn: 0.0397446\ttotal: 6.21s\tremaining: 13.9s\n",
      "201:\tlearn: 0.0395177\ttotal: 6.24s\tremaining: 13.9s\n",
      "202:\tlearn: 0.0392390\ttotal: 6.27s\tremaining: 13.8s\n",
      "203:\tlearn: 0.0389420\ttotal: 6.3s\tremaining: 13.8s\n",
      "204:\tlearn: 0.0386679\ttotal: 6.33s\tremaining: 13.8s\n",
      "205:\tlearn: 0.0384160\ttotal: 6.36s\tremaining: 13.7s\n",
      "206:\tlearn: 0.0380991\ttotal: 6.39s\tremaining: 13.7s\n",
      "207:\tlearn: 0.0378447\ttotal: 6.42s\tremaining: 13.7s\n",
      "208:\tlearn: 0.0375451\ttotal: 6.45s\tremaining: 13.6s\n",
      "209:\tlearn: 0.0373475\ttotal: 6.48s\tremaining: 13.6s\n",
      "210:\tlearn: 0.0371081\ttotal: 6.51s\tremaining: 13.6s\n",
      "211:\tlearn: 0.0368737\ttotal: 6.54s\tremaining: 13.5s\n",
      "212:\tlearn: 0.0366313\ttotal: 6.57s\tremaining: 13.5s\n",
      "213:\tlearn: 0.0364058\ttotal: 6.59s\tremaining: 13.5s\n",
      "214:\tlearn: 0.0361471\ttotal: 6.63s\tremaining: 13.4s\n",
      "215:\tlearn: 0.0359334\ttotal: 6.65s\tremaining: 13.4s\n",
      "216:\tlearn: 0.0356677\ttotal: 6.71s\tremaining: 13.4s\n",
      "217:\tlearn: 0.0354496\ttotal: 6.74s\tremaining: 13.4s\n",
      "218:\tlearn: 0.0351343\ttotal: 6.77s\tremaining: 13.4s\n",
      "219:\tlearn: 0.0349724\ttotal: 6.8s\tremaining: 13.3s\n",
      "220:\tlearn: 0.0347463\ttotal: 6.83s\tremaining: 13.3s\n",
      "221:\tlearn: 0.0345490\ttotal: 6.86s\tremaining: 13.3s\n",
      "222:\tlearn: 0.0343660\ttotal: 6.89s\tremaining: 13.2s\n",
      "223:\tlearn: 0.0341456\ttotal: 6.92s\tremaining: 13.2s\n",
      "224:\tlearn: 0.0338605\ttotal: 6.95s\tremaining: 13.2s\n",
      "225:\tlearn: 0.0336193\ttotal: 6.97s\tremaining: 13.1s\n",
      "226:\tlearn: 0.0334341\ttotal: 7s\tremaining: 13.1s\n",
      "227:\tlearn: 0.0332205\ttotal: 7.03s\tremaining: 13s\n",
      "228:\tlearn: 0.0330090\ttotal: 7.06s\tremaining: 13s\n",
      "229:\tlearn: 0.0327543\ttotal: 7.09s\tremaining: 13s\n",
      "230:\tlearn: 0.0326076\ttotal: 7.12s\tremaining: 12.9s\n",
      "231:\tlearn: 0.0323910\ttotal: 7.15s\tremaining: 12.9s\n",
      "232:\tlearn: 0.0322149\ttotal: 7.21s\tremaining: 12.9s\n",
      "233:\tlearn: 0.0320482\ttotal: 7.23s\tremaining: 12.9s\n",
      "234:\tlearn: 0.0318558\ttotal: 7.26s\tremaining: 12.9s\n",
      "235:\tlearn: 0.0316954\ttotal: 7.29s\tremaining: 12.8s\n",
      "236:\tlearn: 0.0315076\ttotal: 7.32s\tremaining: 12.8s\n",
      "237:\tlearn: 0.0313851\ttotal: 7.35s\tremaining: 12.8s\n",
      "238:\tlearn: 0.0312104\ttotal: 7.38s\tremaining: 12.7s\n",
      "239:\tlearn: 0.0310250\ttotal: 7.41s\tremaining: 12.7s\n",
      "240:\tlearn: 0.0308470\ttotal: 7.44s\tremaining: 12.7s\n",
      "241:\tlearn: 0.0306753\ttotal: 7.47s\tremaining: 12.6s\n",
      "242:\tlearn: 0.0304675\ttotal: 7.5s\tremaining: 12.6s\n",
      "243:\tlearn: 0.0302670\ttotal: 7.52s\tremaining: 12.6s\n",
      "244:\tlearn: 0.0301067\ttotal: 7.55s\tremaining: 12.5s\n",
      "245:\tlearn: 0.0299666\ttotal: 7.58s\tremaining: 12.5s\n",
      "246:\tlearn: 0.0298045\ttotal: 7.61s\tremaining: 12.5s\n",
      "247:\tlearn: 0.0296553\ttotal: 7.64s\tremaining: 12.4s\n",
      "248:\tlearn: 0.0295027\ttotal: 7.7s\tremaining: 12.4s\n",
      "249:\tlearn: 0.0293613\ttotal: 7.73s\tremaining: 12.4s\n",
      "250:\tlearn: 0.0292157\ttotal: 7.76s\tremaining: 12.4s\n",
      "251:\tlearn: 0.0290817\ttotal: 7.79s\tremaining: 12.3s\n",
      "252:\tlearn: 0.0289340\ttotal: 7.81s\tremaining: 12.3s\n",
      "253:\tlearn: 0.0288124\ttotal: 7.84s\tremaining: 12.3s\n",
      "254:\tlearn: 0.0287183\ttotal: 7.87s\tremaining: 12.2s\n",
      "255:\tlearn: 0.0285479\ttotal: 7.9s\tremaining: 12.2s\n",
      "256:\tlearn: 0.0284423\ttotal: 7.93s\tremaining: 12.2s\n",
      "257:\tlearn: 0.0283399\ttotal: 7.96s\tremaining: 12.1s\n",
      "258:\tlearn: 0.0282144\ttotal: 7.99s\tremaining: 12.1s\n",
      "259:\tlearn: 0.0281138\ttotal: 8.02s\tremaining: 12.1s\n",
      "260:\tlearn: 0.0279698\ttotal: 8.05s\tremaining: 12s\n",
      "261:\tlearn: 0.0278231\ttotal: 8.08s\tremaining: 12s\n",
      "262:\tlearn: 0.0276988\ttotal: 8.11s\tremaining: 12s\n",
      "263:\tlearn: 0.0275848\ttotal: 8.14s\tremaining: 11.9s\n",
      "264:\tlearn: 0.0274841\ttotal: 8.19s\tremaining: 11.9s\n",
      "265:\tlearn: 0.0273274\ttotal: 8.23s\tremaining: 11.9s\n",
      "266:\tlearn: 0.0272073\ttotal: 8.26s\tremaining: 11.9s\n",
      "267:\tlearn: 0.0270919\ttotal: 8.28s\tremaining: 11.8s\n",
      "268:\tlearn: 0.0269230\ttotal: 8.31s\tremaining: 11.8s\n",
      "269:\tlearn: 0.0268473\ttotal: 8.34s\tremaining: 11.8s\n",
      "270:\tlearn: 0.0267185\ttotal: 8.37s\tremaining: 11.7s\n",
      "271:\tlearn: 0.0266085\ttotal: 8.4s\tremaining: 11.7s\n",
      "272:\tlearn: 0.0265137\ttotal: 8.43s\tremaining: 11.7s\n",
      "273:\tlearn: 0.0263538\ttotal: 8.46s\tremaining: 11.6s\n",
      "274:\tlearn: 0.0262386\ttotal: 8.49s\tremaining: 11.6s\n",
      "275:\tlearn: 0.0261458\ttotal: 8.52s\tremaining: 11.6s\n",
      "276:\tlearn: 0.0260726\ttotal: 8.55s\tremaining: 11.5s\n",
      "277:\tlearn: 0.0260025\ttotal: 8.58s\tremaining: 11.5s\n",
      "278:\tlearn: 0.0259292\ttotal: 8.61s\tremaining: 11.5s\n",
      "279:\tlearn: 0.0257419\ttotal: 8.64s\tremaining: 11.4s\n",
      "280:\tlearn: 0.0256511\ttotal: 8.69s\tremaining: 11.4s\n",
      "281:\tlearn: 0.0255722\ttotal: 8.72s\tremaining: 11.4s\n",
      "282:\tlearn: 0.0254875\ttotal: 8.75s\tremaining: 11.4s\n",
      "283:\tlearn: 0.0253221\ttotal: 8.78s\tremaining: 11.3s\n",
      "284:\tlearn: 0.0252348\ttotal: 8.81s\tremaining: 11.3s\n",
      "285:\tlearn: 0.0251416\ttotal: 8.84s\tremaining: 11.3s\n",
      "286:\tlearn: 0.0250602\ttotal: 8.87s\tremaining: 11.3s\n",
      "287:\tlearn: 0.0249763\ttotal: 8.9s\tremaining: 11.2s\n",
      "288:\tlearn: 0.0248339\ttotal: 8.93s\tremaining: 11.2s\n",
      "289:\tlearn: 0.0247398\ttotal: 8.96s\tremaining: 11.2s\n",
      "290:\tlearn: 0.0246302\ttotal: 8.99s\tremaining: 11.1s\n",
      "291:\tlearn: 0.0244620\ttotal: 9.02s\tremaining: 11.1s\n",
      "292:\tlearn: 0.0243596\ttotal: 9.05s\tremaining: 11.1s\n",
      "293:\tlearn: 0.0242369\ttotal: 9.08s\tremaining: 11s\n",
      "294:\tlearn: 0.0241213\ttotal: 9.11s\tremaining: 11s\n",
      "295:\tlearn: 0.0240531\ttotal: 9.14s\tremaining: 11s\n",
      "296:\tlearn: 0.0239594\ttotal: 9.18s\tremaining: 10.9s\n",
      "297:\tlearn: 0.0238322\ttotal: 9.22s\tremaining: 10.9s\n",
      "298:\tlearn: 0.0237751\ttotal: 9.25s\tremaining: 10.9s\n",
      "299:\tlearn: 0.0236470\ttotal: 9.28s\tremaining: 10.9s\n",
      "300:\tlearn: 0.0235461\ttotal: 9.31s\tremaining: 10.8s\n",
      "301:\tlearn: 0.0234542\ttotal: 9.34s\tremaining: 10.8s\n",
      "302:\tlearn: 0.0233696\ttotal: 9.37s\tremaining: 10.8s\n",
      "303:\tlearn: 0.0233094\ttotal: 9.4s\tremaining: 10.7s\n",
      "304:\tlearn: 0.0231957\ttotal: 9.43s\tremaining: 10.7s\n",
      "305:\tlearn: 0.0231143\ttotal: 9.46s\tremaining: 10.7s\n",
      "306:\tlearn: 0.0230476\ttotal: 9.49s\tremaining: 10.6s\n",
      "307:\tlearn: 0.0229693\ttotal: 9.52s\tremaining: 10.6s\n",
      "308:\tlearn: 0.0228549\ttotal: 9.55s\tremaining: 10.6s\n",
      "309:\tlearn: 0.0227883\ttotal: 9.57s\tremaining: 10.5s\n",
      "310:\tlearn: 0.0226913\ttotal: 9.6s\tremaining: 10.5s\n",
      "311:\tlearn: 0.0226166\ttotal: 9.63s\tremaining: 10.5s\n",
      "312:\tlearn: 0.0224928\ttotal: 9.68s\tremaining: 10.5s\n",
      "313:\tlearn: 0.0224236\ttotal: 9.72s\tremaining: 10.4s\n",
      "314:\tlearn: 0.0223586\ttotal: 9.75s\tremaining: 10.4s\n",
      "315:\tlearn: 0.0223026\ttotal: 9.78s\tremaining: 10.4s\n",
      "316:\tlearn: 0.0221840\ttotal: 9.81s\tremaining: 10.3s\n",
      "317:\tlearn: 0.0221356\ttotal: 9.84s\tremaining: 10.3s\n",
      "318:\tlearn: 0.0220500\ttotal: 9.86s\tremaining: 10.3s\n",
      "319:\tlearn: 0.0219812\ttotal: 9.89s\tremaining: 10.2s\n",
      "320:\tlearn: 0.0218645\ttotal: 9.92s\tremaining: 10.2s\n",
      "321:\tlearn: 0.0218167\ttotal: 9.95s\tremaining: 10.2s\n",
      "322:\tlearn: 0.0217483\ttotal: 9.98s\tremaining: 10.1s\n",
      "323:\tlearn: 0.0216554\ttotal: 10s\tremaining: 10.1s\n",
      "324:\tlearn: 0.0216166\ttotal: 10s\tremaining: 10.1s\n",
      "325:\tlearn: 0.0215419\ttotal: 10.1s\tremaining: 10s\n",
      "326:\tlearn: 0.0214810\ttotal: 10.1s\tremaining: 10s\n",
      "327:\tlearn: 0.0214013\ttotal: 10.1s\tremaining: 9.97s\n",
      "328:\tlearn: 0.0213291\ttotal: 10.2s\tremaining: 9.94s\n",
      "329:\tlearn: 0.0212842\ttotal: 10.2s\tremaining: 9.93s\n",
      "330:\tlearn: 0.0212115\ttotal: 10.2s\tremaining: 9.9s\n",
      "331:\tlearn: 0.0211586\ttotal: 10.3s\tremaining: 9.86s\n",
      "332:\tlearn: 0.0210557\ttotal: 10.3s\tremaining: 9.83s\n",
      "333:\tlearn: 0.0209736\ttotal: 10.3s\tremaining: 9.8s\n",
      "334:\tlearn: 0.0209078\ttotal: 10.3s\tremaining: 9.76s\n",
      "335:\tlearn: 0.0208345\ttotal: 10.4s\tremaining: 9.73s\n",
      "336:\tlearn: 0.0207936\ttotal: 10.4s\tremaining: 9.69s\n",
      "337:\tlearn: 0.0207317\ttotal: 10.4s\tremaining: 9.66s\n",
      "338:\tlearn: 0.0206802\ttotal: 10.5s\tremaining: 9.62s\n",
      "339:\tlearn: 0.0206164\ttotal: 10.5s\tremaining: 9.59s\n",
      "340:\tlearn: 0.0205569\ttotal: 10.5s\tremaining: 9.56s\n",
      "341:\tlearn: 0.0205020\ttotal: 10.5s\tremaining: 9.52s\n",
      "342:\tlearn: 0.0204371\ttotal: 10.6s\tremaining: 9.49s\n",
      "343:\tlearn: 0.0203829\ttotal: 10.6s\tremaining: 9.45s\n",
      "344:\tlearn: 0.0203321\ttotal: 10.6s\tremaining: 9.42s\n",
      "345:\tlearn: 0.0202927\ttotal: 10.6s\tremaining: 9.39s\n",
      "346:\tlearn: 0.0202359\ttotal: 10.7s\tremaining: 9.38s\n",
      "347:\tlearn: 0.0201910\ttotal: 10.7s\tremaining: 9.34s\n",
      "348:\tlearn: 0.0201127\ttotal: 10.8s\tremaining: 9.31s\n",
      "349:\tlearn: 0.0200789\ttotal: 10.8s\tremaining: 9.28s\n",
      "350:\tlearn: 0.0200213\ttotal: 10.8s\tremaining: 9.24s\n",
      "351:\tlearn: 0.0199696\ttotal: 10.8s\tremaining: 9.21s\n",
      "352:\tlearn: 0.0199235\ttotal: 10.9s\tremaining: 9.17s\n",
      "353:\tlearn: 0.0198543\ttotal: 10.9s\tremaining: 9.14s\n",
      "354:\tlearn: 0.0197908\ttotal: 10.9s\tremaining: 9.11s\n",
      "355:\tlearn: 0.0197612\ttotal: 10.9s\tremaining: 9.07s\n",
      "356:\tlearn: 0.0197187\ttotal: 11s\tremaining: 9.04s\n",
      "357:\tlearn: 0.0196731\ttotal: 11s\tremaining: 9s\n",
      "358:\tlearn: 0.0196416\ttotal: 11s\tremaining: 8.97s\n",
      "359:\tlearn: 0.0196000\ttotal: 11.1s\tremaining: 8.94s\n",
      "360:\tlearn: 0.0195524\ttotal: 11.1s\tremaining: 8.91s\n",
      "361:\tlearn: 0.0194826\ttotal: 11.1s\tremaining: 8.87s\n",
      "362:\tlearn: 0.0194398\ttotal: 11.1s\tremaining: 8.84s\n",
      "363:\tlearn: 0.0193973\ttotal: 11.2s\tremaining: 8.83s\n",
      "364:\tlearn: 0.0193571\ttotal: 11.2s\tremaining: 8.79s\n",
      "365:\tlearn: 0.0193219\ttotal: 11.3s\tremaining: 8.76s\n",
      "366:\tlearn: 0.0192641\ttotal: 11.3s\tremaining: 8.73s\n",
      "367:\tlearn: 0.0192083\ttotal: 11.3s\tremaining: 8.69s\n",
      "368:\tlearn: 0.0191714\ttotal: 11.3s\tremaining: 8.66s\n",
      "369:\tlearn: 0.0191083\ttotal: 11.4s\tremaining: 8.63s\n",
      "370:\tlearn: 0.0190560\ttotal: 11.4s\tremaining: 8.59s\n",
      "371:\tlearn: 0.0190087\ttotal: 11.4s\tremaining: 8.56s\n",
      "372:\tlearn: 0.0189715\ttotal: 11.4s\tremaining: 8.53s\n",
      "373:\tlearn: 0.0189099\ttotal: 11.5s\tremaining: 8.49s\n",
      "374:\tlearn: 0.0188719\ttotal: 11.5s\tremaining: 8.46s\n",
      "375:\tlearn: 0.0188125\ttotal: 11.5s\tremaining: 8.43s\n",
      "376:\tlearn: 0.0187598\ttotal: 11.6s\tremaining: 8.4s\n",
      "377:\tlearn: 0.0187194\ttotal: 11.6s\tremaining: 8.36s\n",
      "378:\tlearn: 0.0186786\ttotal: 11.6s\tremaining: 8.33s\n",
      "379:\tlearn: 0.0186417\ttotal: 11.6s\tremaining: 8.3s\n",
      "380:\tlearn: 0.0185790\ttotal: 11.7s\tremaining: 8.28s\n",
      "381:\tlearn: 0.0185440\ttotal: 11.7s\tremaining: 8.25s\n",
      "382:\tlearn: 0.0184780\ttotal: 11.7s\tremaining: 8.22s\n",
      "383:\tlearn: 0.0184428\ttotal: 11.8s\tremaining: 8.19s\n",
      "384:\tlearn: 0.0183973\ttotal: 11.8s\tremaining: 8.15s\n",
      "385:\tlearn: 0.0183635\ttotal: 11.8s\tremaining: 8.12s\n",
      "386:\tlearn: 0.0183178\ttotal: 11.9s\tremaining: 8.09s\n",
      "387:\tlearn: 0.0182895\ttotal: 11.9s\tremaining: 8.05s\n",
      "388:\tlearn: 0.0182538\ttotal: 11.9s\tremaining: 8.02s\n",
      "389:\tlearn: 0.0182075\ttotal: 11.9s\tremaining: 7.99s\n",
      "390:\tlearn: 0.0181365\ttotal: 12s\tremaining: 7.96s\n",
      "391:\tlearn: 0.0180866\ttotal: 12s\tremaining: 7.92s\n",
      "392:\tlearn: 0.0180657\ttotal: 12s\tremaining: 7.89s\n",
      "393:\tlearn: 0.0180271\ttotal: 12s\tremaining: 7.86s\n",
      "394:\tlearn: 0.0179695\ttotal: 12.1s\tremaining: 7.83s\n",
      "395:\tlearn: 0.0179381\ttotal: 12.1s\tremaining: 7.79s\n",
      "396:\tlearn: 0.0179026\ttotal: 12.1s\tremaining: 7.76s\n",
      "397:\tlearn: 0.0178518\ttotal: 12.2s\tremaining: 7.74s\n",
      "398:\tlearn: 0.0178229\ttotal: 12.2s\tremaining: 7.71s\n",
      "399:\tlearn: 0.0177719\ttotal: 12.2s\tremaining: 7.68s\n",
      "400:\tlearn: 0.0177454\ttotal: 12.3s\tremaining: 7.65s\n",
      "401:\tlearn: 0.0176944\ttotal: 12.3s\tremaining: 7.61s\n",
      "402:\tlearn: 0.0176537\ttotal: 12.3s\tremaining: 7.58s\n",
      "403:\tlearn: 0.0176077\ttotal: 12.3s\tremaining: 7.55s\n",
      "404:\tlearn: 0.0175796\ttotal: 12.4s\tremaining: 7.52s\n",
      "405:\tlearn: 0.0175405\ttotal: 12.4s\tremaining: 7.48s\n",
      "406:\tlearn: 0.0174951\ttotal: 12.4s\tremaining: 7.45s\n",
      "407:\tlearn: 0.0174488\ttotal: 12.5s\tremaining: 7.42s\n",
      "408:\tlearn: 0.0174239\ttotal: 12.5s\tremaining: 7.39s\n",
      "409:\tlearn: 0.0173996\ttotal: 12.5s\tremaining: 7.35s\n",
      "410:\tlearn: 0.0173786\ttotal: 12.5s\tremaining: 7.32s\n",
      "411:\tlearn: 0.0173379\ttotal: 12.6s\tremaining: 7.29s\n",
      "412:\tlearn: 0.0172771\ttotal: 12.6s\tremaining: 7.26s\n",
      "413:\tlearn: 0.0172411\ttotal: 12.6s\tremaining: 7.22s\n",
      "414:\tlearn: 0.0171974\ttotal: 12.7s\tremaining: 7.2s\n",
      "415:\tlearn: 0.0171682\ttotal: 12.7s\tremaining: 7.18s\n",
      "416:\tlearn: 0.0171119\ttotal: 12.7s\tremaining: 7.14s\n",
      "417:\tlearn: 0.0170844\ttotal: 12.8s\tremaining: 7.11s\n",
      "418:\tlearn: 0.0170542\ttotal: 12.8s\tremaining: 7.08s\n",
      "419:\tlearn: 0.0170088\ttotal: 12.8s\tremaining: 7.05s\n",
      "420:\tlearn: 0.0169812\ttotal: 12.8s\tremaining: 7.02s\n",
      "421:\tlearn: 0.0169322\ttotal: 12.9s\tremaining: 6.98s\n",
      "422:\tlearn: 0.0168841\ttotal: 12.9s\tremaining: 6.95s\n",
      "423:\tlearn: 0.0168526\ttotal: 12.9s\tremaining: 6.92s\n",
      "424:\tlearn: 0.0168036\ttotal: 13s\tremaining: 6.89s\n",
      "425:\tlearn: 0.0167775\ttotal: 13s\tremaining: 6.86s\n",
      "426:\tlearn: 0.0167459\ttotal: 13s\tremaining: 6.82s\n",
      "427:\tlearn: 0.0167221\ttotal: 13s\tremaining: 6.79s\n",
      "428:\tlearn: 0.0166762\ttotal: 13.1s\tremaining: 6.76s\n",
      "429:\tlearn: 0.0166425\ttotal: 13.1s\tremaining: 6.73s\n",
      "430:\tlearn: 0.0166211\ttotal: 13.1s\tremaining: 6.7s\n",
      "431:\tlearn: 0.0165878\ttotal: 13.1s\tremaining: 6.66s\n",
      "432:\tlearn: 0.0165376\ttotal: 13.2s\tremaining: 6.64s\n",
      "433:\tlearn: 0.0164528\ttotal: 13.2s\tremaining: 6.61s\n",
      "434:\tlearn: 0.0164183\ttotal: 13.3s\tremaining: 6.58s\n",
      "435:\tlearn: 0.0163954\ttotal: 13.3s\tremaining: 6.55s\n",
      "436:\tlearn: 0.0163656\ttotal: 13.3s\tremaining: 6.52s\n",
      "437:\tlearn: 0.0163510\ttotal: 13.3s\tremaining: 6.49s\n",
      "438:\tlearn: 0.0163151\ttotal: 13.4s\tremaining: 6.45s\n",
      "439:\tlearn: 0.0162657\ttotal: 13.4s\tremaining: 6.42s\n",
      "440:\tlearn: 0.0162317\ttotal: 13.4s\tremaining: 6.39s\n",
      "441:\tlearn: 0.0162039\ttotal: 13.4s\tremaining: 6.36s\n",
      "442:\tlearn: 0.0161745\ttotal: 13.5s\tremaining: 6.33s\n",
      "443:\tlearn: 0.0161393\ttotal: 13.5s\tremaining: 6.29s\n",
      "444:\tlearn: 0.0161140\ttotal: 13.5s\tremaining: 6.26s\n",
      "445:\tlearn: 0.0160764\ttotal: 13.6s\tremaining: 6.23s\n",
      "446:\tlearn: 0.0160251\ttotal: 13.6s\tremaining: 6.2s\n",
      "447:\tlearn: 0.0160045\ttotal: 13.6s\tremaining: 6.17s\n",
      "448:\tlearn: 0.0159568\ttotal: 13.6s\tremaining: 6.13s\n",
      "449:\tlearn: 0.0159197\ttotal: 13.7s\tremaining: 6.11s\n",
      "450:\tlearn: 0.0158935\ttotal: 13.7s\tremaining: 6.08s\n",
      "451:\tlearn: 0.0158418\ttotal: 13.7s\tremaining: 6.05s\n",
      "452:\tlearn: 0.0158170\ttotal: 13.8s\tremaining: 6.02s\n",
      "453:\tlearn: 0.0157704\ttotal: 13.8s\tremaining: 5.99s\n",
      "454:\tlearn: 0.0157479\ttotal: 13.8s\tremaining: 5.96s\n",
      "455:\tlearn: 0.0157150\ttotal: 13.9s\tremaining: 5.92s\n",
      "456:\tlearn: 0.0156869\ttotal: 13.9s\tremaining: 5.89s\n",
      "457:\tlearn: 0.0156613\ttotal: 13.9s\tremaining: 5.86s\n",
      "458:\tlearn: 0.0156312\ttotal: 13.9s\tremaining: 5.83s\n",
      "459:\tlearn: 0.0155744\ttotal: 14s\tremaining: 5.8s\n",
      "460:\tlearn: 0.0155023\ttotal: 14s\tremaining: 5.76s\n",
      "461:\tlearn: 0.0154555\ttotal: 14s\tremaining: 5.73s\n",
      "462:\tlearn: 0.0154331\ttotal: 14s\tremaining: 5.7s\n",
      "463:\tlearn: 0.0154060\ttotal: 14.1s\tremaining: 5.67s\n",
      "464:\tlearn: 0.0153767\ttotal: 14.1s\tremaining: 5.64s\n",
      "465:\tlearn: 0.0153383\ttotal: 14.1s\tremaining: 5.61s\n",
      "466:\tlearn: 0.0152948\ttotal: 14.2s\tremaining: 5.58s\n",
      "467:\tlearn: 0.0152537\ttotal: 14.2s\tremaining: 5.55s\n",
      "468:\tlearn: 0.0152020\ttotal: 14.2s\tremaining: 5.52s\n",
      "469:\tlearn: 0.0151808\ttotal: 14.3s\tremaining: 5.49s\n",
      "470:\tlearn: 0.0151396\ttotal: 14.3s\tremaining: 5.46s\n",
      "471:\tlearn: 0.0151252\ttotal: 14.3s\tremaining: 5.43s\n",
      "472:\tlearn: 0.0151016\ttotal: 14.3s\tremaining: 5.4s\n",
      "473:\tlearn: 0.0150608\ttotal: 14.4s\tremaining: 5.37s\n",
      "474:\tlearn: 0.0150298\ttotal: 14.4s\tremaining: 5.33s\n",
      "475:\tlearn: 0.0150049\ttotal: 14.4s\tremaining: 5.3s\n",
      "476:\tlearn: 0.0149804\ttotal: 14.5s\tremaining: 5.27s\n",
      "477:\tlearn: 0.0149510\ttotal: 14.5s\tremaining: 5.24s\n",
      "478:\tlearn: 0.0149047\ttotal: 14.5s\tremaining: 5.21s\n",
      "479:\tlearn: 0.0148772\ttotal: 14.5s\tremaining: 5.18s\n",
      "480:\tlearn: 0.0148324\ttotal: 14.6s\tremaining: 5.15s\n",
      "481:\tlearn: 0.0148115\ttotal: 14.6s\tremaining: 5.12s\n",
      "482:\tlearn: 0.0147785\ttotal: 14.6s\tremaining: 5.08s\n",
      "483:\tlearn: 0.0147510\ttotal: 14.7s\tremaining: 5.06s\n",
      "484:\tlearn: 0.0147350\ttotal: 14.7s\tremaining: 5.03s\n",
      "485:\tlearn: 0.0147144\ttotal: 14.7s\tremaining: 5s\n",
      "486:\tlearn: 0.0146938\ttotal: 14.8s\tremaining: 4.97s\n",
      "487:\tlearn: 0.0146593\ttotal: 14.8s\tremaining: 4.94s\n",
      "488:\tlearn: 0.0146111\ttotal: 14.8s\tremaining: 4.91s\n",
      "489:\tlearn: 0.0145875\ttotal: 14.8s\tremaining: 4.88s\n",
      "490:\tlearn: 0.0145583\ttotal: 14.9s\tremaining: 4.84s\n",
      "491:\tlearn: 0.0145366\ttotal: 14.9s\tremaining: 4.81s\n",
      "492:\tlearn: 0.0145185\ttotal: 14.9s\tremaining: 4.78s\n",
      "493:\tlearn: 0.0144878\ttotal: 14.9s\tremaining: 4.75s\n",
      "494:\tlearn: 0.0144467\ttotal: 15s\tremaining: 4.72s\n",
      "495:\tlearn: 0.0144277\ttotal: 15s\tremaining: 4.69s\n",
      "496:\tlearn: 0.0144123\ttotal: 15s\tremaining: 4.66s\n",
      "497:\tlearn: 0.0143756\ttotal: 15.1s\tremaining: 4.63s\n",
      "498:\tlearn: 0.0143437\ttotal: 15.1s\tremaining: 4.59s\n",
      "499:\tlearn: 0.0143048\ttotal: 15.1s\tremaining: 4.56s\n",
      "500:\tlearn: 0.0142724\ttotal: 15.1s\tremaining: 4.53s\n",
      "501:\tlearn: 0.0142495\ttotal: 15.2s\tremaining: 4.51s\n",
      "502:\tlearn: 0.0142200\ttotal: 15.2s\tremaining: 4.48s\n",
      "503:\tlearn: 0.0142093\ttotal: 15.2s\tremaining: 4.45s\n",
      "504:\tlearn: 0.0141700\ttotal: 15.3s\tremaining: 4.42s\n",
      "505:\tlearn: 0.0141405\ttotal: 15.3s\tremaining: 4.38s\n",
      "506:\tlearn: 0.0141264\ttotal: 15.3s\tremaining: 4.35s\n",
      "507:\tlearn: 0.0141114\ttotal: 15.4s\tremaining: 4.32s\n",
      "508:\tlearn: 0.0140861\ttotal: 15.4s\tremaining: 4.29s\n",
      "509:\tlearn: 0.0140530\ttotal: 15.4s\tremaining: 4.26s\n",
      "510:\tlearn: 0.0140271\ttotal: 15.4s\tremaining: 4.23s\n",
      "511:\tlearn: 0.0140001\ttotal: 15.5s\tremaining: 4.2s\n",
      "512:\tlearn: 0.0139752\ttotal: 15.5s\tremaining: 4.17s\n",
      "513:\tlearn: 0.0139431\ttotal: 15.5s\tremaining: 4.14s\n",
      "514:\tlearn: 0.0139306\ttotal: 15.6s\tremaining: 4.11s\n",
      "515:\tlearn: 0.0138932\ttotal: 15.6s\tremaining: 4.08s\n",
      "516:\tlearn: 0.0138583\ttotal: 15.6s\tremaining: 4.04s\n",
      "517:\tlearn: 0.0138353\ttotal: 15.6s\tremaining: 4.01s\n",
      "518:\tlearn: 0.0138011\ttotal: 15.7s\tremaining: 3.99s\n",
      "519:\tlearn: 0.0137677\ttotal: 15.7s\tremaining: 3.96s\n",
      "520:\tlearn: 0.0137448\ttotal: 15.7s\tremaining: 3.93s\n",
      "521:\tlearn: 0.0137216\ttotal: 15.8s\tremaining: 3.9s\n",
      "522:\tlearn: 0.0137057\ttotal: 15.8s\tremaining: 3.87s\n",
      "523:\tlearn: 0.0136808\ttotal: 15.8s\tremaining: 3.83s\n",
      "524:\tlearn: 0.0136639\ttotal: 15.9s\tremaining: 3.8s\n",
      "525:\tlearn: 0.0136384\ttotal: 15.9s\tremaining: 3.77s\n",
      "526:\tlearn: 0.0136154\ttotal: 15.9s\tremaining: 3.74s\n",
      "527:\tlearn: 0.0135964\ttotal: 15.9s\tremaining: 3.71s\n",
      "528:\tlearn: 0.0135718\ttotal: 16s\tremaining: 3.68s\n",
      "529:\tlearn: 0.0135545\ttotal: 16s\tremaining: 3.65s\n",
      "530:\tlearn: 0.0135391\ttotal: 16s\tremaining: 3.62s\n",
      "531:\tlearn: 0.0135214\ttotal: 16s\tremaining: 3.59s\n",
      "532:\tlearn: 0.0135091\ttotal: 16.1s\tremaining: 3.56s\n",
      "533:\tlearn: 0.0134917\ttotal: 16.1s\tremaining: 3.53s\n",
      "534:\tlearn: 0.0134665\ttotal: 16.1s\tremaining: 3.5s\n",
      "535:\tlearn: 0.0134228\ttotal: 16.2s\tremaining: 3.47s\n",
      "536:\tlearn: 0.0134028\ttotal: 16.2s\tremaining: 3.44s\n",
      "537:\tlearn: 0.0133834\ttotal: 16.2s\tremaining: 3.41s\n",
      "538:\tlearn: 0.0133613\ttotal: 16.3s\tremaining: 3.38s\n",
      "539:\tlearn: 0.0133325\ttotal: 16.3s\tremaining: 3.35s\n",
      "540:\tlearn: 0.0133179\ttotal: 16.3s\tremaining: 3.32s\n",
      "541:\tlearn: 0.0132873\ttotal: 16.3s\tremaining: 3.29s\n",
      "542:\tlearn: 0.0132658\ttotal: 16.4s\tremaining: 3.25s\n",
      "543:\tlearn: 0.0132390\ttotal: 16.4s\tremaining: 3.22s\n",
      "544:\tlearn: 0.0131931\ttotal: 16.4s\tremaining: 3.19s\n",
      "545:\tlearn: 0.0131697\ttotal: 16.4s\tremaining: 3.16s\n",
      "546:\tlearn: 0.0131362\ttotal: 16.5s\tremaining: 3.13s\n",
      "547:\tlearn: 0.0131172\ttotal: 16.5s\tremaining: 3.1s\n",
      "548:\tlearn: 0.0130917\ttotal: 16.5s\tremaining: 3.07s\n",
      "549:\tlearn: 0.0130705\ttotal: 16.6s\tremaining: 3.04s\n",
      "550:\tlearn: 0.0130320\ttotal: 16.6s\tremaining: 3.01s\n",
      "551:\tlearn: 0.0130162\ttotal: 16.6s\tremaining: 2.98s\n",
      "552:\tlearn: 0.0129852\ttotal: 16.6s\tremaining: 2.95s\n",
      "553:\tlearn: 0.0129574\ttotal: 16.7s\tremaining: 2.92s\n",
      "554:\tlearn: 0.0129381\ttotal: 16.7s\tremaining: 2.89s\n",
      "555:\tlearn: 0.0129148\ttotal: 16.8s\tremaining: 2.86s\n",
      "556:\tlearn: 0.0128882\ttotal: 16.8s\tremaining: 2.83s\n",
      "557:\tlearn: 0.0128646\ttotal: 16.8s\tremaining: 2.8s\n",
      "558:\tlearn: 0.0128526\ttotal: 16.8s\tremaining: 2.77s\n",
      "559:\tlearn: 0.0128181\ttotal: 16.9s\tremaining: 2.74s\n",
      "560:\tlearn: 0.0127993\ttotal: 16.9s\tremaining: 2.71s\n",
      "561:\tlearn: 0.0127482\ttotal: 16.9s\tremaining: 2.68s\n",
      "562:\tlearn: 0.0127163\ttotal: 16.9s\tremaining: 2.65s\n",
      "563:\tlearn: 0.0126886\ttotal: 17s\tremaining: 2.62s\n",
      "564:\tlearn: 0.0126741\ttotal: 17s\tremaining: 2.59s\n",
      "565:\tlearn: 0.0126600\ttotal: 17s\tremaining: 2.56s\n",
      "566:\tlearn: 0.0126370\ttotal: 17.1s\tremaining: 2.53s\n",
      "567:\tlearn: 0.0126163\ttotal: 17.1s\tremaining: 2.5s\n",
      "568:\tlearn: 0.0126013\ttotal: 17.1s\tremaining: 2.46s\n",
      "569:\tlearn: 0.0125750\ttotal: 17.1s\tremaining: 2.44s\n",
      "570:\tlearn: 0.0125562\ttotal: 17.2s\tremaining: 2.41s\n",
      "571:\tlearn: 0.0125260\ttotal: 17.2s\tremaining: 2.38s\n",
      "572:\tlearn: 0.0125141\ttotal: 17.2s\tremaining: 2.35s\n",
      "573:\tlearn: 0.0125039\ttotal: 17.3s\tremaining: 2.32s\n",
      "574:\tlearn: 0.0124836\ttotal: 17.3s\tremaining: 2.29s\n",
      "575:\tlearn: 0.0124584\ttotal: 17.3s\tremaining: 2.25s\n",
      "576:\tlearn: 0.0124300\ttotal: 17.4s\tremaining: 2.23s\n",
      "577:\tlearn: 0.0124131\ttotal: 17.4s\tremaining: 2.19s\n",
      "578:\tlearn: 0.0123810\ttotal: 17.4s\tremaining: 2.16s\n",
      "579:\tlearn: 0.0123621\ttotal: 17.4s\tremaining: 2.13s\n",
      "580:\tlearn: 0.0123481\ttotal: 17.5s\tremaining: 2.1s\n",
      "581:\tlearn: 0.0123246\ttotal: 17.5s\tremaining: 2.07s\n",
      "582:\tlearn: 0.0123079\ttotal: 17.5s\tremaining: 2.04s\n",
      "583:\tlearn: 0.0122919\ttotal: 17.5s\tremaining: 2.01s\n",
      "584:\tlearn: 0.0122637\ttotal: 17.6s\tremaining: 1.98s\n",
      "585:\tlearn: 0.0122535\ttotal: 17.6s\tremaining: 1.95s\n",
      "586:\tlearn: 0.0122316\ttotal: 17.6s\tremaining: 1.92s\n",
      "587:\tlearn: 0.0122074\ttotal: 17.7s\tremaining: 1.89s\n",
      "588:\tlearn: 0.0121944\ttotal: 17.7s\tremaining: 1.86s\n",
      "589:\tlearn: 0.0121632\ttotal: 17.7s\tremaining: 1.83s\n",
      "590:\tlearn: 0.0121450\ttotal: 17.8s\tremaining: 1.8s\n",
      "591:\tlearn: 0.0121251\ttotal: 17.8s\tremaining: 1.77s\n",
      "592:\tlearn: 0.0121060\ttotal: 17.8s\tremaining: 1.74s\n",
      "593:\tlearn: 0.0120809\ttotal: 17.8s\tremaining: 1.71s\n",
      "594:\tlearn: 0.0120734\ttotal: 17.9s\tremaining: 1.68s\n",
      "595:\tlearn: 0.0120569\ttotal: 17.9s\tremaining: 1.65s\n",
      "596:\tlearn: 0.0120482\ttotal: 17.9s\tremaining: 1.62s\n",
      "597:\tlearn: 0.0120341\ttotal: 17.9s\tremaining: 1.59s\n",
      "598:\tlearn: 0.0120105\ttotal: 18s\tremaining: 1.56s\n",
      "599:\tlearn: 0.0119914\ttotal: 18s\tremaining: 1.53s\n",
      "600:\tlearn: 0.0119791\ttotal: 18s\tremaining: 1.5s\n",
      "601:\tlearn: 0.0119640\ttotal: 18.1s\tremaining: 1.47s\n",
      "602:\tlearn: 0.0119466\ttotal: 18.1s\tremaining: 1.44s\n",
      "603:\tlearn: 0.0119239\ttotal: 18.1s\tremaining: 1.41s\n",
      "604:\tlearn: 0.0119046\ttotal: 18.1s\tremaining: 1.38s\n",
      "605:\tlearn: 0.0118811\ttotal: 18.2s\tremaining: 1.35s\n",
      "606:\tlearn: 0.0118597\ttotal: 18.2s\tremaining: 1.32s\n",
      "607:\tlearn: 0.0118468\ttotal: 18.2s\tremaining: 1.29s\n",
      "608:\tlearn: 0.0118270\ttotal: 18.3s\tremaining: 1.26s\n",
      "609:\tlearn: 0.0118061\ttotal: 18.3s\tremaining: 1.23s\n",
      "610:\tlearn: 0.0117878\ttotal: 18.3s\tremaining: 1.2s\n",
      "611:\tlearn: 0.0117632\ttotal: 18.4s\tremaining: 1.17s\n",
      "612:\tlearn: 0.0117444\ttotal: 18.4s\tremaining: 1.14s\n",
      "613:\tlearn: 0.0117286\ttotal: 18.4s\tremaining: 1.11s\n",
      "614:\tlearn: 0.0117090\ttotal: 18.4s\tremaining: 1.08s\n",
      "615:\tlearn: 0.0116890\ttotal: 18.5s\tremaining: 1.05s\n",
      "616:\tlearn: 0.0116810\ttotal: 18.5s\tremaining: 1.02s\n",
      "617:\tlearn: 0.0116549\ttotal: 18.5s\tremaining: 989ms\n",
      "618:\tlearn: 0.0116330\ttotal: 18.5s\tremaining: 959ms\n",
      "619:\tlearn: 0.0116147\ttotal: 18.6s\tremaining: 929ms\n",
      "620:\tlearn: 0.0115929\ttotal: 18.6s\tremaining: 899ms\n",
      "621:\tlearn: 0.0115688\ttotal: 18.6s\tremaining: 869ms\n",
      "622:\tlearn: 0.0115525\ttotal: 18.7s\tremaining: 839ms\n",
      "623:\tlearn: 0.0115340\ttotal: 18.7s\tremaining: 810ms\n",
      "624:\tlearn: 0.0115053\ttotal: 18.7s\tremaining: 779ms\n",
      "625:\tlearn: 0.0114927\ttotal: 18.8s\tremaining: 749ms\n",
      "626:\tlearn: 0.0114547\ttotal: 18.8s\tremaining: 719ms\n",
      "627:\tlearn: 0.0114409\ttotal: 18.8s\tremaining: 689ms\n",
      "628:\tlearn: 0.0114241\ttotal: 18.8s\tremaining: 659ms\n",
      "629:\tlearn: 0.0114120\ttotal: 18.9s\tremaining: 629ms\n",
      "630:\tlearn: 0.0113881\ttotal: 18.9s\tremaining: 599ms\n",
      "631:\tlearn: 0.0113609\ttotal: 18.9s\tremaining: 569ms\n",
      "632:\tlearn: 0.0113331\ttotal: 19s\tremaining: 539ms\n",
      "633:\tlearn: 0.0113124\ttotal: 19s\tremaining: 509ms\n",
      "634:\tlearn: 0.0112942\ttotal: 19s\tremaining: 479ms\n",
      "635:\tlearn: 0.0112708\ttotal: 19s\tremaining: 449ms\n",
      "636:\tlearn: 0.0112524\ttotal: 19.1s\tremaining: 419ms\n",
      "637:\tlearn: 0.0112366\ttotal: 19.1s\tremaining: 389ms\n",
      "638:\tlearn: 0.0112216\ttotal: 19.1s\tremaining: 359ms\n",
      "639:\tlearn: 0.0112000\ttotal: 19.1s\tremaining: 329ms\n",
      "640:\tlearn: 0.0111869\ttotal: 19.2s\tremaining: 299ms\n",
      "641:\tlearn: 0.0111737\ttotal: 19.2s\tremaining: 270ms\n",
      "642:\tlearn: 0.0111642\ttotal: 19.3s\tremaining: 240ms\n",
      "643:\tlearn: 0.0111464\ttotal: 19.3s\tremaining: 210ms\n",
      "644:\tlearn: 0.0111209\ttotal: 19.3s\tremaining: 180ms\n",
      "645:\tlearn: 0.0111079\ttotal: 19.3s\tremaining: 150ms\n",
      "646:\tlearn: 0.0110905\ttotal: 19.4s\tremaining: 120ms\n",
      "647:\tlearn: 0.0110727\ttotal: 19.4s\tremaining: 89.7ms\n",
      "648:\tlearn: 0.0110573\ttotal: 19.4s\tremaining: 59.8ms\n",
      "649:\tlearn: 0.0110398\ttotal: 19.4s\tremaining: 29.9ms\n",
      "650:\tlearn: 0.0110293\ttotal: 19.5s\tremaining: 0us\n"
     ]
    }
   ],
   "source": [
    "def create_fit_cb(study, x, y):\n",
    "\n",
    "    model = cb.CatBoostClassifier(\n",
    "        **study.best_params,\n",
    "        iterations=study_cb.best_trial.user_attrs['iterations']\n",
    "    )\n",
    "    model.fit(x, y,verbose=True)\n",
    "\n",
    "    return model\n",
    "\n",
    "\n",
    "model_cb = create_fit_cb(study_cb, X_train, y_train)"
   ]
  },
  {
   "cell_type": "code",
   "execution_count": 51,
   "metadata": {},
   "outputs": [
    {
     "name": "stdout",
     "output_type": "stream",
     "text": [
      "-------------------- Evaulation scores --------------------\n",
      "\n",
      "              precision    recall  f1-score   support\n",
      "\n",
      "           0       1.00      1.00      1.00     56864\n",
      "           1       0.84      0.86      0.85        98\n",
      "\n",
      "    accuracy                           1.00     56962\n",
      "   macro avg       0.92      0.93      0.92     56962\n",
      "weighted avg       1.00      1.00      1.00     56962\n",
      "\n",
      "-----------------------------------------------------------\n",
      "AUCPR score: 0.8847\n",
      "\n",
      "-----------------------------------------------------------\n",
      "Metrics when different threshold is used on test data: \n"
     ]
    },
    {
     "data": {
      "text/html": [
       "<div>\n",
       "<style scoped>\n",
       "    .dataframe tbody tr th:only-of-type {\n",
       "        vertical-align: middle;\n",
       "    }\n",
       "\n",
       "    .dataframe tbody tr th {\n",
       "        vertical-align: top;\n",
       "    }\n",
       "\n",
       "    .dataframe thead th {\n",
       "        text-align: right;\n",
       "    }\n",
       "</style>\n",
       "<table border=\"1\" class=\"dataframe\">\n",
       "  <thead>\n",
       "    <tr style=\"text-align: right;\">\n",
       "      <th></th>\n",
       "      <th>threshold</th>\n",
       "      <th>precision</th>\n",
       "      <th>recall</th>\n",
       "      <th>FN</th>\n",
       "      <th>FP</th>\n",
       "      <th>TP</th>\n",
       "      <th>TN</th>\n",
       "    </tr>\n",
       "  </thead>\n",
       "  <tbody>\n",
       "    <tr>\n",
       "      <th>0</th>\n",
       "      <td>0.1</td>\n",
       "      <td>0.939759</td>\n",
       "      <td>0.795918</td>\n",
       "      <td>20</td>\n",
       "      <td>5</td>\n",
       "      <td>78</td>\n",
       "      <td>56859</td>\n",
       "    </tr>\n",
       "    <tr>\n",
       "      <th>1</th>\n",
       "      <td>0.2</td>\n",
       "      <td>0.847826</td>\n",
       "      <td>0.795918</td>\n",
       "      <td>20</td>\n",
       "      <td>14</td>\n",
       "      <td>78</td>\n",
       "      <td>56850</td>\n",
       "    </tr>\n",
       "    <tr>\n",
       "      <th>2</th>\n",
       "      <td>0.3</td>\n",
       "      <td>0.851064</td>\n",
       "      <td>0.816327</td>\n",
       "      <td>18</td>\n",
       "      <td>14</td>\n",
       "      <td>80</td>\n",
       "      <td>56850</td>\n",
       "    </tr>\n",
       "    <tr>\n",
       "      <th>3</th>\n",
       "      <td>0.4</td>\n",
       "      <td>0.838384</td>\n",
       "      <td>0.846939</td>\n",
       "      <td>15</td>\n",
       "      <td>16</td>\n",
       "      <td>83</td>\n",
       "      <td>56848</td>\n",
       "    </tr>\n",
       "    <tr>\n",
       "      <th>4</th>\n",
       "      <td>0.5</td>\n",
       "      <td>0.840000</td>\n",
       "      <td>0.857143</td>\n",
       "      <td>14</td>\n",
       "      <td>16</td>\n",
       "      <td>84</td>\n",
       "      <td>56848</td>\n",
       "    </tr>\n",
       "    <tr>\n",
       "      <th>5</th>\n",
       "      <td>0.6</td>\n",
       "      <td>0.831683</td>\n",
       "      <td>0.857143</td>\n",
       "      <td>14</td>\n",
       "      <td>17</td>\n",
       "      <td>84</td>\n",
       "      <td>56847</td>\n",
       "    </tr>\n",
       "    <tr>\n",
       "      <th>6</th>\n",
       "      <td>0.7</td>\n",
       "      <td>0.796296</td>\n",
       "      <td>0.877551</td>\n",
       "      <td>12</td>\n",
       "      <td>22</td>\n",
       "      <td>86</td>\n",
       "      <td>56842</td>\n",
       "    </tr>\n",
       "    <tr>\n",
       "      <th>7</th>\n",
       "      <td>0.8</td>\n",
       "      <td>0.754386</td>\n",
       "      <td>0.877551</td>\n",
       "      <td>12</td>\n",
       "      <td>28</td>\n",
       "      <td>86</td>\n",
       "      <td>56836</td>\n",
       "    </tr>\n",
       "    <tr>\n",
       "      <th>8</th>\n",
       "      <td>0.9</td>\n",
       "      <td>0.640288</td>\n",
       "      <td>0.908163</td>\n",
       "      <td>9</td>\n",
       "      <td>50</td>\n",
       "      <td>89</td>\n",
       "      <td>56814</td>\n",
       "    </tr>\n",
       "  </tbody>\n",
       "</table>\n",
       "</div>"
      ],
      "text/plain": [
       "   threshold  precision    recall  FN  FP  TP     TN\n",
       "0        0.1   0.939759  0.795918  20   5  78  56859\n",
       "1        0.2   0.847826  0.795918  20  14  78  56850\n",
       "2        0.3   0.851064  0.816327  18  14  80  56850\n",
       "3        0.4   0.838384  0.846939  15  16  83  56848\n",
       "4        0.5   0.840000  0.857143  14  16  84  56848\n",
       "5        0.6   0.831683  0.857143  14  17  84  56847\n",
       "6        0.7   0.796296  0.877551  12  22  86  56842\n",
       "7        0.8   0.754386  0.877551  12  28  86  56836\n",
       "8        0.9   0.640288  0.908163   9  50  89  56814"
      ]
     },
     "metadata": {},
     "output_type": "display_data"
    },
    {
     "name": "stdout",
     "output_type": "stream",
     "text": [
      "\n",
      "\n"
     ]
    },
    {
     "data": {
      "image/png": "[encoded data removed]",
      "text/plain": [
       "<Figure size 500x500 with 1 Axes>"
      ]
     },
     "metadata": {},
     "output_type": "display_data"
    }
   ],
   "source": [
    "result_cb = evaluate_model(model_cb, X_test, y_test)"
   ]
  },
  {
   "cell_type": "code",
   "execution_count": 52,
   "metadata": {},
   "outputs": [],
   "source": [
    "# Saving the model with the best performance\n",
    "model_cb.save_model(os.path.join(FOLDER_TO_SAVE_MODELS,f\"CatBoost-{datetime.now().strftime('%Y%m%d')}\"))\n",
    "\n",
    "# Example to load model\n",
    "# loaded_model_xgb = cb.CatBoostClassifier()\n",
    "# loaded_model_xgb.load_model('model_name')"
   ]
  },
  {
   "cell_type": "code",
   "execution_count": 54,
   "metadata": {},
   "outputs": [],
   "source": [
    "def objective_lgb(\n",
    "        trial,\n",
    "        eval_metric='binary_logloss', \n",
    "        x_train=X_train,\n",
    "        x_test=X_test,\n",
    "        y_train=y_train,\n",
    "        y_test=y_test,\n",
    "        seed=42,\n",
    "        n_folds=3,\n",
    "):\n",
    "    \n",
    "    dtrain = lgb.Dataset(x_train, label=y_train)\n",
    "\n",
    "    pos_weight = np.sqrt(y_train.value_counts()[0] / y_train.value_counts()[1])\n",
    "\n",
    "    params = {\n",
    "        \"objective\": \"binary\",\n",
    "        \"metric\": eval_metric,\n",
    "        \"verbosity\": -1,\n",
    "        \"boosting_type\": \"gbdt\",\n",
    "        # \"max_depth\":trial.suggest_int(\"max_depth\", 2, 10),\n",
    "        \"lambda_l1\": trial.suggest_float(\"lambda_l1\", 1e-8, 10.0, log=True),\n",
    "        \"lambda_l2\": trial.suggest_float(\"lambda_l2\", 1e-8, 10.0, log=True),\n",
    "        \"num_leaves\": trial.suggest_int(\"num_leaves\", 2, 256),\n",
    "        \"feature_fraction\": trial.suggest_float(\"feature_fraction\", 0.4, 1.0),\n",
    "        \"bagging_fraction\": trial.suggest_float(\"bagging_fraction\", 0.4, 1.0),\n",
    "        \"bagging_freq\": trial.suggest_int(\"bagging_freq\", 1, 7),\n",
    "        \"min_child_samples\": trial.suggest_int(\"min_child_samples\", 5, 100),\n",
    "        'device':'gpu',\n",
    "        \"scale_pos_weight\":pos_weight\n",
    "    }\n",
    "\n",
    "\n",
    "    pruning_callback = optuna.integration.LightGBMPruningCallback(trial, f\"valid {eval_metric}\")\n",
    "\n",
    "    lgb_cv_results = lgb.cv(\n",
    "        params=params,\n",
    "        train_set=dtrain,\n",
    "        return_cvbooster=True,\n",
    "        num_boost_round=10000,\n",
    "        callbacks=[pruning_callback, early_stopping(100)],\n",
    "        nfold=n_folds,\n",
    "        stratified=True,\n",
    "        seed=seed\n",
    "    )\n",
    "\n",
    "\n",
    "    # Set n_estimators as a trial attribute; Accessible via study.trials_dataframe().\n",
    "    trial.set_user_attr(\"iterations\", lgb_cv_results[\"cvbooster\"].best_iteration)\n",
    "\n",
    "\n",
    "    best_score = lgb_cv_results[f'valid {eval_metric}-mean'][-1]\n",
    "    return best_score"
   ]
  },
  {
   "cell_type": "code",
   "execution_count": 55,
   "metadata": {},
   "outputs": [
    {
     "name": "stderr",
     "output_type": "stream",
     "text": [
      "[I 2023-10-12 18:39:25,774] A new study created in memory with name: no-name-a30aeaa1-4c76-4352-9ea8-8d7f6d638cc2\n"
     ]
    },
    {
     "name": "stdout",
     "output_type": "stream",
     "text": [
      "Training until validation scores don't improve for 100 rounds\n"
     ]
    },
    {
     "name": "stderr",
     "output_type": "stream",
     "text": [
      "[I 2023-10-12 18:39:35,437] Trial 0 finished with value: 0.12435565691025574 and parameters: {'lambda_l1': 0.025368010474191825, 'lambda_l2': 7.234795521063468e-07, 'num_leaves': 59, 'feature_fraction': 0.5428785129831782, 'bagging_fraction': 0.45521106534768796, 'bagging_freq': 4, 'min_child_samples': 58}. Best is trial 0 with value: 0.12435565691025574.\n"
     ]
    },
    {
     "name": "stdout",
     "output_type": "stream",
     "text": [
      "Early stopping, best iteration is:\n",
      "[2]\tcv_agg's valid binary_logloss: 0.124356 + 0.0134977\n",
      "Training until validation scores don't improve for 100 rounds\n"
     ]
    },
    {
     "name": "stderr",
     "output_type": "stream",
     "text": [
      "[I 2023-10-12 18:40:08,492] Trial 1 finished with value: 0.005083024564757322 and parameters: {'lambda_l1': 1.459630507633882, 'lambda_l2': 1.6355416579886801, 'num_leaves': 40, 'feature_fraction': 0.6682933088743769, 'bagging_fraction': 0.5353219178106631, 'bagging_freq': 5, 'min_child_samples': 23}. Best is trial 1 with value: 0.005083024564757322.\n"
     ]
    },
    {
     "name": "stdout",
     "output_type": "stream",
     "text": [
      "Early stopping, best iteration is:\n",
      "[389]\tcv_agg's valid binary_logloss: 0.00508302 + 0.000475428\n",
      "Training until validation scores don't improve for 100 rounds\n"
     ]
    },
    {
     "name": "stderr",
     "output_type": "stream",
     "text": [
      "[I 2023-10-12 18:40:39,325] Trial 2 finished with value: 0.08333473108033966 and parameters: {'lambda_l1': 0.001639751008831318, 'lambda_l2': 0.00031808205512669295, 'num_leaves': 112, 'feature_fraction': 0.7323396251593399, 'bagging_fraction': 0.48862524067572216, 'bagging_freq': 3, 'min_child_samples': 100}. Best is trial 1 with value: 0.005083024564757322.\n"
     ]
    },
    {
     "name": "stdout",
     "output_type": "stream",
     "text": [
      "Early stopping, best iteration is:\n",
      "[27]\tcv_agg's valid binary_logloss: 0.0833347 + 0.0242188\n",
      "Training until validation scores don't improve for 100 rounds\n"
     ]
    },
    {
     "name": "stderr",
     "output_type": "stream",
     "text": [
      "[I 2023-10-12 18:41:00,240] Trial 3 finished with value: 0.003493516439646569 and parameters: {'lambda_l1': 5.381822997529762, 'lambda_l2': 4.027227743675092, 'num_leaves': 39, 'feature_fraction': 0.6130634081056372, 'bagging_fraction': 0.7619805163613693, 'bagging_freq': 4, 'min_child_samples': 50}. Best is trial 3 with value: 0.003493516439646569.\n"
     ]
    },
    {
     "name": "stdout",
     "output_type": "stream",
     "text": [
      "Early stopping, best iteration is:\n",
      "[388]\tcv_agg's valid binary_logloss: 0.00349352 + 0.000559884\n",
      "Training until validation scores don't improve for 100 rounds\n"
     ]
    },
    {
     "name": "stderr",
     "output_type": "stream",
     "text": [
      "[I 2023-10-12 18:41:19,500] Trial 4 finished with value: 0.08890688725561045 and parameters: {'lambda_l1': 1.3570036488762727e-07, 'lambda_l2': 2.5180848527972203e-07, 'num_leaves': 188, 'feature_fraction': 0.768342826975819, 'bagging_fraction': 0.5921792716463028, 'bagging_freq': 4, 'min_child_samples': 43}. Best is trial 3 with value: 0.003493516439646569.\n"
     ]
    },
    {
     "name": "stdout",
     "output_type": "stream",
     "text": [
      "Early stopping, best iteration is:\n",
      "[2]\tcv_agg's valid binary_logloss: 0.0889069 + 0.00948909\n"
     ]
    },
    {
     "name": "stderr",
     "output_type": "stream",
     "text": [
      "[I 2023-10-12 18:41:19,962] Trial 5 pruned. Trial was pruned at iteration 1.\n"
     ]
    },
    {
     "name": "stdout",
     "output_type": "stream",
     "text": [
      "Training until validation scores don't improve for 100 rounds\n",
      "Training until validation scores don't improve for 100 rounds\n"
     ]
    },
    {
     "name": "stderr",
     "output_type": "stream",
     "text": [
      "[I 2023-10-12 18:41:32,337] Trial 6 finished with value: 0.058543750033171506 and parameters: {'lambda_l1': 6.165877458146238, 'lambda_l2': 0.007347245279681664, 'num_leaves': 12, 'feature_fraction': 0.8940148597162677, 'bagging_fraction': 0.9963866319516612, 'bagging_freq': 3, 'min_child_samples': 79}. Best is trial 3 with value: 0.003493516439646569.\n"
     ]
    },
    {
     "name": "stdout",
     "output_type": "stream",
     "text": [
      "Early stopping, best iteration is:\n",
      "[1]\tcv_agg's valid binary_logloss: 0.0585438 + 0.00232983\n",
      "Training until validation scores don't improve for 100 rounds\n"
     ]
    },
    {
     "name": "stderr",
     "output_type": "stream",
     "text": [
      "[I 2023-10-12 18:42:08,402] Trial 7 pruned. Trial was pruned at iteration 102.\n",
      "[I 2023-10-12 18:42:08,842] Trial 8 pruned. Trial was pruned at iteration 1.\n"
     ]
    },
    {
     "name": "stdout",
     "output_type": "stream",
     "text": [
      "Training until validation scores don't improve for 100 rounds\n",
      "Training until validation scores don't improve for 100 rounds\n"
     ]
    },
    {
     "name": "stderr",
     "output_type": "stream",
     "text": [
      "[I 2023-10-12 18:42:24,315] Trial 9 pruned. Trial was pruned at iteration 102.\n"
     ]
    },
    {
     "name": "stdout",
     "output_type": "stream",
     "text": [
      "Training until validation scores don't improve for 100 rounds\n"
     ]
    },
    {
     "name": "stderr",
     "output_type": "stream",
     "text": [
      "[I 2023-10-12 18:43:52,517] Trial 10 finished with value: 0.003619732318959535 and parameters: {'lambda_l1': 2.3031339656464772e-05, 'lambda_l2': 7.094154276946561, 'num_leaves': 236, 'feature_fraction': 0.4068383253726928, 'bagging_fraction': 0.4036629860420049, 'bagging_freq': 1, 'min_child_samples': 69}. Best is trial 3 with value: 0.003493516439646569.\n"
     ]
    },
    {
     "name": "stdout",
     "output_type": "stream",
     "text": [
      "Early stopping, best iteration is:\n",
      "[342]\tcv_agg's valid binary_logloss: 0.00361973 + 0.000644224\n",
      "Training until validation scores don't improve for 100 rounds\n"
     ]
    },
    {
     "name": "stderr",
     "output_type": "stream",
     "text": [
      "[I 2023-10-12 18:45:18,634] Trial 11 finished with value: 0.003514476260402339 and parameters: {'lambda_l1': 8.797487545914423e-05, 'lambda_l2': 9.46742001252798, 'num_leaves': 244, 'feature_fraction': 0.45129872543263017, 'bagging_fraction': 0.40127475183425443, 'bagging_freq': 1, 'min_child_samples': 73}. Best is trial 3 with value: 0.003493516439646569.\n"
     ]
    },
    {
     "name": "stdout",
     "output_type": "stream",
     "text": [
      "Early stopping, best iteration is:\n",
      "[292]\tcv_agg's valid binary_logloss: 0.00351448 + 0.000512878\n",
      "Training until validation scores don't improve for 100 rounds\n"
     ]
    },
    {
     "name": "stderr",
     "output_type": "stream",
     "text": [
      "[I 2023-10-12 18:46:13,026] Trial 12 finished with value: 0.0032680373535126078 and parameters: {'lambda_l1': 9.673697112875202e-05, 'lambda_l2': 9.914178275772558, 'num_leaves': 246, 'feature_fraction': 0.5709905261456337, 'bagging_fraction': 0.7307804385113605, 'bagging_freq': 2, 'min_child_samples': 88}. Best is trial 12 with value: 0.0032680373535126078.\n"
     ]
    },
    {
     "name": "stdout",
     "output_type": "stream",
     "text": [
      "Early stopping, best iteration is:\n",
      "[200]\tcv_agg's valid binary_logloss: 0.00326804 + 0.00052\n"
     ]
    },
    {
     "name": "stderr",
     "output_type": "stream",
     "text": [
      "[I 2023-10-12 18:46:13,551] Trial 13 pruned. Trial was pruned at iteration 0.\n",
      "[I 2023-10-12 18:46:14,016] Trial 14 pruned. Trial was pruned at iteration 0.\n",
      "[I 2023-10-12 18:46:17,299] Trial 15 pruned. Trial was pruned at iteration 0.\n"
     ]
    },
    {
     "name": "stdout",
     "output_type": "stream",
     "text": [
      "Training until validation scores don't improve for 100 rounds\n"
     ]
    },
    {
     "name": "stderr",
     "output_type": "stream",
     "text": [
      "[I 2023-10-12 18:46:19,593] Trial 16 pruned. Trial was pruned at iteration 9.\n",
      "[I 2023-10-12 18:46:21,768] Trial 17 pruned. Trial was pruned at iteration 0.\n",
      "[I 2023-10-12 18:46:28,454] Trial 18 pruned. Trial was pruned at iteration 0.\n",
      "[I 2023-10-12 18:46:28,955] Trial 19 pruned. Trial was pruned at iteration 0.\n",
      "[I 2023-10-12 18:46:29,700] Trial 20 pruned. Trial was pruned at iteration 0.\n"
     ]
    },
    {
     "name": "stdout",
     "output_type": "stream",
     "text": [
      "Training until validation scores don't improve for 100 rounds\n"
     ]
    },
    {
     "name": "stderr",
     "output_type": "stream",
     "text": [
      "[I 2023-10-12 18:46:59,303] Trial 21 finished with value: 0.003456621071193402 and parameters: {'lambda_l1': 0.00019733877235590468, 'lambda_l2': 9.294350229958114, 'num_leaves': 248, 'feature_fraction': 0.47724500942553794, 'bagging_fraction': 0.7460323810331488, 'bagging_freq': 1, 'min_child_samples': 76}. Best is trial 12 with value: 0.0032680373535126078.\n"
     ]
    },
    {
     "name": "stdout",
     "output_type": "stream",
     "text": [
      "Early stopping, best iteration is:\n",
      "[210]\tcv_agg's valid binary_logloss: 0.00345662 + 0.000506202\n"
     ]
    },
    {
     "name": "stderr",
     "output_type": "stream",
     "text": [
      "[I 2023-10-12 18:46:59,813] Trial 22 pruned. Trial was pruned at iteration 0.\n",
      "[I 2023-10-12 18:47:00,270] Trial 23 pruned. Trial was pruned at iteration 0.\n",
      "[I 2023-10-12 18:47:00,718] Trial 24 pruned. Trial was pruned at iteration 0.\n",
      "[I 2023-10-12 18:47:01,355] Trial 25 pruned. Trial was pruned at iteration 0.\n"
     ]
    },
    {
     "name": "stdout",
     "output_type": "stream",
     "text": [
      "Training until validation scores don't improve for 100 rounds\n"
     ]
    },
    {
     "name": "stderr",
     "output_type": "stream",
     "text": [
      "[I 2023-10-12 18:47:19,435] Trial 26 finished with value: 0.0031973715177970904 and parameters: {'lambda_l1': 0.008376259037270278, 'lambda_l2': 9.721300586303567, 'num_leaves': 254, 'feature_fraction': 0.5396652026281824, 'bagging_fraction': 0.7058147069787218, 'bagging_freq': 6, 'min_child_samples': 51}. Best is trial 26 with value: 0.0031973715177970904.\n"
     ]
    },
    {
     "name": "stdout",
     "output_type": "stream",
     "text": [
      "Early stopping, best iteration is:\n",
      "[185]\tcv_agg's valid binary_logloss: 0.00319737 + 0.000528615\n"
     ]
    },
    {
     "name": "stderr",
     "output_type": "stream",
     "text": [
      "[I 2023-10-12 18:47:19,981] Trial 27 pruned. Trial was pruned at iteration 0.\n",
      "[I 2023-10-12 18:47:20,506] Trial 28 pruned. Trial was pruned at iteration 5.\n"
     ]
    },
    {
     "name": "stdout",
     "output_type": "stream",
     "text": [
      "Training until validation scores don't improve for 100 rounds\n"
     ]
    },
    {
     "name": "stderr",
     "output_type": "stream",
     "text": [
      "[I 2023-10-12 18:47:21,745] Trial 29 pruned. Trial was pruned at iteration 0.\n"
     ]
    },
    {
     "name": "stdout",
     "output_type": "stream",
     "text": [
      "Number of finished trials:  30\n",
      "Best trial:\n",
      "  Value: 0.0031973715177970904\n",
      "  Params: \n",
      "    lambda_l1: 0.008376259037270278\n",
      "    lambda_l2: 9.721300586303567\n",
      "    num_leaves: 254\n",
      "    feature_fraction: 0.5396652026281824\n",
      "    bagging_fraction: 0.7058147069787218\n",
      "    bagging_freq: 6\n",
      "    min_child_samples: 51\n"
     ]
    }
   ],
   "source": [
    "study_lgb = optimize_objective(\n",
    "    objective=objective_lgb,\n",
    "    n_trials=30,\n",
    "    direction=\"minimize\"\n",
    ")"
   ]
  },
  {
   "cell_type": "code",
   "execution_count": 56,
   "metadata": {},
   "outputs": [
    {
     "data": {
      "application/vnd.plotly.v1+json": {
       "config": {
        "plotlyServerURL": "https://plot.ly"
       },
       "data": [
        {
         "mode": "markers",
         "name": "Objective Value",
         "type": "scatter",
         "x": [
          0,
          1,
          2,
          3,
          4,
          6,
          10,
          11,
          12,
          21,
          26
         ],
         "y": [
          0.12435565691025574,
          0.005083024564757322,
          0.08333473108033966,
          0.003493516439646569,
          0.08890688725561045,
          0.058543750033171506,
          0.003619732318959535,
          0.003514476260402339,
          0.0032680373535126078,
          0.003456621071193402,
          0.0031973715177970904
         ]
        },
        {
         "mode": "lines",
         "name": "Best Value",
         "type": "scatter",
         "x": [
          0,
          1,
          2,
          3,
          4,
          5,
          6,
          7,
          8,
          9,
          10,
          11,
          12,
          13,
          14,
          15,
          16,
          17,
          18,
          19,
          20,
          21,
          22,
          23,
          24,
          25,
          26,
          27,
          28,
          29
         ],
         "y": [
          0.12435565691025574,
          0.005083024564757322,
          0.005083024564757322,
          0.003493516439646569,
          0.003493516439646569,
          0.003493516439646569,
          0.003493516439646569,
          0.003493516439646569,
          0.003493516439646569,
          0.003493516439646569,
          0.003493516439646569,
          0.003493516439646569,
          0.0032680373535126078,
          0.0032680373535126078,
          0.0032680373535126078,
          0.0032680373535126078,
          0.0032680373535126078,
          0.0032680373535126078,
          0.0032680373535126078,
          0.0032680373535126078,
          0.0032680373535126078,
          0.0032680373535126078,
          0.0032680373535126078,
          0.0032680373535126078,
          0.0032680373535126078,
          0.0032680373535126078,
          0.0031973715177970904,
          0.0031973715177970904,
          0.0031973715177970904,
          0.0031973715177970904
         ]
        },
        {
         "marker": {
          "color": "#cccccc"
         },
         "mode": "markers",
         "name": "Infeasible Trial",
         "showlegend": false,
         "type": "scatter",
         "x": [],
         "y": []
        }
       ],
       "layout": {
        "template": {
         "data": {
          "bar": [
           {
            "error_x": {
             "color": "#2a3f5f"
            },
            "error_y": {
             "color": "#2a3f5f"
            },
            "marker": {
             "line": {
              "color": "#E5ECF6",
              "width": 0.5
             },
             "pattern": {
              "fillmode": "overlay",
              "size": 10,
              "solidity": 0.2
             }
            },
            "type": "bar"
           }
          ],
          "barpolar": [
           {
            "marker": {
             "line": {
              "color": "#E5ECF6",
              "width": 0.5
             },
             "pattern": {
              "fillmode": "overlay",
              "size": 10,
              "solidity": 0.2
             }
            },
            "type": "barpolar"
           }
          ],
          "carpet": [
           {
            "aaxis": {
             "endlinecolor": "#2a3f5f",
             "gridcolor": "white",
             "linecolor": "white",
             "minorgridcolor": "white",
             "startlinecolor": "#2a3f5f"
            },
            "baxis": {
             "endlinecolor": "#2a3f5f",
             "gridcolor": "white",
             "linecolor": "white",
             "minorgridcolor": "white",
             "startlinecolor": "#2a3f5f"
            },
            "type": "carpet"
           }
          ],
          "choropleth": [
           {
            "colorbar": {
             "outlinewidth": 0,
             "ticks": ""
            },
            "type": "choropleth"
           }
          ],
          "contour": [
           {
            "colorbar": {
             "outlinewidth": 0,
             "ticks": ""
            },
            "colorscale": [
             [
              0,
              "#0d0887"
             ],
             [
              0.1111111111111111,
              "#46039f"
             ],
             [
              0.2222222222222222,
              "#7201a8"
             ],
             [
              0.3333333333333333,
              "#9c179e"
             ],
             [
              0.4444444444444444,
              "#bd3786"
             ],
             [
              0.5555555555555556,
              "#d8576b"
             ],
             [
              0.6666666666666666,
              "#ed7953"
             ],
             [
              0.7777777777777778,
              "#fb9f3a"
             ],
             [
              0.8888888888888888,
              "#fdca26"
             ],
             [
              1,
              "#f0f921"
             ]
            ],
            "type": "contour"
           }
          ],
          "contourcarpet": [
           {
            "colorbar": {
             "outlinewidth": 0,
             "ticks": ""
            },
            "type": "contourcarpet"
           }
          ],
          "heatmap": [
           {
            "colorbar": {
             "outlinewidth": 0,
             "ticks": ""
            },
            "colorscale": [
             [
              0,
              "#0d0887"
             ],
             [
              0.1111111111111111,
              "#46039f"
             ],
             [
              0.2222222222222222,
              "#7201a8"
             ],
             [
              0.3333333333333333,
              "#9c179e"
             ],
             [
              0.4444444444444444,
              "#bd3786"
             ],
             [
              0.5555555555555556,
              "#d8576b"
             ],
             [
              0.6666666666666666,
              "#ed7953"
             ],
             [
              0.7777777777777778,
              "#fb9f3a"
             ],
             [
              0.8888888888888888,
              "#fdca26"
             ],
             [
              1,
              "#f0f921"
             ]
            ],
            "type": "heatmap"
           }
          ],
          "heatmapgl": [
           {
            "colorbar": {
             "outlinewidth": 0,
             "ticks": ""
            },
            "colorscale": [
             [
              0,
              "#0d0887"
             ],
             [
              0.1111111111111111,
              "#46039f"
             ],
             [
              0.2222222222222222,
              "#7201a8"
             ],
             [
              0.3333333333333333,
              "#9c179e"
             ],
             [
              0.4444444444444444,
              "#bd3786"
             ],
             [
              0.5555555555555556,
              "#d8576b"
             ],
             [
              0.6666666666666666,
              "#ed7953"
             ],
             [
              0.7777777777777778,
              "#fb9f3a"
             ],
             [
              0.8888888888888888,
              "#fdca26"
             ],
             [
              1,
              "#f0f921"
             ]
            ],
            "type": "heatmapgl"
           }
          ],
          "histogram": [
           {
            "marker": {
             "pattern": {
              "fillmode": "overlay",
              "size": 10,
              "solidity": 0.2
             }
            },
            "type": "histogram"
           }
          ],
          "histogram2d": [
           {
            "colorbar": {
             "outlinewidth": 0,
             "ticks": ""
            },
            "colorscale": [
             [
              0,
              "#0d0887"
             ],
             [
              0.1111111111111111,
              "#46039f"
             ],
             [
              0.2222222222222222,
              "#7201a8"
             ],
             [
              0.3333333333333333,
              "#9c179e"
             ],
             [
              0.4444444444444444,
              "#bd3786"
             ],
             [
              0.5555555555555556,
              "#d8576b"
             ],
             [
              0.6666666666666666,
              "#ed7953"
             ],
             [
              0.7777777777777778,
              "#fb9f3a"
             ],
             [
              0.8888888888888888,
              "#fdca26"
             ],
             [
              1,
              "#f0f921"
             ]
            ],
            "type": "histogram2d"
           }
          ],
          "histogram2dcontour": [
           {
            "colorbar": {
             "outlinewidth": 0,
             "ticks": ""
            },
            "colorscale": [
             [
              0,
              "#0d0887"
             ],
             [
              0.1111111111111111,
              "#46039f"
             ],
             [
              0.2222222222222222,
              "#7201a8"
             ],
             [
              0.3333333333333333,
              "#9c179e"
             ],
             [
              0.4444444444444444,
              "#bd3786"
             ],
             [
              0.5555555555555556,
              "#d8576b"
             ],
             [
              0.6666666666666666,
              "#ed7953"
             ],
             [
              0.7777777777777778,
              "#fb9f3a"
             ],
             [
              0.8888888888888888,
              "#fdca26"
             ],
             [
              1,
              "#f0f921"
             ]
            ],
            "type": "histogram2dcontour"
           }
          ],
          "mesh3d": [
           {
            "colorbar": {
             "outlinewidth": 0,
             "ticks": ""
            },
            "type": "mesh3d"
           }
          ],
          "parcoords": [
           {
            "line": {
             "colorbar": {
              "outlinewidth": 0,
              "ticks": ""
             }
            },
            "type": "parcoords"
           }
          ],
          "pie": [
           {
            "automargin": true,
            "type": "pie"
           }
          ],
          "scatter": [
           {
            "fillpattern": {
             "fillmode": "overlay",
             "size": 10,
             "solidity": 0.2
            },
            "type": "scatter"
           }
          ],
          "scatter3d": [
           {
            "line": {
             "colorbar": {
              "outlinewidth": 0,
              "ticks": ""
             }
            },
            "marker": {
             "colorbar": {
              "outlinewidth": 0,
              "ticks": ""
             }
            },
            "type": "scatter3d"
           }
          ],
          "scattercarpet": [
           {
            "marker": {
             "colorbar": {
              "outlinewidth": 0,
              "ticks": ""
             }
            },
            "type": "scattercarpet"
           }
          ],
          "scattergeo": [
           {
            "marker": {
             "colorbar": {
              "outlinewidth": 0,
              "ticks": ""
             }
            },
            "type": "scattergeo"
           }
          ],
          "scattergl": [
           {
            "marker": {
             "colorbar": {
              "outlinewidth": 0,
              "ticks": ""
             }
            },
            "type": "scattergl"
           }
          ],
          "scattermapbox": [
           {
            "marker": {
             "colorbar": {
              "outlinewidth": 0,
              "ticks": ""
             }
            },
            "type": "scattermapbox"
           }
          ],
          "scatterpolar": [
           {
            "marker": {
             "colorbar": {
              "outlinewidth": 0,
              "ticks": ""
             }
            },
            "type": "scatterpolar"
           }
          ],
          "scatterpolargl": [
           {
            "marker": {
             "colorbar": {
              "outlinewidth": 0,
              "ticks": ""
             }
            },
            "type": "scatterpolargl"
           }
          ],
          "scatterternary": [
           {
            "marker": {
             "colorbar": {
              "outlinewidth": 0,
              "ticks": ""
             }
            },
            "type": "scatterternary"
           }
          ],
          "surface": [
           {
            "colorbar": {
             "outlinewidth": 0,
             "ticks": ""
            },
            "colorscale": [
             [
              0,
              "#0d0887"
             ],
             [
              0.1111111111111111,
              "#46039f"
             ],
             [
              0.2222222222222222,
              "#7201a8"
             ],
             [
              0.3333333333333333,
              "#9c179e"
             ],
             [
              0.4444444444444444,
              "#bd3786"
             ],
             [
              0.5555555555555556,
              "#d8576b"
             ],
             [
              0.6666666666666666,
              "#ed7953"
             ],
             [
              0.7777777777777778,
              "#fb9f3a"
             ],
             [
              0.8888888888888888,
              "#fdca26"
             ],
             [
              1,
              "#f0f921"
             ]
            ],
            "type": "surface"
           }
          ],
          "table": [
           {
            "cells": {
             "fill": {
              "color": "#EBF0F8"
             },
             "line": {
              "color": "white"
             }
            },
            "header": {
             "fill": {
              "color": "#C8D4E3"
             },
             "line": {
              "color": "white"
             }
            },
            "type": "table"
           }
          ]
         },
         "layout": {
          "annotationdefaults": {
           "arrowcolor": "#2a3f5f",
           "arrowhead": 0,
           "arrowwidth": 1
          },
          "autotypenumbers": "strict",
          "coloraxis": {
           "colorbar": {
            "outlinewidth": 0,
            "ticks": ""
           }
          },
          "colorscale": {
           "diverging": [
            [
             0,
             "#8e0152"
            ],
            [
             0.1,
             "#c51b7d"
            ],
            [
             0.2,
             "#de77ae"
            ],
            [
             0.3,
             "#f1b6da"
            ],
            [
             0.4,
             "#fde0ef"
            ],
            [
             0.5,
             "#f7f7f7"
            ],
            [
             0.6,
             "#e6f5d0"
            ],
            [
             0.7,
             "#b8e186"
            ],
            [
             0.8,
             "#7fbc41"
            ],
            [
             0.9,
             "#4d9221"
            ],
            [
             1,
             "#276419"
            ]
           ],
           "sequential": [
            [
             0,
             "#0d0887"
            ],
            [
             0.1111111111111111,
             "#46039f"
            ],
            [
             0.2222222222222222,
             "#7201a8"
            ],
            [
             0.3333333333333333,
             "#9c179e"
            ],
            [
             0.4444444444444444,
             "#bd3786"
            ],
            [
             0.5555555555555556,
             "#d8576b"
            ],
            [
             0.6666666666666666,
             "#ed7953"
            ],
            [
             0.7777777777777778,
             "#fb9f3a"
            ],
            [
             0.8888888888888888,
             "#fdca26"
            ],
            [
             1,
             "#f0f921"
            ]
           ],
           "sequentialminus": [
            [
             0,
             "#0d0887"
            ],
            [
             0.1111111111111111,
             "#46039f"
            ],
            [
             0.2222222222222222,
             "#7201a8"
            ],
            [
             0.3333333333333333,
             "#9c179e"
            ],
            [
             0.4444444444444444,
             "#bd3786"
            ],
            [
             0.5555555555555556,
             "#d8576b"
            ],
            [
             0.6666666666666666,
             "#ed7953"
            ],
            [
             0.7777777777777778,
             "#fb9f3a"
            ],
            [
             0.8888888888888888,
             "#fdca26"
            ],
            [
             1,
             "#f0f921"
            ]
           ]
          },
          "colorway": [
           "#636efa",
           "#EF553B",
           "#00cc96",
           "#ab63fa",
           "#FFA15A",
           "#19d3f3",
           "#FF6692",
           "#B6E880",
           "#FF97FF",
           "#FECB52"
          ],
          "font": {
           "color": "#2a3f5f"
          },
          "geo": {
           "bgcolor": "white",
           "lakecolor": "white",
           "landcolor": "#E5ECF6",
           "showlakes": true,
           "showland": true,
           "subunitcolor": "white"
          },
          "hoverlabel": {
           "align": "left"
          },
          "hovermode": "closest",
          "mapbox": {
           "style": "light"
          },
          "paper_bgcolor": "white",
          "plot_bgcolor": "#E5ECF6",
          "polar": {
           "angularaxis": {
            "gridcolor": "white",
            "linecolor": "white",
            "ticks": ""
           },
           "bgcolor": "#E5ECF6",
           "radialaxis": {
            "gridcolor": "white",
            "linecolor": "white",
            "ticks": ""
           }
          },
          "scene": {
           "xaxis": {
            "backgroundcolor": "#E5ECF6",
            "gridcolor": "white",
            "gridwidth": 2,
            "linecolor": "white",
            "showbackground": true,
            "ticks": "",
            "zerolinecolor": "white"
           },
           "yaxis": {
            "backgroundcolor": "#E5ECF6",
            "gridcolor": "white",
            "gridwidth": 2,
            "linecolor": "white",
            "showbackground": true,
            "ticks": "",
            "zerolinecolor": "white"
           },
           "zaxis": {
            "backgroundcolor": "#E5ECF6",
            "gridcolor": "white",
            "gridwidth": 2,
            "linecolor": "white",
            "showbackground": true,
            "ticks": "",
            "zerolinecolor": "white"
           }
          },
          "shapedefaults": {
           "line": {
            "color": "#2a3f5f"
           }
          },
          "ternary": {
           "aaxis": {
            "gridcolor": "white",
            "linecolor": "white",
            "ticks": ""
           },
           "baxis": {
            "gridcolor": "white",
            "linecolor": "white",
            "ticks": ""
           },
           "bgcolor": "#E5ECF6",
           "caxis": {
            "gridcolor": "white",
            "linecolor": "white",
            "ticks": ""
           }
          },
          "title": {
           "x": 0.05
          },
          "xaxis": {
           "automargin": true,
           "gridcolor": "white",
           "linecolor": "white",
           "ticks": "",
           "title": {
            "standoff": 15
           },
           "zerolinecolor": "white",
           "zerolinewidth": 2
          },
          "yaxis": {
           "automargin": true,
           "gridcolor": "white",
           "linecolor": "white",
           "ticks": "",
           "title": {
            "standoff": 15
           },
           "zerolinecolor": "white",
           "zerolinewidth": 2
          }
         }
        },
        "title": {
         "text": "Optimization History Plot"
        },
        "xaxis": {
         "title": {
          "text": "Trial"
         }
        },
        "yaxis": {
         "title": {
          "text": "Objective Value"
         }
        }
       }
      }
     },
     "metadata": {},
     "output_type": "display_data"
    }
   ],
   "source": [
    "optuna.visualization.plot_optimization_history(study_lgb)"
   ]
  },
  {
   "cell_type": "code",
   "execution_count": 57,
   "metadata": {},
   "outputs": [],
   "source": [
    "def create_fit_lgb(study, x, y):\n",
    "\n",
    "    model = lgb.LGBMClassifier(\n",
    "        **study.best_params, \n",
    "        n_estimators = study.best_trial.user_attrs['iterations'],\n",
    "        verbosity=-1\n",
    "    )\n",
    "    model.fit(x, y)\n",
    "\n",
    "    return model\n",
    "\n",
    "model_lgb = create_fit_lgb(study_lgb, X_train, y_train)"
   ]
  },
  {
   "cell_type": "code",
   "execution_count": 58,
   "metadata": {},
   "outputs": [
    {
     "name": "stdout",
     "output_type": "stream",
     "text": [
      "-------------------- Evaulation scores --------------------\n",
      "\n",
      "              precision    recall  f1-score   support\n",
      "\n",
      "           0       1.00      1.00      1.00     56864\n",
      "           1       0.95      0.82      0.88        98\n",
      "\n",
      "    accuracy                           1.00     56962\n",
      "   macro avg       0.98      0.91      0.94     56962\n",
      "weighted avg       1.00      1.00      1.00     56962\n",
      "\n",
      "-----------------------------------------------------------\n",
      "AUCPR score: 0.8877\n",
      "\n",
      "-----------------------------------------------------------\n",
      "Metrics when different threshold is used on test data: \n"
     ]
    },
    {
     "data": {
      "text/html": [
       "<div>\n",
       "<style scoped>\n",
       "    .dataframe tbody tr th:only-of-type {\n",
       "        vertical-align: middle;\n",
       "    }\n",
       "\n",
       "    .dataframe tbody tr th {\n",
       "        vertical-align: top;\n",
       "    }\n",
       "\n",
       "    .dataframe thead th {\n",
       "        text-align: right;\n",
       "    }\n",
       "</style>\n",
       "<table border=\"1\" class=\"dataframe\">\n",
       "  <thead>\n",
       "    <tr style=\"text-align: right;\">\n",
       "      <th></th>\n",
       "      <th>threshold</th>\n",
       "      <th>precision</th>\n",
       "      <th>recall</th>\n",
       "      <th>FN</th>\n",
       "      <th>FP</th>\n",
       "      <th>TP</th>\n",
       "      <th>TN</th>\n",
       "    </tr>\n",
       "  </thead>\n",
       "  <tbody>\n",
       "    <tr>\n",
       "      <th>0</th>\n",
       "      <td>0.1</td>\n",
       "      <td>0.986667</td>\n",
       "      <td>0.755102</td>\n",
       "      <td>24</td>\n",
       "      <td>1</td>\n",
       "      <td>74</td>\n",
       "      <td>56863</td>\n",
       "    </tr>\n",
       "    <tr>\n",
       "      <th>1</th>\n",
       "      <td>0.2</td>\n",
       "      <td>0.987013</td>\n",
       "      <td>0.775510</td>\n",
       "      <td>22</td>\n",
       "      <td>1</td>\n",
       "      <td>76</td>\n",
       "      <td>56863</td>\n",
       "    </tr>\n",
       "    <tr>\n",
       "      <th>2</th>\n",
       "      <td>0.3</td>\n",
       "      <td>0.963415</td>\n",
       "      <td>0.806122</td>\n",
       "      <td>19</td>\n",
       "      <td>3</td>\n",
       "      <td>79</td>\n",
       "      <td>56861</td>\n",
       "    </tr>\n",
       "    <tr>\n",
       "      <th>3</th>\n",
       "      <td>0.4</td>\n",
       "      <td>0.963855</td>\n",
       "      <td>0.816327</td>\n",
       "      <td>18</td>\n",
       "      <td>3</td>\n",
       "      <td>80</td>\n",
       "      <td>56861</td>\n",
       "    </tr>\n",
       "    <tr>\n",
       "      <th>4</th>\n",
       "      <td>0.5</td>\n",
       "      <td>0.952381</td>\n",
       "      <td>0.816327</td>\n",
       "      <td>18</td>\n",
       "      <td>4</td>\n",
       "      <td>80</td>\n",
       "      <td>56860</td>\n",
       "    </tr>\n",
       "    <tr>\n",
       "      <th>5</th>\n",
       "      <td>0.6</td>\n",
       "      <td>0.953488</td>\n",
       "      <td>0.836735</td>\n",
       "      <td>16</td>\n",
       "      <td>4</td>\n",
       "      <td>82</td>\n",
       "      <td>56860</td>\n",
       "    </tr>\n",
       "    <tr>\n",
       "      <th>6</th>\n",
       "      <td>0.7</td>\n",
       "      <td>0.942529</td>\n",
       "      <td>0.836735</td>\n",
       "      <td>16</td>\n",
       "      <td>5</td>\n",
       "      <td>82</td>\n",
       "      <td>56859</td>\n",
       "    </tr>\n",
       "    <tr>\n",
       "      <th>7</th>\n",
       "      <td>0.8</td>\n",
       "      <td>0.942529</td>\n",
       "      <td>0.836735</td>\n",
       "      <td>16</td>\n",
       "      <td>5</td>\n",
       "      <td>82</td>\n",
       "      <td>56859</td>\n",
       "    </tr>\n",
       "    <tr>\n",
       "      <th>8</th>\n",
       "      <td>0.9</td>\n",
       "      <td>0.892473</td>\n",
       "      <td>0.846939</td>\n",
       "      <td>15</td>\n",
       "      <td>10</td>\n",
       "      <td>83</td>\n",
       "      <td>56854</td>\n",
       "    </tr>\n",
       "  </tbody>\n",
       "</table>\n",
       "</div>"
      ],
      "text/plain": [
       "   threshold  precision    recall  FN  FP  TP     TN\n",
       "0        0.1   0.986667  0.755102  24   1  74  56863\n",
       "1        0.2   0.987013  0.775510  22   1  76  56863\n",
       "2        0.3   0.963415  0.806122  19   3  79  56861\n",
       "3        0.4   0.963855  0.816327  18   3  80  56861\n",
       "4        0.5   0.952381  0.816327  18   4  80  56860\n",
       "5        0.6   0.953488  0.836735  16   4  82  56860\n",
       "6        0.7   0.942529  0.836735  16   5  82  56859\n",
       "7        0.8   0.942529  0.836735  16   5  82  56859\n",
       "8        0.9   0.892473  0.846939  15  10  83  56854"
      ]
     },
     "metadata": {},
     "output_type": "display_data"
    },
    {
     "name": "stdout",
     "output_type": "stream",
     "text": [
      "\n",
      "\n"
     ]
    },
    {
     "data": {
      "image/png": "[encoded data removed]",
      "text/plain": [
       "<Figure size 500x500 with 1 Axes>"
      ]
     },
     "metadata": {},
     "output_type": "display_data"
    }
   ],
   "source": [
    "result_lgb = evaluate_model(model_lgb, X_test, y_test)"
   ]
  },
  {
   "cell_type": "code",
   "execution_count": 67,
   "metadata": {},
   "outputs": [
    {
     "data": {
      "text/plain": [
       "<lightgbm.basic.Booster at 0x7fc46c550090>"
      ]
     },
     "execution_count": 67,
     "metadata": {},
     "output_type": "execute_result"
    }
   ],
   "source": [
    "model_lgb.booster_.save_model(os.path.join(FOLDER_TO_SAVE_MODELS,f\"LGB-{datetime.now().strftime('%Y%m%d')}.txt\"))\n",
    "\n",
    "# Example to load model\n",
    "# loaded_model_lgb = lgb.Booster(model_file='mode.txt')"
   ]
  },
  {
   "cell_type": "markdown",
   "metadata": {},
   "source": [
    "### Model comparison"
   ]
  },
  {
   "cell_type": "code",
   "execution_count": 59,
   "metadata": {},
   "outputs": [
    {
     "data": {
      "image/png": "[encoded data removed]",
      "text/plain": [
       "<Figure size 640x480 with 1 Axes>"
      ]
     },
     "metadata": {},
     "output_type": "display_data"
    }
   ],
   "source": [
    "results= {\n",
    "    'Random Forest':result_rf,\n",
    "    'XGB':result_xgb,\n",
    "    'CatBoost':result_cb,\n",
    "    'LGBM':result_lgb\n",
    "}\n",
    "\n",
    "f,ax = plt.subplots(1)\n",
    "\n",
    "for result in results.items():\n",
    "    ax.plot(result[1][2], result[1][3], label=result[0])\n",
    "\n",
    "ax.set_xlabel('Recall')\n",
    "ax.set_ylabel('Precision')\n",
    "ax.set_title('Precision-Recall curve')\n",
    "\n",
    "ax.legend(loc='lower left')\n",
    "plt.show()"
   ]
  },
  {
   "cell_type": "code",
   "execution_count": 60,
   "metadata": {},
   "outputs": [
    {
     "data": {
      "text/html": [
       "<div>\n",
       "<style scoped>\n",
       "    .dataframe tbody tr th:only-of-type {\n",
       "        vertical-align: middle;\n",
       "    }\n",
       "\n",
       "    .dataframe tbody tr th {\n",
       "        vertical-align: top;\n",
       "    }\n",
       "\n",
       "    .dataframe thead th {\n",
       "        text-align: right;\n",
       "    }\n",
       "</style>\n",
       "<table border=\"1\" class=\"dataframe\">\n",
       "  <thead>\n",
       "    <tr style=\"text-align: right;\">\n",
       "      <th></th>\n",
       "      <th>AUCPR score</th>\n",
       "    </tr>\n",
       "  </thead>\n",
       "  <tbody>\n",
       "    <tr>\n",
       "      <th>Random Forest</th>\n",
       "      <td>0.884953</td>\n",
       "    </tr>\n",
       "    <tr>\n",
       "      <th>XGB</th>\n",
       "      <td>0.877661</td>\n",
       "    </tr>\n",
       "    <tr>\n",
       "      <th>CatBoost</th>\n",
       "      <td>0.884663</td>\n",
       "    </tr>\n",
       "    <tr>\n",
       "      <th>LGBM</th>\n",
       "      <td>0.887724</td>\n",
       "    </tr>\n",
       "  </tbody>\n",
       "</table>\n",
       "</div>"
      ],
      "text/plain": [
       "               AUCPR score\n",
       "Random Forest     0.884953\n",
       "XGB               0.877661\n",
       "CatBoost          0.884663\n",
       "LGBM              0.887724"
      ]
     },
     "execution_count": 60,
     "metadata": {},
     "output_type": "execute_result"
    }
   ],
   "source": [
    "aucpr_dict = dict()\n",
    "for result in results.items():\n",
    "    aucpr_dict[result[0]] = [result[1][1]]\n",
    "\n",
    "aucpr_df = pd.DataFrame(aucpr_dict).T\n",
    "aucpr_df.columns = ['AUCPR score']\n",
    "aucpr_df"
   ]
  },
  {
   "cell_type": "code",
   "execution_count": 61,
   "metadata": {},
   "outputs": [
    {
     "data": {
      "text/html": [
       "<div>\n",
       "<style scoped>\n",
       "    .dataframe tbody tr th:only-of-type {\n",
       "        vertical-align: middle;\n",
       "    }\n",
       "\n",
       "    .dataframe tbody tr th {\n",
       "        vertical-align: top;\n",
       "    }\n",
       "\n",
       "    .dataframe thead tr th {\n",
       "        text-align: left;\n",
       "    }\n",
       "</style>\n",
       "<table border=\"1\" class=\"dataframe\">\n",
       "  <thead>\n",
       "    <tr>\n",
       "      <th></th>\n",
       "      <th></th>\n",
       "      <th colspan=\"2\" halign=\"left\">Random Forest</th>\n",
       "      <th colspan=\"2\" halign=\"left\">XGB</th>\n",
       "      <th colspan=\"2\" halign=\"left\">CatBoost</th>\n",
       "      <th colspan=\"2\" halign=\"left\">LGBM</th>\n",
       "    </tr>\n",
       "    <tr>\n",
       "      <th></th>\n",
       "      <th>threshold</th>\n",
       "      <th>precision</th>\n",
       "      <th>recall</th>\n",
       "      <th>precision</th>\n",
       "      <th>recall</th>\n",
       "      <th>precision</th>\n",
       "      <th>recall</th>\n",
       "      <th>precision</th>\n",
       "      <th>recall</th>\n",
       "    </tr>\n",
       "  </thead>\n",
       "  <tbody>\n",
       "    <tr>\n",
       "      <th>0</th>\n",
       "      <td>0.1</td>\n",
       "      <td>0.955224</td>\n",
       "      <td>0.653061</td>\n",
       "      <td>0.952381</td>\n",
       "      <td>0.816327</td>\n",
       "      <td>0.939759</td>\n",
       "      <td>0.795918</td>\n",
       "      <td>0.986667</td>\n",
       "      <td>0.755102</td>\n",
       "    </tr>\n",
       "    <tr>\n",
       "      <th>1</th>\n",
       "      <td>0.2</td>\n",
       "      <td>0.961039</td>\n",
       "      <td>0.755102</td>\n",
       "      <td>0.954023</td>\n",
       "      <td>0.846939</td>\n",
       "      <td>0.847826</td>\n",
       "      <td>0.795918</td>\n",
       "      <td>0.987013</td>\n",
       "      <td>0.775510</td>\n",
       "    </tr>\n",
       "    <tr>\n",
       "      <th>2</th>\n",
       "      <td>0.3</td>\n",
       "      <td>0.962500</td>\n",
       "      <td>0.785714</td>\n",
       "      <td>0.913043</td>\n",
       "      <td>0.857143</td>\n",
       "      <td>0.851064</td>\n",
       "      <td>0.816327</td>\n",
       "      <td>0.963415</td>\n",
       "      <td>0.806122</td>\n",
       "    </tr>\n",
       "    <tr>\n",
       "      <th>3</th>\n",
       "      <td>0.4</td>\n",
       "      <td>0.929412</td>\n",
       "      <td>0.806122</td>\n",
       "      <td>0.893617</td>\n",
       "      <td>0.857143</td>\n",
       "      <td>0.838384</td>\n",
       "      <td>0.846939</td>\n",
       "      <td>0.963855</td>\n",
       "      <td>0.816327</td>\n",
       "    </tr>\n",
       "    <tr>\n",
       "      <th>4</th>\n",
       "      <td>0.5</td>\n",
       "      <td>0.892473</td>\n",
       "      <td>0.846939</td>\n",
       "      <td>0.885417</td>\n",
       "      <td>0.867347</td>\n",
       "      <td>0.840000</td>\n",
       "      <td>0.857143</td>\n",
       "      <td>0.952381</td>\n",
       "      <td>0.816327</td>\n",
       "    </tr>\n",
       "    <tr>\n",
       "      <th>5</th>\n",
       "      <td>0.6</td>\n",
       "      <td>0.848485</td>\n",
       "      <td>0.857143</td>\n",
       "      <td>0.817308</td>\n",
       "      <td>0.867347</td>\n",
       "      <td>0.831683</td>\n",
       "      <td>0.857143</td>\n",
       "      <td>0.953488</td>\n",
       "      <td>0.836735</td>\n",
       "    </tr>\n",
       "    <tr>\n",
       "      <th>6</th>\n",
       "      <td>0.7</td>\n",
       "      <td>0.825243</td>\n",
       "      <td>0.867347</td>\n",
       "      <td>0.801887</td>\n",
       "      <td>0.867347</td>\n",
       "      <td>0.796296</td>\n",
       "      <td>0.877551</td>\n",
       "      <td>0.942529</td>\n",
       "      <td>0.836735</td>\n",
       "    </tr>\n",
       "    <tr>\n",
       "      <th>7</th>\n",
       "      <td>0.8</td>\n",
       "      <td>0.781818</td>\n",
       "      <td>0.877551</td>\n",
       "      <td>0.741379</td>\n",
       "      <td>0.877551</td>\n",
       "      <td>0.754386</td>\n",
       "      <td>0.877551</td>\n",
       "      <td>0.942529</td>\n",
       "      <td>0.836735</td>\n",
       "    </tr>\n",
       "    <tr>\n",
       "      <th>8</th>\n",
       "      <td>0.9</td>\n",
       "      <td>0.676923</td>\n",
       "      <td>0.897959</td>\n",
       "      <td>0.639706</td>\n",
       "      <td>0.887755</td>\n",
       "      <td>0.640288</td>\n",
       "      <td>0.908163</td>\n",
       "      <td>0.892473</td>\n",
       "      <td>0.846939</td>\n",
       "    </tr>\n",
       "  </tbody>\n",
       "</table>\n",
       "</div>"
      ],
      "text/plain": [
       "            Random Forest                 XGB            CatBoost            \\\n",
       "  threshold     precision    recall precision    recall precision    recall   \n",
       "0       0.1      0.955224  0.653061  0.952381  0.816327  0.939759  0.795918   \n",
       "1       0.2      0.961039  0.755102  0.954023  0.846939  0.847826  0.795918   \n",
       "2       0.3      0.962500  0.785714  0.913043  0.857143  0.851064  0.816327   \n",
       "3       0.4      0.929412  0.806122  0.893617  0.857143  0.838384  0.846939   \n",
       "4       0.5      0.892473  0.846939  0.885417  0.867347  0.840000  0.857143   \n",
       "5       0.6      0.848485  0.857143  0.817308  0.867347  0.831683  0.857143   \n",
       "6       0.7      0.825243  0.867347  0.801887  0.867347  0.796296  0.877551   \n",
       "7       0.8      0.781818  0.877551  0.741379  0.877551  0.754386  0.877551   \n",
       "8       0.9      0.676923  0.897959  0.639706  0.887755  0.640288  0.908163   \n",
       "\n",
       "       LGBM            \n",
       "  precision    recall  \n",
       "0  0.986667  0.755102  \n",
       "1  0.987013  0.775510  \n",
       "2  0.963415  0.806122  \n",
       "3  0.963855  0.816327  \n",
       "4  0.952381  0.816327  \n",
       "5  0.953488  0.836735  \n",
       "6  0.942529  0.836735  \n",
       "7  0.942529  0.836735  \n",
       "8  0.892473  0.846939  "
      ]
     },
     "execution_count": 61,
     "metadata": {},
     "output_type": "execute_result"
    }
   ],
   "source": [
    "def create_df(results_dict, relevant_cols):\n",
    "    # Initialize an empty dataframe\n",
    "    merged_df = pd.DataFrame()\n",
    "\n",
    "    # Iterate through the list of tuples and merge the dataframes\n",
    "    for name, df in [(result[0], result[1][0]) for result in results_dict.items()]:\n",
    "        if merged_df.empty:\n",
    "            merged_df = df[['threshold']].copy()\n",
    "            merged_df.columns = pd.MultiIndex.from_tuples([('', col) for col in merged_df.columns])\n",
    "        \n",
    "        df = df[relevant_cols]\n",
    "        df.columns = pd.MultiIndex.from_tuples([(name, col) for col in df.columns])\n",
    "        merged_df = merged_df.merge(df, left_index=True, right_index=True, how='outer')\n",
    "        \n",
    "    return merged_df\n",
    "\n",
    "create_df(results_dict=results, relevant_cols=['precision','recall'])    "
   ]
  },
  {
   "cell_type": "code",
   "execution_count": 62,
   "metadata": {},
   "outputs": [
    {
     "data": {
      "text/html": [
       "<div>\n",
       "<style scoped>\n",
       "    .dataframe tbody tr th:only-of-type {\n",
       "        vertical-align: middle;\n",
       "    }\n",
       "\n",
       "    .dataframe tbody tr th {\n",
       "        vertical-align: top;\n",
       "    }\n",
       "\n",
       "    .dataframe thead tr th {\n",
       "        text-align: left;\n",
       "    }\n",
       "</style>\n",
       "<table border=\"1\" class=\"dataframe\">\n",
       "  <thead>\n",
       "    <tr>\n",
       "      <th></th>\n",
       "      <th></th>\n",
       "      <th colspan=\"4\" halign=\"left\">Random Forest</th>\n",
       "      <th colspan=\"4\" halign=\"left\">XGB</th>\n",
       "      <th colspan=\"4\" halign=\"left\">CatBoost</th>\n",
       "      <th colspan=\"4\" halign=\"left\">LGBM</th>\n",
       "    </tr>\n",
       "    <tr>\n",
       "      <th></th>\n",
       "      <th>threshold</th>\n",
       "      <th>FN</th>\n",
       "      <th>FP</th>\n",
       "      <th>TP</th>\n",
       "      <th>TN</th>\n",
       "      <th>FN</th>\n",
       "      <th>FP</th>\n",
       "      <th>TP</th>\n",
       "      <th>TN</th>\n",
       "      <th>FN</th>\n",
       "      <th>FP</th>\n",
       "      <th>TP</th>\n",
       "      <th>TN</th>\n",
       "      <th>FN</th>\n",
       "      <th>FP</th>\n",
       "      <th>TP</th>\n",
       "      <th>TN</th>\n",
       "    </tr>\n",
       "  </thead>\n",
       "  <tbody>\n",
       "    <tr>\n",
       "      <th>0</th>\n",
       "      <td>0.1</td>\n",
       "      <td>34</td>\n",
       "      <td>3</td>\n",
       "      <td>64</td>\n",
       "      <td>56861</td>\n",
       "      <td>18</td>\n",
       "      <td>4</td>\n",
       "      <td>80</td>\n",
       "      <td>56860</td>\n",
       "      <td>20</td>\n",
       "      <td>5</td>\n",
       "      <td>78</td>\n",
       "      <td>56859</td>\n",
       "      <td>24</td>\n",
       "      <td>1</td>\n",
       "      <td>74</td>\n",
       "      <td>56863</td>\n",
       "    </tr>\n",
       "    <tr>\n",
       "      <th>1</th>\n",
       "      <td>0.2</td>\n",
       "      <td>24</td>\n",
       "      <td>3</td>\n",
       "      <td>74</td>\n",
       "      <td>56861</td>\n",
       "      <td>15</td>\n",
       "      <td>4</td>\n",
       "      <td>83</td>\n",
       "      <td>56860</td>\n",
       "      <td>20</td>\n",
       "      <td>14</td>\n",
       "      <td>78</td>\n",
       "      <td>56850</td>\n",
       "      <td>22</td>\n",
       "      <td>1</td>\n",
       "      <td>76</td>\n",
       "      <td>56863</td>\n",
       "    </tr>\n",
       "    <tr>\n",
       "      <th>2</th>\n",
       "      <td>0.3</td>\n",
       "      <td>21</td>\n",
       "      <td>3</td>\n",
       "      <td>77</td>\n",
       "      <td>56861</td>\n",
       "      <td>14</td>\n",
       "      <td>8</td>\n",
       "      <td>84</td>\n",
       "      <td>56856</td>\n",
       "      <td>18</td>\n",
       "      <td>14</td>\n",
       "      <td>80</td>\n",
       "      <td>56850</td>\n",
       "      <td>19</td>\n",
       "      <td>3</td>\n",
       "      <td>79</td>\n",
       "      <td>56861</td>\n",
       "    </tr>\n",
       "    <tr>\n",
       "      <th>3</th>\n",
       "      <td>0.4</td>\n",
       "      <td>19</td>\n",
       "      <td>6</td>\n",
       "      <td>79</td>\n",
       "      <td>56858</td>\n",
       "      <td>14</td>\n",
       "      <td>10</td>\n",
       "      <td>84</td>\n",
       "      <td>56854</td>\n",
       "      <td>15</td>\n",
       "      <td>16</td>\n",
       "      <td>83</td>\n",
       "      <td>56848</td>\n",
       "      <td>18</td>\n",
       "      <td>3</td>\n",
       "      <td>80</td>\n",
       "      <td>56861</td>\n",
       "    </tr>\n",
       "    <tr>\n",
       "      <th>4</th>\n",
       "      <td>0.5</td>\n",
       "      <td>15</td>\n",
       "      <td>10</td>\n",
       "      <td>83</td>\n",
       "      <td>56854</td>\n",
       "      <td>13</td>\n",
       "      <td>11</td>\n",
       "      <td>85</td>\n",
       "      <td>56853</td>\n",
       "      <td>14</td>\n",
       "      <td>16</td>\n",
       "      <td>84</td>\n",
       "      <td>56848</td>\n",
       "      <td>18</td>\n",
       "      <td>4</td>\n",
       "      <td>80</td>\n",
       "      <td>56860</td>\n",
       "    </tr>\n",
       "    <tr>\n",
       "      <th>5</th>\n",
       "      <td>0.6</td>\n",
       "      <td>14</td>\n",
       "      <td>15</td>\n",
       "      <td>84</td>\n",
       "      <td>56849</td>\n",
       "      <td>13</td>\n",
       "      <td>19</td>\n",
       "      <td>85</td>\n",
       "      <td>56845</td>\n",
       "      <td>14</td>\n",
       "      <td>17</td>\n",
       "      <td>84</td>\n",
       "      <td>56847</td>\n",
       "      <td>16</td>\n",
       "      <td>4</td>\n",
       "      <td>82</td>\n",
       "      <td>56860</td>\n",
       "    </tr>\n",
       "    <tr>\n",
       "      <th>6</th>\n",
       "      <td>0.7</td>\n",
       "      <td>13</td>\n",
       "      <td>18</td>\n",
       "      <td>85</td>\n",
       "      <td>56846</td>\n",
       "      <td>13</td>\n",
       "      <td>21</td>\n",
       "      <td>85</td>\n",
       "      <td>56843</td>\n",
       "      <td>12</td>\n",
       "      <td>22</td>\n",
       "      <td>86</td>\n",
       "      <td>56842</td>\n",
       "      <td>16</td>\n",
       "      <td>5</td>\n",
       "      <td>82</td>\n",
       "      <td>56859</td>\n",
       "    </tr>\n",
       "    <tr>\n",
       "      <th>7</th>\n",
       "      <td>0.8</td>\n",
       "      <td>12</td>\n",
       "      <td>24</td>\n",
       "      <td>86</td>\n",
       "      <td>56840</td>\n",
       "      <td>12</td>\n",
       "      <td>30</td>\n",
       "      <td>86</td>\n",
       "      <td>56834</td>\n",
       "      <td>12</td>\n",
       "      <td>28</td>\n",
       "      <td>86</td>\n",
       "      <td>56836</td>\n",
       "      <td>16</td>\n",
       "      <td>5</td>\n",
       "      <td>82</td>\n",
       "      <td>56859</td>\n",
       "    </tr>\n",
       "    <tr>\n",
       "      <th>8</th>\n",
       "      <td>0.9</td>\n",
       "      <td>10</td>\n",
       "      <td>42</td>\n",
       "      <td>88</td>\n",
       "      <td>56822</td>\n",
       "      <td>11</td>\n",
       "      <td>49</td>\n",
       "      <td>87</td>\n",
       "      <td>56815</td>\n",
       "      <td>9</td>\n",
       "      <td>50</td>\n",
       "      <td>89</td>\n",
       "      <td>56814</td>\n",
       "      <td>15</td>\n",
       "      <td>10</td>\n",
       "      <td>83</td>\n",
       "      <td>56854</td>\n",
       "    </tr>\n",
       "  </tbody>\n",
       "</table>\n",
       "</div>"
      ],
      "text/plain": [
       "            Random Forest                XGB                CatBoost          \\\n",
       "  threshold            FN  FP  TP     TN  FN  FP  TP     TN       FN  FP  TP   \n",
       "0       0.1            34   3  64  56861  18   4  80  56860       20   5  78   \n",
       "1       0.2            24   3  74  56861  15   4  83  56860       20  14  78   \n",
       "2       0.3            21   3  77  56861  14   8  84  56856       18  14  80   \n",
       "3       0.4            19   6  79  56858  14  10  84  56854       15  16  83   \n",
       "4       0.5            15  10  83  56854  13  11  85  56853       14  16  84   \n",
       "5       0.6            14  15  84  56849  13  19  85  56845       14  17  84   \n",
       "6       0.7            13  18  85  56846  13  21  85  56843       12  22  86   \n",
       "7       0.8            12  24  86  56840  12  30  86  56834       12  28  86   \n",
       "8       0.9            10  42  88  56822  11  49  87  56815        9  50  89   \n",
       "\n",
       "         LGBM                 \n",
       "      TN   FN  FP  TP     TN  \n",
       "0  56859   24   1  74  56863  \n",
       "1  56850   22   1  76  56863  \n",
       "2  56850   19   3  79  56861  \n",
       "3  56848   18   3  80  56861  \n",
       "4  56848   18   4  80  56860  \n",
       "5  56847   16   4  82  56860  \n",
       "6  56842   16   5  82  56859  \n",
       "7  56836   16   5  82  56859  \n",
       "8  56814   15  10  83  56854  "
      ]
     },
     "execution_count": 62,
     "metadata": {},
     "output_type": "execute_result"
    }
   ],
   "source": [
    "create_df(results_dict=results, relevant_cols=['FN','FP','TP','TN'])    "
   ]
  },
  {
   "cell_type": "code",
   "execution_count": 64,
   "metadata": {},
   "outputs": [
    {
     "data": {
      "application/vnd.plotly.v1+json": {
       "config": {
        "plotlyServerURL": "https://plot.ly"
       },
       "data": [
        {
         "mode": "markers",
         "name": "Random Forest",
         "text": [
          "Random Forest at 0.1 threshold",
          "Random Forest at 0.2 threshold",
          "Random Forest at 0.3 threshold",
          "Random Forest at 0.4 threshold",
          "Random Forest at 0.5 threshold",
          "Random Forest at 0.6 threshold",
          "Random Forest at 0.7 threshold",
          "Random Forest at 0.8 threshold",
          "Random Forest at 0.9 threshold"
         ],
         "type": "scatter",
         "x": [
          3,
          3,
          3,
          6,
          10,
          15,
          18,
          24,
          42
         ],
         "y": [
          34,
          24,
          21,
          19,
          15,
          14,
          13,
          12,
          10
         ]
        },
        {
         "mode": "markers",
         "name": "XGB",
         "text": [
          "XGB at 0.1 threshold",
          "XGB at 0.2 threshold",
          "XGB at 0.3 threshold",
          "XGB at 0.4 threshold",
          "XGB at 0.5 threshold",
          "XGB at 0.6 threshold",
          "XGB at 0.7 threshold",
          "XGB at 0.8 threshold",
          "XGB at 0.9 threshold"
         ],
         "type": "scatter",
         "x": [
          4,
          4,
          8,
          10,
          11,
          19,
          21,
          30,
          49
         ],
         "y": [
          18,
          15,
          14,
          14,
          13,
          13,
          13,
          12,
          11
         ]
        },
        {
         "mode": "markers",
         "name": "CatBoost",
         "text": [
          "CatBoost at 0.1 threshold",
          "CatBoost at 0.2 threshold",
          "CatBoost at 0.3 threshold",
          "CatBoost at 0.4 threshold",
          "CatBoost at 0.5 threshold",
          "CatBoost at 0.6 threshold",
          "CatBoost at 0.7 threshold",
          "CatBoost at 0.8 threshold",
          "CatBoost at 0.9 threshold"
         ],
         "type": "scatter",
         "x": [
          5,
          14,
          14,
          16,
          16,
          17,
          22,
          28,
          50
         ],
         "y": [
          20,
          20,
          18,
          15,
          14,
          14,
          12,
          12,
          9
         ]
        },
        {
         "mode": "markers",
         "name": "LGBM",
         "text": [
          "LGBM at 0.1 threshold",
          "LGBM at 0.2 threshold",
          "LGBM at 0.3 threshold",
          "LGBM at 0.4 threshold",
          "LGBM at 0.5 threshold",
          "LGBM at 0.6 threshold",
          "LGBM at 0.7 threshold",
          "LGBM at 0.8 threshold",
          "LGBM at 0.9 threshold"
         ],
         "type": "scatter",
         "x": [
          1,
          1,
          3,
          3,
          4,
          4,
          5,
          5,
          10
         ],
         "y": [
          24,
          22,
          19,
          18,
          18,
          16,
          16,
          16,
          15
         ]
        }
       ],
       "layout": {
        "height": 600,
        "shapes": [
         {
          "fillcolor": "green",
          "opacity": 0.1,
          "type": "rect",
          "x0": 0,
          "x1": 50,
          "xref": "x",
          "y0": 0,
          "y1": 15,
          "yref": "y"
         },
         {
          "fillcolor": "green",
          "opacity": 0.1,
          "type": "rect",
          "x0": 0,
          "x1": 50,
          "xref": "x",
          "y0": 0,
          "y1": 15,
          "yref": "y"
         },
         {
          "fillcolor": "green",
          "opacity": 0.1,
          "type": "rect",
          "x0": 0,
          "x1": 50,
          "xref": "x",
          "y0": 0,
          "y1": 15,
          "yref": "y"
         },
         {
          "fillcolor": "green",
          "opacity": 0.1,
          "type": "rect",
          "x0": 0,
          "x1": 50,
          "xref": "x",
          "y0": 0,
          "y1": 15,
          "yref": "y"
         }
        ],
        "template": {
         "data": {
          "bar": [
           {
            "error_x": {
             "color": "#2a3f5f"
            },
            "error_y": {
             "color": "#2a3f5f"
            },
            "marker": {
             "line": {
              "color": "#E5ECF6",
              "width": 0.5
             },
             "pattern": {
              "fillmode": "overlay",
              "size": 10,
              "solidity": 0.2
             }
            },
            "type": "bar"
           }
          ],
          "barpolar": [
           {
            "marker": {
             "line": {
              "color": "#E5ECF6",
              "width": 0.5
             },
             "pattern": {
              "fillmode": "overlay",
              "size": 10,
              "solidity": 0.2
             }
            },
            "type": "barpolar"
           }
          ],
          "carpet": [
           {
            "aaxis": {
             "endlinecolor": "#2a3f5f",
             "gridcolor": "white",
             "linecolor": "white",
             "minorgridcolor": "white",
             "startlinecolor": "#2a3f5f"
            },
            "baxis": {
             "endlinecolor": "#2a3f5f",
             "gridcolor": "white",
             "linecolor": "white",
             "minorgridcolor": "white",
             "startlinecolor": "#2a3f5f"
            },
            "type": "carpet"
           }
          ],
          "choropleth": [
           {
            "colorbar": {
             "outlinewidth": 0,
             "ticks": ""
            },
            "type": "choropleth"
           }
          ],
          "contour": [
           {
            "colorbar": {
             "outlinewidth": 0,
             "ticks": ""
            },
            "colorscale": [
             [
              0,
              "#0d0887"
             ],
             [
              0.1111111111111111,
              "#46039f"
             ],
             [
              0.2222222222222222,
              "#7201a8"
             ],
             [
              0.3333333333333333,
              "#9c179e"
             ],
             [
              0.4444444444444444,
              "#bd3786"
             ],
             [
              0.5555555555555556,
              "#d8576b"
             ],
             [
              0.6666666666666666,
              "#ed7953"
             ],
             [
              0.7777777777777778,
              "#fb9f3a"
             ],
             [
              0.8888888888888888,
              "#fdca26"
             ],
             [
              1,
              "#f0f921"
             ]
            ],
            "type": "contour"
           }
          ],
          "contourcarpet": [
           {
            "colorbar": {
             "outlinewidth": 0,
             "ticks": ""
            },
            "type": "contourcarpet"
           }
          ],
          "heatmap": [
           {
            "colorbar": {
             "outlinewidth": 0,
             "ticks": ""
            },
            "colorscale": [
             [
              0,
              "#0d0887"
             ],
             [
              0.1111111111111111,
              "#46039f"
             ],
             [
              0.2222222222222222,
              "#7201a8"
             ],
             [
              0.3333333333333333,
              "#9c179e"
             ],
             [
              0.4444444444444444,
              "#bd3786"
             ],
             [
              0.5555555555555556,
              "#d8576b"
             ],
             [
              0.6666666666666666,
              "#ed7953"
             ],
             [
              0.7777777777777778,
              "#fb9f3a"
             ],
             [
              0.8888888888888888,
              "#fdca26"
             ],
             [
              1,
              "#f0f921"
             ]
            ],
            "type": "heatmap"
           }
          ],
          "heatmapgl": [
           {
            "colorbar": {
             "outlinewidth": 0,
             "ticks": ""
            },
            "colorscale": [
             [
              0,
              "#0d0887"
             ],
             [
              0.1111111111111111,
              "#46039f"
             ],
             [
              0.2222222222222222,
              "#7201a8"
             ],
             [
              0.3333333333333333,
              "#9c179e"
             ],
             [
              0.4444444444444444,
              "#bd3786"
             ],
             [
              0.5555555555555556,
              "#d8576b"
             ],
             [
              0.6666666666666666,
              "#ed7953"
             ],
             [
              0.7777777777777778,
              "#fb9f3a"
             ],
             [
              0.8888888888888888,
              "#fdca26"
             ],
             [
              1,
              "#f0f921"
             ]
            ],
            "type": "heatmapgl"
           }
          ],
          "histogram": [
           {
            "marker": {
             "pattern": {
              "fillmode": "overlay",
              "size": 10,
              "solidity": 0.2
             }
            },
            "type": "histogram"
           }
          ],
          "histogram2d": [
           {
            "colorbar": {
             "outlinewidth": 0,
             "ticks": ""
            },
            "colorscale": [
             [
              0,
              "#0d0887"
             ],
             [
              0.1111111111111111,
              "#46039f"
             ],
             [
              0.2222222222222222,
              "#7201a8"
             ],
             [
              0.3333333333333333,
              "#9c179e"
             ],
             [
              0.4444444444444444,
              "#bd3786"
             ],
             [
              0.5555555555555556,
              "#d8576b"
             ],
             [
              0.6666666666666666,
              "#ed7953"
             ],
             [
              0.7777777777777778,
              "#fb9f3a"
             ],
             [
              0.8888888888888888,
              "#fdca26"
             ],
             [
              1,
              "#f0f921"
             ]
            ],
            "type": "histogram2d"
           }
          ],
          "histogram2dcontour": [
           {
            "colorbar": {
             "outlinewidth": 0,
             "ticks": ""
            },
            "colorscale": [
             [
              0,
              "#0d0887"
             ],
             [
              0.1111111111111111,
              "#46039f"
             ],
             [
              0.2222222222222222,
              "#7201a8"
             ],
             [
              0.3333333333333333,
              "#9c179e"
             ],
             [
              0.4444444444444444,
              "#bd3786"
             ],
             [
              0.5555555555555556,
              "#d8576b"
             ],
             [
              0.6666666666666666,
              "#ed7953"
             ],
             [
              0.7777777777777778,
              "#fb9f3a"
             ],
             [
              0.8888888888888888,
              "#fdca26"
             ],
             [
              1,
              "#f0f921"
             ]
            ],
            "type": "histogram2dcontour"
           }
          ],
          "mesh3d": [
           {
            "colorbar": {
             "outlinewidth": 0,
             "ticks": ""
            },
            "type": "mesh3d"
           }
          ],
          "parcoords": [
           {
            "line": {
             "colorbar": {
              "outlinewidth": 0,
              "ticks": ""
             }
            },
            "type": "parcoords"
           }
          ],
          "pie": [
           {
            "automargin": true,
            "type": "pie"
           }
          ],
          "scatter": [
           {
            "fillpattern": {
             "fillmode": "overlay",
             "size": 10,
             "solidity": 0.2
            },
            "type": "scatter"
           }
          ],
          "scatter3d": [
           {
            "line": {
             "colorbar": {
              "outlinewidth": 0,
              "ticks": ""
             }
            },
            "marker": {
             "colorbar": {
              "outlinewidth": 0,
              "ticks": ""
             }
            },
            "type": "scatter3d"
           }
          ],
          "scattercarpet": [
           {
            "marker": {
             "colorbar": {
              "outlinewidth": 0,
              "ticks": ""
             }
            },
            "type": "scattercarpet"
           }
          ],
          "scattergeo": [
           {
            "marker": {
             "colorbar": {
              "outlinewidth": 0,
              "ticks": ""
             }
            },
            "type": "scattergeo"
           }
          ],
          "scattergl": [
           {
            "marker": {
             "colorbar": {
              "outlinewidth": 0,
              "ticks": ""
             }
            },
            "type": "scattergl"
           }
          ],
          "scattermapbox": [
           {
            "marker": {
             "colorbar": {
              "outlinewidth": 0,
              "ticks": ""
             }
            },
            "type": "scattermapbox"
           }
          ],
          "scatterpolar": [
           {
            "marker": {
             "colorbar": {
              "outlinewidth": 0,
              "ticks": ""
             }
            },
            "type": "scatterpolar"
           }
          ],
          "scatterpolargl": [
           {
            "marker": {
             "colorbar": {
              "outlinewidth": 0,
              "ticks": ""
             }
            },
            "type": "scatterpolargl"
           }
          ],
          "scatterternary": [
           {
            "marker": {
             "colorbar": {
              "outlinewidth": 0,
              "ticks": ""
             }
            },
            "type": "scatterternary"
           }
          ],
          "surface": [
           {
            "colorbar": {
             "outlinewidth": 0,
             "ticks": ""
            },
            "colorscale": [
             [
              0,
              "#0d0887"
             ],
             [
              0.1111111111111111,
              "#46039f"
             ],
             [
              0.2222222222222222,
              "#7201a8"
             ],
             [
              0.3333333333333333,
              "#9c179e"
             ],
             [
              0.4444444444444444,
              "#bd3786"
             ],
             [
              0.5555555555555556,
              "#d8576b"
             ],
             [
              0.6666666666666666,
              "#ed7953"
             ],
             [
              0.7777777777777778,
              "#fb9f3a"
             ],
             [
              0.8888888888888888,
              "#fdca26"
             ],
             [
              1,
              "#f0f921"
             ]
            ],
            "type": "surface"
           }
          ],
          "table": [
           {
            "cells": {
             "fill": {
              "color": "#EBF0F8"
             },
             "line": {
              "color": "white"
             }
            },
            "header": {
             "fill": {
              "color": "#C8D4E3"
             },
             "line": {
              "color": "white"
             }
            },
            "type": "table"
           }
          ]
         },
         "layout": {
          "annotationdefaults": {
           "arrowcolor": "#2a3f5f",
           "arrowhead": 0,
           "arrowwidth": 1
          },
          "autotypenumbers": "strict",
          "coloraxis": {
           "colorbar": {
            "outlinewidth": 0,
            "ticks": ""
           }
          },
          "colorscale": {
           "diverging": [
            [
             0,
             "#8e0152"
            ],
            [
             0.1,
             "#c51b7d"
            ],
            [
             0.2,
             "#de77ae"
            ],
            [
             0.3,
             "#f1b6da"
            ],
            [
             0.4,
             "#fde0ef"
            ],
            [
             0.5,
             "#f7f7f7"
            ],
            [
             0.6,
             "#e6f5d0"
            ],
            [
             0.7,
             "#b8e186"
            ],
            [
             0.8,
             "#7fbc41"
            ],
            [
             0.9,
             "#4d9221"
            ],
            [
             1,
             "#276419"
            ]
           ],
           "sequential": [
            [
             0,
             "#0d0887"
            ],
            [
             0.1111111111111111,
             "#46039f"
            ],
            [
             0.2222222222222222,
             "#7201a8"
            ],
            [
             0.3333333333333333,
             "#9c179e"
            ],
            [
             0.4444444444444444,
             "#bd3786"
            ],
            [
             0.5555555555555556,
             "#d8576b"
            ],
            [
             0.6666666666666666,
             "#ed7953"
            ],
            [
             0.7777777777777778,
             "#fb9f3a"
            ],
            [
             0.8888888888888888,
             "#fdca26"
            ],
            [
             1,
             "#f0f921"
            ]
           ],
           "sequentialminus": [
            [
             0,
             "#0d0887"
            ],
            [
             0.1111111111111111,
             "#46039f"
            ],
            [
             0.2222222222222222,
             "#7201a8"
            ],
            [
             0.3333333333333333,
             "#9c179e"
            ],
            [
             0.4444444444444444,
             "#bd3786"
            ],
            [
             0.5555555555555556,
             "#d8576b"
            ],
            [
             0.6666666666666666,
             "#ed7953"
            ],
            [
             0.7777777777777778,
             "#fb9f3a"
            ],
            [
             0.8888888888888888,
             "#fdca26"
            ],
            [
             1,
             "#f0f921"
            ]
           ]
          },
          "colorway": [
           "#636efa",
           "#EF553B",
           "#00cc96",
           "#ab63fa",
           "#FFA15A",
           "#19d3f3",
           "#FF6692",
           "#B6E880",
           "#FF97FF",
           "#FECB52"
          ],
          "font": {
           "color": "#2a3f5f"
          },
          "geo": {
           "bgcolor": "white",
           "lakecolor": "white",
           "landcolor": "#E5ECF6",
           "showlakes": true,
           "showland": true,
           "subunitcolor": "white"
          },
          "hoverlabel": {
           "align": "left"
          },
          "hovermode": "closest",
          "mapbox": {
           "style": "light"
          },
          "paper_bgcolor": "white",
          "plot_bgcolor": "#E5ECF6",
          "polar": {
           "angularaxis": {
            "gridcolor": "white",
            "linecolor": "white",
            "ticks": ""
           },
           "bgcolor": "#E5ECF6",
           "radialaxis": {
            "gridcolor": "white",
            "linecolor": "white",
            "ticks": ""
           }
          },
          "scene": {
           "xaxis": {
            "backgroundcolor": "#E5ECF6",
            "gridcolor": "white",
            "gridwidth": 2,
            "linecolor": "white",
            "showbackground": true,
            "ticks": "",
            "zerolinecolor": "white"
           },
           "yaxis": {
            "backgroundcolor": "#E5ECF6",
            "gridcolor": "white",
            "gridwidth": 2,
            "linecolor": "white",
            "showbackground": true,
            "ticks": "",
            "zerolinecolor": "white"
           },
           "zaxis": {
            "backgroundcolor": "#E5ECF6",
            "gridcolor": "white",
            "gridwidth": 2,
            "linecolor": "white",
            "showbackground": true,
            "ticks": "",
            "zerolinecolor": "white"
           }
          },
          "shapedefaults": {
           "line": {
            "color": "#2a3f5f"
           }
          },
          "ternary": {
           "aaxis": {
            "gridcolor": "white",
            "linecolor": "white",
            "ticks": ""
           },
           "baxis": {
            "gridcolor": "white",
            "linecolor": "white",
            "ticks": ""
           },
           "bgcolor": "#E5ECF6",
           "caxis": {
            "gridcolor": "white",
            "linecolor": "white",
            "ticks": ""
           }
          },
          "title": {
           "x": 0.05
          },
          "xaxis": {
           "automargin": true,
           "gridcolor": "white",
           "linecolor": "white",
           "ticks": "",
           "title": {
            "standoff": 15
           },
           "zerolinecolor": "white",
           "zerolinewidth": 2
          },
          "yaxis": {
           "automargin": true,
           "gridcolor": "white",
           "linecolor": "white",
           "ticks": "",
           "title": {
            "standoff": 15
           },
           "zerolinecolor": "white",
           "zerolinewidth": 2
          }
         }
        },
        "title": {
         "text": "Scatter Plot"
        },
        "width": 800,
        "xaxis": {
         "title": {
          "text": "FP - incorrectly classified as fraudulent"
         }
        },
        "yaxis": {
         "title": {
          "text": "FN- incorrectly classified as nonfraudulent"
         }
        }
       }
      }
     },
     "metadata": {},
     "output_type": "display_data"
    }
   ],
   "source": [
    "# Create a scatter plot for each dataset\n",
    "fig = go.Figure()\n",
    "\n",
    "\n",
    "for result in results.items():\n",
    "    # Create custom hover text with the additional information\n",
    "    hover_text = [f\"{result[0]} at {info:.1f} threshold\" for info in result[1][0]['threshold']]\n",
    "\n",
    "    fig.add_trace(go.Scatter(\n",
    "        x=result[1][0]['FP'], \n",
    "        y=result[1][0]['FN'], \n",
    "        mode='markers', \n",
    "        name=result[0],\n",
    "        text=hover_text  # Assign the custom hover text here\n",
    "    ))\n",
    "\n",
    "    fig.add_shape(type=\"rect\",\n",
    "    xref=\"x\", yref=\"y\",\n",
    "    x0=0, y0=0,\n",
    "    x1=50, y1=15,\n",
    "    fillcolor=\"green\",\n",
    "    opacity=0.1\n",
    "    )\n",
    "\n",
    "\n",
    "# Customize the layout, axis labels, and size\n",
    "fig.update_layout(\n",
    "    title='Scatter Plot',\n",
    "    xaxis_title='FP - incorrectly classified as fraudulent',\n",
    "    yaxis_title='FN- incorrectly classified as nonfraudulent',\n",
    "    width=800,\n",
    "    height=600\n",
    ")\n",
    "\n",
    "# Show the plot\n",
    "fig.show()\n"
   ]
  },
  {
   "cell_type": "markdown",
   "metadata": {},
   "source": [
    "### Conclusion:\n",
    "\n",
    "We have achieved satisfactory predictive performance using all four models, despite the extremely imbalanced dataset.\n",
    "\n",
    "I've highlighted the promising results on the above plot with a green rectangle based on my intuition. However, our ultimate decision regarding model selection and the threshold could depend on several crucial factors. For example, in a real-world scenario, the cost of misclassifying a fraudulent case as non-fraudulent may be significantly higher than misclassifying a non-fraudulent case as fraudulent. In such cases, further fine-tuning of the models is necessary, with a greater emphasis on recall rather than the overall AUCPR score.\""
   ]
  }
 ],
 "metadata": {
  "kernelspec": {
   "display_name": "venv-data-analysis",
   "language": "python",
   "name": "python3"
  },
  "language_info": {
   "codemirror_mode": {
    "name": "ipython",
    "version": 3
   },
   "file_extension": ".py",
   "mimetype": "text/x-python",
   "name": "python",
   "nbconvert_exporter": "python",
   "pygments_lexer": "ipython3",
   "version": "3.11.5"
  },
  "orig_nbformat": 4
 },
 "nbformat": 4,
 "nbformat_minor": 2
}
