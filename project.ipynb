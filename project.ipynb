{
 "cells": [
  {
   "cell_type": "code",
   "execution_count": 42,
   "metadata": {},
   "outputs": [
    {
     "data": {
      "text/html": [
       "        <script type=\"text/javascript\">\n",
       "        window.PlotlyConfig = {MathJaxConfig: 'local'};\n",
       "        if (window.MathJax && window.MathJax.Hub && window.MathJax.Hub.Config) {window.MathJax.Hub.Config({SVG: {font: \"STIX-Web\"}});}\n",
       "        if (typeof require !== 'undefined') {\n",
       "        require.undef(\"plotly\");\n",
       "        requirejs.config({\n",
       "            paths: {\n",
       "                'plotly': ['https://cdn.plot.ly/plotly-2.24.1.min']\n",
       "            }\n",
       "        });\n",
       "        require(['plotly'], function(Plotly) {\n",
       "            window._Plotly = Plotly;\n",
       "        });\n",
       "        }\n",
       "        </script>\n",
       "        "
      ]
     },
     "metadata": {},
     "output_type": "display_data"
    }
   ],
   "source": [
    "import os\n",
    "from IPython.display import display\n",
    "from datetime import datetime\n",
    "\n",
    "import pandas as pd\n",
    "import numpy as np\n",
    "\n",
    "import matplotlib.pyplot as plt\n",
    "import seaborn as sns\n",
    "\n",
    "from plotly.offline import plot, iplot, init_notebook_mode\n",
    "import plotly.graph_objs as go\n",
    "init_notebook_mode(connected=True)\n",
    "\n",
    "from sklearn.model_selection import train_test_split, StratifiedKFold, RandomizedSearchCV\n",
    "from sklearn.ensemble import RandomForestClassifier\n",
    "from sklearn.metrics import (\n",
    "    precision_score,\n",
    "    recall_score,\n",
    "    confusion_matrix,\n",
    "    classification_report,\n",
    "    precision_recall_curve,\n",
    "    auc\n",
    ")\n",
    "\n",
    "from sklearnex import patch_sklearn\n",
    "import pickle\n",
    "from imblearn.over_sampling import SMOTE\n",
    "\n",
    "import optuna\n",
    "import xgboost as xgb\n",
    "import catboost as cb\n",
    "import lightgbm as lgb\n",
    "from lightgbm import early_stopping\n",
    "\n",
    "FOLDER_TO_SAVE_MODELS = 'saved_models'\n"
   ]
  },
  {
   "cell_type": "markdown",
   "metadata": {},
   "source": [
    "### Exploring and processing the data"
   ]
  },
  {
   "cell_type": "code",
   "execution_count": 6,
   "metadata": {},
   "outputs": [],
   "source": [
    "# Reading the data \n",
    "df_orig = pd.read_csv('creditcard.csv')"
   ]
  },
  {
   "cell_type": "code",
   "execution_count": 7,
   "metadata": {},
   "outputs": [
    {
     "data": {
      "text/html": [
       "<div>\n",
       "<style scoped>\n",
       "    .dataframe tbody tr th:only-of-type {\n",
       "        vertical-align: middle;\n",
       "    }\n",
       "\n",
       "    .dataframe tbody tr th {\n",
       "        vertical-align: top;\n",
       "    }\n",
       "\n",
       "    .dataframe thead th {\n",
       "        text-align: right;\n",
       "    }\n",
       "</style>\n",
       "<table border=\"1\" class=\"dataframe\">\n",
       "  <thead>\n",
       "    <tr style=\"text-align: right;\">\n",
       "      <th></th>\n",
       "      <th>Time</th>\n",
       "      <th>V1</th>\n",
       "      <th>V2</th>\n",
       "      <th>V3</th>\n",
       "      <th>V4</th>\n",
       "      <th>V5</th>\n",
       "      <th>V6</th>\n",
       "      <th>V7</th>\n",
       "      <th>V8</th>\n",
       "      <th>V9</th>\n",
       "      <th>...</th>\n",
       "      <th>V21</th>\n",
       "      <th>V22</th>\n",
       "      <th>V23</th>\n",
       "      <th>V24</th>\n",
       "      <th>V25</th>\n",
       "      <th>V26</th>\n",
       "      <th>V27</th>\n",
       "      <th>V28</th>\n",
       "      <th>Amount</th>\n",
       "      <th>Class</th>\n",
       "    </tr>\n",
       "  </thead>\n",
       "  <tbody>\n",
       "    <tr>\n",
       "      <th>0</th>\n",
       "      <td>0.0</td>\n",
       "      <td>-1.359807</td>\n",
       "      <td>-0.072781</td>\n",
       "      <td>2.536347</td>\n",
       "      <td>1.378155</td>\n",
       "      <td>-0.338321</td>\n",
       "      <td>0.462388</td>\n",
       "      <td>0.239599</td>\n",
       "      <td>0.098698</td>\n",
       "      <td>0.363787</td>\n",
       "      <td>...</td>\n",
       "      <td>-0.018307</td>\n",
       "      <td>0.277838</td>\n",
       "      <td>-0.110474</td>\n",
       "      <td>0.066928</td>\n",
       "      <td>0.128539</td>\n",
       "      <td>-0.189115</td>\n",
       "      <td>0.133558</td>\n",
       "      <td>-0.021053</td>\n",
       "      <td>149.62</td>\n",
       "      <td>0</td>\n",
       "    </tr>\n",
       "    <tr>\n",
       "      <th>1</th>\n",
       "      <td>0.0</td>\n",
       "      <td>1.191857</td>\n",
       "      <td>0.266151</td>\n",
       "      <td>0.166480</td>\n",
       "      <td>0.448154</td>\n",
       "      <td>0.060018</td>\n",
       "      <td>-0.082361</td>\n",
       "      <td>-0.078803</td>\n",
       "      <td>0.085102</td>\n",
       "      <td>-0.255425</td>\n",
       "      <td>...</td>\n",
       "      <td>-0.225775</td>\n",
       "      <td>-0.638672</td>\n",
       "      <td>0.101288</td>\n",
       "      <td>-0.339846</td>\n",
       "      <td>0.167170</td>\n",
       "      <td>0.125895</td>\n",
       "      <td>-0.008983</td>\n",
       "      <td>0.014724</td>\n",
       "      <td>2.69</td>\n",
       "      <td>0</td>\n",
       "    </tr>\n",
       "    <tr>\n",
       "      <th>2</th>\n",
       "      <td>1.0</td>\n",
       "      <td>-1.358354</td>\n",
       "      <td>-1.340163</td>\n",
       "      <td>1.773209</td>\n",
       "      <td>0.379780</td>\n",
       "      <td>-0.503198</td>\n",
       "      <td>1.800499</td>\n",
       "      <td>0.791461</td>\n",
       "      <td>0.247676</td>\n",
       "      <td>-1.514654</td>\n",
       "      <td>...</td>\n",
       "      <td>0.247998</td>\n",
       "      <td>0.771679</td>\n",
       "      <td>0.909412</td>\n",
       "      <td>-0.689281</td>\n",
       "      <td>-0.327642</td>\n",
       "      <td>-0.139097</td>\n",
       "      <td>-0.055353</td>\n",
       "      <td>-0.059752</td>\n",
       "      <td>378.66</td>\n",
       "      <td>0</td>\n",
       "    </tr>\n",
       "    <tr>\n",
       "      <th>3</th>\n",
       "      <td>1.0</td>\n",
       "      <td>-0.966272</td>\n",
       "      <td>-0.185226</td>\n",
       "      <td>1.792993</td>\n",
       "      <td>-0.863291</td>\n",
       "      <td>-0.010309</td>\n",
       "      <td>1.247203</td>\n",
       "      <td>0.237609</td>\n",
       "      <td>0.377436</td>\n",
       "      <td>-1.387024</td>\n",
       "      <td>...</td>\n",
       "      <td>-0.108300</td>\n",
       "      <td>0.005274</td>\n",
       "      <td>-0.190321</td>\n",
       "      <td>-1.175575</td>\n",
       "      <td>0.647376</td>\n",
       "      <td>-0.221929</td>\n",
       "      <td>0.062723</td>\n",
       "      <td>0.061458</td>\n",
       "      <td>123.50</td>\n",
       "      <td>0</td>\n",
       "    </tr>\n",
       "    <tr>\n",
       "      <th>4</th>\n",
       "      <td>2.0</td>\n",
       "      <td>-1.158233</td>\n",
       "      <td>0.877737</td>\n",
       "      <td>1.548718</td>\n",
       "      <td>0.403034</td>\n",
       "      <td>-0.407193</td>\n",
       "      <td>0.095921</td>\n",
       "      <td>0.592941</td>\n",
       "      <td>-0.270533</td>\n",
       "      <td>0.817739</td>\n",
       "      <td>...</td>\n",
       "      <td>-0.009431</td>\n",
       "      <td>0.798278</td>\n",
       "      <td>-0.137458</td>\n",
       "      <td>0.141267</td>\n",
       "      <td>-0.206010</td>\n",
       "      <td>0.502292</td>\n",
       "      <td>0.219422</td>\n",
       "      <td>0.215153</td>\n",
       "      <td>69.99</td>\n",
       "      <td>0</td>\n",
       "    </tr>\n",
       "  </tbody>\n",
       "</table>\n",
       "<p>5 rows × 31 columns</p>\n",
       "</div>"
      ],
      "text/plain": [
       "   Time        V1        V2        V3        V4        V5        V6        V7  \\\n",
       "0   0.0 -1.359807 -0.072781  2.536347  1.378155 -0.338321  0.462388  0.239599   \n",
       "1   0.0  1.191857  0.266151  0.166480  0.448154  0.060018 -0.082361 -0.078803   \n",
       "2   1.0 -1.358354 -1.340163  1.773209  0.379780 -0.503198  1.800499  0.791461   \n",
       "3   1.0 -0.966272 -0.185226  1.792993 -0.863291 -0.010309  1.247203  0.237609   \n",
       "4   2.0 -1.158233  0.877737  1.548718  0.403034 -0.407193  0.095921  0.592941   \n",
       "\n",
       "         V8        V9  ...       V21       V22       V23       V24       V25  \\\n",
       "0  0.098698  0.363787  ... -0.018307  0.277838 -0.110474  0.066928  0.128539   \n",
       "1  0.085102 -0.255425  ... -0.225775 -0.638672  0.101288 -0.339846  0.167170   \n",
       "2  0.247676 -1.514654  ...  0.247998  0.771679  0.909412 -0.689281 -0.327642   \n",
       "3  0.377436 -1.387024  ... -0.108300  0.005274 -0.190321 -1.175575  0.647376   \n",
       "4 -0.270533  0.817739  ... -0.009431  0.798278 -0.137458  0.141267 -0.206010   \n",
       "\n",
       "        V26       V27       V28  Amount  Class  \n",
       "0 -0.189115  0.133558 -0.021053  149.62      0  \n",
       "1  0.125895 -0.008983  0.014724    2.69      0  \n",
       "2 -0.139097 -0.055353 -0.059752  378.66      0  \n",
       "3 -0.221929  0.062723  0.061458  123.50      0  \n",
       "4  0.502292  0.219422  0.215153   69.99      0  \n",
       "\n",
       "[5 rows x 31 columns]"
      ]
     },
     "execution_count": 7,
     "metadata": {},
     "output_type": "execute_result"
    }
   ],
   "source": [
    "# First glance at the dataset\n",
    "df_orig.head()"
   ]
  },
  {
   "cell_type": "code",
   "execution_count": 8,
   "metadata": {},
   "outputs": [
    {
     "data": {
      "text/plain": [
       "Time      0\n",
       "V1        0\n",
       "V2        0\n",
       "V3        0\n",
       "V4        0\n",
       "V5        0\n",
       "V6        0\n",
       "V7        0\n",
       "V8        0\n",
       "V9        0\n",
       "V10       0\n",
       "V11       0\n",
       "V12       0\n",
       "V13       0\n",
       "V14       0\n",
       "V15       0\n",
       "V16       0\n",
       "V17       0\n",
       "V18       0\n",
       "V19       0\n",
       "V20       0\n",
       "V21       0\n",
       "V22       0\n",
       "V23       0\n",
       "V24       0\n",
       "V25       0\n",
       "V26       0\n",
       "V27       0\n",
       "V28       0\n",
       "Amount    0\n",
       "Class     0\n",
       "dtype: int64"
      ]
     },
     "execution_count": 8,
     "metadata": {},
     "output_type": "execute_result"
    }
   ],
   "source": [
    "# Checking if we've got any missing value\n",
    "df_orig.isnull().sum()"
   ]
  },
  {
   "cell_type": "code",
   "execution_count": 9,
   "metadata": {},
   "outputs": [
    {
     "data": {
      "text/html": [
       "<div>\n",
       "<style scoped>\n",
       "    .dataframe tbody tr th:only-of-type {\n",
       "        vertical-align: middle;\n",
       "    }\n",
       "\n",
       "    .dataframe tbody tr th {\n",
       "        vertical-align: top;\n",
       "    }\n",
       "\n",
       "    .dataframe thead th {\n",
       "        text-align: right;\n",
       "    }\n",
       "</style>\n",
       "<table border=\"1\" class=\"dataframe\">\n",
       "  <thead>\n",
       "    <tr style=\"text-align: right;\">\n",
       "      <th></th>\n",
       "      <th>Count</th>\n",
       "      <th>Proportion</th>\n",
       "    </tr>\n",
       "    <tr>\n",
       "      <th>Class</th>\n",
       "      <th></th>\n",
       "      <th></th>\n",
       "    </tr>\n",
       "  </thead>\n",
       "  <tbody>\n",
       "    <tr>\n",
       "      <th>0</th>\n",
       "      <td>284315</td>\n",
       "      <td>0.998273</td>\n",
       "    </tr>\n",
       "    <tr>\n",
       "      <th>1</th>\n",
       "      <td>492</td>\n",
       "      <td>0.001727</td>\n",
       "    </tr>\n",
       "  </tbody>\n",
       "</table>\n",
       "</div>"
      ],
      "text/plain": [
       "        Count  Proportion\n",
       "Class                    \n",
       "0      284315    0.998273\n",
       "1         492    0.001727"
      ]
     },
     "execution_count": 9,
     "metadata": {},
     "output_type": "execute_result"
    }
   ],
   "source": [
    "value_counts = df_orig['Class'].value_counts()\n",
    "proportions = value_counts / len(df_orig)\n",
    "pd.DataFrame({\n",
    "    'Count': value_counts, \n",
    "    'Proportion': proportions\n",
    "})"
   ]
  },
  {
   "cell_type": "markdown",
   "metadata": {},
   "source": [
    "We are dealing with an extremely imbalanced dataset, where only 0.17% of the transactions are fraudulant. It's really important to consider this class imbalance when building our model.\n",
    "\n",
    "If I use the original data to calculate the correlation matrix, it will be influenced by the class imbalance, with non-fraud cases dominating the fraud cases. This could lead us to distorted results. "
   ]
  },
  {
   "cell_type": "code",
   "execution_count": 10,
   "metadata": {},
   "outputs": [],
   "source": [
    "# Oversampling the original data using the SMOTE algorithm\n",
    "smote = SMOTE(random_state=1234)\n",
    "X_smote, y_smote = smote.fit_resample(df_orig.drop(columns='Class'), df_orig['Class'])\n",
    "df_smote = X_smote.join(y_smote)"
   ]
  },
  {
   "cell_type": "code",
   "execution_count": 11,
   "metadata": {},
   "outputs": [
    {
     "data": {
      "text/plain": [
       "Text(0.5, 1.05, 'Correlation heatmap:\\noversampled data')"
      ]
     },
     "execution_count": 11,
     "metadata": {},
     "output_type": "execute_result"
    },
    {
     "data": {
      "image/png": "[encoded data removed]",
      "text/plain": [
       "<Figure size 1500x800 with 4 Axes>"
      ]
     },
     "metadata": {},
     "output_type": "display_data"
    }
   ],
   "source": [
    "# Let's plot the correlation heatmaps for both the original data and the oversampled data.\n",
    "f, (ax1, ax2) = plt.subplots(1,2)\n",
    "f.set_figheight(8)\n",
    "f.set_figwidth(15)\n",
    "mask = np.triu(np.ones_like(df_orig.corr(), dtype=bool))\n",
    "sns.heatmap(df_orig.corr(), mask = mask, ax=ax1)\n",
    "ax1.set_title(\"Correlation heatmap:\\noriginal data\",fontsize=20, y=1.05)\n",
    "sns.heatmap(df_smote.corr(), mask = mask, ax=ax2)\n",
    "ax2.set_title(\"Correlation heatmap:\\noversampled data\",fontsize=20, y=1.05)"
   ]
  },
  {
   "cell_type": "code",
   "execution_count": 12,
   "metadata": {},
   "outputs": [
    {
     "data": {
      "image/png": "[encoded data removed]",
      "text/plain": [
       "<Figure size 700x400 with 1 Axes>"
      ]
     },
     "metadata": {},
     "output_type": "display_data"
    }
   ],
   "source": [
    "# Creating a pd Series containing the columns with their correlation values based on the oversampled dataset\n",
    "correlations = df_smote.corr()['Class'].sort_values()\n",
    "correlations = correlations.loc[correlations.index != 'Class']\n",
    "\n",
    "# Plot the correlations on a barplot\n",
    "plt.figure(figsize = (7,4))\n",
    "plt.title('Correlations on the oversampled data',fontsize=14)\n",
    "s = sns.barplot(y=correlations, x=correlations.index)\n",
    "s.set_xticklabels(s.get_xticklabels(),rotation=90)\n",
    "s.set_ylabel(\"\")\n",
    "plt.show()  "
   ]
  },
  {
   "cell_type": "code",
   "execution_count": 13,
   "metadata": {},
   "outputs": [
    {
     "data": {
      "image/png": "[encoded data removed]",
      "text/plain": [
       "<Figure size 800x3500 with 28 Axes>"
      ]
     },
     "metadata": {},
     "output_type": "display_data"
    }
   ],
   "source": [
    "important_features = correlations[np.abs(correlations) > 0.4].index\n",
    "\n",
    "f, axes = plt.subplots(len(important_features),2)\n",
    "f.suptitle('Distributions and boxplots on original data',fontsize=15,y=1.0005)\n",
    "f.set_figheight(2.5*len(important_features))\n",
    "f.set_figwidth(8)\n",
    "f.tight_layout(pad=2.5)\n",
    "\n",
    "for i, feature in enumerate(important_features):\n",
    "\n",
    "    sns.kdeplot(\n",
    "        data = df_orig.loc[df_orig.Class == 0], \n",
    "        x = feature, \n",
    "        fill = True, \n",
    "        color =\"#3386FF\",\n",
    "        linewidth=0.6, \n",
    "        ax=axes[i,0], \n",
    "        label=0\n",
    "    )\n",
    "    \n",
    "    sns.kdeplot(\n",
    "        data = df_orig.loc[df_orig.Class == 1], \n",
    "        x = feature, \n",
    "        fill = True, \n",
    "        color =\"#EFB000\",\n",
    "        linewidth=0.6, \n",
    "        ax=axes[i,0], \n",
    "        label=1\n",
    "    )\n",
    "    \n",
    "    axes[i,0].set_xlabel('')\n",
    "    axes[i,0].legend()\n",
    "    axes[i,0].set_title(feature,fontsize=10, y=1.00)\n",
    "\n",
    "\n",
    "    sns.boxplot(x = df_orig[feature],\n",
    "                y = df_orig['Class'],\n",
    "                orient='h',\n",
    "                palette= [\"#3386FF\",\"#EFB000\"],\n",
    "                ax=axes[i][1],\n",
    "                boxprops=dict(alpha=.4)\n",
    "    )\n",
    "    axes[i,1].set_xlabel('')\n",
    "    axes[i][1].set_title(feature,fontsize=10, y=1.00)\n"
   ]
  },
  {
   "cell_type": "markdown",
   "metadata": {},
   "source": [
    "As the boxplots show us, our dataset contains several outliers. Removing these outliers would eliminate a significant number of observations from the fraud cases.\n",
    "\n",
    "Additionally, this approach may lead to a loss of valuable information and potentially weaken the generalization capability of our model, i.e. it might achieve better results on this dataset but could perform poorly on unseen, real-life data.\n",
    "\n",
    "Furthermore, considering the fact that we are working mostly with features that were transformed by PCA, I believe it is wiser to put the emphasis on building a robust model instead of trying to figure out what is considered to be an outlier. "
   ]
  },
  {
   "cell_type": "code",
   "execution_count": 14,
   "metadata": {},
   "outputs": [],
   "source": [
    "df = df_orig\n",
    "\n",
    "X = df.drop(columns='Class')\n",
    "y = df['Class']"
   ]
  },
  {
   "cell_type": "code",
   "execution_count": 15,
   "metadata": {},
   "outputs": [],
   "source": [
    "# Splitting the dataset into a test and train set. \n",
    "# I will perform cross validation on the trainset, and eventually I will test on the test set\n",
    "X_train, X_test, y_train, y_test = train_test_split(X, y, test_size=0.2, random_state=1234, stratify=y)"
   ]
  },
  {
   "cell_type": "markdown",
   "metadata": {},
   "source": [
    "Here, I am implementing some functions that will be used during the optimization and the evaluation process of our models.\""
   ]
  },
  {
   "cell_type": "code",
   "execution_count": 16,
   "metadata": {},
   "outputs": [],
   "source": [
    "\n",
    "def predict_threshold(threshold, model, x):\n",
    "    \"\"\" \n",
    "    Make binary predictions based on the given threshold\n",
    "    \"\"\"\n",
    "\n",
    "    return np.array([int(x[0] <threshold) for x in model.predict_proba(x)])\n",
    "\n",
    "\n",
    "def optimize_objective(objective, n_trials, direction):\n",
    "    \"\"\"\n",
    "    Optimize an objective function using Optuna.\n",
    "    \"\"\"\n",
    "    \n",
    "    study = optuna.create_study(direction=direction)\n",
    "    study.optimize(objective, n_trials=n_trials, timeout=600)\n",
    "\n",
    "    print(\"Number of finished trials: \", len(study.trials))\n",
    "    print(\"Best trial:\")\n",
    "    trial = study.best_trial\n",
    "\n",
    "    print(\"  Value: {}\".format(trial.value))\n",
    "    print(\"  Params: \")\n",
    "    for key, value in trial.params.items():\n",
    "        print(\"    {}: {}\".format(key, value))\n",
    "\n",
    "    return study\n",
    "\n",
    "\n",
    "def evaluate_model(model, x_test, y_test):\n",
    "\n",
    "    \"\"\"\n",
    "    Evaluate the model's performance on test data and print out and visualize some metrics.\n",
    "\n",
    "    Returns:\n",
    "    - results_df_diff_thresholds: A DataFrame containing metrics for different thresholds.\n",
    "    - auc_precision_recall: Area Under the PR Curve (AUCPR).\n",
    "    - lr_recall: Recall values for the Precision-Recall Curve.\n",
    "    - lr_precision: Precision values for the Precision-Recall Curve.\n",
    "\n",
    "    \"\"\"\n",
    "\n",
    "    # Get the results. \n",
    "    y_pred = model.predict(x_test)\n",
    "    y_pred_proba = model.predict_proba(x_test)[:, 1]\n",
    "\n",
    "\n",
    "    # dictionary to store the metrics on different thresholds\n",
    "    results_on_diff_threshold = {\n",
    "        'threshold': [],\n",
    "        'precision': [],\n",
    "        'recall': [],\n",
    "        'FN': [],\n",
    "        'FP': [],\n",
    "        'TP': [],\n",
    "        'TN': [],\n",
    "    }\n",
    "    \n",
    "    # loop trough the different thresholds and populate the results_on_diff_threshold dict\n",
    "    for i in np.linspace(0.1,0.9,9):\n",
    "\n",
    "        results_on_diff_threshold['threshold'].append(i)\n",
    "\n",
    "        y_pred_threshold = predict_threshold(i,model, X_test)\n",
    "\n",
    "        recall = recall_score(y_test, y_pred_threshold)\n",
    "        precision = precision_score(y_test, y_pred_threshold)\n",
    "\n",
    "        results_on_diff_threshold['precision'].append(precision)\n",
    "        results_on_diff_threshold['recall'].append(recall)\n",
    "\n",
    "        cm_threshold = confusion_matrix(y_test, y_pred_threshold)\n",
    "        tn, fp, fn, tp = cm_threshold.ravel()\n",
    "\n",
    "        results_on_diff_threshold['FN'].append(fn)\n",
    "        results_on_diff_threshold['FP'].append(fp)\n",
    "        results_on_diff_threshold['TP'].append(tp)\n",
    "        results_on_diff_threshold['TN'].append(tn)\n",
    "\n",
    "    # Getting the data for the PR curve\n",
    "    lr_precision, lr_recall, _ = precision_recall_curve(y_test, y_pred_proba)\n",
    "\n",
    "    # auc score\n",
    "    auc_precision_recall = auc(lr_recall, lr_precision)\n",
    "\n",
    "    results_df_diff_thresholds = pd.DataFrame(results_on_diff_threshold)\n",
    "\n",
    "    # Printing out the results\n",
    "    print(\"-------------------- Evaulation scores --------------------\\n\")\n",
    "    print(classification_report(y_test, y_pred))\n",
    "    print(\"-----------------------------------------------------------\")\n",
    "    print(f\"AUCPR score: {auc_precision_recall:.4f}\\n\")\n",
    "    print(\"-----------------------------------------------------------\")\n",
    "    print(\"Metrics when different threshold is used on test data: \")\n",
    "\n",
    "    display(results_df_diff_thresholds)\n",
    "    print(\"\\n\")\n",
    "\n",
    "    plt.figure(figsize = (5,5))\n",
    "    plt.plot(lr_recall, lr_precision)\n",
    "    plt.xlabel('Recall')\n",
    "    plt.ylabel('Precision')\n",
    "    plt.title('Precision-Recall curve')\n",
    "    plt.show()\n",
    "\n",
    "    return results_df_diff_thresholds, auc_precision_recall, lr_recall, lr_precision"
   ]
  },
  {
   "cell_type": "markdown",
   "metadata": {},
   "source": [
    "### Random forest - optimized with RandomSearchCV "
   ]
  },
  {
   "cell_type": "code",
   "execution_count": 17,
   "metadata": {},
   "outputs": [
    {
     "name": "stderr",
     "output_type": "stream",
     "text": [
      "Intel(R) Extension for Scikit-learn* enabled (https://github.com/intel/scikit-learn-intelex)\n"
     ]
    },
    {
     "name": "stdout",
     "output_type": "stream",
     "text": [
      "Fitting 3 folds for each of 30 candidates, totalling 90 fits\n"
     ]
    },
    {
     "data": {
      "text/html": [
       "<style>#sk-container-id-1 {color: black;background-color: white;}#sk-container-id-1 pre{padding: 0;}#sk-container-id-1 div.sk-toggleable {background-color: white;}#sk-container-id-1 label.sk-toggleable__label {cursor: pointer;display: block;width: 100%;margin-bottom: 0;padding: 0.3em;box-sizing: border-box;text-align: center;}#sk-container-id-1 label.sk-toggleable__label-arrow:before {content: \"▸\";float: left;margin-right: 0.25em;color: #696969;}#sk-container-id-1 label.sk-toggleable__label-arrow:hover:before {color: black;}#sk-container-id-1 div.sk-estimator:hover label.sk-toggleable__label-arrow:before {color: black;}#sk-container-id-1 div.sk-toggleable__content {max-height: 0;max-width: 0;overflow: hidden;text-align: left;background-color: #f0f8ff;}#sk-container-id-1 div.sk-toggleable__content pre {margin: 0.2em;color: black;border-radius: 0.25em;background-color: #f0f8ff;}#sk-container-id-1 input.sk-toggleable__control:checked~div.sk-toggleable__content {max-height: 200px;max-width: 100%;overflow: auto;}#sk-container-id-1 input.sk-toggleable__control:checked~label.sk-toggleable__label-arrow:before {content: \"▾\";}#sk-container-id-1 div.sk-estimator input.sk-toggleable__control:checked~label.sk-toggleable__label {background-color: #d4ebff;}#sk-container-id-1 div.sk-label input.sk-toggleable__control:checked~label.sk-toggleable__label {background-color: #d4ebff;}#sk-container-id-1 input.sk-hidden--visually {border: 0;clip: rect(1px 1px 1px 1px);clip: rect(1px, 1px, 1px, 1px);height: 1px;margin: -1px;overflow: hidden;padding: 0;position: absolute;width: 1px;}#sk-container-id-1 div.sk-estimator {font-family: monospace;background-color: #f0f8ff;border: 1px dotted black;border-radius: 0.25em;box-sizing: border-box;margin-bottom: 0.5em;}#sk-container-id-1 div.sk-estimator:hover {background-color: #d4ebff;}#sk-container-id-1 div.sk-parallel-item::after {content: \"\";width: 100%;border-bottom: 1px solid gray;flex-grow: 1;}#sk-container-id-1 div.sk-label:hover label.sk-toggleable__label {background-color: #d4ebff;}#sk-container-id-1 div.sk-serial::before {content: \"\";position: absolute;border-left: 1px solid gray;box-sizing: border-box;top: 0;bottom: 0;left: 50%;z-index: 0;}#sk-container-id-1 div.sk-serial {display: flex;flex-direction: column;align-items: center;background-color: white;padding-right: 0.2em;padding-left: 0.2em;position: relative;}#sk-container-id-1 div.sk-item {position: relative;z-index: 1;}#sk-container-id-1 div.sk-parallel {display: flex;align-items: stretch;justify-content: center;background-color: white;position: relative;}#sk-container-id-1 div.sk-item::before, #sk-container-id-1 div.sk-parallel-item::before {content: \"\";position: absolute;border-left: 1px solid gray;box-sizing: border-box;top: 0;bottom: 0;left: 50%;z-index: -1;}#sk-container-id-1 div.sk-parallel-item {display: flex;flex-direction: column;z-index: 1;position: relative;background-color: white;}#sk-container-id-1 div.sk-parallel-item:first-child::after {align-self: flex-end;width: 50%;}#sk-container-id-1 div.sk-parallel-item:last-child::after {align-self: flex-start;width: 50%;}#sk-container-id-1 div.sk-parallel-item:only-child::after {width: 0;}#sk-container-id-1 div.sk-dashed-wrapped {border: 1px dashed gray;margin: 0 0.4em 0.5em 0.4em;box-sizing: border-box;padding-bottom: 0.4em;background-color: white;}#sk-container-id-1 div.sk-label label {font-family: monospace;font-weight: bold;display: inline-block;line-height: 1.2em;}#sk-container-id-1 div.sk-label-container {text-align: center;}#sk-container-id-1 div.sk-container {/* jupyter's `normalize.less` sets `[hidden] { display: none; }` but bootstrap.min.css set `[hidden] { display: none !important; }` so we also need the `!important` here to be able to override the default hidden behavior on the sphinx rendered scikit-learn.org. See: https://github.com/scikit-learn/scikit-learn/issues/21755 */display: inline-block !important;position: relative;}#sk-container-id-1 div.sk-text-repr-fallback {display: none;}</style><div id=\"sk-container-id-1\" class=\"sk-top-container\"><div class=\"sk-text-repr-fallback\"><pre>RandomizedSearchCV(cv=StratifiedKFold(n_splits=3, random_state=None, shuffle=False),\n",
       "                   estimator=RandomForestClassifier(n_jobs=-1), n_iter=30,\n",
       "                   param_distributions={&#x27;class_weight&#x27;: [{1: 24.026793419648342}],\n",
       "                                        &#x27;max_depth&#x27;: [80, 90, 100, 110],\n",
       "                                        &#x27;max_features&#x27;: [2, 3],\n",
       "                                        &#x27;min_samples_leaf&#x27;: [3, 4, 5],\n",
       "                                        &#x27;min_samples_split&#x27;: [8, 10, 12],\n",
       "                                        &#x27;n_estimators&#x27;: [100, 200, 300, 500]},\n",
       "                   random_state=42, scoring=&#x27;neg_log_loss&#x27;, verbose=1)</pre><b>In a Jupyter environment, please rerun this cell to show the HTML representation or trust the notebook. <br />On GitHub, the HTML representation is unable to render, please try loading this page with nbviewer.org.</b></div><div class=\"sk-container\" hidden><div class=\"sk-item sk-dashed-wrapped\"><div class=\"sk-label-container\"><div class=\"sk-label sk-toggleable\"><input class=\"sk-toggleable__control sk-hidden--visually\" id=\"sk-estimator-id-1\" type=\"checkbox\" ><label for=\"sk-estimator-id-1\" class=\"sk-toggleable__label sk-toggleable__label-arrow\">RandomizedSearchCV</label><div class=\"sk-toggleable__content\"><pre>RandomizedSearchCV(cv=StratifiedKFold(n_splits=3, random_state=None, shuffle=False),\n",
       "                   estimator=RandomForestClassifier(n_jobs=-1), n_iter=30,\n",
       "                   param_distributions={&#x27;class_weight&#x27;: [{1: 24.026793419648342}],\n",
       "                                        &#x27;max_depth&#x27;: [80, 90, 100, 110],\n",
       "                                        &#x27;max_features&#x27;: [2, 3],\n",
       "                                        &#x27;min_samples_leaf&#x27;: [3, 4, 5],\n",
       "                                        &#x27;min_samples_split&#x27;: [8, 10, 12],\n",
       "                                        &#x27;n_estimators&#x27;: [100, 200, 300, 500]},\n",
       "                   random_state=42, scoring=&#x27;neg_log_loss&#x27;, verbose=1)</pre></div></div></div><div class=\"sk-parallel\"><div class=\"sk-parallel-item\"><div class=\"sk-item\"><div class=\"sk-label-container\"><div class=\"sk-label sk-toggleable\"><input class=\"sk-toggleable__control sk-hidden--visually\" id=\"sk-estimator-id-2\" type=\"checkbox\" ><label for=\"sk-estimator-id-2\" class=\"sk-toggleable__label sk-toggleable__label-arrow\">estimator: RandomForestClassifier</label><div class=\"sk-toggleable__content\"><pre>RandomForestClassifier(n_jobs=-1)</pre></div></div></div><div class=\"sk-serial\"><div class=\"sk-item\"><div class=\"sk-estimator sk-toggleable\"><input class=\"sk-toggleable__control sk-hidden--visually\" id=\"sk-estimator-id-3\" type=\"checkbox\" ><label for=\"sk-estimator-id-3\" class=\"sk-toggleable__label sk-toggleable__label-arrow\">RandomForestClassifier</label><div class=\"sk-toggleable__content\"><pre>RandomForestClassifier(n_jobs=-1)</pre></div></div></div></div></div></div></div></div></div></div>"
      ],
      "text/plain": [
       "RandomizedSearchCV(cv=StratifiedKFold(n_splits=3, random_state=None, shuffle=False),\n",
       "                   estimator=RandomForestClassifier(n_jobs=-1), n_iter=30,\n",
       "                   param_distributions={'class_weight': [{1: 24.026793419648342}],\n",
       "                                        'max_depth': [80, 90, 100, 110],\n",
       "                                        'max_features': [2, 3],\n",
       "                                        'min_samples_leaf': [3, 4, 5],\n",
       "                                        'min_samples_split': [8, 10, 12],\n",
       "                                        'n_estimators': [100, 200, 300, 500]},\n",
       "                   random_state=42, scoring='neg_log_loss', verbose=1)"
      ]
     },
     "execution_count": 17,
     "metadata": {},
     "output_type": "execute_result"
    }
   ],
   "source": [
    "# Enable the intel extension to boost performance in time\n",
    "patch_sklearn(['RandomForestClassifier'])\n",
    "\n",
    "\n",
    "class_weights = {1: np.sqrt(y_train.value_counts()[0] / y_train.value_counts()[1])}\n",
    "\n",
    "param_grid = {\n",
    "    'max_depth': [80, 90, 100, 110],\n",
    "    'max_features': [2, 3],\n",
    "    'min_samples_leaf': [3, 4, 5],\n",
    "    'min_samples_split': [8, 10, 12],\n",
    "    'n_estimators': [100, 200, 300, 500],\n",
    "    'class_weight':[class_weights]\n",
    "}\n",
    "\n",
    "\n",
    "\n",
    "kfold = StratifiedKFold(n_splits=3)\n",
    "\n",
    "model_rf = RandomizedSearchCV(\n",
    "        RandomForestClassifier(n_jobs=-1),\n",
    "        param_grid,\n",
    "        cv=kfold,\n",
    "        scoring= 'neg_log_loss',\n",
    "        verbose=1,\n",
    "        n_iter=30,\n",
    "        random_state=42 \n",
    ")\n",
    "\n",
    "\n",
    "model_rf.fit(X_train, y_train)"
   ]
  },
  {
   "cell_type": "code",
   "execution_count": 18,
   "metadata": {},
   "outputs": [
    {
     "name": "stdout",
     "output_type": "stream",
     "text": [
      "-------------------- Evaulation scores --------------------\n",
      "\n",
      "              precision    recall  f1-score   support\n",
      "\n",
      "           0       1.00      1.00      1.00     56864\n",
      "           1       0.86      0.85      0.86        98\n",
      "\n",
      "    accuracy                           1.00     56962\n",
      "   macro avg       0.93      0.92      0.93     56962\n",
      "weighted avg       1.00      1.00      1.00     56962\n",
      "\n",
      "-----------------------------------------------------------\n",
      "AUCPR score: 0.8833\n",
      "\n",
      "-----------------------------------------------------------\n",
      "Metrics when different threshold is used on test data: \n"
     ]
    },
    {
     "data": {
      "text/html": [
       "<div>\n",
       "<style scoped>\n",
       "    .dataframe tbody tr th:only-of-type {\n",
       "        vertical-align: middle;\n",
       "    }\n",
       "\n",
       "    .dataframe tbody tr th {\n",
       "        vertical-align: top;\n",
       "    }\n",
       "\n",
       "    .dataframe thead th {\n",
       "        text-align: right;\n",
       "    }\n",
       "</style>\n",
       "<table border=\"1\" class=\"dataframe\">\n",
       "  <thead>\n",
       "    <tr style=\"text-align: right;\">\n",
       "      <th></th>\n",
       "      <th>threshold</th>\n",
       "      <th>precision</th>\n",
       "      <th>recall</th>\n",
       "      <th>FN</th>\n",
       "      <th>FP</th>\n",
       "      <th>TP</th>\n",
       "      <th>TN</th>\n",
       "    </tr>\n",
       "  </thead>\n",
       "  <tbody>\n",
       "    <tr>\n",
       "      <th>0</th>\n",
       "      <td>0.1</td>\n",
       "      <td>0.957143</td>\n",
       "      <td>0.683673</td>\n",
       "      <td>31</td>\n",
       "      <td>3</td>\n",
       "      <td>67</td>\n",
       "      <td>56861</td>\n",
       "    </tr>\n",
       "    <tr>\n",
       "      <th>1</th>\n",
       "      <td>0.2</td>\n",
       "      <td>0.961039</td>\n",
       "      <td>0.755102</td>\n",
       "      <td>24</td>\n",
       "      <td>3</td>\n",
       "      <td>74</td>\n",
       "      <td>56861</td>\n",
       "    </tr>\n",
       "    <tr>\n",
       "      <th>2</th>\n",
       "      <td>0.3</td>\n",
       "      <td>0.951220</td>\n",
       "      <td>0.795918</td>\n",
       "      <td>20</td>\n",
       "      <td>4</td>\n",
       "      <td>78</td>\n",
       "      <td>56860</td>\n",
       "    </tr>\n",
       "    <tr>\n",
       "      <th>3</th>\n",
       "      <td>0.4</td>\n",
       "      <td>0.910112</td>\n",
       "      <td>0.826531</td>\n",
       "      <td>17</td>\n",
       "      <td>8</td>\n",
       "      <td>81</td>\n",
       "      <td>56856</td>\n",
       "    </tr>\n",
       "    <tr>\n",
       "      <th>4</th>\n",
       "      <td>0.5</td>\n",
       "      <td>0.864583</td>\n",
       "      <td>0.846939</td>\n",
       "      <td>15</td>\n",
       "      <td>13</td>\n",
       "      <td>83</td>\n",
       "      <td>56851</td>\n",
       "    </tr>\n",
       "    <tr>\n",
       "      <th>5</th>\n",
       "      <td>0.6</td>\n",
       "      <td>0.850000</td>\n",
       "      <td>0.867347</td>\n",
       "      <td>13</td>\n",
       "      <td>15</td>\n",
       "      <td>85</td>\n",
       "      <td>56849</td>\n",
       "    </tr>\n",
       "    <tr>\n",
       "      <th>6</th>\n",
       "      <td>0.7</td>\n",
       "      <td>0.809524</td>\n",
       "      <td>0.867347</td>\n",
       "      <td>13</td>\n",
       "      <td>20</td>\n",
       "      <td>85</td>\n",
       "      <td>56844</td>\n",
       "    </tr>\n",
       "    <tr>\n",
       "      <th>7</th>\n",
       "      <td>0.8</td>\n",
       "      <td>0.761062</td>\n",
       "      <td>0.877551</td>\n",
       "      <td>12</td>\n",
       "      <td>27</td>\n",
       "      <td>86</td>\n",
       "      <td>56837</td>\n",
       "    </tr>\n",
       "    <tr>\n",
       "      <th>8</th>\n",
       "      <td>0.9</td>\n",
       "      <td>0.666667</td>\n",
       "      <td>0.897959</td>\n",
       "      <td>10</td>\n",
       "      <td>44</td>\n",
       "      <td>88</td>\n",
       "      <td>56820</td>\n",
       "    </tr>\n",
       "  </tbody>\n",
       "</table>\n",
       "</div>"
      ],
      "text/plain": [
       "   threshold  precision    recall  FN  FP  TP     TN\n",
       "0        0.1   0.957143  0.683673  31   3  67  56861\n",
       "1        0.2   0.961039  0.755102  24   3  74  56861\n",
       "2        0.3   0.951220  0.795918  20   4  78  56860\n",
       "3        0.4   0.910112  0.826531  17   8  81  56856\n",
       "4        0.5   0.864583  0.846939  15  13  83  56851\n",
       "5        0.6   0.850000  0.867347  13  15  85  56849\n",
       "6        0.7   0.809524  0.867347  13  20  85  56844\n",
       "7        0.8   0.761062  0.877551  12  27  86  56837\n",
       "8        0.9   0.666667  0.897959  10  44  88  56820"
      ]
     },
     "metadata": {},
     "output_type": "display_data"
    },
    {
     "name": "stdout",
     "output_type": "stream",
     "text": [
      "\n",
      "\n"
     ]
    },
    {
     "data": {
      "image/png": "[encoded data removed]",
      "text/plain": [
       "<Figure size 500x500 with 1 Axes>"
      ]
     },
     "metadata": {},
     "output_type": "display_data"
    }
   ],
   "source": [
    "result_rf = evaluate_model(model_rf, X_test, y_test)"
   ]
  },
  {
   "cell_type": "code",
   "execution_count": 19,
   "metadata": {},
   "outputs": [],
   "source": [
    "# Saving our model with the best performance\n",
    "\n",
    "# Check if the folder exists\n",
    "if not os.path.exists(FOLDER_TO_SAVE_MODELS):\n",
    "    # If it doesn't exist, create the folder\n",
    "    os.mkdir(FOLDER_TO_SAVE_MODELS)\n",
    "\n",
    "filename = os.path.join(FOLDER_TO_SAVE_MODELS,f\"Random-forest-{datetime.now().strftime('%Y%m%d')}.sav\")\n",
    "pickle.dump(model_rf, open(filename, 'wb'))\n",
    "\n",
    "# Example to load rf model\n",
    "# loaded_model_rf = pickle.load(open(filename, 'rb'))"
   ]
  },
  {
   "cell_type": "markdown",
   "metadata": {},
   "source": [
    "### XGBOOST classifier - optimized with OPTUNA"
   ]
  },
  {
   "cell_type": "code",
   "execution_count": 20,
   "metadata": {},
   "outputs": [],
   "source": [
    "def objective_xgb(\n",
    "        trial,\n",
    "        eval_metric='logloss',\n",
    "        x_train=X_train,\n",
    "        x_test=X_test,\n",
    "        y_train=y_train,\n",
    "        y_test=y_test,\n",
    "        seed=42,\n",
    "        n_folds=3,\n",
    "):\n",
    "    \n",
    "    dtrain = xgb.DMatrix(x_train, label=y_train)\n",
    "    dvalid = xgb.DMatrix(x_test, label=y_test)\n",
    "\n",
    "    pos_weight = np.sqrt(y_train.value_counts()[0] / y_train.value_counts()[1])\n",
    "\n",
    "    param = {\n",
    "        \"verbosity\":0,\n",
    "        'objective':trial.suggest_categorical('objective',['binary:logistic']),\n",
    "        \"eval_metric\": [eval_metric],\n",
    "        'predictor': trial.suggest_categorical('predictor',['gpu_predictor']),\n",
    "        'tree_method':trial.suggest_categorical('tree_method',['gpu_hist']),\n",
    "        'lambda'           : trial.suggest_float('lambda', 1e-3, 5.0),\n",
    "        'alpha'            : trial.suggest_float('alpha', 1e-3, 5.0),\n",
    "        'min_child_weight' : trial.suggest_int('min_child_weight', 1, 150),\n",
    "        'subsample'        : trial.suggest_float(\"subsample\", 0.2, 1.0),\n",
    "        \"colsample_bytree\": trial.suggest_float(\"colsample_bytree\", 0.2, 1.0),\n",
    "        'max_depth'        : trial.suggest_int(\"max_depth\", 1, 9),\n",
    "        'eta'    : trial.suggest_categorical('eta', [0.001,0.01,0.05,0.1,0.2,0.25,0.3]),\n",
    "        'scale_pos_weight': trial.suggest_categorical('scale_pos_weight',[pos_weight])\n",
    "    }\n",
    "\n",
    "    pruning_callback = optuna.integration.XGBoostPruningCallback(trial, f\"test-{eval_metric}\")\n",
    "\n",
    "    xgb_cv_results = xgb.cv(\n",
    "        params=param,\n",
    "        dtrain=dtrain,\n",
    "        num_boost_round=10000,\n",
    "        callbacks=[pruning_callback],\n",
    "        nfold=n_folds,\n",
    "        stratified=True,\n",
    "        early_stopping_rounds=100,\n",
    "        seed=seed,\n",
    "        verbose_eval=False,\n",
    "    )\n",
    "\n",
    "    # Set n_estimators as a trial attribute; Accessible via study.trials_dataframe().\n",
    "    trial.set_user_attr(\"n_estimators\", len(xgb_cv_results))\n",
    "\n",
    "    # Extract the best score.\n",
    "    best_score = xgb_cv_results[f\"test-{eval_metric}-mean\"].values[-1]\n",
    "    return best_score\n"
   ]
  },
  {
   "cell_type": "code",
   "execution_count": 48,
   "metadata": {},
   "outputs": [
    {
     "name": "stderr",
     "output_type": "stream",
     "text": [
      "[I 2023-10-12 20:27:37,274] A new study created in memory with name: no-name-d6b16355-3089-4deb-9f35-1039208c6839\n",
      "[I 2023-10-12 20:27:38,497] Trial 0 finished with value: 0.008522642141949215 and parameters: {'objective': 'binary:logistic', 'predictor': 'gpu_predictor', 'tree_method': 'gpu_hist', 'lambda': 3.9685579753331828, 'alpha': 1.6214698839502322, 'min_child_weight': 76, 'subsample': 0.22385338043897207, 'colsample_bytree': 0.2312632863240107, 'max_depth': 5, 'eta': 0.25, 'scale_pos_weight': 24.026793419648342}. Best is trial 0 with value: 0.008522642141949215.\n",
      "[I 2023-10-12 20:27:47,940] Trial 1 finished with value: 0.0034088673487403637 and parameters: {'objective': 'binary:logistic', 'predictor': 'gpu_predictor', 'tree_method': 'gpu_hist', 'lambda': 4.926213867034778, 'alpha': 4.827641795562912, 'min_child_weight': 93, 'subsample': 0.9541450925669392, 'colsample_bytree': 0.4494453512690106, 'max_depth': 2, 'eta': 0.3, 'scale_pos_weight': 24.026793419648342}. Best is trial 1 with value: 0.0034088673487403637.\n",
      "[I 2023-10-12 20:27:56,281] Trial 2 finished with value: 0.0040785979766351605 and parameters: {'objective': 'binary:logistic', 'predictor': 'gpu_predictor', 'tree_method': 'gpu_hist', 'lambda': 2.6750103117681743, 'alpha': 2.8559520444171693, 'min_child_weight': 68, 'subsample': 0.7156654743619624, 'colsample_bytree': 0.4479981345588489, 'max_depth': 1, 'eta': 0.25, 'scale_pos_weight': 24.026793419648342}. Best is trial 1 with value: 0.0034088673487403637.\n",
      "[I 2023-10-12 20:28:01,110] Trial 3 finished with value: 0.0031727627259592397 and parameters: {'objective': 'binary:logistic', 'predictor': 'gpu_predictor', 'tree_method': 'gpu_hist', 'lambda': 0.29919165041634166, 'alpha': 2.577172632358268, 'min_child_weight': 65, 'subsample': 0.7790656392549342, 'colsample_bytree': 0.9764128597462205, 'max_depth': 4, 'eta': 0.25, 'scale_pos_weight': 24.026793419648342}. Best is trial 3 with value: 0.0031727627259592397.\n",
      "[I 2023-10-12 20:28:04,697] Trial 4 finished with value: 0.0033391027593215627 and parameters: {'objective': 'binary:logistic', 'predictor': 'gpu_predictor', 'tree_method': 'gpu_hist', 'lambda': 1.0150167873849505, 'alpha': 0.10507681135275686, 'min_child_weight': 57, 'subsample': 0.5860663435050363, 'colsample_bytree': 0.5924366087537665, 'max_depth': 4, 'eta': 0.2, 'scale_pos_weight': 24.026793419648342}. Best is trial 3 with value: 0.0031727627259592397.\n",
      "[I 2023-10-12 20:28:06,081] Trial 5 pruned. Trial was pruned at iteration 213.\n",
      "[I 2023-10-12 20:28:06,301] Trial 6 pruned. Trial was pruned at iteration 0.\n",
      "[I 2023-10-12 20:28:06,552] Trial 7 pruned. Trial was pruned at iteration 0.\n",
      "[I 2023-10-12 20:28:06,943] Trial 8 pruned. Trial was pruned at iteration 26.\n",
      "[I 2023-10-12 20:28:07,189] Trial 9 pruned. Trial was pruned at iteration 0.\n",
      "[I 2023-10-12 20:28:07,449] Trial 10 pruned. Trial was pruned at iteration 0.\n",
      "[I 2023-10-12 20:28:07,722] Trial 11 pruned. Trial was pruned at iteration 0.\n",
      "[I 2023-10-12 20:28:07,962] Trial 12 pruned. Trial was pruned at iteration 0.\n",
      "[I 2023-10-12 20:28:08,233] Trial 13 pruned. Trial was pruned at iteration 0.\n",
      "[I 2023-10-12 20:28:08,483] Trial 14 pruned. Trial was pruned at iteration 0.\n",
      "[I 2023-10-12 20:28:08,719] Trial 15 pruned. Trial was pruned at iteration 0.\n",
      "[I 2023-10-12 20:28:08,955] Trial 16 pruned. Trial was pruned at iteration 0.\n",
      "[I 2023-10-12 20:28:09,214] Trial 17 pruned. Trial was pruned at iteration 0.\n",
      "[I 2023-10-12 20:28:09,485] Trial 18 pruned. Trial was pruned at iteration 0.\n",
      "[I 2023-10-12 20:28:09,741] Trial 19 pruned. Trial was pruned at iteration 0.\n",
      "[I 2023-10-12 20:28:13,579] Trial 20 finished with value: 0.0030984628411579603 and parameters: {'objective': 'binary:logistic', 'predictor': 'gpu_predictor', 'tree_method': 'gpu_hist', 'lambda': 0.42753643993366053, 'alpha': 2.3307715171471703, 'min_child_weight': 48, 'subsample': 0.7622813469236124, 'colsample_bytree': 0.9144059655193966, 'max_depth': 7, 'eta': 0.25, 'scale_pos_weight': 24.026793419648342}. Best is trial 20 with value: 0.0030984628411579603.\n",
      "[I 2023-10-12 20:28:16,539] Trial 21 finished with value: 0.00291678697532861 and parameters: {'objective': 'binary:logistic', 'predictor': 'gpu_predictor', 'tree_method': 'gpu_hist', 'lambda': 0.49650530180578456, 'alpha': 2.2237218334666293, 'min_child_weight': 39, 'subsample': 0.7764486449998251, 'colsample_bytree': 0.8851861307535379, 'max_depth': 7, 'eta': 0.25, 'scale_pos_weight': 24.026793419648342}. Best is trial 21 with value: 0.00291678697532861.\n",
      "[I 2023-10-12 20:28:20,167] Trial 22 finished with value: 0.002904131226073543 and parameters: {'objective': 'binary:logistic', 'predictor': 'gpu_predictor', 'tree_method': 'gpu_hist', 'lambda': 0.4807327992147796, 'alpha': 2.27892078266282, 'min_child_weight': 38, 'subsample': 0.799778307367943, 'colsample_bytree': 0.9083726440531006, 'max_depth': 8, 'eta': 0.25, 'scale_pos_weight': 24.026793419648342}. Best is trial 22 with value: 0.002904131226073543.\n",
      "[I 2023-10-12 20:28:23,372] Trial 23 finished with value: 0.00288168086254248 and parameters: {'objective': 'binary:logistic', 'predictor': 'gpu_predictor', 'tree_method': 'gpu_hist', 'lambda': 0.5125791878953889, 'alpha': 2.020407947216616, 'min_child_weight': 40, 'subsample': 0.8936057498602101, 'colsample_bytree': 0.9021161587461144, 'max_depth': 8, 'eta': 0.25, 'scale_pos_weight': 24.026793419648342}. Best is trial 23 with value: 0.00288168086254248.\n",
      "[I 2023-10-12 20:28:25,558] Trial 24 finished with value: 0.002840399446918397 and parameters: {'objective': 'binary:logistic', 'predictor': 'gpu_predictor', 'tree_method': 'gpu_hist', 'lambda': 0.6026528773478812, 'alpha': 1.9913901665811995, 'min_child_weight': 35, 'subsample': 0.9114616501866466, 'colsample_bytree': 0.894688137934689, 'max_depth': 9, 'eta': 0.25, 'scale_pos_weight': 24.026793419648342}. Best is trial 24 with value: 0.002840399446918397.\n",
      "[I 2023-10-12 20:28:27,567] Trial 25 finished with value: 0.002729423755974963 and parameters: {'objective': 'binary:logistic', 'predictor': 'gpu_predictor', 'tree_method': 'gpu_hist', 'lambda': 0.8399003907995732, 'alpha': 1.9142074068887265, 'min_child_weight': 16, 'subsample': 0.9072545018344723, 'colsample_bytree': 0.7865540487366641, 'max_depth': 9, 'eta': 0.25, 'scale_pos_weight': 24.026793419648342}. Best is trial 25 with value: 0.002729423755974963.\n",
      "[I 2023-10-12 20:28:29,562] Trial 26 finished with value: 0.0027371303521378 and parameters: {'objective': 'binary:logistic', 'predictor': 'gpu_predictor', 'tree_method': 'gpu_hist', 'lambda': 0.9948250961987226, 'alpha': 1.7636866421806827, 'min_child_weight': 16, 'subsample': 0.9100624346559992, 'colsample_bytree': 0.7997113906063494, 'max_depth': 9, 'eta': 0.25, 'scale_pos_weight': 24.026793419648342}. Best is trial 25 with value: 0.002729423755974963.\n",
      "[I 2023-10-12 20:28:31,253] Trial 27 finished with value: 0.002793607767930143 and parameters: {'objective': 'binary:logistic', 'predictor': 'gpu_predictor', 'tree_method': 'gpu_hist', 'lambda': 0.9598697816499311, 'alpha': 1.5266111861912703, 'min_child_weight': 17, 'subsample': 0.9282162998379754, 'colsample_bytree': 0.8218597950219992, 'max_depth': 9, 'eta': 0.25, 'scale_pos_weight': 24.026793419648342}. Best is trial 25 with value: 0.002729423755974963.\n",
      "[I 2023-10-12 20:28:33,214] Trial 28 finished with value: 0.0027731257375529267 and parameters: {'objective': 'binary:logistic', 'predictor': 'gpu_predictor', 'tree_method': 'gpu_hist', 'lambda': 1.7067466925571044, 'alpha': 1.7079767623173046, 'min_child_weight': 14, 'subsample': 0.9920360453838937, 'colsample_bytree': 0.7887904423481356, 'max_depth': 9, 'eta': 0.25, 'scale_pos_weight': 24.026793419648342}. Best is trial 25 with value: 0.002729423755974963.\n",
      "[I 2023-10-12 20:28:34,997] Trial 29 finished with value: 0.002749323812439357 and parameters: {'objective': 'binary:logistic', 'predictor': 'gpu_predictor', 'tree_method': 'gpu_hist', 'lambda': 1.71888276953223, 'alpha': 1.6340344138625393, 'min_child_weight': 13, 'subsample': 0.9930743541996271, 'colsample_bytree': 0.7861000227735093, 'max_depth': 9, 'eta': 0.25, 'scale_pos_weight': 24.026793419648342}. Best is trial 25 with value: 0.002729423755974963.\n"
     ]
    },
    {
     "name": "stdout",
     "output_type": "stream",
     "text": [
      "Number of finished trials:  30\n",
      "Best trial:\n",
      "  Value: 0.002729423755974963\n",
      "  Params: \n",
      "    objective: binary:logistic\n",
      "    predictor: gpu_predictor\n",
      "    tree_method: gpu_hist\n",
      "    lambda: 0.8399003907995732\n",
      "    alpha: 1.9142074068887265\n",
      "    min_child_weight: 16\n",
      "    subsample: 0.9072545018344723\n",
      "    colsample_bytree: 0.7865540487366641\n",
      "    max_depth: 9\n",
      "    eta: 0.25\n",
      "    scale_pos_weight: 24.026793419648342\n"
     ]
    }
   ],
   "source": [
    "study_xgb = optimize_objective(\n",
    "    objective=objective_xgb,\n",
    "    n_trials=30,\n",
    "    direction=\"minimize\"\n",
    ")"
   ]
  },
  {
   "cell_type": "code",
   "execution_count": 49,
   "metadata": {},
   "outputs": [
    {
     "data": {
      "application/vnd.plotly.v1+json": {
       "config": {
        "plotlyServerURL": "https://plot.ly"
       },
       "data": [
        {
         "mode": "markers",
         "name": "Objective Value",
         "type": "scatter",
         "x": [
          0,
          1,
          2,
          3,
          4,
          20,
          21,
          22,
          23,
          24,
          25,
          26,
          27,
          28,
          29
         ],
         "y": [
          0.008522642141949215,
          0.0034088673487403637,
          0.0040785979766351605,
          0.0031727627259592397,
          0.0033391027593215627,
          0.0030984628411579603,
          0.00291678697532861,
          0.002904131226073543,
          0.00288168086254248,
          0.002840399446918397,
          0.002729423755974963,
          0.0027371303521378,
          0.002793607767930143,
          0.0027731257375529267,
          0.002749323812439357
         ]
        },
        {
         "mode": "lines",
         "name": "Best Value",
         "type": "scatter",
         "x": [
          0,
          1,
          2,
          3,
          4,
          5,
          6,
          7,
          8,
          9,
          10,
          11,
          12,
          13,
          14,
          15,
          16,
          17,
          18,
          19,
          20,
          21,
          22,
          23,
          24,
          25,
          26,
          27,
          28,
          29
         ],
         "y": [
          0.008522642141949215,
          0.0034088673487403637,
          0.0034088673487403637,
          0.0031727627259592397,
          0.0031727627259592397,
          0.0031727627259592397,
          0.0031727627259592397,
          0.0031727627259592397,
          0.0031727627259592397,
          0.0031727627259592397,
          0.0031727627259592397,
          0.0031727627259592397,
          0.0031727627259592397,
          0.0031727627259592397,
          0.0031727627259592397,
          0.0031727627259592397,
          0.0031727627259592397,
          0.0031727627259592397,
          0.0031727627259592397,
          0.0031727627259592397,
          0.0030984628411579603,
          0.00291678697532861,
          0.002904131226073543,
          0.00288168086254248,
          0.002840399446918397,
          0.002729423755974963,
          0.002729423755974963,
          0.002729423755974963,
          0.002729423755974963,
          0.002729423755974963
         ]
        },
        {
         "marker": {
          "color": "#cccccc"
         },
         "mode": "markers",
         "name": "Infeasible Trial",
         "showlegend": false,
         "type": "scatter",
         "x": [],
         "y": []
        }
       ],
       "layout": {
        "template": {
         "data": {
          "bar": [
           {
            "error_x": {
             "color": "#2a3f5f"
            },
            "error_y": {
             "color": "#2a3f5f"
            },
            "marker": {
             "line": {
              "color": "#E5ECF6",
              "width": 0.5
             },
             "pattern": {
              "fillmode": "overlay",
              "size": 10,
              "solidity": 0.2
             }
            },
            "type": "bar"
           }
          ],
          "barpolar": [
           {
            "marker": {
             "line": {
              "color": "#E5ECF6",
              "width": 0.5
             },
             "pattern": {
              "fillmode": "overlay",
              "size": 10,
              "solidity": 0.2
             }
            },
            "type": "barpolar"
           }
          ],
          "carpet": [
           {
            "aaxis": {
             "endlinecolor": "#2a3f5f",
             "gridcolor": "white",
             "linecolor": "white",
             "minorgridcolor": "white",
             "startlinecolor": "#2a3f5f"
            },
            "baxis": {
             "endlinecolor": "#2a3f5f",
             "gridcolor": "white",
             "linecolor": "white",
             "minorgridcolor": "white",
             "startlinecolor": "#2a3f5f"
            },
            "type": "carpet"
           }
          ],
          "choropleth": [
           {
            "colorbar": {
             "outlinewidth": 0,
             "ticks": ""
            },
            "type": "choropleth"
           }
          ],
          "contour": [
           {
            "colorbar": {
             "outlinewidth": 0,
             "ticks": ""
            },
            "colorscale": [
             [
              0,
              "#0d0887"
             ],
             [
              0.1111111111111111,
              "#46039f"
             ],
             [
              0.2222222222222222,
              "#7201a8"
             ],
             [
              0.3333333333333333,
              "#9c179e"
             ],
             [
              0.4444444444444444,
              "#bd3786"
             ],
             [
              0.5555555555555556,
              "#d8576b"
             ],
             [
              0.6666666666666666,
              "#ed7953"
             ],
             [
              0.7777777777777778,
              "#fb9f3a"
             ],
             [
              0.8888888888888888,
              "#fdca26"
             ],
             [
              1,
              "#f0f921"
             ]
            ],
            "type": "contour"
           }
          ],
          "contourcarpet": [
           {
            "colorbar": {
             "outlinewidth": 0,
             "ticks": ""
            },
            "type": "contourcarpet"
           }
          ],
          "heatmap": [
           {
            "colorbar": {
             "outlinewidth": 0,
             "ticks": ""
            },
            "colorscale": [
             [
              0,
              "#0d0887"
             ],
             [
              0.1111111111111111,
              "#46039f"
             ],
             [
              0.2222222222222222,
              "#7201a8"
             ],
             [
              0.3333333333333333,
              "#9c179e"
             ],
             [
              0.4444444444444444,
              "#bd3786"
             ],
             [
              0.5555555555555556,
              "#d8576b"
             ],
             [
              0.6666666666666666,
              "#ed7953"
             ],
             [
              0.7777777777777778,
              "#fb9f3a"
             ],
             [
              0.8888888888888888,
              "#fdca26"
             ],
             [
              1,
              "#f0f921"
             ]
            ],
            "type": "heatmap"
           }
          ],
          "heatmapgl": [
           {
            "colorbar": {
             "outlinewidth": 0,
             "ticks": ""
            },
            "colorscale": [
             [
              0,
              "#0d0887"
             ],
             [
              0.1111111111111111,
              "#46039f"
             ],
             [
              0.2222222222222222,
              "#7201a8"
             ],
             [
              0.3333333333333333,
              "#9c179e"
             ],
             [
              0.4444444444444444,
              "#bd3786"
             ],
             [
              0.5555555555555556,
              "#d8576b"
             ],
             [
              0.6666666666666666,
              "#ed7953"
             ],
             [
              0.7777777777777778,
              "#fb9f3a"
             ],
             [
              0.8888888888888888,
              "#fdca26"
             ],
             [
              1,
              "#f0f921"
             ]
            ],
            "type": "heatmapgl"
           }
          ],
          "histogram": [
           {
            "marker": {
             "pattern": {
              "fillmode": "overlay",
              "size": 10,
              "solidity": 0.2
             }
            },
            "type": "histogram"
           }
          ],
          "histogram2d": [
           {
            "colorbar": {
             "outlinewidth": 0,
             "ticks": ""
            },
            "colorscale": [
             [
              0,
              "#0d0887"
             ],
             [
              0.1111111111111111,
              "#46039f"
             ],
             [
              0.2222222222222222,
              "#7201a8"
             ],
             [
              0.3333333333333333,
              "#9c179e"
             ],
             [
              0.4444444444444444,
              "#bd3786"
             ],
             [
              0.5555555555555556,
              "#d8576b"
             ],
             [
              0.6666666666666666,
              "#ed7953"
             ],
             [
              0.7777777777777778,
              "#fb9f3a"
             ],
             [
              0.8888888888888888,
              "#fdca26"
             ],
             [
              1,
              "#f0f921"
             ]
            ],
            "type": "histogram2d"
           }
          ],
          "histogram2dcontour": [
           {
            "colorbar": {
             "outlinewidth": 0,
             "ticks": ""
            },
            "colorscale": [
             [
              0,
              "#0d0887"
             ],
             [
              0.1111111111111111,
              "#46039f"
             ],
             [
              0.2222222222222222,
              "#7201a8"
             ],
             [
              0.3333333333333333,
              "#9c179e"
             ],
             [
              0.4444444444444444,
              "#bd3786"
             ],
             [
              0.5555555555555556,
              "#d8576b"
             ],
             [
              0.6666666666666666,
              "#ed7953"
             ],
             [
              0.7777777777777778,
              "#fb9f3a"
             ],
             [
              0.8888888888888888,
              "#fdca26"
             ],
             [
              1,
              "#f0f921"
             ]
            ],
            "type": "histogram2dcontour"
           }
          ],
          "mesh3d": [
           {
            "colorbar": {
             "outlinewidth": 0,
             "ticks": ""
            },
            "type": "mesh3d"
           }
          ],
          "parcoords": [
           {
            "line": {
             "colorbar": {
              "outlinewidth": 0,
              "ticks": ""
             }
            },
            "type": "parcoords"
           }
          ],
          "pie": [
           {
            "automargin": true,
            "type": "pie"
           }
          ],
          "scatter": [
           {
            "fillpattern": {
             "fillmode": "overlay",
             "size": 10,
             "solidity": 0.2
            },
            "type": "scatter"
           }
          ],
          "scatter3d": [
           {
            "line": {
             "colorbar": {
              "outlinewidth": 0,
              "ticks": ""
             }
            },
            "marker": {
             "colorbar": {
              "outlinewidth": 0,
              "ticks": ""
             }
            },
            "type": "scatter3d"
           }
          ],
          "scattercarpet": [
           {
            "marker": {
             "colorbar": {
              "outlinewidth": 0,
              "ticks": ""
             }
            },
            "type": "scattercarpet"
           }
          ],
          "scattergeo": [
           {
            "marker": {
             "colorbar": {
              "outlinewidth": 0,
              "ticks": ""
             }
            },
            "type": "scattergeo"
           }
          ],
          "scattergl": [
           {
            "marker": {
             "colorbar": {
              "outlinewidth": 0,
              "ticks": ""
             }
            },
            "type": "scattergl"
           }
          ],
          "scattermapbox": [
           {
            "marker": {
             "colorbar": {
              "outlinewidth": 0,
              "ticks": ""
             }
            },
            "type": "scattermapbox"
           }
          ],
          "scatterpolar": [
           {
            "marker": {
             "colorbar": {
              "outlinewidth": 0,
              "ticks": ""
             }
            },
            "type": "scatterpolar"
           }
          ],
          "scatterpolargl": [
           {
            "marker": {
             "colorbar": {
              "outlinewidth": 0,
              "ticks": ""
             }
            },
            "type": "scatterpolargl"
           }
          ],
          "scatterternary": [
           {
            "marker": {
             "colorbar": {
              "outlinewidth": 0,
              "ticks": ""
             }
            },
            "type": "scatterternary"
           }
          ],
          "surface": [
           {
            "colorbar": {
             "outlinewidth": 0,
             "ticks": ""
            },
            "colorscale": [
             [
              0,
              "#0d0887"
             ],
             [
              0.1111111111111111,
              "#46039f"
             ],
             [
              0.2222222222222222,
              "#7201a8"
             ],
             [
              0.3333333333333333,
              "#9c179e"
             ],
             [
              0.4444444444444444,
              "#bd3786"
             ],
             [
              0.5555555555555556,
              "#d8576b"
             ],
             [
              0.6666666666666666,
              "#ed7953"
             ],
             [
              0.7777777777777778,
              "#fb9f3a"
             ],
             [
              0.8888888888888888,
              "#fdca26"
             ],
             [
              1,
              "#f0f921"
             ]
            ],
            "type": "surface"
           }
          ],
          "table": [
           {
            "cells": {
             "fill": {
              "color": "#EBF0F8"
             },
             "line": {
              "color": "white"
             }
            },
            "header": {
             "fill": {
              "color": "#C8D4E3"
             },
             "line": {
              "color": "white"
             }
            },
            "type": "table"
           }
          ]
         },
         "layout": {
          "annotationdefaults": {
           "arrowcolor": "#2a3f5f",
           "arrowhead": 0,
           "arrowwidth": 1
          },
          "autotypenumbers": "strict",
          "coloraxis": {
           "colorbar": {
            "outlinewidth": 0,
            "ticks": ""
           }
          },
          "colorscale": {
           "diverging": [
            [
             0,
             "#8e0152"
            ],
            [
             0.1,
             "#c51b7d"
            ],
            [
             0.2,
             "#de77ae"
            ],
            [
             0.3,
             "#f1b6da"
            ],
            [
             0.4,
             "#fde0ef"
            ],
            [
             0.5,
             "#f7f7f7"
            ],
            [
             0.6,
             "#e6f5d0"
            ],
            [
             0.7,
             "#b8e186"
            ],
            [
             0.8,
             "#7fbc41"
            ],
            [
             0.9,
             "#4d9221"
            ],
            [
             1,
             "#276419"
            ]
           ],
           "sequential": [
            [
             0,
             "#0d0887"
            ],
            [
             0.1111111111111111,
             "#46039f"
            ],
            [
             0.2222222222222222,
             "#7201a8"
            ],
            [
             0.3333333333333333,
             "#9c179e"
            ],
            [
             0.4444444444444444,
             "#bd3786"
            ],
            [
             0.5555555555555556,
             "#d8576b"
            ],
            [
             0.6666666666666666,
             "#ed7953"
            ],
            [
             0.7777777777777778,
             "#fb9f3a"
            ],
            [
             0.8888888888888888,
             "#fdca26"
            ],
            [
             1,
             "#f0f921"
            ]
           ],
           "sequentialminus": [
            [
             0,
             "#0d0887"
            ],
            [
             0.1111111111111111,
             "#46039f"
            ],
            [
             0.2222222222222222,
             "#7201a8"
            ],
            [
             0.3333333333333333,
             "#9c179e"
            ],
            [
             0.4444444444444444,
             "#bd3786"
            ],
            [
             0.5555555555555556,
             "#d8576b"
            ],
            [
             0.6666666666666666,
             "#ed7953"
            ],
            [
             0.7777777777777778,
             "#fb9f3a"
            ],
            [
             0.8888888888888888,
             "#fdca26"
            ],
            [
             1,
             "#f0f921"
            ]
           ]
          },
          "colorway": [
           "#636efa",
           "#EF553B",
           "#00cc96",
           "#ab63fa",
           "#FFA15A",
           "#19d3f3",
           "#FF6692",
           "#B6E880",
           "#FF97FF",
           "#FECB52"
          ],
          "font": {
           "color": "#2a3f5f"
          },
          "geo": {
           "bgcolor": "white",
           "lakecolor": "white",
           "landcolor": "#E5ECF6",
           "showlakes": true,
           "showland": true,
           "subunitcolor": "white"
          },
          "hoverlabel": {
           "align": "left"
          },
          "hovermode": "closest",
          "mapbox": {
           "style": "light"
          },
          "paper_bgcolor": "white",
          "plot_bgcolor": "#E5ECF6",
          "polar": {
           "angularaxis": {
            "gridcolor": "white",
            "linecolor": "white",
            "ticks": ""
           },
           "bgcolor": "#E5ECF6",
           "radialaxis": {
            "gridcolor": "white",
            "linecolor": "white",
            "ticks": ""
           }
          },
          "scene": {
           "xaxis": {
            "backgroundcolor": "#E5ECF6",
            "gridcolor": "white",
            "gridwidth": 2,
            "linecolor": "white",
            "showbackground": true,
            "ticks": "",
            "zerolinecolor": "white"
           },
           "yaxis": {
            "backgroundcolor": "#E5ECF6",
            "gridcolor": "white",
            "gridwidth": 2,
            "linecolor": "white",
            "showbackground": true,
            "ticks": "",
            "zerolinecolor": "white"
           },
           "zaxis": {
            "backgroundcolor": "#E5ECF6",
            "gridcolor": "white",
            "gridwidth": 2,
            "linecolor": "white",
            "showbackground": true,
            "ticks": "",
            "zerolinecolor": "white"
           }
          },
          "shapedefaults": {
           "line": {
            "color": "#2a3f5f"
           }
          },
          "ternary": {
           "aaxis": {
            "gridcolor": "white",
            "linecolor": "white",
            "ticks": ""
           },
           "baxis": {
            "gridcolor": "white",
            "linecolor": "white",
            "ticks": ""
           },
           "bgcolor": "#E5ECF6",
           "caxis": {
            "gridcolor": "white",
            "linecolor": "white",
            "ticks": ""
           }
          },
          "title": {
           "x": 0.05
          },
          "xaxis": {
           "automargin": true,
           "gridcolor": "white",
           "linecolor": "white",
           "ticks": "",
           "title": {
            "standoff": 15
           },
           "zerolinecolor": "white",
           "zerolinewidth": 2
          },
          "yaxis": {
           "automargin": true,
           "gridcolor": "white",
           "linecolor": "white",
           "ticks": "",
           "title": {
            "standoff": 15
           },
           "zerolinecolor": "white",
           "zerolinewidth": 2
          }
         }
        },
        "title": {
         "text": "Optimization History Plot"
        },
        "xaxis": {
         "title": {
          "text": "Trial"
         }
        },
        "yaxis": {
         "title": {
          "text": "Objective Value"
         }
        }
       }
      },
      "text/html": [
       "<div>                            <div id=\"e273ac22-516c-41aa-8b22-9d65536bd17a\" class=\"plotly-graph-div\" style=\"height:525px; width:100%;\"></div>            <script type=\"text/javascript\">                require([\"plotly\"], function(Plotly) {                    window.PLOTLYENV=window.PLOTLYENV || {};                                    if (document.getElementById(\"e273ac22-516c-41aa-8b22-9d65536bd17a\")) {                    Plotly.newPlot(                        \"e273ac22-516c-41aa-8b22-9d65536bd17a\",                        [{\"mode\":\"markers\",\"name\":\"Objective Value\",\"x\":[0,1,2,3,4,20,21,22,23,24,25,26,27,28,29],\"y\":[0.008522642141949215,0.0034088673487403637,0.0040785979766351605,0.0031727627259592397,0.0033391027593215627,0.0030984628411579603,0.00291678697532861,0.002904131226073543,0.00288168086254248,0.002840399446918397,0.002729423755974963,0.0027371303521378,0.002793607767930143,0.0027731257375529267,0.002749323812439357],\"type\":\"scatter\"},{\"mode\":\"lines\",\"name\":\"Best Value\",\"x\":[0,1,2,3,4,5,6,7,8,9,10,11,12,13,14,15,16,17,18,19,20,21,22,23,24,25,26,27,28,29],\"y\":[0.008522642141949215,0.0034088673487403637,0.0034088673487403637,0.0031727627259592397,0.0031727627259592397,0.0031727627259592397,0.0031727627259592397,0.0031727627259592397,0.0031727627259592397,0.0031727627259592397,0.0031727627259592397,0.0031727627259592397,0.0031727627259592397,0.0031727627259592397,0.0031727627259592397,0.0031727627259592397,0.0031727627259592397,0.0031727627259592397,0.0031727627259592397,0.0031727627259592397,0.0030984628411579603,0.00291678697532861,0.002904131226073543,0.00288168086254248,0.002840399446918397,0.002729423755974963,0.002729423755974963,0.002729423755974963,0.002729423755974963,0.002729423755974963],\"type\":\"scatter\"},{\"marker\":{\"color\":\"#cccccc\"},\"mode\":\"markers\",\"name\":\"Infeasible Trial\",\"showlegend\":false,\"x\":[],\"y\":[],\"type\":\"scatter\"}],                        {\"title\":{\"text\":\"Optimization History Plot\"},\"xaxis\":{\"title\":{\"text\":\"Trial\"}},\"yaxis\":{\"title\":{\"text\":\"Objective Value\"}},\"template\":{\"data\":{\"histogram2dcontour\":[{\"type\":\"histogram2dcontour\",\"colorbar\":{\"outlinewidth\":0,\"ticks\":\"\"},\"colorscale\":[[0.0,\"#0d0887\"],[0.1111111111111111,\"#46039f\"],[0.2222222222222222,\"#7201a8\"],[0.3333333333333333,\"#9c179e\"],[0.4444444444444444,\"#bd3786\"],[0.5555555555555556,\"#d8576b\"],[0.6666666666666666,\"#ed7953\"],[0.7777777777777778,\"#fb9f3a\"],[0.8888888888888888,\"#fdca26\"],[1.0,\"#f0f921\"]]}],\"choropleth\":[{\"type\":\"choropleth\",\"colorbar\":{\"outlinewidth\":0,\"ticks\":\"\"}}],\"histogram2d\":[{\"type\":\"histogram2d\",\"colorbar\":{\"outlinewidth\":0,\"ticks\":\"\"},\"colorscale\":[[0.0,\"#0d0887\"],[0.1111111111111111,\"#46039f\"],[0.2222222222222222,\"#7201a8\"],[0.3333333333333333,\"#9c179e\"],[0.4444444444444444,\"#bd3786\"],[0.5555555555555556,\"#d8576b\"],[0.6666666666666666,\"#ed7953\"],[0.7777777777777778,\"#fb9f3a\"],[0.8888888888888888,\"#fdca26\"],[1.0,\"#f0f921\"]]}],\"heatmap\":[{\"type\":\"heatmap\",\"colorbar\":{\"outlinewidth\":0,\"ticks\":\"\"},\"colorscale\":[[0.0,\"#0d0887\"],[0.1111111111111111,\"#46039f\"],[0.2222222222222222,\"#7201a8\"],[0.3333333333333333,\"#9c179e\"],[0.4444444444444444,\"#bd3786\"],[0.5555555555555556,\"#d8576b\"],[0.6666666666666666,\"#ed7953\"],[0.7777777777777778,\"#fb9f3a\"],[0.8888888888888888,\"#fdca26\"],[1.0,\"#f0f921\"]]}],\"heatmapgl\":[{\"type\":\"heatmapgl\",\"colorbar\":{\"outlinewidth\":0,\"ticks\":\"\"},\"colorscale\":[[0.0,\"#0d0887\"],[0.1111111111111111,\"#46039f\"],[0.2222222222222222,\"#7201a8\"],[0.3333333333333333,\"#9c179e\"],[0.4444444444444444,\"#bd3786\"],[0.5555555555555556,\"#d8576b\"],[0.6666666666666666,\"#ed7953\"],[0.7777777777777778,\"#fb9f3a\"],[0.8888888888888888,\"#fdca26\"],[1.0,\"#f0f921\"]]}],\"contourcarpet\":[{\"type\":\"contourcarpet\",\"colorbar\":{\"outlinewidth\":0,\"ticks\":\"\"}}],\"contour\":[{\"type\":\"contour\",\"colorbar\":{\"outlinewidth\":0,\"ticks\":\"\"},\"colorscale\":[[0.0,\"#0d0887\"],[0.1111111111111111,\"#46039f\"],[0.2222222222222222,\"#7201a8\"],[0.3333333333333333,\"#9c179e\"],[0.4444444444444444,\"#bd3786\"],[0.5555555555555556,\"#d8576b\"],[0.6666666666666666,\"#ed7953\"],[0.7777777777777778,\"#fb9f3a\"],[0.8888888888888888,\"#fdca26\"],[1.0,\"#f0f921\"]]}],\"surface\":[{\"type\":\"surface\",\"colorbar\":{\"outlinewidth\":0,\"ticks\":\"\"},\"colorscale\":[[0.0,\"#0d0887\"],[0.1111111111111111,\"#46039f\"],[0.2222222222222222,\"#7201a8\"],[0.3333333333333333,\"#9c179e\"],[0.4444444444444444,\"#bd3786\"],[0.5555555555555556,\"#d8576b\"],[0.6666666666666666,\"#ed7953\"],[0.7777777777777778,\"#fb9f3a\"],[0.8888888888888888,\"#fdca26\"],[1.0,\"#f0f921\"]]}],\"mesh3d\":[{\"type\":\"mesh3d\",\"colorbar\":{\"outlinewidth\":0,\"ticks\":\"\"}}],\"scatter\":[{\"fillpattern\":{\"fillmode\":\"overlay\",\"size\":10,\"solidity\":0.2},\"type\":\"scatter\"}],\"parcoords\":[{\"type\":\"parcoords\",\"line\":{\"colorbar\":{\"outlinewidth\":0,\"ticks\":\"\"}}}],\"scatterpolargl\":[{\"type\":\"scatterpolargl\",\"marker\":{\"colorbar\":{\"outlinewidth\":0,\"ticks\":\"\"}}}],\"bar\":[{\"error_x\":{\"color\":\"#2a3f5f\"},\"error_y\":{\"color\":\"#2a3f5f\"},\"marker\":{\"line\":{\"color\":\"#E5ECF6\",\"width\":0.5},\"pattern\":{\"fillmode\":\"overlay\",\"size\":10,\"solidity\":0.2}},\"type\":\"bar\"}],\"scattergeo\":[{\"type\":\"scattergeo\",\"marker\":{\"colorbar\":{\"outlinewidth\":0,\"ticks\":\"\"}}}],\"scatterpolar\":[{\"type\":\"scatterpolar\",\"marker\":{\"colorbar\":{\"outlinewidth\":0,\"ticks\":\"\"}}}],\"histogram\":[{\"marker\":{\"pattern\":{\"fillmode\":\"overlay\",\"size\":10,\"solidity\":0.2}},\"type\":\"histogram\"}],\"scattergl\":[{\"type\":\"scattergl\",\"marker\":{\"colorbar\":{\"outlinewidth\":0,\"ticks\":\"\"}}}],\"scatter3d\":[{\"type\":\"scatter3d\",\"line\":{\"colorbar\":{\"outlinewidth\":0,\"ticks\":\"\"}},\"marker\":{\"colorbar\":{\"outlinewidth\":0,\"ticks\":\"\"}}}],\"scattermapbox\":[{\"type\":\"scattermapbox\",\"marker\":{\"colorbar\":{\"outlinewidth\":0,\"ticks\":\"\"}}}],\"scatterternary\":[{\"type\":\"scatterternary\",\"marker\":{\"colorbar\":{\"outlinewidth\":0,\"ticks\":\"\"}}}],\"scattercarpet\":[{\"type\":\"scattercarpet\",\"marker\":{\"colorbar\":{\"outlinewidth\":0,\"ticks\":\"\"}}}],\"carpet\":[{\"aaxis\":{\"endlinecolor\":\"#2a3f5f\",\"gridcolor\":\"white\",\"linecolor\":\"white\",\"minorgridcolor\":\"white\",\"startlinecolor\":\"#2a3f5f\"},\"baxis\":{\"endlinecolor\":\"#2a3f5f\",\"gridcolor\":\"white\",\"linecolor\":\"white\",\"minorgridcolor\":\"white\",\"startlinecolor\":\"#2a3f5f\"},\"type\":\"carpet\"}],\"table\":[{\"cells\":{\"fill\":{\"color\":\"#EBF0F8\"},\"line\":{\"color\":\"white\"}},\"header\":{\"fill\":{\"color\":\"#C8D4E3\"},\"line\":{\"color\":\"white\"}},\"type\":\"table\"}],\"barpolar\":[{\"marker\":{\"line\":{\"color\":\"#E5ECF6\",\"width\":0.5},\"pattern\":{\"fillmode\":\"overlay\",\"size\":10,\"solidity\":0.2}},\"type\":\"barpolar\"}],\"pie\":[{\"automargin\":true,\"type\":\"pie\"}]},\"layout\":{\"autotypenumbers\":\"strict\",\"colorway\":[\"#636efa\",\"#EF553B\",\"#00cc96\",\"#ab63fa\",\"#FFA15A\",\"#19d3f3\",\"#FF6692\",\"#B6E880\",\"#FF97FF\",\"#FECB52\"],\"font\":{\"color\":\"#2a3f5f\"},\"hovermode\":\"closest\",\"hoverlabel\":{\"align\":\"left\"},\"paper_bgcolor\":\"white\",\"plot_bgcolor\":\"#E5ECF6\",\"polar\":{\"bgcolor\":\"#E5ECF6\",\"angularaxis\":{\"gridcolor\":\"white\",\"linecolor\":\"white\",\"ticks\":\"\"},\"radialaxis\":{\"gridcolor\":\"white\",\"linecolor\":\"white\",\"ticks\":\"\"}},\"ternary\":{\"bgcolor\":\"#E5ECF6\",\"aaxis\":{\"gridcolor\":\"white\",\"linecolor\":\"white\",\"ticks\":\"\"},\"baxis\":{\"gridcolor\":\"white\",\"linecolor\":\"white\",\"ticks\":\"\"},\"caxis\":{\"gridcolor\":\"white\",\"linecolor\":\"white\",\"ticks\":\"\"}},\"coloraxis\":{\"colorbar\":{\"outlinewidth\":0,\"ticks\":\"\"}},\"colorscale\":{\"sequential\":[[0.0,\"#0d0887\"],[0.1111111111111111,\"#46039f\"],[0.2222222222222222,\"#7201a8\"],[0.3333333333333333,\"#9c179e\"],[0.4444444444444444,\"#bd3786\"],[0.5555555555555556,\"#d8576b\"],[0.6666666666666666,\"#ed7953\"],[0.7777777777777778,\"#fb9f3a\"],[0.8888888888888888,\"#fdca26\"],[1.0,\"#f0f921\"]],\"sequentialminus\":[[0.0,\"#0d0887\"],[0.1111111111111111,\"#46039f\"],[0.2222222222222222,\"#7201a8\"],[0.3333333333333333,\"#9c179e\"],[0.4444444444444444,\"#bd3786\"],[0.5555555555555556,\"#d8576b\"],[0.6666666666666666,\"#ed7953\"],[0.7777777777777778,\"#fb9f3a\"],[0.8888888888888888,\"#fdca26\"],[1.0,\"#f0f921\"]],\"diverging\":[[0,\"#8e0152\"],[0.1,\"#c51b7d\"],[0.2,\"#de77ae\"],[0.3,\"#f1b6da\"],[0.4,\"#fde0ef\"],[0.5,\"#f7f7f7\"],[0.6,\"#e6f5d0\"],[0.7,\"#b8e186\"],[0.8,\"#7fbc41\"],[0.9,\"#4d9221\"],[1,\"#276419\"]]},\"xaxis\":{\"gridcolor\":\"white\",\"linecolor\":\"white\",\"ticks\":\"\",\"title\":{\"standoff\":15},\"zerolinecolor\":\"white\",\"automargin\":true,\"zerolinewidth\":2},\"yaxis\":{\"gridcolor\":\"white\",\"linecolor\":\"white\",\"ticks\":\"\",\"title\":{\"standoff\":15},\"zerolinecolor\":\"white\",\"automargin\":true,\"zerolinewidth\":2},\"scene\":{\"xaxis\":{\"backgroundcolor\":\"#E5ECF6\",\"gridcolor\":\"white\",\"linecolor\":\"white\",\"showbackground\":true,\"ticks\":\"\",\"zerolinecolor\":\"white\",\"gridwidth\":2},\"yaxis\":{\"backgroundcolor\":\"#E5ECF6\",\"gridcolor\":\"white\",\"linecolor\":\"white\",\"showbackground\":true,\"ticks\":\"\",\"zerolinecolor\":\"white\",\"gridwidth\":2},\"zaxis\":{\"backgroundcolor\":\"#E5ECF6\",\"gridcolor\":\"white\",\"linecolor\":\"white\",\"showbackground\":true,\"ticks\":\"\",\"zerolinecolor\":\"white\",\"gridwidth\":2}},\"shapedefaults\":{\"line\":{\"color\":\"#2a3f5f\"}},\"annotationdefaults\":{\"arrowcolor\":\"#2a3f5f\",\"arrowhead\":0,\"arrowwidth\":1},\"geo\":{\"bgcolor\":\"white\",\"landcolor\":\"#E5ECF6\",\"subunitcolor\":\"white\",\"showland\":true,\"showlakes\":true,\"lakecolor\":\"white\"},\"title\":{\"x\":0.05},\"mapbox\":{\"style\":\"light\"}}}},                        {\"responsive\": true}                    ).then(function(){\n",
       "                            \n",
       "var gd = document.getElementById('e273ac22-516c-41aa-8b22-9d65536bd17a');\n",
       "var x = new MutationObserver(function (mutations, observer) {{\n",
       "        var display = window.getComputedStyle(gd).display;\n",
       "        if (!display || display === 'none') {{\n",
       "            console.log([gd, 'removed!']);\n",
       "            Plotly.purge(gd);\n",
       "            observer.disconnect();\n",
       "        }}\n",
       "}});\n",
       "\n",
       "// Listen for the removal of the full notebook cells\n",
       "var notebookContainer = gd.closest('#notebook-container');\n",
       "if (notebookContainer) {{\n",
       "    x.observe(notebookContainer, {childList: true});\n",
       "}}\n",
       "\n",
       "// Listen for the clearing of the current output cell\n",
       "var outputEl = gd.closest('.output');\n",
       "if (outputEl) {{\n",
       "    x.observe(outputEl, {childList: true});\n",
       "}}\n",
       "\n",
       "                        })                };                });            </script>        </div>"
      ]
     },
     "metadata": {},
     "output_type": "display_data"
    }
   ],
   "source": [
    "optuna.visualization.plot_optimization_history(study_xgb)"
   ]
  },
  {
   "cell_type": "code",
   "execution_count": 50,
   "metadata": {},
   "outputs": [
    {
     "name": "stdout",
     "output_type": "stream",
     "text": [
      "-------------------- Evaulation scores --------------------\n",
      "\n",
      "              precision    recall  f1-score   support\n",
      "\n",
      "           0       1.00      1.00      1.00     56864\n",
      "           1       0.92      0.85      0.88        98\n",
      "\n",
      "    accuracy                           1.00     56962\n",
      "   macro avg       0.96      0.92      0.94     56962\n",
      "weighted avg       1.00      1.00      1.00     56962\n",
      "\n",
      "-----------------------------------------------------------\n",
      "AUCPR score: 0.8932\n",
      "\n",
      "-----------------------------------------------------------\n",
      "Metrics when different threshold is used on test data: \n"
     ]
    },
    {
     "data": {
      "text/html": [
       "<div>\n",
       "<style scoped>\n",
       "    .dataframe tbody tr th:only-of-type {\n",
       "        vertical-align: middle;\n",
       "    }\n",
       "\n",
       "    .dataframe tbody tr th {\n",
       "        vertical-align: top;\n",
       "    }\n",
       "\n",
       "    .dataframe thead th {\n",
       "        text-align: right;\n",
       "    }\n",
       "</style>\n",
       "<table border=\"1\" class=\"dataframe\">\n",
       "  <thead>\n",
       "    <tr style=\"text-align: right;\">\n",
       "      <th></th>\n",
       "      <th>threshold</th>\n",
       "      <th>precision</th>\n",
       "      <th>recall</th>\n",
       "      <th>FN</th>\n",
       "      <th>FP</th>\n",
       "      <th>TP</th>\n",
       "      <th>TN</th>\n",
       "    </tr>\n",
       "  </thead>\n",
       "  <tbody>\n",
       "    <tr>\n",
       "      <th>0</th>\n",
       "      <td>0.1</td>\n",
       "      <td>0.952381</td>\n",
       "      <td>0.816327</td>\n",
       "      <td>18</td>\n",
       "      <td>4</td>\n",
       "      <td>80</td>\n",
       "      <td>56860</td>\n",
       "    </tr>\n",
       "    <tr>\n",
       "      <th>1</th>\n",
       "      <td>0.2</td>\n",
       "      <td>0.941860</td>\n",
       "      <td>0.826531</td>\n",
       "      <td>17</td>\n",
       "      <td>5</td>\n",
       "      <td>81</td>\n",
       "      <td>56859</td>\n",
       "    </tr>\n",
       "    <tr>\n",
       "      <th>2</th>\n",
       "      <td>0.3</td>\n",
       "      <td>0.931034</td>\n",
       "      <td>0.826531</td>\n",
       "      <td>17</td>\n",
       "      <td>6</td>\n",
       "      <td>81</td>\n",
       "      <td>56858</td>\n",
       "    </tr>\n",
       "    <tr>\n",
       "      <th>3</th>\n",
       "      <td>0.4</td>\n",
       "      <td>0.920455</td>\n",
       "      <td>0.826531</td>\n",
       "      <td>17</td>\n",
       "      <td>7</td>\n",
       "      <td>81</td>\n",
       "      <td>56857</td>\n",
       "    </tr>\n",
       "    <tr>\n",
       "      <th>4</th>\n",
       "      <td>0.5</td>\n",
       "      <td>0.922222</td>\n",
       "      <td>0.846939</td>\n",
       "      <td>15</td>\n",
       "      <td>7</td>\n",
       "      <td>83</td>\n",
       "      <td>56857</td>\n",
       "    </tr>\n",
       "    <tr>\n",
       "      <th>5</th>\n",
       "      <td>0.6</td>\n",
       "      <td>0.904255</td>\n",
       "      <td>0.867347</td>\n",
       "      <td>13</td>\n",
       "      <td>9</td>\n",
       "      <td>85</td>\n",
       "      <td>56855</td>\n",
       "    </tr>\n",
       "    <tr>\n",
       "      <th>6</th>\n",
       "      <td>0.7</td>\n",
       "      <td>0.885417</td>\n",
       "      <td>0.867347</td>\n",
       "      <td>13</td>\n",
       "      <td>11</td>\n",
       "      <td>85</td>\n",
       "      <td>56853</td>\n",
       "    </tr>\n",
       "    <tr>\n",
       "      <th>7</th>\n",
       "      <td>0.8</td>\n",
       "      <td>0.858586</td>\n",
       "      <td>0.867347</td>\n",
       "      <td>13</td>\n",
       "      <td>14</td>\n",
       "      <td>85</td>\n",
       "      <td>56850</td>\n",
       "    </tr>\n",
       "    <tr>\n",
       "      <th>8</th>\n",
       "      <td>0.9</td>\n",
       "      <td>0.741379</td>\n",
       "      <td>0.877551</td>\n",
       "      <td>12</td>\n",
       "      <td>30</td>\n",
       "      <td>86</td>\n",
       "      <td>56834</td>\n",
       "    </tr>\n",
       "  </tbody>\n",
       "</table>\n",
       "</div>"
      ],
      "text/plain": [
       "   threshold  precision    recall  FN  FP  TP     TN\n",
       "0        0.1   0.952381  0.816327  18   4  80  56860\n",
       "1        0.2   0.941860  0.826531  17   5  81  56859\n",
       "2        0.3   0.931034  0.826531  17   6  81  56858\n",
       "3        0.4   0.920455  0.826531  17   7  81  56857\n",
       "4        0.5   0.922222  0.846939  15   7  83  56857\n",
       "5        0.6   0.904255  0.867347  13   9  85  56855\n",
       "6        0.7   0.885417  0.867347  13  11  85  56853\n",
       "7        0.8   0.858586  0.867347  13  14  85  56850\n",
       "8        0.9   0.741379  0.877551  12  30  86  56834"
      ]
     },
     "metadata": {},
     "output_type": "display_data"
    },
    {
     "name": "stdout",
     "output_type": "stream",
     "text": [
      "\n",
      "\n"
     ]
    },
    {
     "data": {
      "image/png": "[encoded data removed]",
      "text/plain": [
       "<Figure size 500x500 with 1 Axes>"
      ]
     },
     "metadata": {},
     "output_type": "display_data"
    }
   ],
   "source": [
    "def create_fit_xgb(study, x, y):\n",
    "\n",
    "    model = xgb.XGBClassifier(\n",
    "        **study.best_params, \n",
    "        n_estimators = study.best_trial.user_attrs['n_estimators']\n",
    "    )\n",
    "    model.fit(x, y)\n",
    "\n",
    "    return model\n",
    "\n",
    "model_xgb = create_fit_xgb(study_xgb, X_train, y_train)\n",
    "result_xgb = evaluate_model(model_xgb, X_test, y_test)"
   ]
  },
  {
   "cell_type": "code",
   "execution_count": 51,
   "metadata": {},
   "outputs": [],
   "source": [
    "# Saving the model with the best performance\n",
    "model_xgb.save_model(os.path.join(FOLDER_TO_SAVE_MODELS,f\"XGB-{datetime.now().strftime('%Y%m%d')}.json\"))\n",
    "\n",
    "# Example to load model\n",
    "# loaded_model_xgb = xgb.XGBClassifier()\n",
    "# loaded_model_xgb.load_model(\"model_sklearn.json\")"
   ]
  },
  {
   "cell_type": "markdown",
   "metadata": {},
   "source": [
    "### CATBOOST + OPTUNA"
   ]
  },
  {
   "cell_type": "code",
   "execution_count": 25,
   "metadata": {},
   "outputs": [],
   "source": [
    "def objective_cb(\n",
    "        trial,\n",
    "        eval_metric='Logloss', \n",
    "        x_train=X_train,\n",
    "        x_test=X_test,\n",
    "        y_train=y_train,\n",
    "        y_test=y_test,\n",
    "        seed=42,\n",
    "        n_folds=3\n",
    "):\n",
    "    \n",
    "        train_pool = cb.Pool(data=x_train, label=y_train, has_header=True)\n",
    "        test_pool = cb.Pool(data=x_test, label=y_test, has_header=True)\n",
    "\n",
    "        pos_weight = np.sqrt(y_train.value_counts()[0] / y_train.value_counts()[1])\n",
    "\n",
    "        params = {\n",
    "                \"objective\": trial.suggest_categorical(\"objective\", [\"Logloss\"]),\n",
    "                # \"colsample_bylevel\": trial.suggest_float(\"colsample_bylevel\", 0.01, 0.1),\n",
    "                \"depth\": trial.suggest_int(\"depth\", 1, 12),\n",
    "                \"learning_rate\":trial.suggest_float(\"learning_rate\", 1e-3, 1, log=True),\n",
    "                # With this amount of data ordered boosting_type would make our training \n",
    "                \"boosting_type\": trial.suggest_categorical(\"boosting_type\", [\"Plain\"]),\n",
    "                \"bootstrap_type\": trial.suggest_categorical(\n",
    "                \"bootstrap_type\", [\"Bayesian\", \"Bernoulli\", \"MVS\"]\n",
    "                ),\n",
    "                \"scale_pos_weight\": trial.suggest_categorical('scale_pos_weight',[pos_weight]),\n",
    "                \"task_type\":trial.suggest_categorical(\"task_type\",[\"GPU\"]),\n",
    "                \"verbose\": False\n",
    "\n",
    "        }\n",
    "\n",
    "        if params[\"bootstrap_type\"] == \"Bayesian\":\n",
    "                params[\"bagging_temperature\"] = trial.suggest_float(\"bagging_temperature\", 0, 10)\n",
    "        elif params[\"bootstrap_type\"] == \"Bernoulli\":\n",
    "                params[\"subsample\"] = trial.suggest_float(\"subsample\", 0.1, 1)\n",
    "\n",
    "\n",
    "        catboost_cv_results = cb.cv(train_pool,\n",
    "                params,\n",
    "                nfold=n_folds,\n",
    "                stratified=True,\n",
    "                early_stopping_rounds=100,\n",
    "                seed=seed,\n",
    "                verbose=0\n",
    "                \n",
    "        )\n",
    "\n",
    "\n",
    "        # Set n_estimators as a trial attribute; Accessible via study.trials_dataframe().\n",
    "        trial.set_user_attr(\"iterations\", len(catboost_cv_results))\n",
    "\n",
    "        # Extract the best score.\n",
    "        best_score = catboost_cv_results[F\"test-{eval_metric}-mean\"].values[-1]\n",
    "        return best_score\n"
   ]
  },
  {
   "cell_type": "code",
   "execution_count": 26,
   "metadata": {},
   "outputs": [
    {
     "name": "stderr",
     "output_type": "stream",
     "text": [
      "[I 2023-10-12 20:03:26,117] A new study created in memory with name: no-name-7995bcc9-2881-4b7e-94e6-9a308bdae6df\n"
     ]
    },
    {
     "name": "stdout",
     "output_type": "stream",
     "text": [
      "Training on fold [0/3]\n",
      "bestTest = 0.03679118235\n",
      "bestIteration = 9\n",
      "Training on fold [1/3]\n",
      "bestTest = 0.03203575024\n",
      "bestIteration = 18\n",
      "Training on fold [2/3]\n"
     ]
    },
    {
     "name": "stderr",
     "output_type": "stream",
     "text": [
      "[I 2023-10-12 20:03:27,201] Trial 0 finished with value: 0.04049479430295511 and parameters: {'objective': 'Logloss', 'depth': 4, 'learning_rate': 0.41983931699271126, 'boosting_type': 'Plain', 'bootstrap_type': 'MVS', 'scale_pos_weight': 24.026793419648342, 'task_type': 'GPU'}. Best is trial 0 with value: 0.04049479430295511.\n"
     ]
    },
    {
     "name": "stdout",
     "output_type": "stream",
     "text": [
      "bestTest = 0.0451583901\n",
      "bestIteration = 18\n",
      "Training on fold [0/3]\n",
      "bestTest = 0.03801185538\n",
      "bestIteration = 146\n",
      "Training on fold [1/3]\n",
      "bestTest = 0.02779794509\n",
      "bestIteration = 232\n",
      "Training on fold [2/3]\n"
     ]
    },
    {
     "name": "stderr",
     "output_type": "stream",
     "text": [
      "[I 2023-10-12 20:03:32,588] Trial 1 finished with value: 0.038682096724248244 and parameters: {'objective': 'Logloss', 'depth': 8, 'learning_rate': 0.013703764035865762, 'boosting_type': 'Plain', 'bootstrap_type': 'MVS', 'scale_pos_weight': 24.026793419648342, 'task_type': 'GPU'}. Best is trial 1 with value: 0.038682096724248244.\n"
     ]
    },
    {
     "name": "stdout",
     "output_type": "stream",
     "text": [
      "bestTest = 0.04641538271\n",
      "bestIteration = 164\n",
      "Training on fold [0/3]\n",
      "bestTest = 0.05206469559\n",
      "bestIteration = 999\n",
      "Training on fold [1/3]\n",
      "bestTest = 0.04726213369\n",
      "bestIteration = 999\n",
      "Training on fold [2/3]\n"
     ]
    },
    {
     "name": "stderr",
     "output_type": "stream",
     "text": [
      "[I 2023-10-12 20:03:37,559] Trial 2 finished with value: 0.05484542965687165 and parameters: {'objective': 'Logloss', 'depth': 2, 'learning_rate': 0.0014028365210425793, 'boosting_type': 'Plain', 'bootstrap_type': 'MVS', 'scale_pos_weight': 24.026793419648342, 'task_type': 'GPU'}. Best is trial 1 with value: 0.038682096724248244.\n"
     ]
    },
    {
     "name": "stdout",
     "output_type": "stream",
     "text": [
      "bestTest = 0.06520945969\n",
      "bestIteration = 999\n",
      "Training on fold [0/3]\n",
      "bestTest = 0.0450860459\n",
      "bestIteration = 2\n",
      "Training on fold [1/3]\n",
      "bestTest = 0.02983799809\n",
      "bestIteration = 3\n",
      "Training on fold [2/3]\n"
     ]
    },
    {
     "name": "stderr",
     "output_type": "stream",
     "text": [
      "[I 2023-10-12 20:03:38,758] Trial 3 finished with value: 0.07775953626077904 and parameters: {'objective': 'Logloss', 'depth': 6, 'learning_rate': 0.6031505894571851, 'boosting_type': 'Plain', 'bootstrap_type': 'Bernoulli', 'scale_pos_weight': 24.026793419648342, 'task_type': 'GPU', 'subsample': 0.3696628033470549}. Best is trial 1 with value: 0.038682096724248244.\n"
     ]
    },
    {
     "name": "stdout",
     "output_type": "stream",
     "text": [
      "bestTest = 0.05091431619\n",
      "bestIteration = 1\n",
      "Training on fold [0/3]\n",
      "bestTest = 0.04192253841\n",
      "bestIteration = 11\n",
      "Training on fold [1/3]\n",
      "bestTest = 0.0278435086\n",
      "bestIteration = 13\n",
      "Training on fold [2/3]\n"
     ]
    },
    {
     "name": "stderr",
     "output_type": "stream",
     "text": [
      "[I 2023-10-12 20:03:39,886] Trial 4 finished with value: 0.06295286331421385 and parameters: {'objective': 'Logloss', 'depth': 5, 'learning_rate': 0.38845582189400174, 'boosting_type': 'Plain', 'bootstrap_type': 'Bernoulli', 'scale_pos_weight': 24.026793419648342, 'task_type': 'GPU', 'subsample': 0.4972640450726826}. Best is trial 1 with value: 0.038682096724248244.\n"
     ]
    },
    {
     "name": "stdout",
     "output_type": "stream",
     "text": [
      "bestTest = 0.04466254646\n",
      "bestIteration = 14\n",
      "Training on fold [0/3]\n",
      "bestTest = 0.04012045444\n",
      "bestIteration = 149\n",
      "Training on fold [1/3]\n",
      "bestTest = 0.03385841425\n",
      "bestIteration = 57\n",
      "Training on fold [2/3]\n"
     ]
    },
    {
     "name": "stderr",
     "output_type": "stream",
     "text": [
      "[I 2023-10-12 20:03:41,270] Trial 5 finished with value: 0.04205644476339443 and parameters: {'objective': 'Logloss', 'depth': 1, 'learning_rate': 0.70226540183054, 'boosting_type': 'Plain', 'bootstrap_type': 'Bayesian', 'scale_pos_weight': 24.026793419648342, 'task_type': 'GPU', 'bagging_temperature': 8.177643461489446}. Best is trial 1 with value: 0.038682096724248244.\n"
     ]
    },
    {
     "name": "stdout",
     "output_type": "stream",
     "text": [
      "bestTest = 0.05093108289\n",
      "bestIteration = 260\n",
      "Training on fold [0/3]\n",
      "bestTest = 0.03553949277\n",
      "bestIteration = 714\n",
      "Training on fold [1/3]\n",
      "bestTest = 0.02818819838\n",
      "bestIteration = 819\n",
      "Training on fold [2/3]\n"
     ]
    },
    {
     "name": "stderr",
     "output_type": "stream",
     "text": [
      "[I 2023-10-12 20:04:46,287] Trial 6 finished with value: 0.036054015156078985 and parameters: {'objective': 'Logloss', 'depth': 11, 'learning_rate': 0.002746140053818411, 'boosting_type': 'Plain', 'bootstrap_type': 'Bernoulli', 'scale_pos_weight': 24.026793419648342, 'task_type': 'GPU', 'subsample': 0.22477467747874796}. Best is trial 6 with value: 0.036054015156078985.\n"
     ]
    },
    {
     "name": "stdout",
     "output_type": "stream",
     "text": [
      "bestTest = 0.0436250607\n",
      "bestIteration = 582\n",
      "Training on fold [0/3]\n",
      "bestTest = 0.03718327341\n",
      "bestIteration = 248\n",
      "Training on fold [1/3]\n",
      "bestTest = 0.02871557196\n",
      "bestIteration = 421\n",
      "Training on fold [2/3]\n"
     ]
    },
    {
     "name": "stderr",
     "output_type": "stream",
     "text": [
      "[I 2023-10-12 20:05:08,157] Trial 7 finished with value: 0.03701688449053611 and parameters: {'objective': 'Logloss', 'depth': 11, 'learning_rate': 0.012732325898361891, 'boosting_type': 'Plain', 'bootstrap_type': 'MVS', 'scale_pos_weight': 24.026793419648342, 'task_type': 'GPU'}. Best is trial 6 with value: 0.036054015156078985.\n"
     ]
    },
    {
     "name": "stdout",
     "output_type": "stream",
     "text": [
      "bestTest = 0.04367298632\n",
      "bestIteration = 258\n",
      "Training on fold [0/3]\n",
      "bestTest = 0.03799929732\n",
      "bestIteration = 999\n",
      "Training on fold [1/3]\n",
      "bestTest = 0.03075344834\n",
      "bestIteration = 998\n",
      "Training on fold [2/3]\n"
     ]
    },
    {
     "name": "stderr",
     "output_type": "stream",
     "text": [
      "[I 2023-10-12 20:05:13,784] Trial 8 finished with value: 0.03846493501503059 and parameters: {'objective': 'Logloss', 'depth': 2, 'learning_rate': 0.00443065682039429, 'boosting_type': 'Plain', 'bootstrap_type': 'Bernoulli', 'scale_pos_weight': 24.026793419648342, 'task_type': 'GPU', 'subsample': 0.2141006684220558}. Best is trial 6 with value: 0.036054015156078985.\n"
     ]
    },
    {
     "name": "stdout",
     "output_type": "stream",
     "text": [
      "bestTest = 0.04664168837\n",
      "bestIteration = 999\n",
      "Training on fold [0/3]\n",
      "bestTest = 0.04592486163\n",
      "bestIteration = 999\n",
      "Training on fold [1/3]\n",
      "bestTest = 0.04336781872\n",
      "bestIteration = 999\n",
      "Training on fold [2/3]\n"
     ]
    },
    {
     "name": "stderr",
     "output_type": "stream",
     "text": [
      "[I 2023-10-12 20:05:28,139] Trial 9 finished with value: 0.04727677585124478 and parameters: {'objective': 'Logloss', 'depth': 7, 'learning_rate': 0.0010630261858203547, 'boosting_type': 'Plain', 'bootstrap_type': 'Bernoulli', 'scale_pos_weight': 24.026793419648342, 'task_type': 'GPU', 'subsample': 0.7998263962961462}. Best is trial 6 with value: 0.036054015156078985.\n"
     ]
    },
    {
     "name": "stdout",
     "output_type": "stream",
     "text": [
      "bestTest = 0.0525376472\n",
      "bestIteration = 999\n",
      "Training on fold [0/3]\n",
      "bestTest = 0.03439884147\n",
      "bestIteration = 23\n",
      "Training on fold [1/3]\n",
      "bestTest = 0.02823117407\n",
      "bestIteration = 28\n",
      "Training on fold [2/3]\n"
     ]
    },
    {
     "name": "stderr",
     "output_type": "stream",
     "text": [
      "[I 2023-10-12 20:05:48,783] Trial 10 finished with value: 0.0493057141745033 and parameters: {'objective': 'Logloss', 'depth': 12, 'learning_rate': 0.06599545195694427, 'boosting_type': 'Plain', 'bootstrap_type': 'Bayesian', 'scale_pos_weight': 24.026793419648342, 'task_type': 'GPU', 'bagging_temperature': 1.350412900712815}. Best is trial 6 with value: 0.036054015156078985.\n"
     ]
    },
    {
     "name": "stdout",
     "output_type": "stream",
     "text": [
      "bestTest = 0.04569071051\n",
      "bestIteration = 20\n",
      "Training on fold [0/3]\n",
      "bestTest = 0.03666920251\n",
      "bestIteration = 414\n",
      "Training on fold [1/3]\n",
      "bestTest = 0.02831831888\n",
      "bestIteration = 529\n",
      "Training on fold [2/3]\n"
     ]
    },
    {
     "name": "stderr",
     "output_type": "stream",
     "text": [
      "[I 2023-10-12 20:06:35,141] Trial 11 finished with value: 0.036987090756581555 and parameters: {'objective': 'Logloss', 'depth': 12, 'learning_rate': 0.007654515940438629, 'boosting_type': 'Plain', 'bootstrap_type': 'MVS', 'scale_pos_weight': 24.026793419648342, 'task_type': 'GPU'}. Best is trial 6 with value: 0.036054015156078985.\n"
     ]
    },
    {
     "name": "stdout",
     "output_type": "stream",
     "text": [
      "bestTest = 0.04516663896\n",
      "bestIteration = 480\n",
      "Training on fold [0/3]\n",
      "bestTest = 0.03703264771\n",
      "bestIteration = 477\n",
      "Training on fold [1/3]\n",
      "bestTest = 0.02763875262\n",
      "bestIteration = 726\n",
      "Training on fold [2/3]\n"
     ]
    },
    {
     "name": "stderr",
     "output_type": "stream",
     "text": [
      "[I 2023-10-12 20:07:06,888] Trial 12 finished with value: 0.037095435585088855 and parameters: {'objective': 'Logloss', 'depth': 10, 'learning_rate': 0.0036067905242431193, 'boosting_type': 'Plain', 'bootstrap_type': 'MVS', 'scale_pos_weight': 24.026793419648342, 'task_type': 'GPU'}. Best is trial 6 with value: 0.036054015156078985.\n"
     ]
    },
    {
     "name": "stdout",
     "output_type": "stream",
     "text": [
      "bestTest = 0.04534706575\n",
      "bestIteration = 474\n",
      "Training on fold [0/3]\n",
      "bestTest = 0.03568396152\n",
      "bestIteration = 674\n",
      "Training on fold [1/3]\n",
      "bestTest = 0.02785579532\n",
      "bestIteration = 986\n",
      "Training on fold [2/3]\n"
     ]
    },
    {
     "name": "stderr",
     "output_type": "stream",
     "text": [
      "[I 2023-10-12 20:07:29,395] Trial 13 finished with value: 0.03606601888088252 and parameters: {'objective': 'Logloss', 'depth': 9, 'learning_rate': 0.003692822784078185, 'boosting_type': 'Plain', 'bootstrap_type': 'Bernoulli', 'scale_pos_weight': 24.026793419648342, 'task_type': 'GPU', 'subsample': 0.13507281480789324}. Best is trial 6 with value: 0.036054015156078985.\n"
     ]
    },
    {
     "name": "stdout",
     "output_type": "stream",
     "text": [
      "bestTest = 0.04425922114\n",
      "bestIteration = 517\n",
      "Training on fold [0/3]\n",
      "bestTest = 0.0358183387\n",
      "bestIteration = 995\n",
      "Training on fold [1/3]\n",
      "bestTest = 0.02849962374\n",
      "bestIteration = 995\n",
      "Training on fold [2/3]\n"
     ]
    },
    {
     "name": "stderr",
     "output_type": "stream",
     "text": [
      "[I 2023-10-12 20:07:57,137] Trial 14 finished with value: 0.03618534130011565 and parameters: {'objective': 'Logloss', 'depth': 9, 'learning_rate': 0.0023967653583284636, 'boosting_type': 'Plain', 'bootstrap_type': 'Bernoulli', 'scale_pos_weight': 24.026793419648342, 'task_type': 'GPU', 'subsample': 0.17938030901571955}. Best is trial 6 with value: 0.036054015156078985.\n"
     ]
    },
    {
     "name": "stdout",
     "output_type": "stream",
     "text": [
      "bestTest = 0.04408646195\n",
      "bestIteration = 817\n",
      "Training on fold [0/3]\n",
      "bestTest = 0.03582312331\n",
      "bestIteration = 999\n",
      "Training on fold [1/3]\n",
      "bestTest = 0.02862094196\n",
      "bestIteration = 997\n",
      "Training on fold [2/3]\n"
     ]
    },
    {
     "name": "stderr",
     "output_type": "stream",
     "text": [
      "[I 2023-10-12 20:08:23,687] Trial 15 finished with value: 0.036290923801767204 and parameters: {'objective': 'Logloss', 'depth': 9, 'learning_rate': 0.002445934063962989, 'boosting_type': 'Plain', 'bootstrap_type': 'Bernoulli', 'scale_pos_weight': 24.026793419648342, 'task_type': 'GPU', 'subsample': 0.10665280182514242}. Best is trial 6 with value: 0.036054015156078985.\n"
     ]
    },
    {
     "name": "stdout",
     "output_type": "stream",
     "text": [
      "bestTest = 0.04429356768\n",
      "bestIteration = 749\n",
      "Training on fold [0/3]\n",
      "bestTest = 0.0358100769\n",
      "bestIteration = 55\n",
      "Training on fold [1/3]\n",
      "bestTest = 0.02800271344\n",
      "bestIteration = 72\n",
      "Training on fold [2/3]\n"
     ]
    },
    {
     "name": "stderr",
     "output_type": "stream",
     "text": [
      "[I 2023-10-12 20:08:31,616] Trial 16 finished with value: 0.04168250149230634 and parameters: {'objective': 'Logloss', 'depth': 10, 'learning_rate': 0.03317502963996134, 'boosting_type': 'Plain', 'bootstrap_type': 'Bernoulli', 'scale_pos_weight': 24.026793419648342, 'task_type': 'GPU', 'subsample': 0.3578635653607888}. Best is trial 6 with value: 0.036054015156078985.\n"
     ]
    },
    {
     "name": "stdout",
     "output_type": "stream",
     "text": [
      "bestTest = 0.044513124\n",
      "bestIteration = 52\n",
      "Training on fold [0/3]\n",
      "bestTest = 0.04750548722\n",
      "bestIteration = 999\n",
      "Training on fold [1/3]\n",
      "bestTest = 0.04392972743\n",
      "bestIteration = 999\n",
      "Training on fold [2/3]\n"
     ]
    },
    {
     "name": "stderr",
     "output_type": "stream",
     "text": [
      "[I 2023-10-12 20:08:48,337] Trial 17 finished with value: 0.047979704009036485 and parameters: {'objective': 'Logloss', 'depth': 8, 'learning_rate': 0.0010224561490527477, 'boosting_type': 'Plain', 'bootstrap_type': 'Bernoulli', 'scale_pos_weight': 24.026793419648342, 'task_type': 'GPU', 'subsample': 0.28786695592712785}. Best is trial 6 with value: 0.036054015156078985.\n"
     ]
    },
    {
     "name": "stdout",
     "output_type": "stream",
     "text": [
      "bestTest = 0.05250389737\n",
      "bestIteration = 999\n",
      "Training on fold [0/3]\n",
      "bestTest = 0.03591250719\n",
      "bestIteration = 298\n",
      "Training on fold [1/3]\n",
      "bestTest = 0.02809657668\n",
      "bestIteration = 337\n",
      "Training on fold [2/3]\n"
     ]
    },
    {
     "name": "stderr",
     "output_type": "stream",
     "text": [
      "[I 2023-10-12 20:09:21,789] Trial 18 finished with value: 0.037096909331050955 and parameters: {'objective': 'Logloss', 'depth': 11, 'learning_rate': 0.005563328722917615, 'boosting_type': 'Plain', 'bootstrap_type': 'Bayesian', 'scale_pos_weight': 24.026793419648342, 'task_type': 'GPU', 'bagging_temperature': 9.624616640705085}. Best is trial 6 with value: 0.036054015156078985.\n"
     ]
    },
    {
     "name": "stdout",
     "output_type": "stream",
     "text": [
      "bestTest = 0.04425473806\n",
      "bestIteration = 235\n",
      "Training on fold [0/3]\n",
      "bestTest = 0.03631910355\n",
      "bestIteration = 998\n",
      "Training on fold [1/3]\n",
      "bestTest = 0.0298689746\n",
      "bestIteration = 998\n",
      "Training on fold [2/3]\n"
     ]
    },
    {
     "name": "stderr",
     "output_type": "stream",
     "text": [
      "[I 2023-10-12 20:09:34,116] Trial 19 finished with value: 0.03708601023074673 and parameters: {'objective': 'Logloss', 'depth': 7, 'learning_rate': 0.002307853224895694, 'boosting_type': 'Plain', 'bootstrap_type': 'Bernoulli', 'scale_pos_weight': 24.026793419648342, 'task_type': 'GPU', 'subsample': 0.1344307193687746}. Best is trial 6 with value: 0.036054015156078985.\n"
     ]
    },
    {
     "name": "stdout",
     "output_type": "stream",
     "text": [
      "bestTest = 0.04504463128\n",
      "bestIteration = 997\n",
      "Training on fold [0/3]\n",
      "bestTest = 0.03504562049\n",
      "bestIteration = 215\n",
      "Training on fold [1/3]\n",
      "bestTest = 0.02852989842\n",
      "bestIteration = 282\n",
      "Training on fold [2/3]\n"
     ]
    },
    {
     "name": "stderr",
     "output_type": "stream",
     "text": [
      "[I 2023-10-12 20:09:49,562] Trial 20 finished with value: 0.037219857952084365 and parameters: {'objective': 'Logloss', 'depth': 10, 'learning_rate': 0.009258324468375998, 'boosting_type': 'Plain', 'bootstrap_type': 'Bernoulli', 'scale_pos_weight': 24.026793419648342, 'task_type': 'GPU', 'subsample': 0.514394954794066}. Best is trial 6 with value: 0.036054015156078985.\n"
     ]
    },
    {
     "name": "stdout",
     "output_type": "stream",
     "text": [
      "bestTest = 0.04323082829\n",
      "bestIteration = 169\n",
      "Training on fold [0/3]\n",
      "bestTest = 0.03606495339\n",
      "bestIteration = 998\n",
      "Training on fold [1/3]\n",
      "bestTest = 0.02908693449\n",
      "bestIteration = 999\n",
      "Training on fold [2/3]\n"
     ]
    },
    {
     "name": "stderr",
     "output_type": "stream",
     "text": [
      "[I 2023-10-12 20:10:14,676] Trial 21 finished with value: 0.03648080317681682 and parameters: {'objective': 'Logloss', 'depth': 9, 'learning_rate': 0.0022102505111340543, 'boosting_type': 'Plain', 'bootstrap_type': 'Bernoulli', 'scale_pos_weight': 24.026793419648342, 'task_type': 'GPU', 'subsample': 0.10984832543174643}. Best is trial 6 with value: 0.036054015156078985.\n"
     ]
    },
    {
     "name": "stdout",
     "output_type": "stream",
     "text": [
      "bestTest = 0.04410743965\n",
      "bestIteration = 868\n",
      "Training on fold [0/3]\n",
      "bestTest = 0.03568271283\n",
      "bestIteration = 591\n",
      "Training on fold [1/3]\n",
      "bestTest = 0.02825795813\n",
      "bestIteration = 690\n",
      "Training on fold [2/3]\n"
     ]
    },
    {
     "name": "stderr",
     "output_type": "stream",
     "text": [
      "[I 2023-10-12 20:10:32,638] Trial 22 finished with value: 0.036191484744033074 and parameters: {'objective': 'Logloss', 'depth': 9, 'learning_rate': 0.003928571086066817, 'boosting_type': 'Plain', 'bootstrap_type': 'Bernoulli', 'scale_pos_weight': 24.026793419648342, 'task_type': 'GPU', 'subsample': 0.22377576081252712}. Best is trial 6 with value: 0.036054015156078985.\n"
     ]
    },
    {
     "name": "stdout",
     "output_type": "stream",
     "text": [
      "bestTest = 0.04391557947\n",
      "bestIteration = 470\n",
      "Training on fold [0/3]\n",
      "bestTest = 0.03553383036\n",
      "bestIteration = 933\n",
      "Training on fold [1/3]\n",
      "bestTest = 0.02817109468\n",
      "bestIteration = 995\n",
      "Training on fold [2/3]\n"
     ]
    },
    {
     "name": "stderr",
     "output_type": "stream",
     "text": [
      "[I 2023-10-12 20:11:49,480] Trial 23 finished with value: 0.03574281909299948 and parameters: {'objective': 'Logloss', 'depth': 11, 'learning_rate': 0.002005985487276965, 'boosting_type': 'Plain', 'bootstrap_type': 'Bernoulli', 'scale_pos_weight': 24.026793419648342, 'task_type': 'GPU', 'subsample': 0.2708735271730777}. Best is trial 23 with value: 0.03574281909299948.\n"
     ]
    },
    {
     "name": "stdout",
     "output_type": "stream",
     "text": [
      "bestTest = 0.04307853048\n",
      "bestIteration = 817\n",
      "Training on fold [0/3]\n",
      "bestTest = 0.03561345338\n",
      "bestIteration = 999\n",
      "Training on fold [1/3]\n",
      "bestTest = 0.02946295016\n",
      "bestIteration = 999\n",
      "Training on fold [2/3]\n"
     ]
    },
    {
     "name": "stderr",
     "output_type": "stream",
     "text": [
      "[I 2023-10-12 20:13:09,022] Trial 24 finished with value: 0.03616272704331808 and parameters: {'objective': 'Logloss', 'depth': 11, 'learning_rate': 0.001551039422769804, 'boosting_type': 'Plain', 'bootstrap_type': 'Bernoulli', 'scale_pos_weight': 24.026793419648342, 'task_type': 'GPU', 'subsample': 0.32509883404475315}. Best is trial 23 with value: 0.03574281909299948.\n"
     ]
    },
    {
     "name": "stdout",
     "output_type": "stream",
     "text": [
      "bestTest = 0.04339152337\n",
      "bestIteration = 961\n",
      "Training on fold [0/3]\n",
      "bestTest = 0.03508449702\n",
      "bestIteration = 301\n",
      "Training on fold [1/3]\n",
      "bestTest = 0.02806894238\n",
      "bestIteration = 366\n",
      "Training on fold [2/3]\n"
     ]
    },
    {
     "name": "stderr",
     "output_type": "stream",
     "text": [
      "[I 2023-10-12 20:14:13,318] Trial 25 finished with value: 0.03599936248314548 and parameters: {'objective': 'Logloss', 'depth': 12, 'learning_rate': 0.005355749156051682, 'boosting_type': 'Plain', 'bootstrap_type': 'Bayesian', 'scale_pos_weight': 24.026793419648342, 'task_type': 'GPU', 'bagging_temperature': 0.7426340887142473}. Best is trial 23 with value: 0.03574281909299948.\n"
     ]
    },
    {
     "name": "stdout",
     "output_type": "stream",
     "text": [
      "bestTest = 0.04258702769\n",
      "bestIteration = 267\n",
      "Number of finished trials:  26\n",
      "Best trial:\n",
      "  Value: 0.03574281909299948\n",
      "  Params: \n",
      "    objective: Logloss\n",
      "    depth: 11\n",
      "    learning_rate: 0.002005985487276965\n",
      "    boosting_type: Plain\n",
      "    bootstrap_type: Bernoulli\n",
      "    scale_pos_weight: 24.026793419648342\n",
      "    task_type: GPU\n",
      "    subsample: 0.2708735271730777\n"
     ]
    }
   ],
   "source": [
    "study_cb = optimize_objective(\n",
    "    objective=objective_cb,\n",
    "    n_trials=30,\n",
    "    direction=\"minimize\"\n",
    ")"
   ]
  },
  {
   "cell_type": "code",
   "execution_count": 45,
   "metadata": {},
   "outputs": [
    {
     "data": {
      "application/vnd.plotly.v1+json": {
       "config": {
        "plotlyServerURL": "https://plot.ly"
       },
       "data": [
        {
         "mode": "markers",
         "name": "Objective Value",
         "type": "scatter",
         "x": [
          0,
          1,
          2,
          3,
          4,
          5,
          6,
          7,
          8,
          9,
          10,
          11,
          12,
          13,
          14,
          15,
          16,
          17,
          18,
          19,
          20,
          21,
          22,
          23,
          24,
          25
         ],
         "y": [
          0.04049479430295511,
          0.038682096724248244,
          0.05484542965687165,
          0.07775953626077904,
          0.06295286331421385,
          0.04205644476339443,
          0.036054015156078985,
          0.03701688449053611,
          0.03846493501503059,
          0.04727677585124478,
          0.0493057141745033,
          0.036987090756581555,
          0.037095435585088855,
          0.03606601888088252,
          0.03618534130011565,
          0.036290923801767204,
          0.04168250149230634,
          0.047979704009036485,
          0.037096909331050955,
          0.03708601023074673,
          0.037219857952084365,
          0.03648080317681682,
          0.036191484744033074,
          0.03574281909299948,
          0.03616272704331808,
          0.03599936248314548
         ]
        },
        {
         "mode": "lines",
         "name": "Best Value",
         "type": "scatter",
         "x": [
          0,
          1,
          2,
          3,
          4,
          5,
          6,
          7,
          8,
          9,
          10,
          11,
          12,
          13,
          14,
          15,
          16,
          17,
          18,
          19,
          20,
          21,
          22,
          23,
          24,
          25
         ],
         "y": [
          0.04049479430295511,
          0.038682096724248244,
          0.038682096724248244,
          0.038682096724248244,
          0.038682096724248244,
          0.038682096724248244,
          0.036054015156078985,
          0.036054015156078985,
          0.036054015156078985,
          0.036054015156078985,
          0.036054015156078985,
          0.036054015156078985,
          0.036054015156078985,
          0.036054015156078985,
          0.036054015156078985,
          0.036054015156078985,
          0.036054015156078985,
          0.036054015156078985,
          0.036054015156078985,
          0.036054015156078985,
          0.036054015156078985,
          0.036054015156078985,
          0.036054015156078985,
          0.03574281909299948,
          0.03574281909299948,
          0.03574281909299948
         ]
        },
        {
         "marker": {
          "color": "#cccccc"
         },
         "mode": "markers",
         "name": "Infeasible Trial",
         "showlegend": false,
         "type": "scatter",
         "x": [],
         "y": []
        }
       ],
       "layout": {
        "template": {
         "data": {
          "bar": [
           {
            "error_x": {
             "color": "#2a3f5f"
            },
            "error_y": {
             "color": "#2a3f5f"
            },
            "marker": {
             "line": {
              "color": "#E5ECF6",
              "width": 0.5
             },
             "pattern": {
              "fillmode": "overlay",
              "size": 10,
              "solidity": 0.2
             }
            },
            "type": "bar"
           }
          ],
          "barpolar": [
           {
            "marker": {
             "line": {
              "color": "#E5ECF6",
              "width": 0.5
             },
             "pattern": {
              "fillmode": "overlay",
              "size": 10,
              "solidity": 0.2
             }
            },
            "type": "barpolar"
           }
          ],
          "carpet": [
           {
            "aaxis": {
             "endlinecolor": "#2a3f5f",
             "gridcolor": "white",
             "linecolor": "white",
             "minorgridcolor": "white",
             "startlinecolor": "#2a3f5f"
            },
            "baxis": {
             "endlinecolor": "#2a3f5f",
             "gridcolor": "white",
             "linecolor": "white",
             "minorgridcolor": "white",
             "startlinecolor": "#2a3f5f"
            },
            "type": "carpet"
           }
          ],
          "choropleth": [
           {
            "colorbar": {
             "outlinewidth": 0,
             "ticks": ""
            },
            "type": "choropleth"
           }
          ],
          "contour": [
           {
            "colorbar": {
             "outlinewidth": 0,
             "ticks": ""
            },
            "colorscale": [
             [
              0,
              "#0d0887"
             ],
             [
              0.1111111111111111,
              "#46039f"
             ],
             [
              0.2222222222222222,
              "#7201a8"
             ],
             [
              0.3333333333333333,
              "#9c179e"
             ],
             [
              0.4444444444444444,
              "#bd3786"
             ],
             [
              0.5555555555555556,
              "#d8576b"
             ],
             [
              0.6666666666666666,
              "#ed7953"
             ],
             [
              0.7777777777777778,
              "#fb9f3a"
             ],
             [
              0.8888888888888888,
              "#fdca26"
             ],
             [
              1,
              "#f0f921"
             ]
            ],
            "type": "contour"
           }
          ],
          "contourcarpet": [
           {
            "colorbar": {
             "outlinewidth": 0,
             "ticks": ""
            },
            "type": "contourcarpet"
           }
          ],
          "heatmap": [
           {
            "colorbar": {
             "outlinewidth": 0,
             "ticks": ""
            },
            "colorscale": [
             [
              0,
              "#0d0887"
             ],
             [
              0.1111111111111111,
              "#46039f"
             ],
             [
              0.2222222222222222,
              "#7201a8"
             ],
             [
              0.3333333333333333,
              "#9c179e"
             ],
             [
              0.4444444444444444,
              "#bd3786"
             ],
             [
              0.5555555555555556,
              "#d8576b"
             ],
             [
              0.6666666666666666,
              "#ed7953"
             ],
             [
              0.7777777777777778,
              "#fb9f3a"
             ],
             [
              0.8888888888888888,
              "#fdca26"
             ],
             [
              1,
              "#f0f921"
             ]
            ],
            "type": "heatmap"
           }
          ],
          "heatmapgl": [
           {
            "colorbar": {
             "outlinewidth": 0,
             "ticks": ""
            },
            "colorscale": [
             [
              0,
              "#0d0887"
             ],
             [
              0.1111111111111111,
              "#46039f"
             ],
             [
              0.2222222222222222,
              "#7201a8"
             ],
             [
              0.3333333333333333,
              "#9c179e"
             ],
             [
              0.4444444444444444,
              "#bd3786"
             ],
             [
              0.5555555555555556,
              "#d8576b"
             ],
             [
              0.6666666666666666,
              "#ed7953"
             ],
             [
              0.7777777777777778,
              "#fb9f3a"
             ],
             [
              0.8888888888888888,
              "#fdca26"
             ],
             [
              1,
              "#f0f921"
             ]
            ],
            "type": "heatmapgl"
           }
          ],
          "histogram": [
           {
            "marker": {
             "pattern": {
              "fillmode": "overlay",
              "size": 10,
              "solidity": 0.2
             }
            },
            "type": "histogram"
           }
          ],
          "histogram2d": [
           {
            "colorbar": {
             "outlinewidth": 0,
             "ticks": ""
            },
            "colorscale": [
             [
              0,
              "#0d0887"
             ],
             [
              0.1111111111111111,
              "#46039f"
             ],
             [
              0.2222222222222222,
              "#7201a8"
             ],
             [
              0.3333333333333333,
              "#9c179e"
             ],
             [
              0.4444444444444444,
              "#bd3786"
             ],
             [
              0.5555555555555556,
              "#d8576b"
             ],
             [
              0.6666666666666666,
              "#ed7953"
             ],
             [
              0.7777777777777778,
              "#fb9f3a"
             ],
             [
              0.8888888888888888,
              "#fdca26"
             ],
             [
              1,
              "#f0f921"
             ]
            ],
            "type": "histogram2d"
           }
          ],
          "histogram2dcontour": [
           {
            "colorbar": {
             "outlinewidth": 0,
             "ticks": ""
            },
            "colorscale": [
             [
              0,
              "#0d0887"
             ],
             [
              0.1111111111111111,
              "#46039f"
             ],
             [
              0.2222222222222222,
              "#7201a8"
             ],
             [
              0.3333333333333333,
              "#9c179e"
             ],
             [
              0.4444444444444444,
              "#bd3786"
             ],
             [
              0.5555555555555556,
              "#d8576b"
             ],
             [
              0.6666666666666666,
              "#ed7953"
             ],
             [
              0.7777777777777778,
              "#fb9f3a"
             ],
             [
              0.8888888888888888,
              "#fdca26"
             ],
             [
              1,
              "#f0f921"
             ]
            ],
            "type": "histogram2dcontour"
           }
          ],
          "mesh3d": [
           {
            "colorbar": {
             "outlinewidth": 0,
             "ticks": ""
            },
            "type": "mesh3d"
           }
          ],
          "parcoords": [
           {
            "line": {
             "colorbar": {
              "outlinewidth": 0,
              "ticks": ""
             }
            },
            "type": "parcoords"
           }
          ],
          "pie": [
           {
            "automargin": true,
            "type": "pie"
           }
          ],
          "scatter": [
           {
            "fillpattern": {
             "fillmode": "overlay",
             "size": 10,
             "solidity": 0.2
            },
            "type": "scatter"
           }
          ],
          "scatter3d": [
           {
            "line": {
             "colorbar": {
              "outlinewidth": 0,
              "ticks": ""
             }
            },
            "marker": {
             "colorbar": {
              "outlinewidth": 0,
              "ticks": ""
             }
            },
            "type": "scatter3d"
           }
          ],
          "scattercarpet": [
           {
            "marker": {
             "colorbar": {
              "outlinewidth": 0,
              "ticks": ""
             }
            },
            "type": "scattercarpet"
           }
          ],
          "scattergeo": [
           {
            "marker": {
             "colorbar": {
              "outlinewidth": 0,
              "ticks": ""
             }
            },
            "type": "scattergeo"
           }
          ],
          "scattergl": [
           {
            "marker": {
             "colorbar": {
              "outlinewidth": 0,
              "ticks": ""
             }
            },
            "type": "scattergl"
           }
          ],
          "scattermapbox": [
           {
            "marker": {
             "colorbar": {
              "outlinewidth": 0,
              "ticks": ""
             }
            },
            "type": "scattermapbox"
           }
          ],
          "scatterpolar": [
           {
            "marker": {
             "colorbar": {
              "outlinewidth": 0,
              "ticks": ""
             }
            },
            "type": "scatterpolar"
           }
          ],
          "scatterpolargl": [
           {
            "marker": {
             "colorbar": {
              "outlinewidth": 0,
              "ticks": ""
             }
            },
            "type": "scatterpolargl"
           }
          ],
          "scatterternary": [
           {
            "marker": {
             "colorbar": {
              "outlinewidth": 0,
              "ticks": ""
             }
            },
            "type": "scatterternary"
           }
          ],
          "surface": [
           {
            "colorbar": {
             "outlinewidth": 0,
             "ticks": ""
            },
            "colorscale": [
             [
              0,
              "#0d0887"
             ],
             [
              0.1111111111111111,
              "#46039f"
             ],
             [
              0.2222222222222222,
              "#7201a8"
             ],
             [
              0.3333333333333333,
              "#9c179e"
             ],
             [
              0.4444444444444444,
              "#bd3786"
             ],
             [
              0.5555555555555556,
              "#d8576b"
             ],
             [
              0.6666666666666666,
              "#ed7953"
             ],
             [
              0.7777777777777778,
              "#fb9f3a"
             ],
             [
              0.8888888888888888,
              "#fdca26"
             ],
             [
              1,
              "#f0f921"
             ]
            ],
            "type": "surface"
           }
          ],
          "table": [
           {
            "cells": {
             "fill": {
              "color": "#EBF0F8"
             },
             "line": {
              "color": "white"
             }
            },
            "header": {
             "fill": {
              "color": "#C8D4E3"
             },
             "line": {
              "color": "white"
             }
            },
            "type": "table"
           }
          ]
         },
         "layout": {
          "annotationdefaults": {
           "arrowcolor": "#2a3f5f",
           "arrowhead": 0,
           "arrowwidth": 1
          },
          "autotypenumbers": "strict",
          "coloraxis": {
           "colorbar": {
            "outlinewidth": 0,
            "ticks": ""
           }
          },
          "colorscale": {
           "diverging": [
            [
             0,
             "#8e0152"
            ],
            [
             0.1,
             "#c51b7d"
            ],
            [
             0.2,
             "#de77ae"
            ],
            [
             0.3,
             "#f1b6da"
            ],
            [
             0.4,
             "#fde0ef"
            ],
            [
             0.5,
             "#f7f7f7"
            ],
            [
             0.6,
             "#e6f5d0"
            ],
            [
             0.7,
             "#b8e186"
            ],
            [
             0.8,
             "#7fbc41"
            ],
            [
             0.9,
             "#4d9221"
            ],
            [
             1,
             "#276419"
            ]
           ],
           "sequential": [
            [
             0,
             "#0d0887"
            ],
            [
             0.1111111111111111,
             "#46039f"
            ],
            [
             0.2222222222222222,
             "#7201a8"
            ],
            [
             0.3333333333333333,
             "#9c179e"
            ],
            [
             0.4444444444444444,
             "#bd3786"
            ],
            [
             0.5555555555555556,
             "#d8576b"
            ],
            [
             0.6666666666666666,
             "#ed7953"
            ],
            [
             0.7777777777777778,
             "#fb9f3a"
            ],
            [
             0.8888888888888888,
             "#fdca26"
            ],
            [
             1,
             "#f0f921"
            ]
           ],
           "sequentialminus": [
            [
             0,
             "#0d0887"
            ],
            [
             0.1111111111111111,
             "#46039f"
            ],
            [
             0.2222222222222222,
             "#7201a8"
            ],
            [
             0.3333333333333333,
             "#9c179e"
            ],
            [
             0.4444444444444444,
             "#bd3786"
            ],
            [
             0.5555555555555556,
             "#d8576b"
            ],
            [
             0.6666666666666666,
             "#ed7953"
            ],
            [
             0.7777777777777778,
             "#fb9f3a"
            ],
            [
             0.8888888888888888,
             "#fdca26"
            ],
            [
             1,
             "#f0f921"
            ]
           ]
          },
          "colorway": [
           "#636efa",
           "#EF553B",
           "#00cc96",
           "#ab63fa",
           "#FFA15A",
           "#19d3f3",
           "#FF6692",
           "#B6E880",
           "#FF97FF",
           "#FECB52"
          ],
          "font": {
           "color": "#2a3f5f"
          },
          "geo": {
           "bgcolor": "white",
           "lakecolor": "white",
           "landcolor": "#E5ECF6",
           "showlakes": true,
           "showland": true,
           "subunitcolor": "white"
          },
          "hoverlabel": {
           "align": "left"
          },
          "hovermode": "closest",
          "mapbox": {
           "style": "light"
          },
          "paper_bgcolor": "white",
          "plot_bgcolor": "#E5ECF6",
          "polar": {
           "angularaxis": {
            "gridcolor": "white",
            "linecolor": "white",
            "ticks": ""
           },
           "bgcolor": "#E5ECF6",
           "radialaxis": {
            "gridcolor": "white",
            "linecolor": "white",
            "ticks": ""
           }
          },
          "scene": {
           "xaxis": {
            "backgroundcolor": "#E5ECF6",
            "gridcolor": "white",
            "gridwidth": 2,
            "linecolor": "white",
            "showbackground": true,
            "ticks": "",
            "zerolinecolor": "white"
           },
           "yaxis": {
            "backgroundcolor": "#E5ECF6",
            "gridcolor": "white",
            "gridwidth": 2,
            "linecolor": "white",
            "showbackground": true,
            "ticks": "",
            "zerolinecolor": "white"
           },
           "zaxis": {
            "backgroundcolor": "#E5ECF6",
            "gridcolor": "white",
            "gridwidth": 2,
            "linecolor": "white",
            "showbackground": true,
            "ticks": "",
            "zerolinecolor": "white"
           }
          },
          "shapedefaults": {
           "line": {
            "color": "#2a3f5f"
           }
          },
          "ternary": {
           "aaxis": {
            "gridcolor": "white",
            "linecolor": "white",
            "ticks": ""
           },
           "baxis": {
            "gridcolor": "white",
            "linecolor": "white",
            "ticks": ""
           },
           "bgcolor": "#E5ECF6",
           "caxis": {
            "gridcolor": "white",
            "linecolor": "white",
            "ticks": ""
           }
          },
          "title": {
           "x": 0.05
          },
          "xaxis": {
           "automargin": true,
           "gridcolor": "white",
           "linecolor": "white",
           "ticks": "",
           "title": {
            "standoff": 15
           },
           "zerolinecolor": "white",
           "zerolinewidth": 2
          },
          "yaxis": {
           "automargin": true,
           "gridcolor": "white",
           "linecolor": "white",
           "ticks": "",
           "title": {
            "standoff": 15
           },
           "zerolinecolor": "white",
           "zerolinewidth": 2
          }
         }
        },
        "title": {
         "text": "Optimization History Plot"
        },
        "xaxis": {
         "title": {
          "text": "Trial"
         }
        },
        "yaxis": {
         "title": {
          "text": "Objective Value"
         }
        }
       }
      },
      "text/html": [
       "<div>                            <div id=\"acbe51d2-377f-48c5-826d-eeba32796e57\" class=\"plotly-graph-div\" style=\"height:525px; width:100%;\"></div>            <script type=\"text/javascript\">                require([\"plotly\"], function(Plotly) {                    window.PLOTLYENV=window.PLOTLYENV || {};                                    if (document.getElementById(\"acbe51d2-377f-48c5-826d-eeba32796e57\")) {                    Plotly.newPlot(                        \"acbe51d2-377f-48c5-826d-eeba32796e57\",                        [{\"mode\":\"markers\",\"name\":\"Objective Value\",\"x\":[0,1,2,3,4,5,6,7,8,9,10,11,12,13,14,15,16,17,18,19,20,21,22,23,24,25],\"y\":[0.04049479430295511,0.038682096724248244,0.05484542965687165,0.07775953626077904,0.06295286331421385,0.04205644476339443,0.036054015156078985,0.03701688449053611,0.03846493501503059,0.04727677585124478,0.0493057141745033,0.036987090756581555,0.037095435585088855,0.03606601888088252,0.03618534130011565,0.036290923801767204,0.04168250149230634,0.047979704009036485,0.037096909331050955,0.03708601023074673,0.037219857952084365,0.03648080317681682,0.036191484744033074,0.03574281909299948,0.03616272704331808,0.03599936248314548],\"type\":\"scatter\"},{\"mode\":\"lines\",\"name\":\"Best Value\",\"x\":[0,1,2,3,4,5,6,7,8,9,10,11,12,13,14,15,16,17,18,19,20,21,22,23,24,25],\"y\":[0.04049479430295511,0.038682096724248244,0.038682096724248244,0.038682096724248244,0.038682096724248244,0.038682096724248244,0.036054015156078985,0.036054015156078985,0.036054015156078985,0.036054015156078985,0.036054015156078985,0.036054015156078985,0.036054015156078985,0.036054015156078985,0.036054015156078985,0.036054015156078985,0.036054015156078985,0.036054015156078985,0.036054015156078985,0.036054015156078985,0.036054015156078985,0.036054015156078985,0.036054015156078985,0.03574281909299948,0.03574281909299948,0.03574281909299948],\"type\":\"scatter\"},{\"marker\":{\"color\":\"#cccccc\"},\"mode\":\"markers\",\"name\":\"Infeasible Trial\",\"showlegend\":false,\"x\":[],\"y\":[],\"type\":\"scatter\"}],                        {\"title\":{\"text\":\"Optimization History Plot\"},\"xaxis\":{\"title\":{\"text\":\"Trial\"}},\"yaxis\":{\"title\":{\"text\":\"Objective Value\"}},\"template\":{\"data\":{\"histogram2dcontour\":[{\"type\":\"histogram2dcontour\",\"colorbar\":{\"outlinewidth\":0,\"ticks\":\"\"},\"colorscale\":[[0.0,\"#0d0887\"],[0.1111111111111111,\"#46039f\"],[0.2222222222222222,\"#7201a8\"],[0.3333333333333333,\"#9c179e\"],[0.4444444444444444,\"#bd3786\"],[0.5555555555555556,\"#d8576b\"],[0.6666666666666666,\"#ed7953\"],[0.7777777777777778,\"#fb9f3a\"],[0.8888888888888888,\"#fdca26\"],[1.0,\"#f0f921\"]]}],\"choropleth\":[{\"type\":\"choropleth\",\"colorbar\":{\"outlinewidth\":0,\"ticks\":\"\"}}],\"histogram2d\":[{\"type\":\"histogram2d\",\"colorbar\":{\"outlinewidth\":0,\"ticks\":\"\"},\"colorscale\":[[0.0,\"#0d0887\"],[0.1111111111111111,\"#46039f\"],[0.2222222222222222,\"#7201a8\"],[0.3333333333333333,\"#9c179e\"],[0.4444444444444444,\"#bd3786\"],[0.5555555555555556,\"#d8576b\"],[0.6666666666666666,\"#ed7953\"],[0.7777777777777778,\"#fb9f3a\"],[0.8888888888888888,\"#fdca26\"],[1.0,\"#f0f921\"]]}],\"heatmap\":[{\"type\":\"heatmap\",\"colorbar\":{\"outlinewidth\":0,\"ticks\":\"\"},\"colorscale\":[[0.0,\"#0d0887\"],[0.1111111111111111,\"#46039f\"],[0.2222222222222222,\"#7201a8\"],[0.3333333333333333,\"#9c179e\"],[0.4444444444444444,\"#bd3786\"],[0.5555555555555556,\"#d8576b\"],[0.6666666666666666,\"#ed7953\"],[0.7777777777777778,\"#fb9f3a\"],[0.8888888888888888,\"#fdca26\"],[1.0,\"#f0f921\"]]}],\"heatmapgl\":[{\"type\":\"heatmapgl\",\"colorbar\":{\"outlinewidth\":0,\"ticks\":\"\"},\"colorscale\":[[0.0,\"#0d0887\"],[0.1111111111111111,\"#46039f\"],[0.2222222222222222,\"#7201a8\"],[0.3333333333333333,\"#9c179e\"],[0.4444444444444444,\"#bd3786\"],[0.5555555555555556,\"#d8576b\"],[0.6666666666666666,\"#ed7953\"],[0.7777777777777778,\"#fb9f3a\"],[0.8888888888888888,\"#fdca26\"],[1.0,\"#f0f921\"]]}],\"contourcarpet\":[{\"type\":\"contourcarpet\",\"colorbar\":{\"outlinewidth\":0,\"ticks\":\"\"}}],\"contour\":[{\"type\":\"contour\",\"colorbar\":{\"outlinewidth\":0,\"ticks\":\"\"},\"colorscale\":[[0.0,\"#0d0887\"],[0.1111111111111111,\"#46039f\"],[0.2222222222222222,\"#7201a8\"],[0.3333333333333333,\"#9c179e\"],[0.4444444444444444,\"#bd3786\"],[0.5555555555555556,\"#d8576b\"],[0.6666666666666666,\"#ed7953\"],[0.7777777777777778,\"#fb9f3a\"],[0.8888888888888888,\"#fdca26\"],[1.0,\"#f0f921\"]]}],\"surface\":[{\"type\":\"surface\",\"colorbar\":{\"outlinewidth\":0,\"ticks\":\"\"},\"colorscale\":[[0.0,\"#0d0887\"],[0.1111111111111111,\"#46039f\"],[0.2222222222222222,\"#7201a8\"],[0.3333333333333333,\"#9c179e\"],[0.4444444444444444,\"#bd3786\"],[0.5555555555555556,\"#d8576b\"],[0.6666666666666666,\"#ed7953\"],[0.7777777777777778,\"#fb9f3a\"],[0.8888888888888888,\"#fdca26\"],[1.0,\"#f0f921\"]]}],\"mesh3d\":[{\"type\":\"mesh3d\",\"colorbar\":{\"outlinewidth\":0,\"ticks\":\"\"}}],\"scatter\":[{\"fillpattern\":{\"fillmode\":\"overlay\",\"size\":10,\"solidity\":0.2},\"type\":\"scatter\"}],\"parcoords\":[{\"type\":\"parcoords\",\"line\":{\"colorbar\":{\"outlinewidth\":0,\"ticks\":\"\"}}}],\"scatterpolargl\":[{\"type\":\"scatterpolargl\",\"marker\":{\"colorbar\":{\"outlinewidth\":0,\"ticks\":\"\"}}}],\"bar\":[{\"error_x\":{\"color\":\"#2a3f5f\"},\"error_y\":{\"color\":\"#2a3f5f\"},\"marker\":{\"line\":{\"color\":\"#E5ECF6\",\"width\":0.5},\"pattern\":{\"fillmode\":\"overlay\",\"size\":10,\"solidity\":0.2}},\"type\":\"bar\"}],\"scattergeo\":[{\"type\":\"scattergeo\",\"marker\":{\"colorbar\":{\"outlinewidth\":0,\"ticks\":\"\"}}}],\"scatterpolar\":[{\"type\":\"scatterpolar\",\"marker\":{\"colorbar\":{\"outlinewidth\":0,\"ticks\":\"\"}}}],\"histogram\":[{\"marker\":{\"pattern\":{\"fillmode\":\"overlay\",\"size\":10,\"solidity\":0.2}},\"type\":\"histogram\"}],\"scattergl\":[{\"type\":\"scattergl\",\"marker\":{\"colorbar\":{\"outlinewidth\":0,\"ticks\":\"\"}}}],\"scatter3d\":[{\"type\":\"scatter3d\",\"line\":{\"colorbar\":{\"outlinewidth\":0,\"ticks\":\"\"}},\"marker\":{\"colorbar\":{\"outlinewidth\":0,\"ticks\":\"\"}}}],\"scattermapbox\":[{\"type\":\"scattermapbox\",\"marker\":{\"colorbar\":{\"outlinewidth\":0,\"ticks\":\"\"}}}],\"scatterternary\":[{\"type\":\"scatterternary\",\"marker\":{\"colorbar\":{\"outlinewidth\":0,\"ticks\":\"\"}}}],\"scattercarpet\":[{\"type\":\"scattercarpet\",\"marker\":{\"colorbar\":{\"outlinewidth\":0,\"ticks\":\"\"}}}],\"carpet\":[{\"aaxis\":{\"endlinecolor\":\"#2a3f5f\",\"gridcolor\":\"white\",\"linecolor\":\"white\",\"minorgridcolor\":\"white\",\"startlinecolor\":\"#2a3f5f\"},\"baxis\":{\"endlinecolor\":\"#2a3f5f\",\"gridcolor\":\"white\",\"linecolor\":\"white\",\"minorgridcolor\":\"white\",\"startlinecolor\":\"#2a3f5f\"},\"type\":\"carpet\"}],\"table\":[{\"cells\":{\"fill\":{\"color\":\"#EBF0F8\"},\"line\":{\"color\":\"white\"}},\"header\":{\"fill\":{\"color\":\"#C8D4E3\"},\"line\":{\"color\":\"white\"}},\"type\":\"table\"}],\"barpolar\":[{\"marker\":{\"line\":{\"color\":\"#E5ECF6\",\"width\":0.5},\"pattern\":{\"fillmode\":\"overlay\",\"size\":10,\"solidity\":0.2}},\"type\":\"barpolar\"}],\"pie\":[{\"automargin\":true,\"type\":\"pie\"}]},\"layout\":{\"autotypenumbers\":\"strict\",\"colorway\":[\"#636efa\",\"#EF553B\",\"#00cc96\",\"#ab63fa\",\"#FFA15A\",\"#19d3f3\",\"#FF6692\",\"#B6E880\",\"#FF97FF\",\"#FECB52\"],\"font\":{\"color\":\"#2a3f5f\"},\"hovermode\":\"closest\",\"hoverlabel\":{\"align\":\"left\"},\"paper_bgcolor\":\"white\",\"plot_bgcolor\":\"#E5ECF6\",\"polar\":{\"bgcolor\":\"#E5ECF6\",\"angularaxis\":{\"gridcolor\":\"white\",\"linecolor\":\"white\",\"ticks\":\"\"},\"radialaxis\":{\"gridcolor\":\"white\",\"linecolor\":\"white\",\"ticks\":\"\"}},\"ternary\":{\"bgcolor\":\"#E5ECF6\",\"aaxis\":{\"gridcolor\":\"white\",\"linecolor\":\"white\",\"ticks\":\"\"},\"baxis\":{\"gridcolor\":\"white\",\"linecolor\":\"white\",\"ticks\":\"\"},\"caxis\":{\"gridcolor\":\"white\",\"linecolor\":\"white\",\"ticks\":\"\"}},\"coloraxis\":{\"colorbar\":{\"outlinewidth\":0,\"ticks\":\"\"}},\"colorscale\":{\"sequential\":[[0.0,\"#0d0887\"],[0.1111111111111111,\"#46039f\"],[0.2222222222222222,\"#7201a8\"],[0.3333333333333333,\"#9c179e\"],[0.4444444444444444,\"#bd3786\"],[0.5555555555555556,\"#d8576b\"],[0.6666666666666666,\"#ed7953\"],[0.7777777777777778,\"#fb9f3a\"],[0.8888888888888888,\"#fdca26\"],[1.0,\"#f0f921\"]],\"sequentialminus\":[[0.0,\"#0d0887\"],[0.1111111111111111,\"#46039f\"],[0.2222222222222222,\"#7201a8\"],[0.3333333333333333,\"#9c179e\"],[0.4444444444444444,\"#bd3786\"],[0.5555555555555556,\"#d8576b\"],[0.6666666666666666,\"#ed7953\"],[0.7777777777777778,\"#fb9f3a\"],[0.8888888888888888,\"#fdca26\"],[1.0,\"#f0f921\"]],\"diverging\":[[0,\"#8e0152\"],[0.1,\"#c51b7d\"],[0.2,\"#de77ae\"],[0.3,\"#f1b6da\"],[0.4,\"#fde0ef\"],[0.5,\"#f7f7f7\"],[0.6,\"#e6f5d0\"],[0.7,\"#b8e186\"],[0.8,\"#7fbc41\"],[0.9,\"#4d9221\"],[1,\"#276419\"]]},\"xaxis\":{\"gridcolor\":\"white\",\"linecolor\":\"white\",\"ticks\":\"\",\"title\":{\"standoff\":15},\"zerolinecolor\":\"white\",\"automargin\":true,\"zerolinewidth\":2},\"yaxis\":{\"gridcolor\":\"white\",\"linecolor\":\"white\",\"ticks\":\"\",\"title\":{\"standoff\":15},\"zerolinecolor\":\"white\",\"automargin\":true,\"zerolinewidth\":2},\"scene\":{\"xaxis\":{\"backgroundcolor\":\"#E5ECF6\",\"gridcolor\":\"white\",\"linecolor\":\"white\",\"showbackground\":true,\"ticks\":\"\",\"zerolinecolor\":\"white\",\"gridwidth\":2},\"yaxis\":{\"backgroundcolor\":\"#E5ECF6\",\"gridcolor\":\"white\",\"linecolor\":\"white\",\"showbackground\":true,\"ticks\":\"\",\"zerolinecolor\":\"white\",\"gridwidth\":2},\"zaxis\":{\"backgroundcolor\":\"#E5ECF6\",\"gridcolor\":\"white\",\"linecolor\":\"white\",\"showbackground\":true,\"ticks\":\"\",\"zerolinecolor\":\"white\",\"gridwidth\":2}},\"shapedefaults\":{\"line\":{\"color\":\"#2a3f5f\"}},\"annotationdefaults\":{\"arrowcolor\":\"#2a3f5f\",\"arrowhead\":0,\"arrowwidth\":1},\"geo\":{\"bgcolor\":\"white\",\"landcolor\":\"#E5ECF6\",\"subunitcolor\":\"white\",\"showland\":true,\"showlakes\":true,\"lakecolor\":\"white\"},\"title\":{\"x\":0.05},\"mapbox\":{\"style\":\"light\"}}}},                        {\"responsive\": true}                    ).then(function(){\n",
       "                            \n",
       "var gd = document.getElementById('acbe51d2-377f-48c5-826d-eeba32796e57');\n",
       "var x = new MutationObserver(function (mutations, observer) {{\n",
       "        var display = window.getComputedStyle(gd).display;\n",
       "        if (!display || display === 'none') {{\n",
       "            console.log([gd, 'removed!']);\n",
       "            Plotly.purge(gd);\n",
       "            observer.disconnect();\n",
       "        }}\n",
       "}});\n",
       "\n",
       "// Listen for the removal of the full notebook cells\n",
       "var notebookContainer = gd.closest('#notebook-container');\n",
       "if (notebookContainer) {{\n",
       "    x.observe(notebookContainer, {childList: true});\n",
       "}}\n",
       "\n",
       "// Listen for the clearing of the current output cell\n",
       "var outputEl = gd.closest('.output');\n",
       "if (outputEl) {{\n",
       "    x.observe(outputEl, {childList: true});\n",
       "}}\n",
       "\n",
       "                        })                };                });            </script>        </div>"
      ]
     },
     "metadata": {},
     "output_type": "display_data"
    }
   ],
   "source": [
    "optuna.visualization.plot_optimization_history(study_cb)"
   ]
  },
  {
   "cell_type": "code",
   "execution_count": 28,
   "metadata": {},
   "outputs": [
    {
     "name": "stdout",
     "output_type": "stream",
     "text": [
      "0:\tlearn: 0.6871287\ttotal: 29.5ms\tremaining: 29.5s\n",
      "1:\tlearn: 0.6813359\ttotal: 55.7ms\tremaining: 27.8s\n",
      "2:\tlearn: 0.6758410\ttotal: 82.5ms\tremaining: 27.4s\n",
      "3:\tlearn: 0.6700145\ttotal: 110ms\tremaining: 27.3s\n",
      "4:\tlearn: 0.6647412\ttotal: 136ms\tremaining: 27.1s\n",
      "5:\tlearn: 0.6584795\ttotal: 163ms\tremaining: 26.9s\n",
      "6:\tlearn: 0.6527243\ttotal: 189ms\tremaining: 26.8s\n",
      "7:\tlearn: 0.6467978\ttotal: 216ms\tremaining: 26.8s\n",
      "8:\tlearn: 0.6417726\ttotal: 242ms\tremaining: 26.6s\n",
      "9:\tlearn: 0.6357191\ttotal: 269ms\tremaining: 26.6s\n",
      "10:\tlearn: 0.6292738\ttotal: 295ms\tremaining: 26.5s\n",
      "11:\tlearn: 0.6245087\ttotal: 321ms\tremaining: 26.5s\n",
      "12:\tlearn: 0.6192647\ttotal: 349ms\tremaining: 26.5s\n",
      "13:\tlearn: 0.6134441\ttotal: 376ms\tremaining: 26.5s\n",
      "14:\tlearn: 0.6083792\ttotal: 403ms\tremaining: 26.5s\n",
      "15:\tlearn: 0.6024945\ttotal: 429ms\tremaining: 26.4s\n",
      "16:\tlearn: 0.5973784\ttotal: 457ms\tremaining: 26.4s\n",
      "17:\tlearn: 0.5924612\ttotal: 483ms\tremaining: 26.3s\n",
      "18:\tlearn: 0.5874713\ttotal: 509ms\tremaining: 26.3s\n",
      "19:\tlearn: 0.5824972\ttotal: 536ms\tremaining: 26.2s\n",
      "20:\tlearn: 0.5776372\ttotal: 562ms\tremaining: 26.2s\n",
      "21:\tlearn: 0.5730157\ttotal: 588ms\tremaining: 26.2s\n",
      "22:\tlearn: 0.5685770\ttotal: 616ms\tremaining: 26.2s\n",
      "23:\tlearn: 0.5637937\ttotal: 642ms\tremaining: 26.1s\n",
      "24:\tlearn: 0.5590774\ttotal: 669ms\tremaining: 26.1s\n",
      "25:\tlearn: 0.5548163\ttotal: 695ms\tremaining: 26s\n",
      "26:\tlearn: 0.5505984\ttotal: 721ms\tremaining: 26s\n",
      "27:\tlearn: 0.5461009\ttotal: 748ms\tremaining: 26s\n",
      "28:\tlearn: 0.5411253\ttotal: 775ms\tremaining: 26s\n",
      "29:\tlearn: 0.5365500\ttotal: 802ms\tremaining: 25.9s\n",
      "30:\tlearn: 0.5324850\ttotal: 828ms\tremaining: 25.9s\n",
      "31:\tlearn: 0.5277726\ttotal: 855ms\tremaining: 25.9s\n",
      "32:\tlearn: 0.5235797\ttotal: 882ms\tremaining: 25.8s\n",
      "33:\tlearn: 0.5195333\ttotal: 908ms\tremaining: 25.8s\n",
      "34:\tlearn: 0.5149689\ttotal: 935ms\tremaining: 25.8s\n",
      "35:\tlearn: 0.5103381\ttotal: 961ms\tremaining: 25.7s\n",
      "36:\tlearn: 0.5063072\ttotal: 988ms\tremaining: 25.7s\n",
      "37:\tlearn: 0.5021059\ttotal: 1.01s\tremaining: 25.7s\n",
      "38:\tlearn: 0.4978470\ttotal: 1.04s\tremaining: 25.6s\n",
      "39:\tlearn: 0.4935853\ttotal: 1.07s\tremaining: 25.6s\n",
      "40:\tlearn: 0.4897754\ttotal: 1.09s\tremaining: 25.6s\n",
      "41:\tlearn: 0.4857157\ttotal: 1.12s\tremaining: 25.6s\n",
      "42:\tlearn: 0.4819475\ttotal: 1.15s\tremaining: 25.5s\n",
      "43:\tlearn: 0.4777414\ttotal: 1.17s\tremaining: 25.5s\n",
      "44:\tlearn: 0.4739721\ttotal: 1.2s\tremaining: 25.5s\n",
      "45:\tlearn: 0.4702385\ttotal: 1.23s\tremaining: 25.4s\n",
      "46:\tlearn: 0.4663437\ttotal: 1.25s\tremaining: 25.4s\n",
      "47:\tlearn: 0.4619846\ttotal: 1.28s\tremaining: 25.4s\n",
      "48:\tlearn: 0.4581655\ttotal: 1.3s\tremaining: 25.3s\n",
      "49:\tlearn: 0.4544707\ttotal: 1.33s\tremaining: 25.3s\n",
      "50:\tlearn: 0.4502525\ttotal: 1.36s\tremaining: 25.3s\n",
      "51:\tlearn: 0.4464805\ttotal: 1.38s\tremaining: 25.2s\n",
      "52:\tlearn: 0.4420009\ttotal: 1.41s\tremaining: 25.2s\n",
      "53:\tlearn: 0.4382375\ttotal: 1.44s\tremaining: 25.2s\n",
      "54:\tlearn: 0.4343352\ttotal: 1.46s\tremaining: 25.2s\n",
      "55:\tlearn: 0.4305134\ttotal: 1.49s\tremaining: 25.1s\n",
      "56:\tlearn: 0.4267185\ttotal: 1.52s\tremaining: 25.1s\n",
      "57:\tlearn: 0.4236088\ttotal: 1.54s\tremaining: 25.1s\n",
      "58:\tlearn: 0.4200773\ttotal: 1.57s\tremaining: 25s\n",
      "59:\tlearn: 0.4163899\ttotal: 1.6s\tremaining: 25s\n",
      "60:\tlearn: 0.4127411\ttotal: 1.62s\tremaining: 25s\n",
      "61:\tlearn: 0.4089469\ttotal: 1.65s\tremaining: 25s\n",
      "62:\tlearn: 0.4056855\ttotal: 1.68s\tremaining: 24.9s\n",
      "63:\tlearn: 0.4024592\ttotal: 1.7s\tremaining: 24.9s\n",
      "64:\tlearn: 0.3984747\ttotal: 1.73s\tremaining: 24.9s\n",
      "65:\tlearn: 0.3953080\ttotal: 1.76s\tremaining: 24.9s\n",
      "66:\tlearn: 0.3922671\ttotal: 1.78s\tremaining: 24.8s\n",
      "67:\tlearn: 0.3891751\ttotal: 1.81s\tremaining: 24.8s\n",
      "68:\tlearn: 0.3858039\ttotal: 1.84s\tremaining: 24.8s\n",
      "69:\tlearn: 0.3828675\ttotal: 1.86s\tremaining: 24.7s\n",
      "70:\tlearn: 0.3797478\ttotal: 1.89s\tremaining: 24.7s\n",
      "71:\tlearn: 0.3762433\ttotal: 1.92s\tremaining: 24.7s\n",
      "72:\tlearn: 0.3730924\ttotal: 1.94s\tremaining: 24.7s\n",
      "73:\tlearn: 0.3695752\ttotal: 1.97s\tremaining: 24.7s\n",
      "74:\tlearn: 0.3664523\ttotal: 2s\tremaining: 24.6s\n",
      "75:\tlearn: 0.3632104\ttotal: 2.02s\tremaining: 24.6s\n",
      "76:\tlearn: 0.3601173\ttotal: 2.05s\tremaining: 24.6s\n",
      "77:\tlearn: 0.3568449\ttotal: 2.08s\tremaining: 24.5s\n",
      "78:\tlearn: 0.3536567\ttotal: 2.1s\tremaining: 24.5s\n",
      "79:\tlearn: 0.3506418\ttotal: 2.13s\tremaining: 24.5s\n",
      "80:\tlearn: 0.3478918\ttotal: 2.16s\tremaining: 24.5s\n",
      "81:\tlearn: 0.3450495\ttotal: 2.18s\tremaining: 24.5s\n",
      "82:\tlearn: 0.3424332\ttotal: 2.21s\tremaining: 24.4s\n",
      "83:\tlearn: 0.3399036\ttotal: 2.24s\tremaining: 24.4s\n",
      "84:\tlearn: 0.3371732\ttotal: 2.26s\tremaining: 24.4s\n",
      "85:\tlearn: 0.3345451\ttotal: 2.29s\tremaining: 24.3s\n",
      "86:\tlearn: 0.3321156\ttotal: 2.32s\tremaining: 24.3s\n",
      "87:\tlearn: 0.3295418\ttotal: 2.34s\tremaining: 24.3s\n",
      "88:\tlearn: 0.3267926\ttotal: 2.37s\tremaining: 24.3s\n",
      "89:\tlearn: 0.3240628\ttotal: 2.4s\tremaining: 24.2s\n",
      "90:\tlearn: 0.3210850\ttotal: 2.42s\tremaining: 24.2s\n",
      "91:\tlearn: 0.3182361\ttotal: 2.45s\tremaining: 24.2s\n",
      "92:\tlearn: 0.3156656\ttotal: 2.48s\tremaining: 24.2s\n",
      "93:\tlearn: 0.3129695\ttotal: 2.5s\tremaining: 24.1s\n",
      "94:\tlearn: 0.3103774\ttotal: 2.53s\tremaining: 24.1s\n",
      "95:\tlearn: 0.3078769\ttotal: 2.56s\tremaining: 24.1s\n",
      "96:\tlearn: 0.3049963\ttotal: 2.58s\tremaining: 24.1s\n",
      "97:\tlearn: 0.3026772\ttotal: 2.61s\tremaining: 24s\n",
      "98:\tlearn: 0.3001765\ttotal: 2.64s\tremaining: 24s\n",
      "99:\tlearn: 0.2974123\ttotal: 2.67s\tremaining: 24s\n",
      "100:\tlearn: 0.2948713\ttotal: 2.69s\tremaining: 24s\n",
      "101:\tlearn: 0.2924890\ttotal: 2.72s\tremaining: 23.9s\n",
      "102:\tlearn: 0.2901629\ttotal: 2.75s\tremaining: 23.9s\n",
      "103:\tlearn: 0.2874921\ttotal: 2.78s\tremaining: 23.9s\n",
      "104:\tlearn: 0.2851328\ttotal: 2.8s\tremaining: 23.9s\n",
      "105:\tlearn: 0.2830689\ttotal: 2.83s\tremaining: 23.9s\n",
      "106:\tlearn: 0.2804160\ttotal: 2.86s\tremaining: 23.8s\n",
      "107:\tlearn: 0.2782170\ttotal: 2.88s\tremaining: 23.8s\n",
      "108:\tlearn: 0.2755628\ttotal: 2.91s\tremaining: 23.8s\n",
      "109:\tlearn: 0.2733171\ttotal: 2.94s\tremaining: 23.8s\n",
      "110:\tlearn: 0.2714000\ttotal: 2.96s\tremaining: 23.7s\n",
      "111:\tlearn: 0.2693140\ttotal: 2.99s\tremaining: 23.7s\n",
      "112:\tlearn: 0.2670445\ttotal: 3.02s\tremaining: 23.7s\n",
      "113:\tlearn: 0.2648717\ttotal: 3.04s\tremaining: 23.7s\n",
      "114:\tlearn: 0.2625292\ttotal: 3.07s\tremaining: 23.6s\n",
      "115:\tlearn: 0.2598345\ttotal: 3.1s\tremaining: 23.6s\n",
      "116:\tlearn: 0.2574353\ttotal: 3.13s\tremaining: 23.6s\n",
      "117:\tlearn: 0.2554415\ttotal: 3.15s\tremaining: 23.6s\n",
      "118:\tlearn: 0.2533959\ttotal: 3.18s\tremaining: 23.5s\n",
      "119:\tlearn: 0.2511675\ttotal: 3.21s\tremaining: 23.5s\n",
      "120:\tlearn: 0.2489594\ttotal: 3.23s\tremaining: 23.5s\n",
      "121:\tlearn: 0.2469536\ttotal: 3.26s\tremaining: 23.4s\n",
      "122:\tlearn: 0.2451228\ttotal: 3.28s\tremaining: 23.4s\n",
      "123:\tlearn: 0.2432618\ttotal: 3.31s\tremaining: 23.4s\n",
      "124:\tlearn: 0.2414865\ttotal: 3.34s\tremaining: 23.4s\n",
      "125:\tlearn: 0.2396765\ttotal: 3.36s\tremaining: 23.3s\n",
      "126:\tlearn: 0.2376916\ttotal: 3.39s\tremaining: 23.3s\n",
      "127:\tlearn: 0.2355391\ttotal: 3.42s\tremaining: 23.3s\n",
      "128:\tlearn: 0.2335871\ttotal: 3.45s\tremaining: 23.3s\n",
      "129:\tlearn: 0.2315696\ttotal: 3.47s\tremaining: 23.2s\n",
      "130:\tlearn: 0.2296831\ttotal: 3.5s\tremaining: 23.2s\n",
      "131:\tlearn: 0.2278538\ttotal: 3.53s\tremaining: 23.2s\n",
      "132:\tlearn: 0.2258765\ttotal: 3.55s\tremaining: 23.2s\n",
      "133:\tlearn: 0.2242654\ttotal: 3.58s\tremaining: 23.1s\n",
      "134:\tlearn: 0.2224307\ttotal: 3.61s\tremaining: 23.1s\n",
      "135:\tlearn: 0.2208240\ttotal: 3.63s\tremaining: 23.1s\n",
      "136:\tlearn: 0.2191654\ttotal: 3.66s\tremaining: 23.1s\n",
      "137:\tlearn: 0.2173765\ttotal: 3.69s\tremaining: 23s\n",
      "138:\tlearn: 0.2156114\ttotal: 3.71s\tremaining: 23s\n",
      "139:\tlearn: 0.2140534\ttotal: 3.74s\tremaining: 23s\n",
      "140:\tlearn: 0.2125795\ttotal: 3.77s\tremaining: 23s\n",
      "141:\tlearn: 0.2109064\ttotal: 3.8s\tremaining: 22.9s\n",
      "142:\tlearn: 0.2093039\ttotal: 3.82s\tremaining: 22.9s\n",
      "143:\tlearn: 0.2077261\ttotal: 3.85s\tremaining: 22.9s\n",
      "144:\tlearn: 0.2060788\ttotal: 3.88s\tremaining: 22.9s\n",
      "145:\tlearn: 0.2044283\ttotal: 3.9s\tremaining: 22.8s\n",
      "146:\tlearn: 0.2025435\ttotal: 3.93s\tremaining: 22.8s\n",
      "147:\tlearn: 0.2008306\ttotal: 3.96s\tremaining: 22.8s\n",
      "148:\tlearn: 0.1994655\ttotal: 3.98s\tremaining: 22.8s\n",
      "149:\tlearn: 0.1980122\ttotal: 4.01s\tremaining: 22.7s\n",
      "150:\tlearn: 0.1964438\ttotal: 4.04s\tremaining: 22.7s\n",
      "151:\tlearn: 0.1950951\ttotal: 4.06s\tremaining: 22.7s\n",
      "152:\tlearn: 0.1935732\ttotal: 4.09s\tremaining: 22.6s\n",
      "153:\tlearn: 0.1921439\ttotal: 4.12s\tremaining: 22.6s\n",
      "154:\tlearn: 0.1905505\ttotal: 4.14s\tremaining: 22.6s\n",
      "155:\tlearn: 0.1891088\ttotal: 4.17s\tremaining: 22.6s\n",
      "156:\tlearn: 0.1874296\ttotal: 4.2s\tremaining: 22.5s\n",
      "157:\tlearn: 0.1862215\ttotal: 4.22s\tremaining: 22.5s\n",
      "158:\tlearn: 0.1848043\ttotal: 4.25s\tremaining: 22.5s\n",
      "159:\tlearn: 0.1832023\ttotal: 4.28s\tremaining: 22.5s\n",
      "160:\tlearn: 0.1817790\ttotal: 4.3s\tremaining: 22.4s\n",
      "161:\tlearn: 0.1804612\ttotal: 4.33s\tremaining: 22.4s\n",
      "162:\tlearn: 0.1787245\ttotal: 4.36s\tremaining: 22.4s\n",
      "163:\tlearn: 0.1773982\ttotal: 4.38s\tremaining: 22.4s\n",
      "164:\tlearn: 0.1759475\ttotal: 4.41s\tremaining: 22.3s\n",
      "165:\tlearn: 0.1746309\ttotal: 4.44s\tremaining: 22.3s\n",
      "166:\tlearn: 0.1731877\ttotal: 4.46s\tremaining: 22.3s\n",
      "167:\tlearn: 0.1717541\ttotal: 4.49s\tremaining: 22.2s\n",
      "168:\tlearn: 0.1704845\ttotal: 4.52s\tremaining: 22.2s\n",
      "169:\tlearn: 0.1691948\ttotal: 4.54s\tremaining: 22.2s\n",
      "170:\tlearn: 0.1681695\ttotal: 4.57s\tremaining: 22.2s\n",
      "171:\tlearn: 0.1668198\ttotal: 4.6s\tremaining: 22.1s\n",
      "172:\tlearn: 0.1656153\ttotal: 4.62s\tremaining: 22.1s\n",
      "173:\tlearn: 0.1642507\ttotal: 4.65s\tremaining: 22.1s\n",
      "174:\tlearn: 0.1629799\ttotal: 4.68s\tremaining: 22.1s\n",
      "175:\tlearn: 0.1617505\ttotal: 4.71s\tremaining: 22s\n",
      "176:\tlearn: 0.1605152\ttotal: 4.73s\tremaining: 22s\n",
      "177:\tlearn: 0.1591862\ttotal: 4.76s\tremaining: 22s\n",
      "178:\tlearn: 0.1578579\ttotal: 4.79s\tremaining: 22s\n",
      "179:\tlearn: 0.1566999\ttotal: 4.81s\tremaining: 21.9s\n",
      "180:\tlearn: 0.1554998\ttotal: 4.84s\tremaining: 21.9s\n",
      "181:\tlearn: 0.1542371\ttotal: 4.87s\tremaining: 21.9s\n",
      "182:\tlearn: 0.1530973\ttotal: 4.89s\tremaining: 21.8s\n",
      "183:\tlearn: 0.1520081\ttotal: 4.92s\tremaining: 21.8s\n",
      "184:\tlearn: 0.1507682\ttotal: 4.95s\tremaining: 21.8s\n",
      "185:\tlearn: 0.1496000\ttotal: 4.97s\tremaining: 21.8s\n",
      "186:\tlearn: 0.1487177\ttotal: 5s\tremaining: 21.7s\n",
      "187:\tlearn: 0.1473961\ttotal: 5.02s\tremaining: 21.7s\n",
      "188:\tlearn: 0.1462018\ttotal: 5.05s\tremaining: 21.7s\n",
      "189:\tlearn: 0.1450475\ttotal: 5.08s\tremaining: 21.6s\n",
      "190:\tlearn: 0.1439229\ttotal: 5.11s\tremaining: 21.6s\n",
      "191:\tlearn: 0.1428611\ttotal: 5.13s\tremaining: 21.6s\n",
      "192:\tlearn: 0.1417454\ttotal: 5.16s\tremaining: 21.6s\n",
      "193:\tlearn: 0.1407413\ttotal: 5.18s\tremaining: 21.5s\n",
      "194:\tlearn: 0.1399237\ttotal: 5.21s\tremaining: 21.5s\n",
      "195:\tlearn: 0.1390259\ttotal: 5.24s\tremaining: 21.5s\n",
      "196:\tlearn: 0.1380974\ttotal: 5.26s\tremaining: 21.5s\n",
      "197:\tlearn: 0.1371121\ttotal: 5.29s\tremaining: 21.4s\n",
      "198:\tlearn: 0.1361879\ttotal: 5.32s\tremaining: 21.4s\n",
      "199:\tlearn: 0.1352465\ttotal: 5.34s\tremaining: 21.4s\n",
      "200:\tlearn: 0.1342527\ttotal: 5.37s\tremaining: 21.4s\n",
      "201:\tlearn: 0.1333901\ttotal: 5.4s\tremaining: 21.3s\n",
      "202:\tlearn: 0.1324036\ttotal: 5.42s\tremaining: 21.3s\n",
      "203:\tlearn: 0.1315146\ttotal: 5.45s\tremaining: 21.3s\n",
      "204:\tlearn: 0.1307319\ttotal: 5.48s\tremaining: 21.2s\n",
      "205:\tlearn: 0.1298272\ttotal: 5.5s\tremaining: 21.2s\n",
      "206:\tlearn: 0.1289310\ttotal: 5.53s\tremaining: 21.2s\n",
      "207:\tlearn: 0.1277917\ttotal: 5.56s\tremaining: 21.2s\n",
      "208:\tlearn: 0.1270191\ttotal: 5.58s\tremaining: 21.1s\n",
      "209:\tlearn: 0.1260385\ttotal: 5.61s\tremaining: 21.1s\n",
      "210:\tlearn: 0.1251022\ttotal: 5.64s\tremaining: 21.1s\n",
      "211:\tlearn: 0.1243121\ttotal: 5.67s\tremaining: 21.1s\n",
      "212:\tlearn: 0.1234877\ttotal: 5.69s\tremaining: 21s\n",
      "213:\tlearn: 0.1226502\ttotal: 5.72s\tremaining: 21s\n",
      "214:\tlearn: 0.1218008\ttotal: 5.75s\tremaining: 21s\n",
      "215:\tlearn: 0.1209974\ttotal: 5.77s\tremaining: 20.9s\n",
      "216:\tlearn: 0.1200676\ttotal: 5.8s\tremaining: 20.9s\n",
      "217:\tlearn: 0.1192703\ttotal: 5.82s\tremaining: 20.9s\n",
      "218:\tlearn: 0.1185453\ttotal: 5.85s\tremaining: 20.9s\n",
      "219:\tlearn: 0.1177658\ttotal: 5.88s\tremaining: 20.8s\n",
      "220:\tlearn: 0.1169881\ttotal: 5.9s\tremaining: 20.8s\n",
      "221:\tlearn: 0.1160617\ttotal: 5.93s\tremaining: 20.8s\n",
      "222:\tlearn: 0.1153484\ttotal: 5.96s\tremaining: 20.8s\n",
      "223:\tlearn: 0.1145156\ttotal: 5.98s\tremaining: 20.7s\n",
      "224:\tlearn: 0.1136675\ttotal: 6.01s\tremaining: 20.7s\n",
      "225:\tlearn: 0.1129316\ttotal: 6.04s\tremaining: 20.7s\n",
      "226:\tlearn: 0.1122215\ttotal: 6.06s\tremaining: 20.7s\n",
      "227:\tlearn: 0.1115137\ttotal: 6.09s\tremaining: 20.6s\n",
      "228:\tlearn: 0.1107493\ttotal: 6.12s\tremaining: 20.6s\n",
      "229:\tlearn: 0.1099112\ttotal: 6.14s\tremaining: 20.6s\n",
      "230:\tlearn: 0.1092747\ttotal: 6.17s\tremaining: 20.5s\n",
      "231:\tlearn: 0.1085929\ttotal: 6.2s\tremaining: 20.5s\n",
      "232:\tlearn: 0.1078781\ttotal: 6.22s\tremaining: 20.5s\n",
      "233:\tlearn: 0.1071790\ttotal: 6.25s\tremaining: 20.5s\n",
      "234:\tlearn: 0.1063413\ttotal: 6.28s\tremaining: 20.4s\n",
      "235:\tlearn: 0.1056722\ttotal: 6.3s\tremaining: 20.4s\n",
      "236:\tlearn: 0.1049651\ttotal: 6.33s\tremaining: 20.4s\n",
      "237:\tlearn: 0.1043232\ttotal: 6.36s\tremaining: 20.4s\n",
      "238:\tlearn: 0.1036460\ttotal: 6.38s\tremaining: 20.3s\n",
      "239:\tlearn: 0.1029543\ttotal: 6.41s\tremaining: 20.3s\n",
      "240:\tlearn: 0.1023081\ttotal: 6.44s\tremaining: 20.3s\n",
      "241:\tlearn: 0.1016710\ttotal: 6.46s\tremaining: 20.3s\n",
      "242:\tlearn: 0.1009990\ttotal: 6.49s\tremaining: 20.2s\n",
      "243:\tlearn: 0.1003647\ttotal: 6.52s\tremaining: 20.2s\n",
      "244:\tlearn: 0.0997502\ttotal: 6.54s\tremaining: 20.2s\n",
      "245:\tlearn: 0.0990210\ttotal: 6.57s\tremaining: 20.1s\n",
      "246:\tlearn: 0.0982927\ttotal: 6.6s\tremaining: 20.1s\n",
      "247:\tlearn: 0.0975148\ttotal: 6.63s\tremaining: 20.1s\n",
      "248:\tlearn: 0.0969187\ttotal: 6.65s\tremaining: 20.1s\n",
      "249:\tlearn: 0.0961392\ttotal: 6.68s\tremaining: 20s\n",
      "250:\tlearn: 0.0955603\ttotal: 6.71s\tremaining: 20s\n",
      "251:\tlearn: 0.0948623\ttotal: 6.74s\tremaining: 20s\n",
      "252:\tlearn: 0.0941862\ttotal: 6.76s\tremaining: 20s\n",
      "253:\tlearn: 0.0935996\ttotal: 6.79s\tremaining: 19.9s\n",
      "254:\tlearn: 0.0930064\ttotal: 6.82s\tremaining: 19.9s\n",
      "255:\tlearn: 0.0924391\ttotal: 6.84s\tremaining: 19.9s\n",
      "256:\tlearn: 0.0918486\ttotal: 6.87s\tremaining: 19.9s\n",
      "257:\tlearn: 0.0912572\ttotal: 6.9s\tremaining: 19.8s\n",
      "258:\tlearn: 0.0904867\ttotal: 6.92s\tremaining: 19.8s\n",
      "259:\tlearn: 0.0899601\ttotal: 6.95s\tremaining: 19.8s\n",
      "260:\tlearn: 0.0893408\ttotal: 6.98s\tremaining: 19.8s\n",
      "261:\tlearn: 0.0886777\ttotal: 7s\tremaining: 19.7s\n",
      "262:\tlearn: 0.0881551\ttotal: 7.03s\tremaining: 19.7s\n",
      "263:\tlearn: 0.0875706\ttotal: 7.06s\tremaining: 19.7s\n",
      "264:\tlearn: 0.0870295\ttotal: 7.09s\tremaining: 19.7s\n",
      "265:\tlearn: 0.0865418\ttotal: 7.11s\tremaining: 19.6s\n",
      "266:\tlearn: 0.0858969\ttotal: 7.14s\tremaining: 19.6s\n",
      "267:\tlearn: 0.0852488\ttotal: 7.17s\tremaining: 19.6s\n",
      "268:\tlearn: 0.0846484\ttotal: 7.19s\tremaining: 19.6s\n",
      "269:\tlearn: 0.0841431\ttotal: 7.22s\tremaining: 19.5s\n",
      "270:\tlearn: 0.0836600\ttotal: 7.25s\tremaining: 19.5s\n",
      "271:\tlearn: 0.0831712\ttotal: 7.28s\tremaining: 19.5s\n",
      "272:\tlearn: 0.0827453\ttotal: 7.3s\tremaining: 19.4s\n",
      "273:\tlearn: 0.0821416\ttotal: 7.33s\tremaining: 19.4s\n",
      "274:\tlearn: 0.0817303\ttotal: 7.36s\tremaining: 19.4s\n",
      "275:\tlearn: 0.0811318\ttotal: 7.38s\tremaining: 19.4s\n",
      "276:\tlearn: 0.0807032\ttotal: 7.41s\tremaining: 19.3s\n",
      "277:\tlearn: 0.0802862\ttotal: 7.43s\tremaining: 19.3s\n",
      "278:\tlearn: 0.0797708\ttotal: 7.46s\tremaining: 19.3s\n",
      "279:\tlearn: 0.0793367\ttotal: 7.49s\tremaining: 19.3s\n",
      "280:\tlearn: 0.0789025\ttotal: 7.51s\tremaining: 19.2s\n",
      "281:\tlearn: 0.0782841\ttotal: 7.54s\tremaining: 19.2s\n",
      "282:\tlearn: 0.0778542\ttotal: 7.57s\tremaining: 19.2s\n",
      "283:\tlearn: 0.0774016\ttotal: 7.59s\tremaining: 19.1s\n",
      "284:\tlearn: 0.0769580\ttotal: 7.62s\tremaining: 19.1s\n",
      "285:\tlearn: 0.0765040\ttotal: 7.65s\tremaining: 19.1s\n",
      "286:\tlearn: 0.0759760\ttotal: 7.67s\tremaining: 19.1s\n",
      "287:\tlearn: 0.0755524\ttotal: 7.7s\tremaining: 19s\n",
      "288:\tlearn: 0.0751067\ttotal: 7.73s\tremaining: 19s\n",
      "289:\tlearn: 0.0746503\ttotal: 7.75s\tremaining: 19s\n",
      "290:\tlearn: 0.0742102\ttotal: 7.78s\tremaining: 19s\n",
      "291:\tlearn: 0.0737705\ttotal: 7.81s\tremaining: 18.9s\n",
      "292:\tlearn: 0.0732544\ttotal: 7.84s\tremaining: 18.9s\n",
      "293:\tlearn: 0.0728643\ttotal: 7.86s\tremaining: 18.9s\n",
      "294:\tlearn: 0.0723651\ttotal: 7.89s\tremaining: 18.9s\n",
      "295:\tlearn: 0.0719273\ttotal: 7.92s\tremaining: 18.8s\n",
      "296:\tlearn: 0.0716057\ttotal: 7.95s\tremaining: 18.8s\n",
      "297:\tlearn: 0.0711179\ttotal: 7.97s\tremaining: 18.8s\n",
      "298:\tlearn: 0.0707941\ttotal: 8s\tremaining: 18.8s\n",
      "299:\tlearn: 0.0703717\ttotal: 8.03s\tremaining: 18.7s\n",
      "300:\tlearn: 0.0700565\ttotal: 8.05s\tremaining: 18.7s\n",
      "301:\tlearn: 0.0696514\ttotal: 8.08s\tremaining: 18.7s\n",
      "302:\tlearn: 0.0692311\ttotal: 8.11s\tremaining: 18.6s\n",
      "303:\tlearn: 0.0688247\ttotal: 8.13s\tremaining: 18.6s\n",
      "304:\tlearn: 0.0683497\ttotal: 8.16s\tremaining: 18.6s\n",
      "305:\tlearn: 0.0680719\ttotal: 8.19s\tremaining: 18.6s\n",
      "306:\tlearn: 0.0676466\ttotal: 8.21s\tremaining: 18.5s\n",
      "307:\tlearn: 0.0673172\ttotal: 8.24s\tremaining: 18.5s\n",
      "308:\tlearn: 0.0668547\ttotal: 8.27s\tremaining: 18.5s\n",
      "309:\tlearn: 0.0664467\ttotal: 8.29s\tremaining: 18.5s\n",
      "310:\tlearn: 0.0660533\ttotal: 8.32s\tremaining: 18.4s\n",
      "311:\tlearn: 0.0657508\ttotal: 8.35s\tremaining: 18.4s\n",
      "312:\tlearn: 0.0653245\ttotal: 8.37s\tremaining: 18.4s\n",
      "313:\tlearn: 0.0649750\ttotal: 8.4s\tremaining: 18.4s\n",
      "314:\tlearn: 0.0645777\ttotal: 8.43s\tremaining: 18.3s\n",
      "315:\tlearn: 0.0641898\ttotal: 8.46s\tremaining: 18.3s\n",
      "316:\tlearn: 0.0638506\ttotal: 8.48s\tremaining: 18.3s\n",
      "317:\tlearn: 0.0635062\ttotal: 8.51s\tremaining: 18.2s\n",
      "318:\tlearn: 0.0631087\ttotal: 8.54s\tremaining: 18.2s\n",
      "319:\tlearn: 0.0627285\ttotal: 8.56s\tremaining: 18.2s\n",
      "320:\tlearn: 0.0624193\ttotal: 8.59s\tremaining: 18.2s\n",
      "321:\tlearn: 0.0620566\ttotal: 8.62s\tremaining: 18.1s\n",
      "322:\tlearn: 0.0617362\ttotal: 8.64s\tremaining: 18.1s\n",
      "323:\tlearn: 0.0614110\ttotal: 8.67s\tremaining: 18.1s\n",
      "324:\tlearn: 0.0610744\ttotal: 8.7s\tremaining: 18.1s\n",
      "325:\tlearn: 0.0608208\ttotal: 8.72s\tremaining: 18s\n",
      "326:\tlearn: 0.0605110\ttotal: 8.75s\tremaining: 18s\n",
      "327:\tlearn: 0.0601566\ttotal: 8.78s\tremaining: 18s\n",
      "328:\tlearn: 0.0597963\ttotal: 8.8s\tremaining: 18s\n",
      "329:\tlearn: 0.0594749\ttotal: 8.83s\tremaining: 17.9s\n",
      "330:\tlearn: 0.0592258\ttotal: 8.86s\tremaining: 17.9s\n",
      "331:\tlearn: 0.0589775\ttotal: 8.88s\tremaining: 17.9s\n",
      "332:\tlearn: 0.0586803\ttotal: 8.91s\tremaining: 17.9s\n",
      "333:\tlearn: 0.0584037\ttotal: 8.94s\tremaining: 17.8s\n",
      "334:\tlearn: 0.0580764\ttotal: 8.96s\tremaining: 17.8s\n",
      "335:\tlearn: 0.0576992\ttotal: 8.99s\tremaining: 17.8s\n",
      "336:\tlearn: 0.0573532\ttotal: 9.02s\tremaining: 17.7s\n",
      "337:\tlearn: 0.0571134\ttotal: 9.05s\tremaining: 17.7s\n",
      "338:\tlearn: 0.0568073\ttotal: 9.07s\tremaining: 17.7s\n",
      "339:\tlearn: 0.0565628\ttotal: 9.1s\tremaining: 17.7s\n",
      "340:\tlearn: 0.0563129\ttotal: 9.13s\tremaining: 17.6s\n",
      "341:\tlearn: 0.0560358\ttotal: 9.15s\tremaining: 17.6s\n",
      "342:\tlearn: 0.0557776\ttotal: 9.18s\tremaining: 17.6s\n",
      "343:\tlearn: 0.0554971\ttotal: 9.21s\tremaining: 17.6s\n",
      "344:\tlearn: 0.0552852\ttotal: 9.23s\tremaining: 17.5s\n",
      "345:\tlearn: 0.0550303\ttotal: 9.26s\tremaining: 17.5s\n",
      "346:\tlearn: 0.0548223\ttotal: 9.29s\tremaining: 17.5s\n",
      "347:\tlearn: 0.0546003\ttotal: 9.31s\tremaining: 17.4s\n",
      "348:\tlearn: 0.0543101\ttotal: 9.34s\tremaining: 17.4s\n",
      "349:\tlearn: 0.0540775\ttotal: 9.37s\tremaining: 17.4s\n",
      "350:\tlearn: 0.0538014\ttotal: 9.39s\tremaining: 17.4s\n",
      "351:\tlearn: 0.0536077\ttotal: 9.42s\tremaining: 17.3s\n",
      "352:\tlearn: 0.0533348\ttotal: 9.45s\tremaining: 17.3s\n",
      "353:\tlearn: 0.0530295\ttotal: 9.47s\tremaining: 17.3s\n",
      "354:\tlearn: 0.0526878\ttotal: 9.5s\tremaining: 17.3s\n",
      "355:\tlearn: 0.0524114\ttotal: 9.53s\tremaining: 17.2s\n",
      "356:\tlearn: 0.0521550\ttotal: 9.55s\tremaining: 17.2s\n",
      "357:\tlearn: 0.0519114\ttotal: 9.58s\tremaining: 17.2s\n",
      "358:\tlearn: 0.0516935\ttotal: 9.61s\tremaining: 17.2s\n",
      "359:\tlearn: 0.0515037\ttotal: 9.63s\tremaining: 17.1s\n",
      "360:\tlearn: 0.0512376\ttotal: 9.66s\tremaining: 17.1s\n",
      "361:\tlearn: 0.0510477\ttotal: 9.69s\tremaining: 17.1s\n",
      "362:\tlearn: 0.0508245\ttotal: 9.71s\tremaining: 17s\n",
      "363:\tlearn: 0.0506117\ttotal: 9.74s\tremaining: 17s\n",
      "364:\tlearn: 0.0503879\ttotal: 9.77s\tremaining: 17s\n",
      "365:\tlearn: 0.0502173\ttotal: 9.79s\tremaining: 17s\n",
      "366:\tlearn: 0.0499291\ttotal: 9.82s\tremaining: 16.9s\n",
      "367:\tlearn: 0.0497074\ttotal: 9.85s\tremaining: 16.9s\n",
      "368:\tlearn: 0.0495213\ttotal: 9.87s\tremaining: 16.9s\n",
      "369:\tlearn: 0.0492413\ttotal: 9.9s\tremaining: 16.9s\n",
      "370:\tlearn: 0.0490429\ttotal: 9.93s\tremaining: 16.8s\n",
      "371:\tlearn: 0.0487897\ttotal: 9.96s\tremaining: 16.8s\n",
      "372:\tlearn: 0.0485940\ttotal: 9.98s\tremaining: 16.8s\n",
      "373:\tlearn: 0.0483237\ttotal: 10s\tremaining: 16.8s\n",
      "374:\tlearn: 0.0481178\ttotal: 10s\tremaining: 16.7s\n",
      "375:\tlearn: 0.0478507\ttotal: 10.1s\tremaining: 16.7s\n",
      "376:\tlearn: 0.0476233\ttotal: 10.1s\tremaining: 16.7s\n",
      "377:\tlearn: 0.0474182\ttotal: 10.1s\tremaining: 16.6s\n",
      "378:\tlearn: 0.0472050\ttotal: 10.1s\tremaining: 16.6s\n",
      "379:\tlearn: 0.0469684\ttotal: 10.2s\tremaining: 16.6s\n",
      "380:\tlearn: 0.0467199\ttotal: 10.2s\tremaining: 16.6s\n",
      "381:\tlearn: 0.0465191\ttotal: 10.2s\tremaining: 16.5s\n",
      "382:\tlearn: 0.0463455\ttotal: 10.2s\tremaining: 16.5s\n",
      "383:\tlearn: 0.0461766\ttotal: 10.3s\tremaining: 16.5s\n",
      "384:\tlearn: 0.0459492\ttotal: 10.3s\tremaining: 16.4s\n",
      "385:\tlearn: 0.0457298\ttotal: 10.3s\tremaining: 16.4s\n",
      "386:\tlearn: 0.0455114\ttotal: 10.3s\tremaining: 16.4s\n",
      "387:\tlearn: 0.0452847\ttotal: 10.4s\tremaining: 16.4s\n",
      "388:\tlearn: 0.0450746\ttotal: 10.4s\tremaining: 16.3s\n",
      "389:\tlearn: 0.0448122\ttotal: 10.4s\tremaining: 16.3s\n",
      "390:\tlearn: 0.0445712\ttotal: 10.4s\tremaining: 16.3s\n",
      "391:\tlearn: 0.0443743\ttotal: 10.5s\tremaining: 16.2s\n",
      "392:\tlearn: 0.0441310\ttotal: 10.5s\tremaining: 16.2s\n",
      "393:\tlearn: 0.0439867\ttotal: 10.5s\tremaining: 16.2s\n",
      "394:\tlearn: 0.0437545\ttotal: 10.5s\tremaining: 16.2s\n",
      "395:\tlearn: 0.0436044\ttotal: 10.6s\tremaining: 16.1s\n",
      "396:\tlearn: 0.0433912\ttotal: 10.6s\tremaining: 16.1s\n",
      "397:\tlearn: 0.0432198\ttotal: 10.6s\tremaining: 16.1s\n",
      "398:\tlearn: 0.0429977\ttotal: 10.6s\tremaining: 16s\n",
      "399:\tlearn: 0.0427770\ttotal: 10.7s\tremaining: 16s\n",
      "400:\tlearn: 0.0426085\ttotal: 10.7s\tremaining: 16s\n",
      "401:\tlearn: 0.0423945\ttotal: 10.7s\tremaining: 15.9s\n",
      "402:\tlearn: 0.0422522\ttotal: 10.7s\tremaining: 15.9s\n",
      "403:\tlearn: 0.0421033\ttotal: 10.8s\tremaining: 15.9s\n",
      "404:\tlearn: 0.0419593\ttotal: 10.8s\tremaining: 15.9s\n",
      "405:\tlearn: 0.0417477\ttotal: 10.8s\tremaining: 15.8s\n",
      "406:\tlearn: 0.0416047\ttotal: 10.8s\tremaining: 15.8s\n",
      "407:\tlearn: 0.0414549\ttotal: 10.9s\tremaining: 15.8s\n",
      "408:\tlearn: 0.0412834\ttotal: 10.9s\tremaining: 15.7s\n",
      "409:\tlearn: 0.0411450\ttotal: 10.9s\tremaining: 15.7s\n",
      "410:\tlearn: 0.0410322\ttotal: 10.9s\tremaining: 15.7s\n",
      "411:\tlearn: 0.0408824\ttotal: 11s\tremaining: 15.7s\n",
      "412:\tlearn: 0.0406921\ttotal: 11s\tremaining: 15.6s\n",
      "413:\tlearn: 0.0405057\ttotal: 11s\tremaining: 15.6s\n",
      "414:\tlearn: 0.0403765\ttotal: 11s\tremaining: 15.6s\n",
      "415:\tlearn: 0.0401355\ttotal: 11.1s\tremaining: 15.5s\n",
      "416:\tlearn: 0.0399746\ttotal: 11.1s\tremaining: 15.5s\n",
      "417:\tlearn: 0.0398194\ttotal: 11.1s\tremaining: 15.5s\n",
      "418:\tlearn: 0.0396476\ttotal: 11.1s\tremaining: 15.4s\n",
      "419:\tlearn: 0.0394920\ttotal: 11.2s\tremaining: 15.4s\n",
      "420:\tlearn: 0.0392975\ttotal: 11.2s\tremaining: 15.4s\n",
      "421:\tlearn: 0.0390947\ttotal: 11.2s\tremaining: 15.4s\n",
      "422:\tlearn: 0.0389562\ttotal: 11.2s\tremaining: 15.3s\n",
      "423:\tlearn: 0.0388370\ttotal: 11.3s\tremaining: 15.3s\n",
      "424:\tlearn: 0.0387149\ttotal: 11.3s\tremaining: 15.3s\n",
      "425:\tlearn: 0.0385551\ttotal: 11.3s\tremaining: 15.2s\n",
      "426:\tlearn: 0.0383692\ttotal: 11.3s\tremaining: 15.2s\n",
      "427:\tlearn: 0.0382609\ttotal: 11.4s\tremaining: 15.2s\n",
      "428:\tlearn: 0.0381348\ttotal: 11.4s\tremaining: 15.2s\n",
      "429:\tlearn: 0.0380279\ttotal: 11.4s\tremaining: 15.1s\n",
      "430:\tlearn: 0.0378965\ttotal: 11.4s\tremaining: 15.1s\n",
      "431:\tlearn: 0.0377071\ttotal: 11.5s\tremaining: 15.1s\n",
      "432:\tlearn: 0.0375710\ttotal: 11.5s\tremaining: 15s\n",
      "433:\tlearn: 0.0374468\ttotal: 11.5s\tremaining: 15s\n",
      "434:\tlearn: 0.0372838\ttotal: 11.5s\tremaining: 15s\n",
      "435:\tlearn: 0.0371518\ttotal: 11.6s\tremaining: 15s\n",
      "436:\tlearn: 0.0370181\ttotal: 11.6s\tremaining: 14.9s\n",
      "437:\tlearn: 0.0368933\ttotal: 11.6s\tremaining: 14.9s\n",
      "438:\tlearn: 0.0367435\ttotal: 11.6s\tremaining: 14.9s\n",
      "439:\tlearn: 0.0365836\ttotal: 11.7s\tremaining: 14.8s\n",
      "440:\tlearn: 0.0364740\ttotal: 11.7s\tremaining: 14.8s\n",
      "441:\tlearn: 0.0363465\ttotal: 11.7s\tremaining: 14.8s\n",
      "442:\tlearn: 0.0362038\ttotal: 11.7s\tremaining: 14.8s\n",
      "443:\tlearn: 0.0360613\ttotal: 11.8s\tremaining: 14.7s\n",
      "444:\tlearn: 0.0358694\ttotal: 11.8s\tremaining: 14.7s\n",
      "445:\tlearn: 0.0357254\ttotal: 11.8s\tremaining: 14.7s\n",
      "446:\tlearn: 0.0355857\ttotal: 11.8s\tremaining: 14.7s\n",
      "447:\tlearn: 0.0355008\ttotal: 11.9s\tremaining: 14.6s\n",
      "448:\tlearn: 0.0353331\ttotal: 11.9s\tremaining: 14.6s\n",
      "449:\tlearn: 0.0352169\ttotal: 11.9s\tremaining: 14.6s\n",
      "450:\tlearn: 0.0350859\ttotal: 11.9s\tremaining: 14.5s\n",
      "451:\tlearn: 0.0349636\ttotal: 12s\tremaining: 14.5s\n",
      "452:\tlearn: 0.0348301\ttotal: 12s\tremaining: 14.5s\n",
      "453:\tlearn: 0.0347180\ttotal: 12s\tremaining: 14.5s\n",
      "454:\tlearn: 0.0345941\ttotal: 12s\tremaining: 14.4s\n",
      "455:\tlearn: 0.0344897\ttotal: 12.1s\tremaining: 14.4s\n",
      "456:\tlearn: 0.0343336\ttotal: 12.1s\tremaining: 14.4s\n",
      "457:\tlearn: 0.0341669\ttotal: 12.1s\tremaining: 14.3s\n",
      "458:\tlearn: 0.0340504\ttotal: 12.2s\tremaining: 14.3s\n",
      "459:\tlearn: 0.0339497\ttotal: 12.2s\tremaining: 14.3s\n",
      "460:\tlearn: 0.0338141\ttotal: 12.2s\tremaining: 14.3s\n",
      "461:\tlearn: 0.0336721\ttotal: 12.2s\tremaining: 14.2s\n",
      "462:\tlearn: 0.0335855\ttotal: 12.3s\tremaining: 14.2s\n",
      "463:\tlearn: 0.0334488\ttotal: 12.3s\tremaining: 14.2s\n",
      "464:\tlearn: 0.0333519\ttotal: 12.3s\tremaining: 14.2s\n",
      "465:\tlearn: 0.0332421\ttotal: 12.3s\tremaining: 14.1s\n",
      "466:\tlearn: 0.0331435\ttotal: 12.4s\tremaining: 14.1s\n",
      "467:\tlearn: 0.0330136\ttotal: 12.4s\tremaining: 14.1s\n",
      "468:\tlearn: 0.0329221\ttotal: 12.4s\tremaining: 14s\n",
      "469:\tlearn: 0.0327900\ttotal: 12.4s\tremaining: 14s\n",
      "470:\tlearn: 0.0326893\ttotal: 12.5s\tremaining: 14s\n",
      "471:\tlearn: 0.0325569\ttotal: 12.5s\tremaining: 14s\n",
      "472:\tlearn: 0.0324721\ttotal: 12.5s\tremaining: 13.9s\n",
      "473:\tlearn: 0.0323467\ttotal: 12.5s\tremaining: 13.9s\n",
      "474:\tlearn: 0.0322732\ttotal: 12.6s\tremaining: 13.9s\n",
      "475:\tlearn: 0.0321401\ttotal: 12.6s\tremaining: 13.8s\n",
      "476:\tlearn: 0.0320416\ttotal: 12.6s\tremaining: 13.8s\n",
      "477:\tlearn: 0.0319523\ttotal: 12.6s\tremaining: 13.8s\n",
      "478:\tlearn: 0.0318651\ttotal: 12.7s\tremaining: 13.8s\n",
      "479:\tlearn: 0.0317832\ttotal: 12.7s\tremaining: 13.7s\n",
      "480:\tlearn: 0.0317068\ttotal: 12.7s\tremaining: 13.7s\n",
      "481:\tlearn: 0.0316396\ttotal: 12.7s\tremaining: 13.7s\n",
      "482:\tlearn: 0.0315427\ttotal: 12.8s\tremaining: 13.7s\n",
      "483:\tlearn: 0.0314435\ttotal: 12.8s\tremaining: 13.6s\n",
      "484:\tlearn: 0.0313761\ttotal: 12.8s\tremaining: 13.6s\n",
      "485:\tlearn: 0.0312890\ttotal: 12.8s\tremaining: 13.6s\n",
      "486:\tlearn: 0.0311800\ttotal: 12.9s\tremaining: 13.5s\n",
      "487:\tlearn: 0.0310883\ttotal: 12.9s\tremaining: 13.5s\n",
      "488:\tlearn: 0.0309787\ttotal: 12.9s\tremaining: 13.5s\n",
      "489:\tlearn: 0.0308816\ttotal: 12.9s\tremaining: 13.5s\n",
      "490:\tlearn: 0.0307898\ttotal: 13s\tremaining: 13.4s\n",
      "491:\tlearn: 0.0307209\ttotal: 13s\tremaining: 13.4s\n",
      "492:\tlearn: 0.0306306\ttotal: 13s\tremaining: 13.4s\n",
      "493:\tlearn: 0.0305147\ttotal: 13s\tremaining: 13.3s\n",
      "494:\tlearn: 0.0303859\ttotal: 13.1s\tremaining: 13.3s\n",
      "495:\tlearn: 0.0302842\ttotal: 13.1s\tremaining: 13.3s\n",
      "496:\tlearn: 0.0301652\ttotal: 13.1s\tremaining: 13.3s\n",
      "497:\tlearn: 0.0300807\ttotal: 13.1s\tremaining: 13.2s\n",
      "498:\tlearn: 0.0300013\ttotal: 13.2s\tremaining: 13.2s\n",
      "499:\tlearn: 0.0299236\ttotal: 13.2s\tremaining: 13.2s\n",
      "500:\tlearn: 0.0298407\ttotal: 13.2s\tremaining: 13.2s\n",
      "501:\tlearn: 0.0297421\ttotal: 13.2s\tremaining: 13.1s\n",
      "502:\tlearn: 0.0296597\ttotal: 13.3s\tremaining: 13.1s\n",
      "503:\tlearn: 0.0295885\ttotal: 13.3s\tremaining: 13.1s\n",
      "504:\tlearn: 0.0294935\ttotal: 13.3s\tremaining: 13s\n",
      "505:\tlearn: 0.0293816\ttotal: 13.3s\tremaining: 13s\n",
      "506:\tlearn: 0.0293037\ttotal: 13.4s\tremaining: 13s\n",
      "507:\tlearn: 0.0292223\ttotal: 13.4s\tremaining: 13s\n",
      "508:\tlearn: 0.0291665\ttotal: 13.4s\tremaining: 12.9s\n",
      "509:\tlearn: 0.0290554\ttotal: 13.4s\tremaining: 12.9s\n",
      "510:\tlearn: 0.0289866\ttotal: 13.5s\tremaining: 12.9s\n",
      "511:\tlearn: 0.0288754\ttotal: 13.5s\tremaining: 12.9s\n",
      "512:\tlearn: 0.0288034\ttotal: 13.5s\tremaining: 12.8s\n",
      "513:\tlearn: 0.0287224\ttotal: 13.5s\tremaining: 12.8s\n",
      "514:\tlearn: 0.0286132\ttotal: 13.6s\tremaining: 12.8s\n",
      "515:\tlearn: 0.0285218\ttotal: 13.6s\tremaining: 12.7s\n",
      "516:\tlearn: 0.0284218\ttotal: 13.6s\tremaining: 12.7s\n",
      "517:\tlearn: 0.0283189\ttotal: 13.6s\tremaining: 12.7s\n",
      "518:\tlearn: 0.0282445\ttotal: 13.7s\tremaining: 12.7s\n",
      "519:\tlearn: 0.0281521\ttotal: 13.7s\tremaining: 12.6s\n",
      "520:\tlearn: 0.0280814\ttotal: 13.7s\tremaining: 12.6s\n",
      "521:\tlearn: 0.0279820\ttotal: 13.7s\tremaining: 12.6s\n",
      "522:\tlearn: 0.0279082\ttotal: 13.8s\tremaining: 12.6s\n",
      "523:\tlearn: 0.0278230\ttotal: 13.8s\tremaining: 12.5s\n",
      "524:\tlearn: 0.0277385\ttotal: 13.8s\tremaining: 12.5s\n",
      "525:\tlearn: 0.0276331\ttotal: 13.8s\tremaining: 12.5s\n",
      "526:\tlearn: 0.0275578\ttotal: 13.9s\tremaining: 12.4s\n",
      "527:\tlearn: 0.0274588\ttotal: 13.9s\tremaining: 12.4s\n",
      "528:\tlearn: 0.0273650\ttotal: 13.9s\tremaining: 12.4s\n",
      "529:\tlearn: 0.0272723\ttotal: 13.9s\tremaining: 12.4s\n",
      "530:\tlearn: 0.0271969\ttotal: 14s\tremaining: 12.3s\n",
      "531:\tlearn: 0.0271231\ttotal: 14s\tremaining: 12.3s\n",
      "532:\tlearn: 0.0270206\ttotal: 14s\tremaining: 12.3s\n",
      "533:\tlearn: 0.0269449\ttotal: 14s\tremaining: 12.3s\n",
      "534:\tlearn: 0.0268635\ttotal: 14.1s\tremaining: 12.2s\n",
      "535:\tlearn: 0.0267805\ttotal: 14.1s\tremaining: 12.2s\n",
      "536:\tlearn: 0.0267225\ttotal: 14.1s\tremaining: 12.2s\n",
      "537:\tlearn: 0.0266465\ttotal: 14.2s\tremaining: 12.2s\n",
      "538:\tlearn: 0.0265961\ttotal: 14.2s\tremaining: 12.1s\n",
      "539:\tlearn: 0.0264996\ttotal: 14.2s\tremaining: 12.1s\n",
      "540:\tlearn: 0.0264233\ttotal: 14.2s\tremaining: 12.1s\n",
      "541:\tlearn: 0.0263706\ttotal: 14.3s\tremaining: 12s\n",
      "542:\tlearn: 0.0263158\ttotal: 14.3s\tremaining: 12s\n",
      "543:\tlearn: 0.0262537\ttotal: 14.3s\tremaining: 12s\n",
      "544:\tlearn: 0.0261908\ttotal: 14.3s\tremaining: 12s\n",
      "545:\tlearn: 0.0261127\ttotal: 14.4s\tremaining: 11.9s\n",
      "546:\tlearn: 0.0260680\ttotal: 14.4s\tremaining: 11.9s\n",
      "547:\tlearn: 0.0260087\ttotal: 14.4s\tremaining: 11.9s\n",
      "548:\tlearn: 0.0259255\ttotal: 14.4s\tremaining: 11.9s\n",
      "549:\tlearn: 0.0258531\ttotal: 14.5s\tremaining: 11.8s\n",
      "550:\tlearn: 0.0257970\ttotal: 14.5s\tremaining: 11.8s\n",
      "551:\tlearn: 0.0257291\ttotal: 14.5s\tremaining: 11.8s\n",
      "552:\tlearn: 0.0256255\ttotal: 14.5s\tremaining: 11.7s\n",
      "553:\tlearn: 0.0255698\ttotal: 14.6s\tremaining: 11.7s\n",
      "554:\tlearn: 0.0255285\ttotal: 14.6s\tremaining: 11.7s\n",
      "555:\tlearn: 0.0254696\ttotal: 14.6s\tremaining: 11.7s\n",
      "556:\tlearn: 0.0253745\ttotal: 14.6s\tremaining: 11.6s\n",
      "557:\tlearn: 0.0253036\ttotal: 14.7s\tremaining: 11.6s\n",
      "558:\tlearn: 0.0252107\ttotal: 14.7s\tremaining: 11.6s\n",
      "559:\tlearn: 0.0251470\ttotal: 14.7s\tremaining: 11.6s\n",
      "560:\tlearn: 0.0250729\ttotal: 14.7s\tremaining: 11.5s\n",
      "561:\tlearn: 0.0250185\ttotal: 14.8s\tremaining: 11.5s\n",
      "562:\tlearn: 0.0249818\ttotal: 14.8s\tremaining: 11.5s\n",
      "563:\tlearn: 0.0248961\ttotal: 14.8s\tremaining: 11.4s\n",
      "564:\tlearn: 0.0248374\ttotal: 14.8s\tremaining: 11.4s\n",
      "565:\tlearn: 0.0247525\ttotal: 14.9s\tremaining: 11.4s\n",
      "566:\tlearn: 0.0246953\ttotal: 14.9s\tremaining: 11.4s\n",
      "567:\tlearn: 0.0246378\ttotal: 14.9s\tremaining: 11.3s\n",
      "568:\tlearn: 0.0245805\ttotal: 14.9s\tremaining: 11.3s\n",
      "569:\tlearn: 0.0245309\ttotal: 15s\tremaining: 11.3s\n",
      "570:\tlearn: 0.0244517\ttotal: 15s\tremaining: 11.3s\n",
      "571:\tlearn: 0.0243739\ttotal: 15s\tremaining: 11.2s\n",
      "572:\tlearn: 0.0243253\ttotal: 15s\tremaining: 11.2s\n",
      "573:\tlearn: 0.0242863\ttotal: 15.1s\tremaining: 11.2s\n",
      "574:\tlearn: 0.0242139\ttotal: 15.1s\tremaining: 11.1s\n",
      "575:\tlearn: 0.0241615\ttotal: 15.1s\tremaining: 11.1s\n",
      "576:\tlearn: 0.0240892\ttotal: 15.1s\tremaining: 11.1s\n",
      "577:\tlearn: 0.0240112\ttotal: 15.2s\tremaining: 11.1s\n",
      "578:\tlearn: 0.0239338\ttotal: 15.2s\tremaining: 11s\n",
      "579:\tlearn: 0.0238493\ttotal: 15.2s\tremaining: 11s\n",
      "580:\tlearn: 0.0237955\ttotal: 15.2s\tremaining: 11s\n",
      "581:\tlearn: 0.0237575\ttotal: 15.3s\tremaining: 11s\n",
      "582:\tlearn: 0.0237067\ttotal: 15.3s\tremaining: 10.9s\n",
      "583:\tlearn: 0.0236294\ttotal: 15.3s\tremaining: 10.9s\n",
      "584:\tlearn: 0.0235818\ttotal: 15.3s\tremaining: 10.9s\n",
      "585:\tlearn: 0.0235317\ttotal: 15.4s\tremaining: 10.9s\n",
      "586:\tlearn: 0.0234845\ttotal: 15.4s\tremaining: 10.8s\n",
      "587:\tlearn: 0.0234467\ttotal: 15.4s\tremaining: 10.8s\n",
      "588:\tlearn: 0.0233687\ttotal: 15.4s\tremaining: 10.8s\n",
      "589:\tlearn: 0.0232987\ttotal: 15.5s\tremaining: 10.7s\n",
      "590:\tlearn: 0.0232348\ttotal: 15.5s\tremaining: 10.7s\n",
      "591:\tlearn: 0.0231769\ttotal: 15.5s\tremaining: 10.7s\n",
      "592:\tlearn: 0.0231073\ttotal: 15.5s\tremaining: 10.7s\n",
      "593:\tlearn: 0.0230697\ttotal: 15.6s\tremaining: 10.6s\n",
      "594:\tlearn: 0.0230171\ttotal: 15.6s\tremaining: 10.6s\n",
      "595:\tlearn: 0.0229608\ttotal: 15.6s\tremaining: 10.6s\n",
      "596:\tlearn: 0.0229127\ttotal: 15.6s\tremaining: 10.6s\n",
      "597:\tlearn: 0.0228633\ttotal: 15.7s\tremaining: 10.5s\n",
      "598:\tlearn: 0.0228163\ttotal: 15.7s\tremaining: 10.5s\n",
      "599:\tlearn: 0.0227637\ttotal: 15.7s\tremaining: 10.5s\n",
      "600:\tlearn: 0.0227058\ttotal: 15.7s\tremaining: 10.5s\n",
      "601:\tlearn: 0.0226529\ttotal: 15.8s\tremaining: 10.4s\n",
      "602:\tlearn: 0.0226003\ttotal: 15.8s\tremaining: 10.4s\n",
      "603:\tlearn: 0.0225543\ttotal: 15.8s\tremaining: 10.4s\n",
      "604:\tlearn: 0.0225064\ttotal: 15.8s\tremaining: 10.3s\n",
      "605:\tlearn: 0.0224627\ttotal: 15.9s\tremaining: 10.3s\n",
      "606:\tlearn: 0.0224310\ttotal: 15.9s\tremaining: 10.3s\n",
      "607:\tlearn: 0.0223874\ttotal: 15.9s\tremaining: 10.3s\n",
      "608:\tlearn: 0.0223359\ttotal: 15.9s\tremaining: 10.2s\n",
      "609:\tlearn: 0.0222945\ttotal: 16s\tremaining: 10.2s\n",
      "610:\tlearn: 0.0222230\ttotal: 16s\tremaining: 10.2s\n",
      "611:\tlearn: 0.0221726\ttotal: 16s\tremaining: 10.2s\n",
      "612:\tlearn: 0.0221242\ttotal: 16s\tremaining: 10.1s\n",
      "613:\tlearn: 0.0220874\ttotal: 16.1s\tremaining: 10.1s\n",
      "614:\tlearn: 0.0220485\ttotal: 16.1s\tremaining: 10.1s\n",
      "615:\tlearn: 0.0219985\ttotal: 16.1s\tremaining: 10.1s\n",
      "616:\tlearn: 0.0219558\ttotal: 16.1s\tremaining: 10s\n",
      "617:\tlearn: 0.0219021\ttotal: 16.2s\tremaining: 10s\n",
      "618:\tlearn: 0.0218540\ttotal: 16.2s\tremaining: 9.97s\n",
      "619:\tlearn: 0.0217979\ttotal: 16.2s\tremaining: 9.94s\n",
      "620:\tlearn: 0.0217411\ttotal: 16.3s\tremaining: 9.92s\n",
      "621:\tlearn: 0.0216925\ttotal: 16.3s\tremaining: 9.89s\n",
      "622:\tlearn: 0.0216315\ttotal: 16.3s\tremaining: 9.86s\n",
      "623:\tlearn: 0.0215871\ttotal: 16.3s\tremaining: 9.84s\n",
      "624:\tlearn: 0.0215236\ttotal: 16.4s\tremaining: 9.81s\n",
      "625:\tlearn: 0.0214793\ttotal: 16.4s\tremaining: 9.78s\n",
      "626:\tlearn: 0.0214514\ttotal: 16.4s\tremaining: 9.76s\n",
      "627:\tlearn: 0.0213935\ttotal: 16.4s\tremaining: 9.73s\n",
      "628:\tlearn: 0.0213313\ttotal: 16.5s\tremaining: 9.7s\n",
      "629:\tlearn: 0.0212889\ttotal: 16.5s\tremaining: 9.68s\n",
      "630:\tlearn: 0.0212533\ttotal: 16.5s\tremaining: 9.65s\n",
      "631:\tlearn: 0.0212163\ttotal: 16.5s\tremaining: 9.62s\n",
      "632:\tlearn: 0.0211672\ttotal: 16.6s\tremaining: 9.6s\n",
      "633:\tlearn: 0.0211394\ttotal: 16.6s\tremaining: 9.57s\n",
      "634:\tlearn: 0.0210858\ttotal: 16.6s\tremaining: 9.54s\n",
      "635:\tlearn: 0.0210222\ttotal: 16.6s\tremaining: 9.52s\n",
      "636:\tlearn: 0.0209791\ttotal: 16.7s\tremaining: 9.49s\n",
      "637:\tlearn: 0.0209372\ttotal: 16.7s\tremaining: 9.47s\n",
      "638:\tlearn: 0.0209058\ttotal: 16.7s\tremaining: 9.44s\n",
      "639:\tlearn: 0.0208485\ttotal: 16.7s\tremaining: 9.41s\n",
      "640:\tlearn: 0.0208138\ttotal: 16.8s\tremaining: 9.39s\n",
      "641:\tlearn: 0.0207797\ttotal: 16.8s\tremaining: 9.36s\n",
      "642:\tlearn: 0.0207190\ttotal: 16.8s\tremaining: 9.33s\n",
      "643:\tlearn: 0.0206596\ttotal: 16.8s\tremaining: 9.31s\n",
      "644:\tlearn: 0.0205995\ttotal: 16.9s\tremaining: 9.28s\n",
      "645:\tlearn: 0.0205699\ttotal: 16.9s\tremaining: 9.25s\n",
      "646:\tlearn: 0.0205368\ttotal: 16.9s\tremaining: 9.23s\n",
      "647:\tlearn: 0.0204808\ttotal: 16.9s\tremaining: 9.2s\n",
      "648:\tlearn: 0.0204135\ttotal: 17s\tremaining: 9.18s\n",
      "649:\tlearn: 0.0203712\ttotal: 17s\tremaining: 9.15s\n",
      "650:\tlearn: 0.0203264\ttotal: 17s\tremaining: 9.12s\n",
      "651:\tlearn: 0.0202735\ttotal: 17s\tremaining: 9.09s\n",
      "652:\tlearn: 0.0202424\ttotal: 17.1s\tremaining: 9.07s\n",
      "653:\tlearn: 0.0202019\ttotal: 17.1s\tremaining: 9.04s\n",
      "654:\tlearn: 0.0201556\ttotal: 17.1s\tremaining: 9.02s\n",
      "655:\tlearn: 0.0201253\ttotal: 17.1s\tremaining: 8.99s\n",
      "656:\tlearn: 0.0200860\ttotal: 17.2s\tremaining: 8.96s\n",
      "657:\tlearn: 0.0200602\ttotal: 17.2s\tremaining: 8.94s\n",
      "658:\tlearn: 0.0200228\ttotal: 17.2s\tremaining: 8.91s\n",
      "659:\tlearn: 0.0199740\ttotal: 17.2s\tremaining: 8.88s\n",
      "660:\tlearn: 0.0199369\ttotal: 17.3s\tremaining: 8.86s\n",
      "661:\tlearn: 0.0198967\ttotal: 17.3s\tremaining: 8.83s\n",
      "662:\tlearn: 0.0198542\ttotal: 17.3s\tremaining: 8.8s\n",
      "663:\tlearn: 0.0198102\ttotal: 17.3s\tremaining: 8.78s\n",
      "664:\tlearn: 0.0197719\ttotal: 17.4s\tremaining: 8.75s\n",
      "665:\tlearn: 0.0197450\ttotal: 17.4s\tremaining: 8.72s\n",
      "666:\tlearn: 0.0196930\ttotal: 17.4s\tremaining: 8.7s\n",
      "667:\tlearn: 0.0196611\ttotal: 17.4s\tremaining: 8.67s\n",
      "668:\tlearn: 0.0196073\ttotal: 17.5s\tremaining: 8.64s\n",
      "669:\tlearn: 0.0195800\ttotal: 17.5s\tremaining: 8.62s\n",
      "670:\tlearn: 0.0195395\ttotal: 17.5s\tremaining: 8.59s\n",
      "671:\tlearn: 0.0194980\ttotal: 17.5s\tremaining: 8.56s\n",
      "672:\tlearn: 0.0194588\ttotal: 17.6s\tremaining: 8.54s\n",
      "673:\tlearn: 0.0194365\ttotal: 17.6s\tremaining: 8.51s\n",
      "674:\tlearn: 0.0193830\ttotal: 17.6s\tremaining: 8.48s\n",
      "675:\tlearn: 0.0193563\ttotal: 17.6s\tremaining: 8.46s\n",
      "676:\tlearn: 0.0193132\ttotal: 17.7s\tremaining: 8.43s\n",
      "677:\tlearn: 0.0192751\ttotal: 17.7s\tremaining: 8.4s\n",
      "678:\tlearn: 0.0192177\ttotal: 17.7s\tremaining: 8.38s\n",
      "679:\tlearn: 0.0191800\ttotal: 17.8s\tremaining: 8.35s\n",
      "680:\tlearn: 0.0191342\ttotal: 17.8s\tremaining: 8.33s\n",
      "681:\tlearn: 0.0190919\ttotal: 17.8s\tremaining: 8.3s\n",
      "682:\tlearn: 0.0190725\ttotal: 17.8s\tremaining: 8.27s\n",
      "683:\tlearn: 0.0190484\ttotal: 17.9s\tremaining: 8.25s\n",
      "684:\tlearn: 0.0190135\ttotal: 17.9s\tremaining: 8.22s\n",
      "685:\tlearn: 0.0189878\ttotal: 17.9s\tremaining: 8.19s\n",
      "686:\tlearn: 0.0189460\ttotal: 17.9s\tremaining: 8.17s\n",
      "687:\tlearn: 0.0189140\ttotal: 18s\tremaining: 8.14s\n",
      "688:\tlearn: 0.0188864\ttotal: 18s\tremaining: 8.11s\n",
      "689:\tlearn: 0.0188420\ttotal: 18s\tremaining: 8.09s\n",
      "690:\tlearn: 0.0187795\ttotal: 18s\tremaining: 8.06s\n",
      "691:\tlearn: 0.0187486\ttotal: 18.1s\tremaining: 8.04s\n",
      "692:\tlearn: 0.0187056\ttotal: 18.1s\tremaining: 8.01s\n",
      "693:\tlearn: 0.0186735\ttotal: 18.1s\tremaining: 7.98s\n",
      "694:\tlearn: 0.0186366\ttotal: 18.1s\tremaining: 7.96s\n",
      "695:\tlearn: 0.0186071\ttotal: 18.2s\tremaining: 7.93s\n",
      "696:\tlearn: 0.0185687\ttotal: 18.2s\tremaining: 7.9s\n",
      "697:\tlearn: 0.0185518\ttotal: 18.2s\tremaining: 7.88s\n",
      "698:\tlearn: 0.0185132\ttotal: 18.2s\tremaining: 7.85s\n",
      "699:\tlearn: 0.0184670\ttotal: 18.3s\tremaining: 7.82s\n",
      "700:\tlearn: 0.0184178\ttotal: 18.3s\tremaining: 7.8s\n",
      "701:\tlearn: 0.0183745\ttotal: 18.3s\tremaining: 7.77s\n",
      "702:\tlearn: 0.0183459\ttotal: 18.3s\tremaining: 7.74s\n",
      "703:\tlearn: 0.0183010\ttotal: 18.4s\tremaining: 7.72s\n",
      "704:\tlearn: 0.0182678\ttotal: 18.4s\tremaining: 7.69s\n",
      "705:\tlearn: 0.0182166\ttotal: 18.4s\tremaining: 7.67s\n",
      "706:\tlearn: 0.0181844\ttotal: 18.4s\tremaining: 7.64s\n",
      "707:\tlearn: 0.0181427\ttotal: 18.5s\tremaining: 7.61s\n",
      "708:\tlearn: 0.0181165\ttotal: 18.5s\tremaining: 7.59s\n",
      "709:\tlearn: 0.0180957\ttotal: 18.5s\tremaining: 7.56s\n",
      "710:\tlearn: 0.0180552\ttotal: 18.5s\tremaining: 7.53s\n",
      "711:\tlearn: 0.0180194\ttotal: 18.6s\tremaining: 7.51s\n",
      "712:\tlearn: 0.0179736\ttotal: 18.6s\tremaining: 7.48s\n",
      "713:\tlearn: 0.0179524\ttotal: 18.6s\tremaining: 7.46s\n",
      "714:\tlearn: 0.0179326\ttotal: 18.6s\tremaining: 7.43s\n",
      "715:\tlearn: 0.0178995\ttotal: 18.7s\tremaining: 7.4s\n",
      "716:\tlearn: 0.0178688\ttotal: 18.7s\tremaining: 7.38s\n",
      "717:\tlearn: 0.0178295\ttotal: 18.7s\tremaining: 7.35s\n",
      "718:\tlearn: 0.0177911\ttotal: 18.7s\tremaining: 7.32s\n",
      "719:\tlearn: 0.0177613\ttotal: 18.8s\tremaining: 7.3s\n",
      "720:\tlearn: 0.0177154\ttotal: 18.8s\tremaining: 7.27s\n",
      "721:\tlearn: 0.0176796\ttotal: 18.8s\tremaining: 7.24s\n",
      "722:\tlearn: 0.0176508\ttotal: 18.8s\tremaining: 7.22s\n",
      "723:\tlearn: 0.0176216\ttotal: 18.9s\tremaining: 7.19s\n",
      "724:\tlearn: 0.0176031\ttotal: 18.9s\tremaining: 7.16s\n",
      "725:\tlearn: 0.0175566\ttotal: 18.9s\tremaining: 7.14s\n",
      "726:\tlearn: 0.0175316\ttotal: 18.9s\tremaining: 7.11s\n",
      "727:\tlearn: 0.0174924\ttotal: 19s\tremaining: 7.08s\n",
      "728:\tlearn: 0.0174638\ttotal: 19s\tremaining: 7.06s\n",
      "729:\tlearn: 0.0174443\ttotal: 19s\tremaining: 7.03s\n",
      "730:\tlearn: 0.0174254\ttotal: 19s\tremaining: 7.01s\n",
      "731:\tlearn: 0.0173952\ttotal: 19.1s\tremaining: 6.98s\n",
      "732:\tlearn: 0.0173789\ttotal: 19.1s\tremaining: 6.95s\n",
      "733:\tlearn: 0.0173505\ttotal: 19.1s\tremaining: 6.93s\n",
      "734:\tlearn: 0.0173309\ttotal: 19.1s\tremaining: 6.9s\n",
      "735:\tlearn: 0.0172878\ttotal: 19.2s\tremaining: 6.87s\n",
      "736:\tlearn: 0.0172650\ttotal: 19.2s\tremaining: 6.85s\n",
      "737:\tlearn: 0.0172270\ttotal: 19.2s\tremaining: 6.82s\n",
      "738:\tlearn: 0.0171966\ttotal: 19.2s\tremaining: 6.79s\n",
      "739:\tlearn: 0.0171726\ttotal: 19.3s\tremaining: 6.77s\n",
      "740:\tlearn: 0.0171571\ttotal: 19.3s\tremaining: 6.74s\n",
      "741:\tlearn: 0.0171261\ttotal: 19.3s\tremaining: 6.72s\n",
      "742:\tlearn: 0.0170813\ttotal: 19.3s\tremaining: 6.69s\n",
      "743:\tlearn: 0.0170367\ttotal: 19.4s\tremaining: 6.66s\n",
      "744:\tlearn: 0.0169891\ttotal: 19.4s\tremaining: 6.64s\n",
      "745:\tlearn: 0.0169548\ttotal: 19.4s\tremaining: 6.61s\n",
      "746:\tlearn: 0.0169288\ttotal: 19.4s\tremaining: 6.59s\n",
      "747:\tlearn: 0.0168975\ttotal: 19.5s\tremaining: 6.56s\n",
      "748:\tlearn: 0.0168731\ttotal: 19.5s\tremaining: 6.53s\n",
      "749:\tlearn: 0.0168489\ttotal: 19.5s\tremaining: 6.51s\n",
      "750:\tlearn: 0.0168207\ttotal: 19.5s\tremaining: 6.48s\n",
      "751:\tlearn: 0.0168049\ttotal: 19.6s\tremaining: 6.45s\n",
      "752:\tlearn: 0.0167764\ttotal: 19.6s\tremaining: 6.43s\n",
      "753:\tlearn: 0.0167492\ttotal: 19.6s\tremaining: 6.4s\n",
      "754:\tlearn: 0.0167101\ttotal: 19.6s\tremaining: 6.38s\n",
      "755:\tlearn: 0.0166943\ttotal: 19.7s\tremaining: 6.35s\n",
      "756:\tlearn: 0.0166579\ttotal: 19.7s\tremaining: 6.32s\n",
      "757:\tlearn: 0.0166356\ttotal: 19.7s\tremaining: 6.3s\n",
      "758:\tlearn: 0.0166028\ttotal: 19.8s\tremaining: 6.27s\n",
      "759:\tlearn: 0.0165780\ttotal: 19.8s\tremaining: 6.25s\n",
      "760:\tlearn: 0.0165469\ttotal: 19.8s\tremaining: 6.22s\n",
      "761:\tlearn: 0.0165261\ttotal: 19.8s\tremaining: 6.19s\n",
      "762:\tlearn: 0.0164992\ttotal: 19.9s\tremaining: 6.17s\n",
      "763:\tlearn: 0.0164625\ttotal: 19.9s\tremaining: 6.14s\n",
      "764:\tlearn: 0.0164434\ttotal: 19.9s\tremaining: 6.11s\n",
      "765:\tlearn: 0.0164276\ttotal: 19.9s\tremaining: 6.09s\n",
      "766:\tlearn: 0.0164065\ttotal: 20s\tremaining: 6.06s\n",
      "767:\tlearn: 0.0163816\ttotal: 20s\tremaining: 6.03s\n",
      "768:\tlearn: 0.0163442\ttotal: 20s\tremaining: 6.01s\n",
      "769:\tlearn: 0.0163110\ttotal: 20s\tremaining: 5.98s\n",
      "770:\tlearn: 0.0162792\ttotal: 20.1s\tremaining: 5.96s\n",
      "771:\tlearn: 0.0162513\ttotal: 20.1s\tremaining: 5.93s\n",
      "772:\tlearn: 0.0162260\ttotal: 20.1s\tremaining: 5.9s\n",
      "773:\tlearn: 0.0162108\ttotal: 20.1s\tremaining: 5.88s\n",
      "774:\tlearn: 0.0161814\ttotal: 20.2s\tremaining: 5.85s\n",
      "775:\tlearn: 0.0161704\ttotal: 20.2s\tremaining: 5.82s\n",
      "776:\tlearn: 0.0161422\ttotal: 20.2s\tremaining: 5.8s\n",
      "777:\tlearn: 0.0161296\ttotal: 20.2s\tremaining: 5.77s\n",
      "778:\tlearn: 0.0161015\ttotal: 20.3s\tremaining: 5.75s\n",
      "779:\tlearn: 0.0160752\ttotal: 20.3s\tremaining: 5.72s\n",
      "780:\tlearn: 0.0160535\ttotal: 20.3s\tremaining: 5.69s\n",
      "781:\tlearn: 0.0160346\ttotal: 20.3s\tremaining: 5.67s\n",
      "782:\tlearn: 0.0160097\ttotal: 20.4s\tremaining: 5.64s\n",
      "783:\tlearn: 0.0159695\ttotal: 20.4s\tremaining: 5.61s\n",
      "784:\tlearn: 0.0159425\ttotal: 20.4s\tremaining: 5.59s\n",
      "785:\tlearn: 0.0159214\ttotal: 20.4s\tremaining: 5.56s\n",
      "786:\tlearn: 0.0158898\ttotal: 20.5s\tremaining: 5.54s\n",
      "787:\tlearn: 0.0158706\ttotal: 20.5s\tremaining: 5.51s\n",
      "788:\tlearn: 0.0158532\ttotal: 20.5s\tremaining: 5.48s\n",
      "789:\tlearn: 0.0158319\ttotal: 20.5s\tremaining: 5.46s\n",
      "790:\tlearn: 0.0158159\ttotal: 20.6s\tremaining: 5.43s\n",
      "791:\tlearn: 0.0157844\ttotal: 20.6s\tremaining: 5.4s\n",
      "792:\tlearn: 0.0157504\ttotal: 20.6s\tremaining: 5.38s\n",
      "793:\tlearn: 0.0157221\ttotal: 20.6s\tremaining: 5.35s\n",
      "794:\tlearn: 0.0156956\ttotal: 20.7s\tremaining: 5.33s\n",
      "795:\tlearn: 0.0156676\ttotal: 20.7s\tremaining: 5.3s\n",
      "796:\tlearn: 0.0156424\ttotal: 20.7s\tremaining: 5.27s\n",
      "797:\tlearn: 0.0156248\ttotal: 20.7s\tremaining: 5.25s\n",
      "798:\tlearn: 0.0156018\ttotal: 20.8s\tremaining: 5.22s\n",
      "799:\tlearn: 0.0155879\ttotal: 20.8s\tremaining: 5.2s\n",
      "800:\tlearn: 0.0155720\ttotal: 20.8s\tremaining: 5.17s\n",
      "801:\tlearn: 0.0155413\ttotal: 20.8s\tremaining: 5.14s\n",
      "802:\tlearn: 0.0155198\ttotal: 20.9s\tremaining: 5.12s\n",
      "803:\tlearn: 0.0155078\ttotal: 20.9s\tremaining: 5.09s\n",
      "804:\tlearn: 0.0154819\ttotal: 20.9s\tremaining: 5.06s\n",
      "805:\tlearn: 0.0154628\ttotal: 20.9s\tremaining: 5.04s\n",
      "806:\tlearn: 0.0154219\ttotal: 21s\tremaining: 5.01s\n",
      "807:\tlearn: 0.0153846\ttotal: 21s\tremaining: 4.99s\n",
      "808:\tlearn: 0.0153485\ttotal: 21s\tremaining: 4.96s\n",
      "809:\tlearn: 0.0153314\ttotal: 21s\tremaining: 4.93s\n",
      "810:\tlearn: 0.0153050\ttotal: 21.1s\tremaining: 4.91s\n",
      "811:\tlearn: 0.0152834\ttotal: 21.1s\tremaining: 4.88s\n",
      "812:\tlearn: 0.0152504\ttotal: 21.1s\tremaining: 4.86s\n",
      "813:\tlearn: 0.0152268\ttotal: 21.1s\tremaining: 4.83s\n",
      "814:\tlearn: 0.0151988\ttotal: 21.2s\tremaining: 4.8s\n",
      "815:\tlearn: 0.0151619\ttotal: 21.2s\tremaining: 4.78s\n",
      "816:\tlearn: 0.0151446\ttotal: 21.2s\tremaining: 4.75s\n",
      "817:\tlearn: 0.0151070\ttotal: 21.2s\tremaining: 4.73s\n",
      "818:\tlearn: 0.0150847\ttotal: 21.3s\tremaining: 4.7s\n",
      "819:\tlearn: 0.0150641\ttotal: 21.3s\tremaining: 4.67s\n",
      "820:\tlearn: 0.0150492\ttotal: 21.3s\tremaining: 4.65s\n",
      "821:\tlearn: 0.0150279\ttotal: 21.3s\tremaining: 4.62s\n",
      "822:\tlearn: 0.0150118\ttotal: 21.4s\tremaining: 4.59s\n",
      "823:\tlearn: 0.0149758\ttotal: 21.4s\tremaining: 4.57s\n",
      "824:\tlearn: 0.0149396\ttotal: 21.4s\tremaining: 4.54s\n",
      "825:\tlearn: 0.0149129\ttotal: 21.4s\tremaining: 4.52s\n",
      "826:\tlearn: 0.0148960\ttotal: 21.5s\tremaining: 4.49s\n",
      "827:\tlearn: 0.0148809\ttotal: 21.5s\tremaining: 4.46s\n",
      "828:\tlearn: 0.0148528\ttotal: 21.5s\tremaining: 4.44s\n",
      "829:\tlearn: 0.0148304\ttotal: 21.5s\tremaining: 4.41s\n",
      "830:\tlearn: 0.0148089\ttotal: 21.6s\tremaining: 4.39s\n",
      "831:\tlearn: 0.0147794\ttotal: 21.6s\tremaining: 4.36s\n",
      "832:\tlearn: 0.0147581\ttotal: 21.6s\tremaining: 4.33s\n",
      "833:\tlearn: 0.0147329\ttotal: 21.6s\tremaining: 4.31s\n",
      "834:\tlearn: 0.0147121\ttotal: 21.7s\tremaining: 4.28s\n",
      "835:\tlearn: 0.0146794\ttotal: 21.7s\tremaining: 4.26s\n",
      "836:\tlearn: 0.0146543\ttotal: 21.7s\tremaining: 4.23s\n",
      "837:\tlearn: 0.0146275\ttotal: 21.7s\tremaining: 4.2s\n",
      "838:\tlearn: 0.0145950\ttotal: 21.8s\tremaining: 4.18s\n",
      "839:\tlearn: 0.0145694\ttotal: 21.8s\tremaining: 4.15s\n",
      "840:\tlearn: 0.0145355\ttotal: 21.8s\tremaining: 4.13s\n",
      "841:\tlearn: 0.0145069\ttotal: 21.8s\tremaining: 4.1s\n",
      "842:\tlearn: 0.0144909\ttotal: 21.9s\tremaining: 4.07s\n",
      "843:\tlearn: 0.0144625\ttotal: 21.9s\tremaining: 4.05s\n",
      "844:\tlearn: 0.0144366\ttotal: 21.9s\tremaining: 4.02s\n",
      "845:\tlearn: 0.0144071\ttotal: 22s\tremaining: 4s\n",
      "846:\tlearn: 0.0143743\ttotal: 22s\tremaining: 3.97s\n",
      "847:\tlearn: 0.0143481\ttotal: 22s\tremaining: 3.94s\n",
      "848:\tlearn: 0.0143204\ttotal: 22s\tremaining: 3.92s\n",
      "849:\tlearn: 0.0143048\ttotal: 22.1s\tremaining: 3.89s\n",
      "850:\tlearn: 0.0142806\ttotal: 22.1s\tremaining: 3.87s\n",
      "851:\tlearn: 0.0142595\ttotal: 22.1s\tremaining: 3.84s\n",
      "852:\tlearn: 0.0142350\ttotal: 22.1s\tremaining: 3.81s\n",
      "853:\tlearn: 0.0142181\ttotal: 22.2s\tremaining: 3.79s\n",
      "854:\tlearn: 0.0141981\ttotal: 22.2s\tremaining: 3.76s\n",
      "855:\tlearn: 0.0141795\ttotal: 22.2s\tremaining: 3.73s\n",
      "856:\tlearn: 0.0141510\ttotal: 22.2s\tremaining: 3.71s\n",
      "857:\tlearn: 0.0141234\ttotal: 22.3s\tremaining: 3.68s\n",
      "858:\tlearn: 0.0141004\ttotal: 22.3s\tremaining: 3.66s\n",
      "859:\tlearn: 0.0140706\ttotal: 22.3s\tremaining: 3.63s\n",
      "860:\tlearn: 0.0140472\ttotal: 22.3s\tremaining: 3.6s\n",
      "861:\tlearn: 0.0140239\ttotal: 22.4s\tremaining: 3.58s\n",
      "862:\tlearn: 0.0139995\ttotal: 22.4s\tremaining: 3.55s\n",
      "863:\tlearn: 0.0139846\ttotal: 22.4s\tremaining: 3.53s\n",
      "864:\tlearn: 0.0139560\ttotal: 22.4s\tremaining: 3.5s\n",
      "865:\tlearn: 0.0139269\ttotal: 22.5s\tremaining: 3.48s\n",
      "866:\tlearn: 0.0139135\ttotal: 22.5s\tremaining: 3.45s\n",
      "867:\tlearn: 0.0138996\ttotal: 22.5s\tremaining: 3.42s\n",
      "868:\tlearn: 0.0138737\ttotal: 22.5s\tremaining: 3.4s\n",
      "869:\tlearn: 0.0138545\ttotal: 22.6s\tremaining: 3.37s\n",
      "870:\tlearn: 0.0138337\ttotal: 22.6s\tremaining: 3.35s\n",
      "871:\tlearn: 0.0138126\ttotal: 22.6s\tremaining: 3.32s\n",
      "872:\tlearn: 0.0137851\ttotal: 22.6s\tremaining: 3.29s\n",
      "873:\tlearn: 0.0137672\ttotal: 22.7s\tremaining: 3.27s\n",
      "874:\tlearn: 0.0137553\ttotal: 22.7s\tremaining: 3.24s\n",
      "875:\tlearn: 0.0137412\ttotal: 22.7s\tremaining: 3.21s\n",
      "876:\tlearn: 0.0137165\ttotal: 22.7s\tremaining: 3.19s\n",
      "877:\tlearn: 0.0136859\ttotal: 22.8s\tremaining: 3.16s\n",
      "878:\tlearn: 0.0136699\ttotal: 22.8s\tremaining: 3.14s\n",
      "879:\tlearn: 0.0136541\ttotal: 22.8s\tremaining: 3.11s\n",
      "880:\tlearn: 0.0136290\ttotal: 22.8s\tremaining: 3.08s\n",
      "881:\tlearn: 0.0136139\ttotal: 22.9s\tremaining: 3.06s\n",
      "882:\tlearn: 0.0135962\ttotal: 22.9s\tremaining: 3.03s\n",
      "883:\tlearn: 0.0135720\ttotal: 22.9s\tremaining: 3.01s\n",
      "884:\tlearn: 0.0135473\ttotal: 22.9s\tremaining: 2.98s\n",
      "885:\tlearn: 0.0135349\ttotal: 23s\tremaining: 2.95s\n",
      "886:\tlearn: 0.0135147\ttotal: 23s\tremaining: 2.93s\n",
      "887:\tlearn: 0.0135037\ttotal: 23s\tremaining: 2.9s\n",
      "888:\tlearn: 0.0134801\ttotal: 23s\tremaining: 2.88s\n",
      "889:\tlearn: 0.0134563\ttotal: 23.1s\tremaining: 2.85s\n",
      "890:\tlearn: 0.0134259\ttotal: 23.1s\tremaining: 2.82s\n",
      "891:\tlearn: 0.0134072\ttotal: 23.1s\tremaining: 2.8s\n",
      "892:\tlearn: 0.0133787\ttotal: 23.1s\tremaining: 2.77s\n",
      "893:\tlearn: 0.0133499\ttotal: 23.2s\tremaining: 2.75s\n",
      "894:\tlearn: 0.0133278\ttotal: 23.2s\tremaining: 2.72s\n",
      "895:\tlearn: 0.0133096\ttotal: 23.2s\tremaining: 2.69s\n",
      "896:\tlearn: 0.0132930\ttotal: 23.2s\tremaining: 2.67s\n",
      "897:\tlearn: 0.0132754\ttotal: 23.3s\tremaining: 2.64s\n",
      "898:\tlearn: 0.0132552\ttotal: 23.3s\tremaining: 2.62s\n",
      "899:\tlearn: 0.0132357\ttotal: 23.3s\tremaining: 2.59s\n",
      "900:\tlearn: 0.0132232\ttotal: 23.3s\tremaining: 2.56s\n",
      "901:\tlearn: 0.0132022\ttotal: 23.4s\tremaining: 2.54s\n",
      "902:\tlearn: 0.0131835\ttotal: 23.4s\tremaining: 2.51s\n",
      "903:\tlearn: 0.0131667\ttotal: 23.4s\tremaining: 2.49s\n",
      "904:\tlearn: 0.0131523\ttotal: 23.4s\tremaining: 2.46s\n",
      "905:\tlearn: 0.0131408\ttotal: 23.5s\tremaining: 2.43s\n",
      "906:\tlearn: 0.0131300\ttotal: 23.5s\tremaining: 2.41s\n",
      "907:\tlearn: 0.0130988\ttotal: 23.5s\tremaining: 2.38s\n",
      "908:\tlearn: 0.0130697\ttotal: 23.5s\tremaining: 2.36s\n",
      "909:\tlearn: 0.0130583\ttotal: 23.6s\tremaining: 2.33s\n",
      "910:\tlearn: 0.0130387\ttotal: 23.6s\tremaining: 2.31s\n",
      "911:\tlearn: 0.0130245\ttotal: 23.6s\tremaining: 2.28s\n",
      "912:\tlearn: 0.0130137\ttotal: 23.6s\tremaining: 2.25s\n",
      "913:\tlearn: 0.0129990\ttotal: 23.7s\tremaining: 2.23s\n",
      "914:\tlearn: 0.0129805\ttotal: 23.7s\tremaining: 2.2s\n",
      "915:\tlearn: 0.0129627\ttotal: 23.7s\tremaining: 2.17s\n",
      "916:\tlearn: 0.0129406\ttotal: 23.7s\tremaining: 2.15s\n",
      "917:\tlearn: 0.0129168\ttotal: 23.8s\tremaining: 2.12s\n",
      "918:\tlearn: 0.0128885\ttotal: 23.8s\tremaining: 2.1s\n",
      "919:\tlearn: 0.0128769\ttotal: 23.8s\tremaining: 2.07s\n",
      "920:\tlearn: 0.0128670\ttotal: 23.9s\tremaining: 2.04s\n",
      "921:\tlearn: 0.0128442\ttotal: 23.9s\tremaining: 2.02s\n",
      "922:\tlearn: 0.0128169\ttotal: 23.9s\tremaining: 1.99s\n",
      "923:\tlearn: 0.0127919\ttotal: 23.9s\tremaining: 1.97s\n",
      "924:\tlearn: 0.0127795\ttotal: 24s\tremaining: 1.94s\n",
      "925:\tlearn: 0.0127706\ttotal: 24s\tremaining: 1.92s\n",
      "926:\tlearn: 0.0127449\ttotal: 24s\tremaining: 1.89s\n",
      "927:\tlearn: 0.0127342\ttotal: 24s\tremaining: 1.86s\n",
      "928:\tlearn: 0.0127162\ttotal: 24.1s\tremaining: 1.84s\n",
      "929:\tlearn: 0.0126973\ttotal: 24.1s\tremaining: 1.81s\n",
      "930:\tlearn: 0.0126777\ttotal: 24.1s\tremaining: 1.79s\n",
      "931:\tlearn: 0.0126673\ttotal: 24.1s\tremaining: 1.76s\n",
      "932:\tlearn: 0.0126459\ttotal: 24.2s\tremaining: 1.73s\n",
      "933:\tlearn: 0.0126382\ttotal: 24.2s\tremaining: 1.71s\n",
      "934:\tlearn: 0.0126204\ttotal: 24.2s\tremaining: 1.68s\n",
      "935:\tlearn: 0.0125970\ttotal: 24.2s\tremaining: 1.66s\n",
      "936:\tlearn: 0.0125722\ttotal: 24.3s\tremaining: 1.63s\n",
      "937:\tlearn: 0.0125460\ttotal: 24.3s\tremaining: 1.6s\n",
      "938:\tlearn: 0.0125203\ttotal: 24.3s\tremaining: 1.58s\n",
      "939:\tlearn: 0.0124984\ttotal: 24.3s\tremaining: 1.55s\n",
      "940:\tlearn: 0.0124778\ttotal: 24.4s\tremaining: 1.53s\n",
      "941:\tlearn: 0.0124463\ttotal: 24.4s\tremaining: 1.5s\n",
      "942:\tlearn: 0.0124253\ttotal: 24.4s\tremaining: 1.48s\n",
      "943:\tlearn: 0.0124128\ttotal: 24.4s\tremaining: 1.45s\n",
      "944:\tlearn: 0.0123977\ttotal: 24.5s\tremaining: 1.42s\n",
      "945:\tlearn: 0.0123704\ttotal: 24.5s\tremaining: 1.4s\n",
      "946:\tlearn: 0.0123608\ttotal: 24.5s\tremaining: 1.37s\n",
      "947:\tlearn: 0.0123497\ttotal: 24.5s\tremaining: 1.34s\n",
      "948:\tlearn: 0.0123296\ttotal: 24.6s\tremaining: 1.32s\n",
      "949:\tlearn: 0.0123199\ttotal: 24.6s\tremaining: 1.29s\n",
      "950:\tlearn: 0.0123022\ttotal: 24.6s\tremaining: 1.27s\n",
      "951:\tlearn: 0.0122798\ttotal: 24.6s\tremaining: 1.24s\n",
      "952:\tlearn: 0.0122638\ttotal: 24.7s\tremaining: 1.22s\n",
      "953:\tlearn: 0.0122560\ttotal: 24.7s\tremaining: 1.19s\n",
      "954:\tlearn: 0.0122360\ttotal: 24.7s\tremaining: 1.16s\n",
      "955:\tlearn: 0.0122157\ttotal: 24.7s\tremaining: 1.14s\n",
      "956:\tlearn: 0.0121899\ttotal: 24.8s\tremaining: 1.11s\n",
      "957:\tlearn: 0.0121721\ttotal: 24.8s\tremaining: 1.09s\n",
      "958:\tlearn: 0.0121646\ttotal: 24.8s\tremaining: 1.06s\n",
      "959:\tlearn: 0.0121448\ttotal: 24.8s\tremaining: 1.03s\n",
      "960:\tlearn: 0.0121292\ttotal: 24.9s\tremaining: 1.01s\n",
      "961:\tlearn: 0.0121166\ttotal: 24.9s\tremaining: 983ms\n",
      "962:\tlearn: 0.0121062\ttotal: 24.9s\tremaining: 957ms\n",
      "963:\tlearn: 0.0120920\ttotal: 24.9s\tremaining: 931ms\n",
      "964:\tlearn: 0.0120783\ttotal: 25s\tremaining: 905ms\n",
      "965:\tlearn: 0.0120680\ttotal: 25s\tremaining: 880ms\n",
      "966:\tlearn: 0.0120512\ttotal: 25s\tremaining: 854ms\n",
      "967:\tlearn: 0.0120400\ttotal: 25s\tremaining: 828ms\n",
      "968:\tlearn: 0.0120237\ttotal: 25.1s\tremaining: 802ms\n",
      "969:\tlearn: 0.0119986\ttotal: 25.1s\tremaining: 776ms\n",
      "970:\tlearn: 0.0119769\ttotal: 25.1s\tremaining: 750ms\n",
      "971:\tlearn: 0.0119562\ttotal: 25.1s\tremaining: 724ms\n",
      "972:\tlearn: 0.0119305\ttotal: 25.2s\tremaining: 698ms\n",
      "973:\tlearn: 0.0119150\ttotal: 25.2s\tremaining: 673ms\n",
      "974:\tlearn: 0.0118916\ttotal: 25.2s\tremaining: 647ms\n",
      "975:\tlearn: 0.0118811\ttotal: 25.2s\tremaining: 621ms\n",
      "976:\tlearn: 0.0118615\ttotal: 25.3s\tremaining: 595ms\n",
      "977:\tlearn: 0.0118432\ttotal: 25.3s\tremaining: 569ms\n",
      "978:\tlearn: 0.0118250\ttotal: 25.3s\tremaining: 543ms\n",
      "979:\tlearn: 0.0118174\ttotal: 25.3s\tremaining: 517ms\n",
      "980:\tlearn: 0.0117974\ttotal: 25.4s\tremaining: 491ms\n",
      "981:\tlearn: 0.0117766\ttotal: 25.4s\tremaining: 466ms\n",
      "982:\tlearn: 0.0117535\ttotal: 25.4s\tremaining: 440ms\n",
      "983:\tlearn: 0.0117388\ttotal: 25.4s\tremaining: 414ms\n",
      "984:\tlearn: 0.0117279\ttotal: 25.5s\tremaining: 388ms\n",
      "985:\tlearn: 0.0117183\ttotal: 25.5s\tremaining: 362ms\n",
      "986:\tlearn: 0.0117087\ttotal: 25.5s\tremaining: 336ms\n",
      "987:\tlearn: 0.0116950\ttotal: 25.5s\tremaining: 310ms\n",
      "988:\tlearn: 0.0116815\ttotal: 25.6s\tremaining: 284ms\n",
      "989:\tlearn: 0.0116708\ttotal: 25.6s\tremaining: 259ms\n",
      "990:\tlearn: 0.0116449\ttotal: 25.6s\tremaining: 233ms\n",
      "991:\tlearn: 0.0116245\ttotal: 25.7s\tremaining: 207ms\n",
      "992:\tlearn: 0.0116094\ttotal: 25.7s\tremaining: 181ms\n",
      "993:\tlearn: 0.0116008\ttotal: 25.7s\tremaining: 155ms\n",
      "994:\tlearn: 0.0115843\ttotal: 25.7s\tremaining: 129ms\n",
      "995:\tlearn: 0.0115668\ttotal: 25.8s\tremaining: 103ms\n",
      "996:\tlearn: 0.0115577\ttotal: 25.8s\tremaining: 77.6ms\n",
      "997:\tlearn: 0.0115302\ttotal: 25.8s\tremaining: 51.7ms\n",
      "998:\tlearn: 0.0115148\ttotal: 25.8s\tremaining: 25.9ms\n",
      "999:\tlearn: 0.0114969\ttotal: 25.9s\tremaining: 0us\n"
     ]
    }
   ],
   "source": [
    "def create_fit_cb(study, x, y):\n",
    "\n",
    "    model = cb.CatBoostClassifier(\n",
    "        **study.best_params,\n",
    "        iterations=study_cb.best_trial.user_attrs['iterations']\n",
    "    )\n",
    "    model.fit(x, y,verbose=True)\n",
    "\n",
    "    return model\n",
    "\n",
    "\n",
    "model_cb = create_fit_cb(study_cb, X_train, y_train)"
   ]
  },
  {
   "cell_type": "code",
   "execution_count": 29,
   "metadata": {},
   "outputs": [
    {
     "name": "stdout",
     "output_type": "stream",
     "text": [
      "-------------------- Evaulation scores --------------------\n",
      "\n",
      "              precision    recall  f1-score   support\n",
      "\n",
      "           0       1.00      1.00      1.00     56864\n",
      "           1       0.84      0.86      0.85        98\n",
      "\n",
      "    accuracy                           1.00     56962\n",
      "   macro avg       0.92      0.93      0.92     56962\n",
      "weighted avg       1.00      1.00      1.00     56962\n",
      "\n",
      "-----------------------------------------------------------\n",
      "AUCPR score: 0.8839\n",
      "\n",
      "-----------------------------------------------------------\n",
      "Metrics when different threshold is used on test data: \n"
     ]
    },
    {
     "data": {
      "text/html": [
       "<div>\n",
       "<style scoped>\n",
       "    .dataframe tbody tr th:only-of-type {\n",
       "        vertical-align: middle;\n",
       "    }\n",
       "\n",
       "    .dataframe tbody tr th {\n",
       "        vertical-align: top;\n",
       "    }\n",
       "\n",
       "    .dataframe thead th {\n",
       "        text-align: right;\n",
       "    }\n",
       "</style>\n",
       "<table border=\"1\" class=\"dataframe\">\n",
       "  <thead>\n",
       "    <tr style=\"text-align: right;\">\n",
       "      <th></th>\n",
       "      <th>threshold</th>\n",
       "      <th>precision</th>\n",
       "      <th>recall</th>\n",
       "      <th>FN</th>\n",
       "      <th>FP</th>\n",
       "      <th>TP</th>\n",
       "      <th>TN</th>\n",
       "    </tr>\n",
       "  </thead>\n",
       "  <tbody>\n",
       "    <tr>\n",
       "      <th>0</th>\n",
       "      <td>0.1</td>\n",
       "      <td>0.855556</td>\n",
       "      <td>0.785714</td>\n",
       "      <td>21</td>\n",
       "      <td>13</td>\n",
       "      <td>77</td>\n",
       "      <td>56851</td>\n",
       "    </tr>\n",
       "    <tr>\n",
       "      <th>1</th>\n",
       "      <td>0.2</td>\n",
       "      <td>0.847826</td>\n",
       "      <td>0.795918</td>\n",
       "      <td>20</td>\n",
       "      <td>14</td>\n",
       "      <td>78</td>\n",
       "      <td>56850</td>\n",
       "    </tr>\n",
       "    <tr>\n",
       "      <th>2</th>\n",
       "      <td>0.3</td>\n",
       "      <td>0.847826</td>\n",
       "      <td>0.795918</td>\n",
       "      <td>20</td>\n",
       "      <td>14</td>\n",
       "      <td>78</td>\n",
       "      <td>56850</td>\n",
       "    </tr>\n",
       "    <tr>\n",
       "      <th>3</th>\n",
       "      <td>0.4</td>\n",
       "      <td>0.843750</td>\n",
       "      <td>0.826531</td>\n",
       "      <td>17</td>\n",
       "      <td>15</td>\n",
       "      <td>81</td>\n",
       "      <td>56849</td>\n",
       "    </tr>\n",
       "    <tr>\n",
       "      <th>4</th>\n",
       "      <td>0.5</td>\n",
       "      <td>0.840000</td>\n",
       "      <td>0.857143</td>\n",
       "      <td>14</td>\n",
       "      <td>16</td>\n",
       "      <td>84</td>\n",
       "      <td>56848</td>\n",
       "    </tr>\n",
       "    <tr>\n",
       "      <th>5</th>\n",
       "      <td>0.6</td>\n",
       "      <td>0.831683</td>\n",
       "      <td>0.857143</td>\n",
       "      <td>14</td>\n",
       "      <td>17</td>\n",
       "      <td>84</td>\n",
       "      <td>56847</td>\n",
       "    </tr>\n",
       "    <tr>\n",
       "      <th>6</th>\n",
       "      <td>0.7</td>\n",
       "      <td>0.801887</td>\n",
       "      <td>0.867347</td>\n",
       "      <td>13</td>\n",
       "      <td>21</td>\n",
       "      <td>85</td>\n",
       "      <td>56843</td>\n",
       "    </tr>\n",
       "    <tr>\n",
       "      <th>7</th>\n",
       "      <td>0.8</td>\n",
       "      <td>0.743590</td>\n",
       "      <td>0.887755</td>\n",
       "      <td>11</td>\n",
       "      <td>30</td>\n",
       "      <td>87</td>\n",
       "      <td>56834</td>\n",
       "    </tr>\n",
       "    <tr>\n",
       "      <th>8</th>\n",
       "      <td>0.9</td>\n",
       "      <td>0.640288</td>\n",
       "      <td>0.908163</td>\n",
       "      <td>9</td>\n",
       "      <td>50</td>\n",
       "      <td>89</td>\n",
       "      <td>56814</td>\n",
       "    </tr>\n",
       "  </tbody>\n",
       "</table>\n",
       "</div>"
      ],
      "text/plain": [
       "   threshold  precision    recall  FN  FP  TP     TN\n",
       "0        0.1   0.855556  0.785714  21  13  77  56851\n",
       "1        0.2   0.847826  0.795918  20  14  78  56850\n",
       "2        0.3   0.847826  0.795918  20  14  78  56850\n",
       "3        0.4   0.843750  0.826531  17  15  81  56849\n",
       "4        0.5   0.840000  0.857143  14  16  84  56848\n",
       "5        0.6   0.831683  0.857143  14  17  84  56847\n",
       "6        0.7   0.801887  0.867347  13  21  85  56843\n",
       "7        0.8   0.743590  0.887755  11  30  87  56834\n",
       "8        0.9   0.640288  0.908163   9  50  89  56814"
      ]
     },
     "metadata": {},
     "output_type": "display_data"
    },
    {
     "name": "stdout",
     "output_type": "stream",
     "text": [
      "\n",
      "\n"
     ]
    },
    {
     "data": {
      "image/png": "[encoded data removed]",
      "text/plain": [
       "<Figure size 500x500 with 1 Axes>"
      ]
     },
     "metadata": {},
     "output_type": "display_data"
    }
   ],
   "source": [
    "result_cb = evaluate_model(model_cb, X_test, y_test)"
   ]
  },
  {
   "cell_type": "code",
   "execution_count": 30,
   "metadata": {},
   "outputs": [],
   "source": [
    "# Saving the model with the best performance\n",
    "model_cb.save_model(os.path.join(FOLDER_TO_SAVE_MODELS,f\"CatBoost-{datetime.now().strftime('%Y%m%d')}\"))\n",
    "\n",
    "# Example to load model\n",
    "# loaded_model_xgb = cb.CatBoostClassifier()\n",
    "# loaded_model_xgb.load_model('model_name')"
   ]
  },
  {
   "cell_type": "code",
   "execution_count": 31,
   "metadata": {},
   "outputs": [],
   "source": [
    "def objective_lgb(\n",
    "        trial,\n",
    "        eval_metric='binary_logloss', \n",
    "        x_train=X_train,\n",
    "        x_test=X_test,\n",
    "        y_train=y_train,\n",
    "        y_test=y_test,\n",
    "        seed=42,\n",
    "        n_folds=3,\n",
    "):\n",
    "    \n",
    "    dtrain = lgb.Dataset(x_train, label=y_train)\n",
    "\n",
    "    pos_weight = np.sqrt(y_train.value_counts()[0] / y_train.value_counts()[1])\n",
    "\n",
    "    params = {\n",
    "        \"objective\": \"binary\",\n",
    "        \"metric\": eval_metric,\n",
    "        \"verbosity\": -1,\n",
    "        \"boosting_type\": \"gbdt\",\n",
    "        # \"max_depth\":trial.suggest_int(\"max_depth\", 2, 10),\n",
    "        \"lambda_l1\": trial.suggest_float(\"lambda_l1\", 1e-8, 10.0, log=True),\n",
    "        \"lambda_l2\": trial.suggest_float(\"lambda_l2\", 1e-8, 10.0, log=True),\n",
    "        \"num_leaves\": trial.suggest_int(\"num_leaves\", 2, 256),\n",
    "        \"feature_fraction\": trial.suggest_float(\"feature_fraction\", 0.4, 1.0),\n",
    "        \"bagging_fraction\": trial.suggest_float(\"bagging_fraction\", 0.4, 1.0),\n",
    "        \"bagging_freq\": trial.suggest_int(\"bagging_freq\", 1, 7),\n",
    "        \"min_child_samples\": trial.suggest_int(\"min_child_samples\", 5, 100),\n",
    "        'device':'gpu',\n",
    "        \"scale_pos_weight\":pos_weight\n",
    "    }\n",
    "\n",
    "\n",
    "    pruning_callback = optuna.integration.LightGBMPruningCallback(trial, f\"valid {eval_metric}\")\n",
    "\n",
    "    lgb_cv_results = lgb.cv(\n",
    "        params=params,\n",
    "        train_set=dtrain,\n",
    "        return_cvbooster=True,\n",
    "        num_boost_round=10000,\n",
    "        callbacks=[pruning_callback, early_stopping(100)],\n",
    "        nfold=n_folds,\n",
    "        stratified=True,\n",
    "        seed=seed\n",
    "    )\n",
    "\n",
    "\n",
    "    # Set n_estimators as a trial attribute; Accessible via study.trials_dataframe().\n",
    "    trial.set_user_attr(\"iterations\", lgb_cv_results[\"cvbooster\"].best_iteration)\n",
    "\n",
    "\n",
    "    best_score = lgb_cv_results[f'valid {eval_metric}-mean'][-1]\n",
    "    return best_score"
   ]
  },
  {
   "cell_type": "code",
   "execution_count": 32,
   "metadata": {},
   "outputs": [
    {
     "name": "stderr",
     "output_type": "stream",
     "text": [
      "[I 2023-10-12 20:14:39,993] A new study created in memory with name: no-name-1a597b0b-bae5-4cb4-9ffa-9bdc0e992665\n"
     ]
    },
    {
     "name": "stdout",
     "output_type": "stream",
     "text": [
      "Training until validation scores don't improve for 100 rounds\n"
     ]
    },
    {
     "name": "stderr",
     "output_type": "stream",
     "text": [
      "[I 2023-10-12 20:14:44,354] Trial 0 finished with value: 0.09508218112517436 and parameters: {'lambda_l1': 0.0033984171703750807, 'lambda_l2': 7.6254290610499836e-06, 'num_leaves': 124, 'feature_fraction': 0.7906442109670058, 'bagging_fraction': 0.5942223641535316, 'bagging_freq': 7, 'min_child_samples': 35}. Best is trial 0 with value: 0.09508218112517436.\n"
     ]
    },
    {
     "name": "stdout",
     "output_type": "stream",
     "text": [
      "Early stopping, best iteration is:\n",
      "[2]\tcv_agg's valid binary_logloss: 0.0950822 + 0.00727069\n",
      "Training until validation scores don't improve for 100 rounds\n"
     ]
    },
    {
     "name": "stderr",
     "output_type": "stream",
     "text": [
      "[I 2023-10-12 20:14:46,384] Trial 1 finished with value: 0.13158187788650585 and parameters: {'lambda_l1': 0.020222685479846465, 'lambda_l2': 1.4586433070359072e-06, 'num_leaves': 49, 'feature_fraction': 0.46435207431928494, 'bagging_fraction': 0.698920000453743, 'bagging_freq': 3, 'min_child_samples': 89}. Best is trial 0 with value: 0.09508218112517436.\n"
     ]
    },
    {
     "name": "stdout",
     "output_type": "stream",
     "text": [
      "Early stopping, best iteration is:\n",
      "[2]\tcv_agg's valid binary_logloss: 0.131582 + 0.00603021\n",
      "Training until validation scores don't improve for 100 rounds\n"
     ]
    },
    {
     "name": "stderr",
     "output_type": "stream",
     "text": [
      "[I 2023-10-12 20:14:55,879] Trial 2 finished with value: 0.09215951607402133 and parameters: {'lambda_l1': 0.969208409081969, 'lambda_l2': 9.891125739269161e-05, 'num_leaves': 185, 'feature_fraction': 0.8378068519278792, 'bagging_fraction': 0.6899256887778367, 'bagging_freq': 4, 'min_child_samples': 33}. Best is trial 2 with value: 0.09215951607402133.\n"
     ]
    },
    {
     "name": "stdout",
     "output_type": "stream",
     "text": [
      "Early stopping, best iteration is:\n",
      "[2]\tcv_agg's valid binary_logloss: 0.0921595 + 0.00400202\n",
      "Training until validation scores don't improve for 100 rounds\n"
     ]
    },
    {
     "name": "stderr",
     "output_type": "stream",
     "text": [
      "[I 2023-10-12 20:15:07,182] Trial 3 finished with value: 0.07480997348765428 and parameters: {'lambda_l1': 0.03186012804757693, 'lambda_l2': 5.789458924106569e-07, 'num_leaves': 34, 'feature_fraction': 0.8320002694938353, 'bagging_fraction': 0.6448409141567651, 'bagging_freq': 3, 'min_child_samples': 73}. Best is trial 3 with value: 0.07480997348765428.\n"
     ]
    },
    {
     "name": "stdout",
     "output_type": "stream",
     "text": [
      "Early stopping, best iteration is:\n",
      "[2]\tcv_agg's valid binary_logloss: 0.07481 + 0.00682885\n",
      "Training until validation scores don't improve for 100 rounds\n"
     ]
    },
    {
     "name": "stderr",
     "output_type": "stream",
     "text": [
      "[I 2023-10-12 20:15:17,205] Trial 4 finished with value: 0.056561832261852886 and parameters: {'lambda_l1': 7.640942728943817, 'lambda_l2': 0.0024939192322730548, 'num_leaves': 47, 'feature_fraction': 0.6346570870452377, 'bagging_fraction': 0.9929591789547388, 'bagging_freq': 7, 'min_child_samples': 99}. Best is trial 4 with value: 0.056561832261852886.\n"
     ]
    },
    {
     "name": "stdout",
     "output_type": "stream",
     "text": [
      "Early stopping, best iteration is:\n",
      "[259]\tcv_agg's valid binary_logloss: 0.0565618 + 0.00438059\n"
     ]
    },
    {
     "name": "stderr",
     "output_type": "stream",
     "text": [
      "[I 2023-10-12 20:15:18,819] Trial 5 pruned. Trial was pruned at iteration 0.\n",
      "[I 2023-10-12 20:15:22,134] Trial 6 pruned. Trial was pruned at iteration 0.\n",
      "[I 2023-10-12 20:15:22,783] Trial 7 pruned. Trial was pruned at iteration 0.\n",
      "[I 2023-10-12 20:15:23,610] Trial 8 pruned. Trial was pruned at iteration 0.\n",
      "[I 2023-10-12 20:15:26,902] Trial 9 pruned. Trial was pruned at iteration 1.\n"
     ]
    },
    {
     "name": "stdout",
     "output_type": "stream",
     "text": [
      "Training until validation scores don't improve for 100 rounds\n",
      "Training until validation scores don't improve for 100 rounds\n"
     ]
    },
    {
     "name": "stderr",
     "output_type": "stream",
     "text": [
      "[I 2023-10-12 20:15:37,952] Trial 10 finished with value: 0.005349812979508762 and parameters: {'lambda_l1': 8.179592279841776, 'lambda_l2': 2.0577064346263154, 'num_leaves': 248, 'feature_fraction': 0.6496383773848371, 'bagging_fraction': 0.43632445660922836, 'bagging_freq': 7, 'min_child_samples': 10}. Best is trial 10 with value: 0.005349812979508762.\n"
     ]
    },
    {
     "name": "stdout",
     "output_type": "stream",
     "text": [
      "Early stopping, best iteration is:\n",
      "[391]\tcv_agg's valid binary_logloss: 0.00534981 + 0.000465136\n",
      "Training until validation scores don't improve for 100 rounds\n"
     ]
    },
    {
     "name": "stderr",
     "output_type": "stream",
     "text": [
      "[I 2023-10-12 20:15:48,739] Trial 11 finished with value: 0.005047002803532579 and parameters: {'lambda_l1': 4.8575561281344095, 'lambda_l2': 1.8273868979127803, 'num_leaves': 251, 'feature_fraction': 0.6516639473088195, 'bagging_fraction': 0.41809665449381483, 'bagging_freq': 7, 'min_child_samples': 6}. Best is trial 11 with value: 0.005047002803532579.\n"
     ]
    },
    {
     "name": "stdout",
     "output_type": "stream",
     "text": [
      "Early stopping, best iteration is:\n",
      "[410]\tcv_agg's valid binary_logloss: 0.005047 + 0.000336478\n",
      "Training until validation scores don't improve for 100 rounds\n"
     ]
    },
    {
     "name": "stderr",
     "output_type": "stream",
     "text": [
      "[I 2023-10-12 20:16:07,328] Trial 12 finished with value: 0.0038827678651461675 and parameters: {'lambda_l1': 3.473973569834662, 'lambda_l2': 9.540737723238685, 'num_leaves': 256, 'feature_fraction': 0.6978217644669494, 'bagging_fraction': 0.40289899439498283, 'bagging_freq': 6, 'min_child_samples': 8}. Best is trial 12 with value: 0.0038827678651461675.\n"
     ]
    },
    {
     "name": "stdout",
     "output_type": "stream",
     "text": [
      "Early stopping, best iteration is:\n",
      "[419]\tcv_agg's valid binary_logloss: 0.00388277 + 0.000558966\n",
      "Training until validation scores don't improve for 100 rounds\n"
     ]
    },
    {
     "name": "stderr",
     "output_type": "stream",
     "text": [
      "[I 2023-10-12 20:16:15,729] Trial 13 finished with value: 0.003569466566184296 and parameters: {'lambda_l1': 6.122532731667678e-08, 'lambda_l2': 5.408465842312135, 'num_leaves': 256, 'feature_fraction': 0.7002772019557343, 'bagging_fraction': 0.4071011410245907, 'bagging_freq': 6, 'min_child_samples': 5}. Best is trial 13 with value: 0.003569466566184296.\n"
     ]
    },
    {
     "name": "stdout",
     "output_type": "stream",
     "text": [
      "Early stopping, best iteration is:\n",
      "[188]\tcv_agg's valid binary_logloss: 0.00356947 + 0.00046235\n",
      "Training until validation scores don't improve for 100 rounds\n"
     ]
    },
    {
     "name": "stderr",
     "output_type": "stream",
     "text": [
      "[I 2023-10-12 20:16:30,258] Trial 14 finished with value: 0.0035050288570395026 and parameters: {'lambda_l1': 2.496569088663017e-08, 'lambda_l2': 7.491290195694917, 'num_leaves': 224, 'feature_fraction': 0.7465445951598932, 'bagging_fraction': 0.4695667893426089, 'bagging_freq': 5, 'min_child_samples': 19}. Best is trial 14 with value: 0.0035050288570395026.\n"
     ]
    },
    {
     "name": "stdout",
     "output_type": "stream",
     "text": [
      "Early stopping, best iteration is:\n",
      "[156]\tcv_agg's valid binary_logloss: 0.00350503 + 0.000401491\n",
      "Training until validation scores don't improve for 100 rounds\n"
     ]
    },
    {
     "name": "stderr",
     "output_type": "stream",
     "text": [
      "[I 2023-10-12 20:16:44,767] Trial 15 pruned. Trial was pruned at iteration 102.\n"
     ]
    },
    {
     "name": "stdout",
     "output_type": "stream",
     "text": [
      "Training until validation scores don't improve for 100 rounds\n"
     ]
    },
    {
     "name": "stderr",
     "output_type": "stream",
     "text": [
      "[I 2023-10-12 20:16:50,734] Trial 16 pruned. Trial was pruned at iteration 102.\n",
      "[I 2023-10-12 20:16:51,397] Trial 17 pruned. Trial was pruned at iteration 0.\n",
      "[I 2023-10-12 20:16:52,579] Trial 18 pruned. Trial was pruned at iteration 0.\n"
     ]
    },
    {
     "name": "stdout",
     "output_type": "stream",
     "text": [
      "Training until validation scores don't improve for 100 rounds\n"
     ]
    },
    {
     "name": "stderr",
     "output_type": "stream",
     "text": [
      "[I 2023-10-12 20:17:01,060] Trial 19 finished with value: 0.0036887105487569665 and parameters: {'lambda_l1': 1.835353110289932e-07, 'lambda_l2': 7.513412940851278, 'num_leaves': 228, 'feature_fraction': 0.5516212621442593, 'bagging_fraction': 0.4051380373176238, 'bagging_freq': 4, 'min_child_samples': 16}. Best is trial 14 with value: 0.0035050288570395026.\n"
     ]
    },
    {
     "name": "stdout",
     "output_type": "stream",
     "text": [
      "Early stopping, best iteration is:\n",
      "[217]\tcv_agg's valid binary_logloss: 0.00368871 + 0.000824036\n"
     ]
    },
    {
     "name": "stderr",
     "output_type": "stream",
     "text": [
      "[I 2023-10-12 20:17:01,574] Trial 20 pruned. Trial was pruned at iteration 0.\n"
     ]
    },
    {
     "name": "stdout",
     "output_type": "stream",
     "text": [
      "Training until validation scores don't improve for 100 rounds\n"
     ]
    },
    {
     "name": "stderr",
     "output_type": "stream",
     "text": [
      "[I 2023-10-12 20:17:16,126] Trial 21 finished with value: 0.003499050922708519 and parameters: {'lambda_l1': 9.077360906702357e-08, 'lambda_l2': 9.474463112665847, 'num_leaves': 230, 'feature_fraction': 0.5330244445352659, 'bagging_fraction': 0.4269856773793733, 'bagging_freq': 4, 'min_child_samples': 16}. Best is trial 21 with value: 0.003499050922708519.\n"
     ]
    },
    {
     "name": "stdout",
     "output_type": "stream",
     "text": [
      "Early stopping, best iteration is:\n",
      "[218]\tcv_agg's valid binary_logloss: 0.00349905 + 0.000483991\n",
      "Training until validation scores don't improve for 100 rounds\n"
     ]
    },
    {
     "name": "stderr",
     "output_type": "stream",
     "text": [
      "[I 2023-10-12 20:17:17,650] Trial 22 pruned. Trial was pruned at iteration 10.\n",
      "[I 2023-10-12 20:17:18,876] Trial 23 pruned. Trial was pruned at iteration 1.\n"
     ]
    },
    {
     "name": "stdout",
     "output_type": "stream",
     "text": [
      "Training until validation scores don't improve for 100 rounds\n"
     ]
    },
    {
     "name": "stderr",
     "output_type": "stream",
     "text": [
      "[I 2023-10-12 20:17:21,968] Trial 24 pruned. Trial was pruned at iteration 0.\n",
      "[I 2023-10-12 20:17:23,329] Trial 25 pruned. Trial was pruned at iteration 0.\n",
      "[I 2023-10-12 20:17:23,955] Trial 26 pruned. Trial was pruned at iteration 0.\n",
      "[I 2023-10-12 20:17:24,445] Trial 27 pruned. Trial was pruned at iteration 0.\n",
      "[I 2023-10-12 20:17:26,629] Trial 28 pruned. Trial was pruned at iteration 0.\n",
      "[I 2023-10-12 20:17:27,867] Trial 29 pruned. Trial was pruned at iteration 0.\n"
     ]
    },
    {
     "name": "stdout",
     "output_type": "stream",
     "text": [
      "Number of finished trials:  30\n",
      "Best trial:\n",
      "  Value: 0.003499050922708519\n",
      "  Params: \n",
      "    lambda_l1: 9.077360906702357e-08\n",
      "    lambda_l2: 9.474463112665847\n",
      "    num_leaves: 230\n",
      "    feature_fraction: 0.5330244445352659\n",
      "    bagging_fraction: 0.4269856773793733\n",
      "    bagging_freq: 4\n",
      "    min_child_samples: 16\n"
     ]
    }
   ],
   "source": [
    "study_lgb = optimize_objective(\n",
    "    objective=objective_lgb,\n",
    "    n_trials=30,\n",
    "    direction=\"minimize\"\n",
    ")"
   ]
  },
  {
   "cell_type": "code",
   "execution_count": 44,
   "metadata": {},
   "outputs": [
    {
     "data": {
      "application/vnd.plotly.v1+json": {
       "config": {
        "plotlyServerURL": "https://plot.ly"
       },
       "data": [
        {
         "mode": "markers",
         "name": "Objective Value",
         "type": "scatter",
         "x": [
          0,
          1,
          2,
          3,
          4,
          10,
          11,
          12,
          13,
          14,
          19,
          21
         ],
         "y": [
          0.09508218112517436,
          0.13158187788650585,
          0.09215951607402133,
          0.07480997348765428,
          0.056561832261852886,
          0.005349812979508762,
          0.005047002803532579,
          0.0038827678651461675,
          0.003569466566184296,
          0.0035050288570395026,
          0.0036887105487569665,
          0.003499050922708519
         ]
        },
        {
         "mode": "lines",
         "name": "Best Value",
         "type": "scatter",
         "x": [
          0,
          1,
          2,
          3,
          4,
          5,
          6,
          7,
          8,
          9,
          10,
          11,
          12,
          13,
          14,
          15,
          16,
          17,
          18,
          19,
          20,
          21,
          22,
          23,
          24,
          25,
          26,
          27,
          28,
          29
         ],
         "y": [
          0.09508218112517436,
          0.09508218112517436,
          0.09215951607402133,
          0.07480997348765428,
          0.056561832261852886,
          0.056561832261852886,
          0.056561832261852886,
          0.056561832261852886,
          0.056561832261852886,
          0.056561832261852886,
          0.005349812979508762,
          0.005047002803532579,
          0.0038827678651461675,
          0.003569466566184296,
          0.0035050288570395026,
          0.0035050288570395026,
          0.0035050288570395026,
          0.0035050288570395026,
          0.0035050288570395026,
          0.0035050288570395026,
          0.0035050288570395026,
          0.003499050922708519,
          0.003499050922708519,
          0.003499050922708519,
          0.003499050922708519,
          0.003499050922708519,
          0.003499050922708519,
          0.003499050922708519,
          0.003499050922708519,
          0.003499050922708519
         ]
        },
        {
         "marker": {
          "color": "#cccccc"
         },
         "mode": "markers",
         "name": "Infeasible Trial",
         "showlegend": false,
         "type": "scatter",
         "x": [],
         "y": []
        }
       ],
       "layout": {
        "template": {
         "data": {
          "bar": [
           {
            "error_x": {
             "color": "#2a3f5f"
            },
            "error_y": {
             "color": "#2a3f5f"
            },
            "marker": {
             "line": {
              "color": "#E5ECF6",
              "width": 0.5
             },
             "pattern": {
              "fillmode": "overlay",
              "size": 10,
              "solidity": 0.2
             }
            },
            "type": "bar"
           }
          ],
          "barpolar": [
           {
            "marker": {
             "line": {
              "color": "#E5ECF6",
              "width": 0.5
             },
             "pattern": {
              "fillmode": "overlay",
              "size": 10,
              "solidity": 0.2
             }
            },
            "type": "barpolar"
           }
          ],
          "carpet": [
           {
            "aaxis": {
             "endlinecolor": "#2a3f5f",
             "gridcolor": "white",
             "linecolor": "white",
             "minorgridcolor": "white",
             "startlinecolor": "#2a3f5f"
            },
            "baxis": {
             "endlinecolor": "#2a3f5f",
             "gridcolor": "white",
             "linecolor": "white",
             "minorgridcolor": "white",
             "startlinecolor": "#2a3f5f"
            },
            "type": "carpet"
           }
          ],
          "choropleth": [
           {
            "colorbar": {
             "outlinewidth": 0,
             "ticks": ""
            },
            "type": "choropleth"
           }
          ],
          "contour": [
           {
            "colorbar": {
             "outlinewidth": 0,
             "ticks": ""
            },
            "colorscale": [
             [
              0,
              "#0d0887"
             ],
             [
              0.1111111111111111,
              "#46039f"
             ],
             [
              0.2222222222222222,
              "#7201a8"
             ],
             [
              0.3333333333333333,
              "#9c179e"
             ],
             [
              0.4444444444444444,
              "#bd3786"
             ],
             [
              0.5555555555555556,
              "#d8576b"
             ],
             [
              0.6666666666666666,
              "#ed7953"
             ],
             [
              0.7777777777777778,
              "#fb9f3a"
             ],
             [
              0.8888888888888888,
              "#fdca26"
             ],
             [
              1,
              "#f0f921"
             ]
            ],
            "type": "contour"
           }
          ],
          "contourcarpet": [
           {
            "colorbar": {
             "outlinewidth": 0,
             "ticks": ""
            },
            "type": "contourcarpet"
           }
          ],
          "heatmap": [
           {
            "colorbar": {
             "outlinewidth": 0,
             "ticks": ""
            },
            "colorscale": [
             [
              0,
              "#0d0887"
             ],
             [
              0.1111111111111111,
              "#46039f"
             ],
             [
              0.2222222222222222,
              "#7201a8"
             ],
             [
              0.3333333333333333,
              "#9c179e"
             ],
             [
              0.4444444444444444,
              "#bd3786"
             ],
             [
              0.5555555555555556,
              "#d8576b"
             ],
             [
              0.6666666666666666,
              "#ed7953"
             ],
             [
              0.7777777777777778,
              "#fb9f3a"
             ],
             [
              0.8888888888888888,
              "#fdca26"
             ],
             [
              1,
              "#f0f921"
             ]
            ],
            "type": "heatmap"
           }
          ],
          "heatmapgl": [
           {
            "colorbar": {
             "outlinewidth": 0,
             "ticks": ""
            },
            "colorscale": [
             [
              0,
              "#0d0887"
             ],
             [
              0.1111111111111111,
              "#46039f"
             ],
             [
              0.2222222222222222,
              "#7201a8"
             ],
             [
              0.3333333333333333,
              "#9c179e"
             ],
             [
              0.4444444444444444,
              "#bd3786"
             ],
             [
              0.5555555555555556,
              "#d8576b"
             ],
             [
              0.6666666666666666,
              "#ed7953"
             ],
             [
              0.7777777777777778,
              "#fb9f3a"
             ],
             [
              0.8888888888888888,
              "#fdca26"
             ],
             [
              1,
              "#f0f921"
             ]
            ],
            "type": "heatmapgl"
           }
          ],
          "histogram": [
           {
            "marker": {
             "pattern": {
              "fillmode": "overlay",
              "size": 10,
              "solidity": 0.2
             }
            },
            "type": "histogram"
           }
          ],
          "histogram2d": [
           {
            "colorbar": {
             "outlinewidth": 0,
             "ticks": ""
            },
            "colorscale": [
             [
              0,
              "#0d0887"
             ],
             [
              0.1111111111111111,
              "#46039f"
             ],
             [
              0.2222222222222222,
              "#7201a8"
             ],
             [
              0.3333333333333333,
              "#9c179e"
             ],
             [
              0.4444444444444444,
              "#bd3786"
             ],
             [
              0.5555555555555556,
              "#d8576b"
             ],
             [
              0.6666666666666666,
              "#ed7953"
             ],
             [
              0.7777777777777778,
              "#fb9f3a"
             ],
             [
              0.8888888888888888,
              "#fdca26"
             ],
             [
              1,
              "#f0f921"
             ]
            ],
            "type": "histogram2d"
           }
          ],
          "histogram2dcontour": [
           {
            "colorbar": {
             "outlinewidth": 0,
             "ticks": ""
            },
            "colorscale": [
             [
              0,
              "#0d0887"
             ],
             [
              0.1111111111111111,
              "#46039f"
             ],
             [
              0.2222222222222222,
              "#7201a8"
             ],
             [
              0.3333333333333333,
              "#9c179e"
             ],
             [
              0.4444444444444444,
              "#bd3786"
             ],
             [
              0.5555555555555556,
              "#d8576b"
             ],
             [
              0.6666666666666666,
              "#ed7953"
             ],
             [
              0.7777777777777778,
              "#fb9f3a"
             ],
             [
              0.8888888888888888,
              "#fdca26"
             ],
             [
              1,
              "#f0f921"
             ]
            ],
            "type": "histogram2dcontour"
           }
          ],
          "mesh3d": [
           {
            "colorbar": {
             "outlinewidth": 0,
             "ticks": ""
            },
            "type": "mesh3d"
           }
          ],
          "parcoords": [
           {
            "line": {
             "colorbar": {
              "outlinewidth": 0,
              "ticks": ""
             }
            },
            "type": "parcoords"
           }
          ],
          "pie": [
           {
            "automargin": true,
            "type": "pie"
           }
          ],
          "scatter": [
           {
            "fillpattern": {
             "fillmode": "overlay",
             "size": 10,
             "solidity": 0.2
            },
            "type": "scatter"
           }
          ],
          "scatter3d": [
           {
            "line": {
             "colorbar": {
              "outlinewidth": 0,
              "ticks": ""
             }
            },
            "marker": {
             "colorbar": {
              "outlinewidth": 0,
              "ticks": ""
             }
            },
            "type": "scatter3d"
           }
          ],
          "scattercarpet": [
           {
            "marker": {
             "colorbar": {
              "outlinewidth": 0,
              "ticks": ""
             }
            },
            "type": "scattercarpet"
           }
          ],
          "scattergeo": [
           {
            "marker": {
             "colorbar": {
              "outlinewidth": 0,
              "ticks": ""
             }
            },
            "type": "scattergeo"
           }
          ],
          "scattergl": [
           {
            "marker": {
             "colorbar": {
              "outlinewidth": 0,
              "ticks": ""
             }
            },
            "type": "scattergl"
           }
          ],
          "scattermapbox": [
           {
            "marker": {
             "colorbar": {
              "outlinewidth": 0,
              "ticks": ""
             }
            },
            "type": "scattermapbox"
           }
          ],
          "scatterpolar": [
           {
            "marker": {
             "colorbar": {
              "outlinewidth": 0,
              "ticks": ""
             }
            },
            "type": "scatterpolar"
           }
          ],
          "scatterpolargl": [
           {
            "marker": {
             "colorbar": {
              "outlinewidth": 0,
              "ticks": ""
             }
            },
            "type": "scatterpolargl"
           }
          ],
          "scatterternary": [
           {
            "marker": {
             "colorbar": {
              "outlinewidth": 0,
              "ticks": ""
             }
            },
            "type": "scatterternary"
           }
          ],
          "surface": [
           {
            "colorbar": {
             "outlinewidth": 0,
             "ticks": ""
            },
            "colorscale": [
             [
              0,
              "#0d0887"
             ],
             [
              0.1111111111111111,
              "#46039f"
             ],
             [
              0.2222222222222222,
              "#7201a8"
             ],
             [
              0.3333333333333333,
              "#9c179e"
             ],
             [
              0.4444444444444444,
              "#bd3786"
             ],
             [
              0.5555555555555556,
              "#d8576b"
             ],
             [
              0.6666666666666666,
              "#ed7953"
             ],
             [
              0.7777777777777778,
              "#fb9f3a"
             ],
             [
              0.8888888888888888,
              "#fdca26"
             ],
             [
              1,
              "#f0f921"
             ]
            ],
            "type": "surface"
           }
          ],
          "table": [
           {
            "cells": {
             "fill": {
              "color": "#EBF0F8"
             },
             "line": {
              "color": "white"
             }
            },
            "header": {
             "fill": {
              "color": "#C8D4E3"
             },
             "line": {
              "color": "white"
             }
            },
            "type": "table"
           }
          ]
         },
         "layout": {
          "annotationdefaults": {
           "arrowcolor": "#2a3f5f",
           "arrowhead": 0,
           "arrowwidth": 1
          },
          "autotypenumbers": "strict",
          "coloraxis": {
           "colorbar": {
            "outlinewidth": 0,
            "ticks": ""
           }
          },
          "colorscale": {
           "diverging": [
            [
             0,
             "#8e0152"
            ],
            [
             0.1,
             "#c51b7d"
            ],
            [
             0.2,
             "#de77ae"
            ],
            [
             0.3,
             "#f1b6da"
            ],
            [
             0.4,
             "#fde0ef"
            ],
            [
             0.5,
             "#f7f7f7"
            ],
            [
             0.6,
             "#e6f5d0"
            ],
            [
             0.7,
             "#b8e186"
            ],
            [
             0.8,
             "#7fbc41"
            ],
            [
             0.9,
             "#4d9221"
            ],
            [
             1,
             "#276419"
            ]
           ],
           "sequential": [
            [
             0,
             "#0d0887"
            ],
            [
             0.1111111111111111,
             "#46039f"
            ],
            [
             0.2222222222222222,
             "#7201a8"
            ],
            [
             0.3333333333333333,
             "#9c179e"
            ],
            [
             0.4444444444444444,
             "#bd3786"
            ],
            [
             0.5555555555555556,
             "#d8576b"
            ],
            [
             0.6666666666666666,
             "#ed7953"
            ],
            [
             0.7777777777777778,
             "#fb9f3a"
            ],
            [
             0.8888888888888888,
             "#fdca26"
            ],
            [
             1,
             "#f0f921"
            ]
           ],
           "sequentialminus": [
            [
             0,
             "#0d0887"
            ],
            [
             0.1111111111111111,
             "#46039f"
            ],
            [
             0.2222222222222222,
             "#7201a8"
            ],
            [
             0.3333333333333333,
             "#9c179e"
            ],
            [
             0.4444444444444444,
             "#bd3786"
            ],
            [
             0.5555555555555556,
             "#d8576b"
            ],
            [
             0.6666666666666666,
             "#ed7953"
            ],
            [
             0.7777777777777778,
             "#fb9f3a"
            ],
            [
             0.8888888888888888,
             "#fdca26"
            ],
            [
             1,
             "#f0f921"
            ]
           ]
          },
          "colorway": [
           "#636efa",
           "#EF553B",
           "#00cc96",
           "#ab63fa",
           "#FFA15A",
           "#19d3f3",
           "#FF6692",
           "#B6E880",
           "#FF97FF",
           "#FECB52"
          ],
          "font": {
           "color": "#2a3f5f"
          },
          "geo": {
           "bgcolor": "white",
           "lakecolor": "white",
           "landcolor": "#E5ECF6",
           "showlakes": true,
           "showland": true,
           "subunitcolor": "white"
          },
          "hoverlabel": {
           "align": "left"
          },
          "hovermode": "closest",
          "mapbox": {
           "style": "light"
          },
          "paper_bgcolor": "white",
          "plot_bgcolor": "#E5ECF6",
          "polar": {
           "angularaxis": {
            "gridcolor": "white",
            "linecolor": "white",
            "ticks": ""
           },
           "bgcolor": "#E5ECF6",
           "radialaxis": {
            "gridcolor": "white",
            "linecolor": "white",
            "ticks": ""
           }
          },
          "scene": {
           "xaxis": {
            "backgroundcolor": "#E5ECF6",
            "gridcolor": "white",
            "gridwidth": 2,
            "linecolor": "white",
            "showbackground": true,
            "ticks": "",
            "zerolinecolor": "white"
           },
           "yaxis": {
            "backgroundcolor": "#E5ECF6",
            "gridcolor": "white",
            "gridwidth": 2,
            "linecolor": "white",
            "showbackground": true,
            "ticks": "",
            "zerolinecolor": "white"
           },
           "zaxis": {
            "backgroundcolor": "#E5ECF6",
            "gridcolor": "white",
            "gridwidth": 2,
            "linecolor": "white",
            "showbackground": true,
            "ticks": "",
            "zerolinecolor": "white"
           }
          },
          "shapedefaults": {
           "line": {
            "color": "#2a3f5f"
           }
          },
          "ternary": {
           "aaxis": {
            "gridcolor": "white",
            "linecolor": "white",
            "ticks": ""
           },
           "baxis": {
            "gridcolor": "white",
            "linecolor": "white",
            "ticks": ""
           },
           "bgcolor": "#E5ECF6",
           "caxis": {
            "gridcolor": "white",
            "linecolor": "white",
            "ticks": ""
           }
          },
          "title": {
           "x": 0.05
          },
          "xaxis": {
           "automargin": true,
           "gridcolor": "white",
           "linecolor": "white",
           "ticks": "",
           "title": {
            "standoff": 15
           },
           "zerolinecolor": "white",
           "zerolinewidth": 2
          },
          "yaxis": {
           "automargin": true,
           "gridcolor": "white",
           "linecolor": "white",
           "ticks": "",
           "title": {
            "standoff": 15
           },
           "zerolinecolor": "white",
           "zerolinewidth": 2
          }
         }
        },
        "title": {
         "text": "Optimization History Plot"
        },
        "xaxis": {
         "title": {
          "text": "Trial"
         }
        },
        "yaxis": {
         "title": {
          "text": "Objective Value"
         }
        }
       }
      },
      "text/html": [
       "<div>                            <div id=\"66b75ba0-75c3-480b-8cb2-4f9374b2aa38\" class=\"plotly-graph-div\" style=\"height:525px; width:100%;\"></div>            <script type=\"text/javascript\">                require([\"plotly\"], function(Plotly) {                    window.PLOTLYENV=window.PLOTLYENV || {};                                    if (document.getElementById(\"66b75ba0-75c3-480b-8cb2-4f9374b2aa38\")) {                    Plotly.newPlot(                        \"66b75ba0-75c3-480b-8cb2-4f9374b2aa38\",                        [{\"mode\":\"markers\",\"name\":\"Objective Value\",\"x\":[0,1,2,3,4,10,11,12,13,14,19,21],\"y\":[0.09508218112517436,0.13158187788650585,0.09215951607402133,0.07480997348765428,0.056561832261852886,0.005349812979508762,0.005047002803532579,0.0038827678651461675,0.003569466566184296,0.0035050288570395026,0.0036887105487569665,0.003499050922708519],\"type\":\"scatter\"},{\"mode\":\"lines\",\"name\":\"Best Value\",\"x\":[0,1,2,3,4,5,6,7,8,9,10,11,12,13,14,15,16,17,18,19,20,21,22,23,24,25,26,27,28,29],\"y\":[0.09508218112517436,0.09508218112517436,0.09215951607402133,0.07480997348765428,0.056561832261852886,0.056561832261852886,0.056561832261852886,0.056561832261852886,0.056561832261852886,0.056561832261852886,0.005349812979508762,0.005047002803532579,0.0038827678651461675,0.003569466566184296,0.0035050288570395026,0.0035050288570395026,0.0035050288570395026,0.0035050288570395026,0.0035050288570395026,0.0035050288570395026,0.0035050288570395026,0.003499050922708519,0.003499050922708519,0.003499050922708519,0.003499050922708519,0.003499050922708519,0.003499050922708519,0.003499050922708519,0.003499050922708519,0.003499050922708519],\"type\":\"scatter\"},{\"marker\":{\"color\":\"#cccccc\"},\"mode\":\"markers\",\"name\":\"Infeasible Trial\",\"showlegend\":false,\"x\":[],\"y\":[],\"type\":\"scatter\"}],                        {\"title\":{\"text\":\"Optimization History Plot\"},\"xaxis\":{\"title\":{\"text\":\"Trial\"}},\"yaxis\":{\"title\":{\"text\":\"Objective Value\"}},\"template\":{\"data\":{\"histogram2dcontour\":[{\"type\":\"histogram2dcontour\",\"colorbar\":{\"outlinewidth\":0,\"ticks\":\"\"},\"colorscale\":[[0.0,\"#0d0887\"],[0.1111111111111111,\"#46039f\"],[0.2222222222222222,\"#7201a8\"],[0.3333333333333333,\"#9c179e\"],[0.4444444444444444,\"#bd3786\"],[0.5555555555555556,\"#d8576b\"],[0.6666666666666666,\"#ed7953\"],[0.7777777777777778,\"#fb9f3a\"],[0.8888888888888888,\"#fdca26\"],[1.0,\"#f0f921\"]]}],\"choropleth\":[{\"type\":\"choropleth\",\"colorbar\":{\"outlinewidth\":0,\"ticks\":\"\"}}],\"histogram2d\":[{\"type\":\"histogram2d\",\"colorbar\":{\"outlinewidth\":0,\"ticks\":\"\"},\"colorscale\":[[0.0,\"#0d0887\"],[0.1111111111111111,\"#46039f\"],[0.2222222222222222,\"#7201a8\"],[0.3333333333333333,\"#9c179e\"],[0.4444444444444444,\"#bd3786\"],[0.5555555555555556,\"#d8576b\"],[0.6666666666666666,\"#ed7953\"],[0.7777777777777778,\"#fb9f3a\"],[0.8888888888888888,\"#fdca26\"],[1.0,\"#f0f921\"]]}],\"heatmap\":[{\"type\":\"heatmap\",\"colorbar\":{\"outlinewidth\":0,\"ticks\":\"\"},\"colorscale\":[[0.0,\"#0d0887\"],[0.1111111111111111,\"#46039f\"],[0.2222222222222222,\"#7201a8\"],[0.3333333333333333,\"#9c179e\"],[0.4444444444444444,\"#bd3786\"],[0.5555555555555556,\"#d8576b\"],[0.6666666666666666,\"#ed7953\"],[0.7777777777777778,\"#fb9f3a\"],[0.8888888888888888,\"#fdca26\"],[1.0,\"#f0f921\"]]}],\"heatmapgl\":[{\"type\":\"heatmapgl\",\"colorbar\":{\"outlinewidth\":0,\"ticks\":\"\"},\"colorscale\":[[0.0,\"#0d0887\"],[0.1111111111111111,\"#46039f\"],[0.2222222222222222,\"#7201a8\"],[0.3333333333333333,\"#9c179e\"],[0.4444444444444444,\"#bd3786\"],[0.5555555555555556,\"#d8576b\"],[0.6666666666666666,\"#ed7953\"],[0.7777777777777778,\"#fb9f3a\"],[0.8888888888888888,\"#fdca26\"],[1.0,\"#f0f921\"]]}],\"contourcarpet\":[{\"type\":\"contourcarpet\",\"colorbar\":{\"outlinewidth\":0,\"ticks\":\"\"}}],\"contour\":[{\"type\":\"contour\",\"colorbar\":{\"outlinewidth\":0,\"ticks\":\"\"},\"colorscale\":[[0.0,\"#0d0887\"],[0.1111111111111111,\"#46039f\"],[0.2222222222222222,\"#7201a8\"],[0.3333333333333333,\"#9c179e\"],[0.4444444444444444,\"#bd3786\"],[0.5555555555555556,\"#d8576b\"],[0.6666666666666666,\"#ed7953\"],[0.7777777777777778,\"#fb9f3a\"],[0.8888888888888888,\"#fdca26\"],[1.0,\"#f0f921\"]]}],\"surface\":[{\"type\":\"surface\",\"colorbar\":{\"outlinewidth\":0,\"ticks\":\"\"},\"colorscale\":[[0.0,\"#0d0887\"],[0.1111111111111111,\"#46039f\"],[0.2222222222222222,\"#7201a8\"],[0.3333333333333333,\"#9c179e\"],[0.4444444444444444,\"#bd3786\"],[0.5555555555555556,\"#d8576b\"],[0.6666666666666666,\"#ed7953\"],[0.7777777777777778,\"#fb9f3a\"],[0.8888888888888888,\"#fdca26\"],[1.0,\"#f0f921\"]]}],\"mesh3d\":[{\"type\":\"mesh3d\",\"colorbar\":{\"outlinewidth\":0,\"ticks\":\"\"}}],\"scatter\":[{\"fillpattern\":{\"fillmode\":\"overlay\",\"size\":10,\"solidity\":0.2},\"type\":\"scatter\"}],\"parcoords\":[{\"type\":\"parcoords\",\"line\":{\"colorbar\":{\"outlinewidth\":0,\"ticks\":\"\"}}}],\"scatterpolargl\":[{\"type\":\"scatterpolargl\",\"marker\":{\"colorbar\":{\"outlinewidth\":0,\"ticks\":\"\"}}}],\"bar\":[{\"error_x\":{\"color\":\"#2a3f5f\"},\"error_y\":{\"color\":\"#2a3f5f\"},\"marker\":{\"line\":{\"color\":\"#E5ECF6\",\"width\":0.5},\"pattern\":{\"fillmode\":\"overlay\",\"size\":10,\"solidity\":0.2}},\"type\":\"bar\"}],\"scattergeo\":[{\"type\":\"scattergeo\",\"marker\":{\"colorbar\":{\"outlinewidth\":0,\"ticks\":\"\"}}}],\"scatterpolar\":[{\"type\":\"scatterpolar\",\"marker\":{\"colorbar\":{\"outlinewidth\":0,\"ticks\":\"\"}}}],\"histogram\":[{\"marker\":{\"pattern\":{\"fillmode\":\"overlay\",\"size\":10,\"solidity\":0.2}},\"type\":\"histogram\"}],\"scattergl\":[{\"type\":\"scattergl\",\"marker\":{\"colorbar\":{\"outlinewidth\":0,\"ticks\":\"\"}}}],\"scatter3d\":[{\"type\":\"scatter3d\",\"line\":{\"colorbar\":{\"outlinewidth\":0,\"ticks\":\"\"}},\"marker\":{\"colorbar\":{\"outlinewidth\":0,\"ticks\":\"\"}}}],\"scattermapbox\":[{\"type\":\"scattermapbox\",\"marker\":{\"colorbar\":{\"outlinewidth\":0,\"ticks\":\"\"}}}],\"scatterternary\":[{\"type\":\"scatterternary\",\"marker\":{\"colorbar\":{\"outlinewidth\":0,\"ticks\":\"\"}}}],\"scattercarpet\":[{\"type\":\"scattercarpet\",\"marker\":{\"colorbar\":{\"outlinewidth\":0,\"ticks\":\"\"}}}],\"carpet\":[{\"aaxis\":{\"endlinecolor\":\"#2a3f5f\",\"gridcolor\":\"white\",\"linecolor\":\"white\",\"minorgridcolor\":\"white\",\"startlinecolor\":\"#2a3f5f\"},\"baxis\":{\"endlinecolor\":\"#2a3f5f\",\"gridcolor\":\"white\",\"linecolor\":\"white\",\"minorgridcolor\":\"white\",\"startlinecolor\":\"#2a3f5f\"},\"type\":\"carpet\"}],\"table\":[{\"cells\":{\"fill\":{\"color\":\"#EBF0F8\"},\"line\":{\"color\":\"white\"}},\"header\":{\"fill\":{\"color\":\"#C8D4E3\"},\"line\":{\"color\":\"white\"}},\"type\":\"table\"}],\"barpolar\":[{\"marker\":{\"line\":{\"color\":\"#E5ECF6\",\"width\":0.5},\"pattern\":{\"fillmode\":\"overlay\",\"size\":10,\"solidity\":0.2}},\"type\":\"barpolar\"}],\"pie\":[{\"automargin\":true,\"type\":\"pie\"}]},\"layout\":{\"autotypenumbers\":\"strict\",\"colorway\":[\"#636efa\",\"#EF553B\",\"#00cc96\",\"#ab63fa\",\"#FFA15A\",\"#19d3f3\",\"#FF6692\",\"#B6E880\",\"#FF97FF\",\"#FECB52\"],\"font\":{\"color\":\"#2a3f5f\"},\"hovermode\":\"closest\",\"hoverlabel\":{\"align\":\"left\"},\"paper_bgcolor\":\"white\",\"plot_bgcolor\":\"#E5ECF6\",\"polar\":{\"bgcolor\":\"#E5ECF6\",\"angularaxis\":{\"gridcolor\":\"white\",\"linecolor\":\"white\",\"ticks\":\"\"},\"radialaxis\":{\"gridcolor\":\"white\",\"linecolor\":\"white\",\"ticks\":\"\"}},\"ternary\":{\"bgcolor\":\"#E5ECF6\",\"aaxis\":{\"gridcolor\":\"white\",\"linecolor\":\"white\",\"ticks\":\"\"},\"baxis\":{\"gridcolor\":\"white\",\"linecolor\":\"white\",\"ticks\":\"\"},\"caxis\":{\"gridcolor\":\"white\",\"linecolor\":\"white\",\"ticks\":\"\"}},\"coloraxis\":{\"colorbar\":{\"outlinewidth\":0,\"ticks\":\"\"}},\"colorscale\":{\"sequential\":[[0.0,\"#0d0887\"],[0.1111111111111111,\"#46039f\"],[0.2222222222222222,\"#7201a8\"],[0.3333333333333333,\"#9c179e\"],[0.4444444444444444,\"#bd3786\"],[0.5555555555555556,\"#d8576b\"],[0.6666666666666666,\"#ed7953\"],[0.7777777777777778,\"#fb9f3a\"],[0.8888888888888888,\"#fdca26\"],[1.0,\"#f0f921\"]],\"sequentialminus\":[[0.0,\"#0d0887\"],[0.1111111111111111,\"#46039f\"],[0.2222222222222222,\"#7201a8\"],[0.3333333333333333,\"#9c179e\"],[0.4444444444444444,\"#bd3786\"],[0.5555555555555556,\"#d8576b\"],[0.6666666666666666,\"#ed7953\"],[0.7777777777777778,\"#fb9f3a\"],[0.8888888888888888,\"#fdca26\"],[1.0,\"#f0f921\"]],\"diverging\":[[0,\"#8e0152\"],[0.1,\"#c51b7d\"],[0.2,\"#de77ae\"],[0.3,\"#f1b6da\"],[0.4,\"#fde0ef\"],[0.5,\"#f7f7f7\"],[0.6,\"#e6f5d0\"],[0.7,\"#b8e186\"],[0.8,\"#7fbc41\"],[0.9,\"#4d9221\"],[1,\"#276419\"]]},\"xaxis\":{\"gridcolor\":\"white\",\"linecolor\":\"white\",\"ticks\":\"\",\"title\":{\"standoff\":15},\"zerolinecolor\":\"white\",\"automargin\":true,\"zerolinewidth\":2},\"yaxis\":{\"gridcolor\":\"white\",\"linecolor\":\"white\",\"ticks\":\"\",\"title\":{\"standoff\":15},\"zerolinecolor\":\"white\",\"automargin\":true,\"zerolinewidth\":2},\"scene\":{\"xaxis\":{\"backgroundcolor\":\"#E5ECF6\",\"gridcolor\":\"white\",\"linecolor\":\"white\",\"showbackground\":true,\"ticks\":\"\",\"zerolinecolor\":\"white\",\"gridwidth\":2},\"yaxis\":{\"backgroundcolor\":\"#E5ECF6\",\"gridcolor\":\"white\",\"linecolor\":\"white\",\"showbackground\":true,\"ticks\":\"\",\"zerolinecolor\":\"white\",\"gridwidth\":2},\"zaxis\":{\"backgroundcolor\":\"#E5ECF6\",\"gridcolor\":\"white\",\"linecolor\":\"white\",\"showbackground\":true,\"ticks\":\"\",\"zerolinecolor\":\"white\",\"gridwidth\":2}},\"shapedefaults\":{\"line\":{\"color\":\"#2a3f5f\"}},\"annotationdefaults\":{\"arrowcolor\":\"#2a3f5f\",\"arrowhead\":0,\"arrowwidth\":1},\"geo\":{\"bgcolor\":\"white\",\"landcolor\":\"#E5ECF6\",\"subunitcolor\":\"white\",\"showland\":true,\"showlakes\":true,\"lakecolor\":\"white\"},\"title\":{\"x\":0.05},\"mapbox\":{\"style\":\"light\"}}}},                        {\"responsive\": true}                    ).then(function(){\n",
       "                            \n",
       "var gd = document.getElementById('66b75ba0-75c3-480b-8cb2-4f9374b2aa38');\n",
       "var x = new MutationObserver(function (mutations, observer) {{\n",
       "        var display = window.getComputedStyle(gd).display;\n",
       "        if (!display || display === 'none') {{\n",
       "            console.log([gd, 'removed!']);\n",
       "            Plotly.purge(gd);\n",
       "            observer.disconnect();\n",
       "        }}\n",
       "}});\n",
       "\n",
       "// Listen for the removal of the full notebook cells\n",
       "var notebookContainer = gd.closest('#notebook-container');\n",
       "if (notebookContainer) {{\n",
       "    x.observe(notebookContainer, {childList: true});\n",
       "}}\n",
       "\n",
       "// Listen for the clearing of the current output cell\n",
       "var outputEl = gd.closest('.output');\n",
       "if (outputEl) {{\n",
       "    x.observe(outputEl, {childList: true});\n",
       "}}\n",
       "\n",
       "                        })                };                });            </script>        </div>"
      ]
     },
     "metadata": {},
     "output_type": "display_data"
    }
   ],
   "source": [
    "optuna.visualization.plot_optimization_history(study_lgb)"
   ]
  },
  {
   "cell_type": "code",
   "execution_count": 34,
   "metadata": {},
   "outputs": [],
   "source": [
    "def create_fit_lgb(study, x, y):\n",
    "\n",
    "    model = lgb.LGBMClassifier(\n",
    "        **study.best_params, \n",
    "        n_estimators = study.best_trial.user_attrs['iterations'],\n",
    "        verbosity=-1\n",
    "    )\n",
    "    model.fit(x, y)\n",
    "\n",
    "    return model\n",
    "\n",
    "model_lgb = create_fit_lgb(study_lgb, X_train, y_train)"
   ]
  },
  {
   "cell_type": "code",
   "execution_count": 35,
   "metadata": {},
   "outputs": [
    {
     "name": "stdout",
     "output_type": "stream",
     "text": [
      "-------------------- Evaulation scores --------------------\n",
      "\n",
      "              precision    recall  f1-score   support\n",
      "\n",
      "           0       1.00      1.00      1.00     56864\n",
      "           1       0.96      0.80      0.87        98\n",
      "\n",
      "    accuracy                           1.00     56962\n",
      "   macro avg       0.98      0.90      0.94     56962\n",
      "weighted avg       1.00      1.00      1.00     56962\n",
      "\n",
      "-----------------------------------------------------------\n",
      "AUCPR score: 0.8844\n",
      "\n",
      "-----------------------------------------------------------\n",
      "Metrics when different threshold is used on test data: \n"
     ]
    },
    {
     "data": {
      "text/html": [
       "<div>\n",
       "<style scoped>\n",
       "    .dataframe tbody tr th:only-of-type {\n",
       "        vertical-align: middle;\n",
       "    }\n",
       "\n",
       "    .dataframe tbody tr th {\n",
       "        vertical-align: top;\n",
       "    }\n",
       "\n",
       "    .dataframe thead th {\n",
       "        text-align: right;\n",
       "    }\n",
       "</style>\n",
       "<table border=\"1\" class=\"dataframe\">\n",
       "  <thead>\n",
       "    <tr style=\"text-align: right;\">\n",
       "      <th></th>\n",
       "      <th>threshold</th>\n",
       "      <th>precision</th>\n",
       "      <th>recall</th>\n",
       "      <th>FN</th>\n",
       "      <th>FP</th>\n",
       "      <th>TP</th>\n",
       "      <th>TN</th>\n",
       "    </tr>\n",
       "  </thead>\n",
       "  <tbody>\n",
       "    <tr>\n",
       "      <th>0</th>\n",
       "      <td>0.1</td>\n",
       "      <td>0.986111</td>\n",
       "      <td>0.724490</td>\n",
       "      <td>27</td>\n",
       "      <td>1</td>\n",
       "      <td>71</td>\n",
       "      <td>56863</td>\n",
       "    </tr>\n",
       "    <tr>\n",
       "      <th>1</th>\n",
       "      <td>0.2</td>\n",
       "      <td>0.973684</td>\n",
       "      <td>0.755102</td>\n",
       "      <td>24</td>\n",
       "      <td>2</td>\n",
       "      <td>74</td>\n",
       "      <td>56862</td>\n",
       "    </tr>\n",
       "    <tr>\n",
       "      <th>2</th>\n",
       "      <td>0.3</td>\n",
       "      <td>0.962025</td>\n",
       "      <td>0.775510</td>\n",
       "      <td>22</td>\n",
       "      <td>3</td>\n",
       "      <td>76</td>\n",
       "      <td>56861</td>\n",
       "    </tr>\n",
       "    <tr>\n",
       "      <th>3</th>\n",
       "      <td>0.4</td>\n",
       "      <td>0.962500</td>\n",
       "      <td>0.785714</td>\n",
       "      <td>21</td>\n",
       "      <td>3</td>\n",
       "      <td>77</td>\n",
       "      <td>56861</td>\n",
       "    </tr>\n",
       "    <tr>\n",
       "      <th>4</th>\n",
       "      <td>0.5</td>\n",
       "      <td>0.962963</td>\n",
       "      <td>0.795918</td>\n",
       "      <td>20</td>\n",
       "      <td>3</td>\n",
       "      <td>78</td>\n",
       "      <td>56861</td>\n",
       "    </tr>\n",
       "    <tr>\n",
       "      <th>5</th>\n",
       "      <td>0.6</td>\n",
       "      <td>0.963855</td>\n",
       "      <td>0.816327</td>\n",
       "      <td>18</td>\n",
       "      <td>3</td>\n",
       "      <td>80</td>\n",
       "      <td>56861</td>\n",
       "    </tr>\n",
       "    <tr>\n",
       "      <th>6</th>\n",
       "      <td>0.7</td>\n",
       "      <td>0.942529</td>\n",
       "      <td>0.836735</td>\n",
       "      <td>16</td>\n",
       "      <td>5</td>\n",
       "      <td>82</td>\n",
       "      <td>56859</td>\n",
       "    </tr>\n",
       "    <tr>\n",
       "      <th>7</th>\n",
       "      <td>0.8</td>\n",
       "      <td>0.942529</td>\n",
       "      <td>0.836735</td>\n",
       "      <td>16</td>\n",
       "      <td>5</td>\n",
       "      <td>82</td>\n",
       "      <td>56859</td>\n",
       "    </tr>\n",
       "    <tr>\n",
       "      <th>8</th>\n",
       "      <td>0.9</td>\n",
       "      <td>0.892473</td>\n",
       "      <td>0.846939</td>\n",
       "      <td>15</td>\n",
       "      <td>10</td>\n",
       "      <td>83</td>\n",
       "      <td>56854</td>\n",
       "    </tr>\n",
       "  </tbody>\n",
       "</table>\n",
       "</div>"
      ],
      "text/plain": [
       "   threshold  precision    recall  FN  FP  TP     TN\n",
       "0        0.1   0.986111  0.724490  27   1  71  56863\n",
       "1        0.2   0.973684  0.755102  24   2  74  56862\n",
       "2        0.3   0.962025  0.775510  22   3  76  56861\n",
       "3        0.4   0.962500  0.785714  21   3  77  56861\n",
       "4        0.5   0.962963  0.795918  20   3  78  56861\n",
       "5        0.6   0.963855  0.816327  18   3  80  56861\n",
       "6        0.7   0.942529  0.836735  16   5  82  56859\n",
       "7        0.8   0.942529  0.836735  16   5  82  56859\n",
       "8        0.9   0.892473  0.846939  15  10  83  56854"
      ]
     },
     "metadata": {},
     "output_type": "display_data"
    },
    {
     "name": "stdout",
     "output_type": "stream",
     "text": [
      "\n",
      "\n"
     ]
    },
    {
     "data": {
      "image/png": "[encoded data removed]",
      "text/plain": [
       "<Figure size 500x500 with 1 Axes>"
      ]
     },
     "metadata": {},
     "output_type": "display_data"
    }
   ],
   "source": [
    "result_lgb = evaluate_model(model_lgb, X_test, y_test)"
   ]
  },
  {
   "cell_type": "code",
   "execution_count": 36,
   "metadata": {},
   "outputs": [
    {
     "data": {
      "text/plain": [
       "<lightgbm.basic.Booster at 0x7f7715843b90>"
      ]
     },
     "execution_count": 36,
     "metadata": {},
     "output_type": "execute_result"
    }
   ],
   "source": [
    "model_lgb.booster_.save_model(os.path.join(FOLDER_TO_SAVE_MODELS,f\"LGB-{datetime.now().strftime('%Y%m%d')}.txt\"))\n",
    "\n",
    "# Example to load model\n",
    "# loaded_model_lgb = lgb.Booster(model_file='mode.txt')"
   ]
  },
  {
   "cell_type": "markdown",
   "metadata": {},
   "source": [
    "### Model comparison"
   ]
  },
  {
   "cell_type": "code",
   "execution_count": 37,
   "metadata": {},
   "outputs": [
    {
     "data": {
      "image/png": "[encoded data removed]",
      "text/plain": [
       "<Figure size 640x480 with 1 Axes>"
      ]
     },
     "metadata": {},
     "output_type": "display_data"
    }
   ],
   "source": [
    "results= {\n",
    "    'Random Forest':result_rf,\n",
    "    'XGB':result_xgb,\n",
    "    'CatBoost':result_cb,\n",
    "    'LGBM':result_lgb\n",
    "}\n",
    "\n",
    "f,ax = plt.subplots(1)\n",
    "\n",
    "for result in results.items():\n",
    "    ax.plot(result[1][2], result[1][3], label=result[0])\n",
    "\n",
    "ax.set_xlabel('Recall')\n",
    "ax.set_ylabel('Precision')\n",
    "ax.set_title('Precision-Recall curve')\n",
    "\n",
    "ax.legend(loc='lower left')\n",
    "plt.show()"
   ]
  },
  {
   "cell_type": "code",
   "execution_count": 38,
   "metadata": {},
   "outputs": [
    {
     "data": {
      "text/html": [
       "<div>\n",
       "<style scoped>\n",
       "    .dataframe tbody tr th:only-of-type {\n",
       "        vertical-align: middle;\n",
       "    }\n",
       "\n",
       "    .dataframe tbody tr th {\n",
       "        vertical-align: top;\n",
       "    }\n",
       "\n",
       "    .dataframe thead th {\n",
       "        text-align: right;\n",
       "    }\n",
       "</style>\n",
       "<table border=\"1\" class=\"dataframe\">\n",
       "  <thead>\n",
       "    <tr style=\"text-align: right;\">\n",
       "      <th></th>\n",
       "      <th>AUCPR score</th>\n",
       "    </tr>\n",
       "  </thead>\n",
       "  <tbody>\n",
       "    <tr>\n",
       "      <th>Random Forest</th>\n",
       "      <td>0.883348</td>\n",
       "    </tr>\n",
       "    <tr>\n",
       "      <th>XGB</th>\n",
       "      <td>0.886406</td>\n",
       "    </tr>\n",
       "    <tr>\n",
       "      <th>CatBoost</th>\n",
       "      <td>0.883897</td>\n",
       "    </tr>\n",
       "    <tr>\n",
       "      <th>LGBM</th>\n",
       "      <td>0.884416</td>\n",
       "    </tr>\n",
       "  </tbody>\n",
       "</table>\n",
       "</div>"
      ],
      "text/plain": [
       "               AUCPR score\n",
       "Random Forest     0.883348\n",
       "XGB               0.886406\n",
       "CatBoost          0.883897\n",
       "LGBM              0.884416"
      ]
     },
     "execution_count": 38,
     "metadata": {},
     "output_type": "execute_result"
    }
   ],
   "source": [
    "aucpr_dict = dict()\n",
    "for result in results.items():\n",
    "    aucpr_dict[result[0]] = [result[1][1]]\n",
    "\n",
    "aucpr_df = pd.DataFrame(aucpr_dict).T\n",
    "aucpr_df.columns = ['AUCPR score']\n",
    "aucpr_df"
   ]
  },
  {
   "cell_type": "code",
   "execution_count": 39,
   "metadata": {},
   "outputs": [
    {
     "data": {
      "text/html": [
       "<div>\n",
       "<style scoped>\n",
       "    .dataframe tbody tr th:only-of-type {\n",
       "        vertical-align: middle;\n",
       "    }\n",
       "\n",
       "    .dataframe tbody tr th {\n",
       "        vertical-align: top;\n",
       "    }\n",
       "\n",
       "    .dataframe thead tr th {\n",
       "        text-align: left;\n",
       "    }\n",
       "</style>\n",
       "<table border=\"1\" class=\"dataframe\">\n",
       "  <thead>\n",
       "    <tr>\n",
       "      <th></th>\n",
       "      <th></th>\n",
       "      <th colspan=\"2\" halign=\"left\">Random Forest</th>\n",
       "      <th colspan=\"2\" halign=\"left\">XGB</th>\n",
       "      <th colspan=\"2\" halign=\"left\">CatBoost</th>\n",
       "      <th colspan=\"2\" halign=\"left\">LGBM</th>\n",
       "    </tr>\n",
       "    <tr>\n",
       "      <th></th>\n",
       "      <th>threshold</th>\n",
       "      <th>precision</th>\n",
       "      <th>recall</th>\n",
       "      <th>precision</th>\n",
       "      <th>recall</th>\n",
       "      <th>precision</th>\n",
       "      <th>recall</th>\n",
       "      <th>precision</th>\n",
       "      <th>recall</th>\n",
       "    </tr>\n",
       "  </thead>\n",
       "  <tbody>\n",
       "    <tr>\n",
       "      <th>0</th>\n",
       "      <td>0.1</td>\n",
       "      <td>0.957143</td>\n",
       "      <td>0.683673</td>\n",
       "      <td>0.952381</td>\n",
       "      <td>0.816327</td>\n",
       "      <td>0.855556</td>\n",
       "      <td>0.785714</td>\n",
       "      <td>0.986111</td>\n",
       "      <td>0.724490</td>\n",
       "    </tr>\n",
       "    <tr>\n",
       "      <th>1</th>\n",
       "      <td>0.2</td>\n",
       "      <td>0.961039</td>\n",
       "      <td>0.755102</td>\n",
       "      <td>0.931818</td>\n",
       "      <td>0.836735</td>\n",
       "      <td>0.847826</td>\n",
       "      <td>0.795918</td>\n",
       "      <td>0.973684</td>\n",
       "      <td>0.755102</td>\n",
       "    </tr>\n",
       "    <tr>\n",
       "      <th>2</th>\n",
       "      <td>0.3</td>\n",
       "      <td>0.951220</td>\n",
       "      <td>0.795918</td>\n",
       "      <td>0.912088</td>\n",
       "      <td>0.846939</td>\n",
       "      <td>0.847826</td>\n",
       "      <td>0.795918</td>\n",
       "      <td>0.962025</td>\n",
       "      <td>0.775510</td>\n",
       "    </tr>\n",
       "    <tr>\n",
       "      <th>3</th>\n",
       "      <td>0.4</td>\n",
       "      <td>0.910112</td>\n",
       "      <td>0.826531</td>\n",
       "      <td>0.902174</td>\n",
       "      <td>0.846939</td>\n",
       "      <td>0.843750</td>\n",
       "      <td>0.826531</td>\n",
       "      <td>0.962500</td>\n",
       "      <td>0.785714</td>\n",
       "    </tr>\n",
       "    <tr>\n",
       "      <th>4</th>\n",
       "      <td>0.5</td>\n",
       "      <td>0.864583</td>\n",
       "      <td>0.846939</td>\n",
       "      <td>0.903226</td>\n",
       "      <td>0.857143</td>\n",
       "      <td>0.840000</td>\n",
       "      <td>0.857143</td>\n",
       "      <td>0.962963</td>\n",
       "      <td>0.795918</td>\n",
       "    </tr>\n",
       "    <tr>\n",
       "      <th>5</th>\n",
       "      <td>0.6</td>\n",
       "      <td>0.850000</td>\n",
       "      <td>0.867347</td>\n",
       "      <td>0.825243</td>\n",
       "      <td>0.867347</td>\n",
       "      <td>0.831683</td>\n",
       "      <td>0.857143</td>\n",
       "      <td>0.963855</td>\n",
       "      <td>0.816327</td>\n",
       "    </tr>\n",
       "    <tr>\n",
       "      <th>6</th>\n",
       "      <td>0.7</td>\n",
       "      <td>0.809524</td>\n",
       "      <td>0.867347</td>\n",
       "      <td>0.796296</td>\n",
       "      <td>0.877551</td>\n",
       "      <td>0.801887</td>\n",
       "      <td>0.867347</td>\n",
       "      <td>0.942529</td>\n",
       "      <td>0.836735</td>\n",
       "    </tr>\n",
       "    <tr>\n",
       "      <th>7</th>\n",
       "      <td>0.8</td>\n",
       "      <td>0.761062</td>\n",
       "      <td>0.877551</td>\n",
       "      <td>0.739496</td>\n",
       "      <td>0.897959</td>\n",
       "      <td>0.743590</td>\n",
       "      <td>0.887755</td>\n",
       "      <td>0.942529</td>\n",
       "      <td>0.836735</td>\n",
       "    </tr>\n",
       "    <tr>\n",
       "      <th>8</th>\n",
       "      <td>0.9</td>\n",
       "      <td>0.666667</td>\n",
       "      <td>0.897959</td>\n",
       "      <td>0.637681</td>\n",
       "      <td>0.897959</td>\n",
       "      <td>0.640288</td>\n",
       "      <td>0.908163</td>\n",
       "      <td>0.892473</td>\n",
       "      <td>0.846939</td>\n",
       "    </tr>\n",
       "  </tbody>\n",
       "</table>\n",
       "</div>"
      ],
      "text/plain": [
       "            Random Forest                 XGB            CatBoost            \\\n",
       "  threshold     precision    recall precision    recall precision    recall   \n",
       "0       0.1      0.957143  0.683673  0.952381  0.816327  0.855556  0.785714   \n",
       "1       0.2      0.961039  0.755102  0.931818  0.836735  0.847826  0.795918   \n",
       "2       0.3      0.951220  0.795918  0.912088  0.846939  0.847826  0.795918   \n",
       "3       0.4      0.910112  0.826531  0.902174  0.846939  0.843750  0.826531   \n",
       "4       0.5      0.864583  0.846939  0.903226  0.857143  0.840000  0.857143   \n",
       "5       0.6      0.850000  0.867347  0.825243  0.867347  0.831683  0.857143   \n",
       "6       0.7      0.809524  0.867347  0.796296  0.877551  0.801887  0.867347   \n",
       "7       0.8      0.761062  0.877551  0.739496  0.897959  0.743590  0.887755   \n",
       "8       0.9      0.666667  0.897959  0.637681  0.897959  0.640288  0.908163   \n",
       "\n",
       "       LGBM            \n",
       "  precision    recall  \n",
       "0  0.986111  0.724490  \n",
       "1  0.973684  0.755102  \n",
       "2  0.962025  0.775510  \n",
       "3  0.962500  0.785714  \n",
       "4  0.962963  0.795918  \n",
       "5  0.963855  0.816327  \n",
       "6  0.942529  0.836735  \n",
       "7  0.942529  0.836735  \n",
       "8  0.892473  0.846939  "
      ]
     },
     "execution_count": 39,
     "metadata": {},
     "output_type": "execute_result"
    }
   ],
   "source": [
    "def create_df(results_dict, relevant_cols):\n",
    "    # Initialize an empty dataframe\n",
    "    merged_df = pd.DataFrame()\n",
    "\n",
    "    # Iterate through the list of tuples and merge the dataframes\n",
    "    for name, df in [(result[0], result[1][0]) for result in results_dict.items()]:\n",
    "        if merged_df.empty:\n",
    "            merged_df = df[['threshold']].copy()\n",
    "            merged_df.columns = pd.MultiIndex.from_tuples([('', col) for col in merged_df.columns])\n",
    "        \n",
    "        df = df[relevant_cols]\n",
    "        df.columns = pd.MultiIndex.from_tuples([(name, col) for col in df.columns])\n",
    "        merged_df = merged_df.merge(df, left_index=True, right_index=True, how='outer')\n",
    "        \n",
    "    return merged_df\n",
    "\n",
    "create_df(results_dict=results, relevant_cols=['precision','recall'])    "
   ]
  },
  {
   "cell_type": "code",
   "execution_count": 40,
   "metadata": {},
   "outputs": [
    {
     "data": {
      "text/html": [
       "<div>\n",
       "<style scoped>\n",
       "    .dataframe tbody tr th:only-of-type {\n",
       "        vertical-align: middle;\n",
       "    }\n",
       "\n",
       "    .dataframe tbody tr th {\n",
       "        vertical-align: top;\n",
       "    }\n",
       "\n",
       "    .dataframe thead tr th {\n",
       "        text-align: left;\n",
       "    }\n",
       "</style>\n",
       "<table border=\"1\" class=\"dataframe\">\n",
       "  <thead>\n",
       "    <tr>\n",
       "      <th></th>\n",
       "      <th></th>\n",
       "      <th colspan=\"4\" halign=\"left\">Random Forest</th>\n",
       "      <th colspan=\"4\" halign=\"left\">XGB</th>\n",
       "      <th colspan=\"4\" halign=\"left\">CatBoost</th>\n",
       "      <th colspan=\"4\" halign=\"left\">LGBM</th>\n",
       "    </tr>\n",
       "    <tr>\n",
       "      <th></th>\n",
       "      <th>threshold</th>\n",
       "      <th>FN</th>\n",
       "      <th>FP</th>\n",
       "      <th>TP</th>\n",
       "      <th>TN</th>\n",
       "      <th>FN</th>\n",
       "      <th>FP</th>\n",
       "      <th>TP</th>\n",
       "      <th>TN</th>\n",
       "      <th>FN</th>\n",
       "      <th>FP</th>\n",
       "      <th>TP</th>\n",
       "      <th>TN</th>\n",
       "      <th>FN</th>\n",
       "      <th>FP</th>\n",
       "      <th>TP</th>\n",
       "      <th>TN</th>\n",
       "    </tr>\n",
       "  </thead>\n",
       "  <tbody>\n",
       "    <tr>\n",
       "      <th>0</th>\n",
       "      <td>0.1</td>\n",
       "      <td>31</td>\n",
       "      <td>3</td>\n",
       "      <td>67</td>\n",
       "      <td>56861</td>\n",
       "      <td>18</td>\n",
       "      <td>4</td>\n",
       "      <td>80</td>\n",
       "      <td>56860</td>\n",
       "      <td>21</td>\n",
       "      <td>13</td>\n",
       "      <td>77</td>\n",
       "      <td>56851</td>\n",
       "      <td>27</td>\n",
       "      <td>1</td>\n",
       "      <td>71</td>\n",
       "      <td>56863</td>\n",
       "    </tr>\n",
       "    <tr>\n",
       "      <th>1</th>\n",
       "      <td>0.2</td>\n",
       "      <td>24</td>\n",
       "      <td>3</td>\n",
       "      <td>74</td>\n",
       "      <td>56861</td>\n",
       "      <td>16</td>\n",
       "      <td>6</td>\n",
       "      <td>82</td>\n",
       "      <td>56858</td>\n",
       "      <td>20</td>\n",
       "      <td>14</td>\n",
       "      <td>78</td>\n",
       "      <td>56850</td>\n",
       "      <td>24</td>\n",
       "      <td>2</td>\n",
       "      <td>74</td>\n",
       "      <td>56862</td>\n",
       "    </tr>\n",
       "    <tr>\n",
       "      <th>2</th>\n",
       "      <td>0.3</td>\n",
       "      <td>20</td>\n",
       "      <td>4</td>\n",
       "      <td>78</td>\n",
       "      <td>56860</td>\n",
       "      <td>15</td>\n",
       "      <td>8</td>\n",
       "      <td>83</td>\n",
       "      <td>56856</td>\n",
       "      <td>20</td>\n",
       "      <td>14</td>\n",
       "      <td>78</td>\n",
       "      <td>56850</td>\n",
       "      <td>22</td>\n",
       "      <td>3</td>\n",
       "      <td>76</td>\n",
       "      <td>56861</td>\n",
       "    </tr>\n",
       "    <tr>\n",
       "      <th>3</th>\n",
       "      <td>0.4</td>\n",
       "      <td>17</td>\n",
       "      <td>8</td>\n",
       "      <td>81</td>\n",
       "      <td>56856</td>\n",
       "      <td>15</td>\n",
       "      <td>9</td>\n",
       "      <td>83</td>\n",
       "      <td>56855</td>\n",
       "      <td>17</td>\n",
       "      <td>15</td>\n",
       "      <td>81</td>\n",
       "      <td>56849</td>\n",
       "      <td>21</td>\n",
       "      <td>3</td>\n",
       "      <td>77</td>\n",
       "      <td>56861</td>\n",
       "    </tr>\n",
       "    <tr>\n",
       "      <th>4</th>\n",
       "      <td>0.5</td>\n",
       "      <td>15</td>\n",
       "      <td>13</td>\n",
       "      <td>83</td>\n",
       "      <td>56851</td>\n",
       "      <td>14</td>\n",
       "      <td>9</td>\n",
       "      <td>84</td>\n",
       "      <td>56855</td>\n",
       "      <td>14</td>\n",
       "      <td>16</td>\n",
       "      <td>84</td>\n",
       "      <td>56848</td>\n",
       "      <td>20</td>\n",
       "      <td>3</td>\n",
       "      <td>78</td>\n",
       "      <td>56861</td>\n",
       "    </tr>\n",
       "    <tr>\n",
       "      <th>5</th>\n",
       "      <td>0.6</td>\n",
       "      <td>13</td>\n",
       "      <td>15</td>\n",
       "      <td>85</td>\n",
       "      <td>56849</td>\n",
       "      <td>13</td>\n",
       "      <td>18</td>\n",
       "      <td>85</td>\n",
       "      <td>56846</td>\n",
       "      <td>14</td>\n",
       "      <td>17</td>\n",
       "      <td>84</td>\n",
       "      <td>56847</td>\n",
       "      <td>18</td>\n",
       "      <td>3</td>\n",
       "      <td>80</td>\n",
       "      <td>56861</td>\n",
       "    </tr>\n",
       "    <tr>\n",
       "      <th>6</th>\n",
       "      <td>0.7</td>\n",
       "      <td>13</td>\n",
       "      <td>20</td>\n",
       "      <td>85</td>\n",
       "      <td>56844</td>\n",
       "      <td>12</td>\n",
       "      <td>22</td>\n",
       "      <td>86</td>\n",
       "      <td>56842</td>\n",
       "      <td>13</td>\n",
       "      <td>21</td>\n",
       "      <td>85</td>\n",
       "      <td>56843</td>\n",
       "      <td>16</td>\n",
       "      <td>5</td>\n",
       "      <td>82</td>\n",
       "      <td>56859</td>\n",
       "    </tr>\n",
       "    <tr>\n",
       "      <th>7</th>\n",
       "      <td>0.8</td>\n",
       "      <td>12</td>\n",
       "      <td>27</td>\n",
       "      <td>86</td>\n",
       "      <td>56837</td>\n",
       "      <td>10</td>\n",
       "      <td>31</td>\n",
       "      <td>88</td>\n",
       "      <td>56833</td>\n",
       "      <td>11</td>\n",
       "      <td>30</td>\n",
       "      <td>87</td>\n",
       "      <td>56834</td>\n",
       "      <td>16</td>\n",
       "      <td>5</td>\n",
       "      <td>82</td>\n",
       "      <td>56859</td>\n",
       "    </tr>\n",
       "    <tr>\n",
       "      <th>8</th>\n",
       "      <td>0.9</td>\n",
       "      <td>10</td>\n",
       "      <td>44</td>\n",
       "      <td>88</td>\n",
       "      <td>56820</td>\n",
       "      <td>10</td>\n",
       "      <td>50</td>\n",
       "      <td>88</td>\n",
       "      <td>56814</td>\n",
       "      <td>9</td>\n",
       "      <td>50</td>\n",
       "      <td>89</td>\n",
       "      <td>56814</td>\n",
       "      <td>15</td>\n",
       "      <td>10</td>\n",
       "      <td>83</td>\n",
       "      <td>56854</td>\n",
       "    </tr>\n",
       "  </tbody>\n",
       "</table>\n",
       "</div>"
      ],
      "text/plain": [
       "            Random Forest                XGB                CatBoost          \\\n",
       "  threshold            FN  FP  TP     TN  FN  FP  TP     TN       FN  FP  TP   \n",
       "0       0.1            31   3  67  56861  18   4  80  56860       21  13  77   \n",
       "1       0.2            24   3  74  56861  16   6  82  56858       20  14  78   \n",
       "2       0.3            20   4  78  56860  15   8  83  56856       20  14  78   \n",
       "3       0.4            17   8  81  56856  15   9  83  56855       17  15  81   \n",
       "4       0.5            15  13  83  56851  14   9  84  56855       14  16  84   \n",
       "5       0.6            13  15  85  56849  13  18  85  56846       14  17  84   \n",
       "6       0.7            13  20  85  56844  12  22  86  56842       13  21  85   \n",
       "7       0.8            12  27  86  56837  10  31  88  56833       11  30  87   \n",
       "8       0.9            10  44  88  56820  10  50  88  56814        9  50  89   \n",
       "\n",
       "         LGBM                 \n",
       "      TN   FN  FP  TP     TN  \n",
       "0  56851   27   1  71  56863  \n",
       "1  56850   24   2  74  56862  \n",
       "2  56850   22   3  76  56861  \n",
       "3  56849   21   3  77  56861  \n",
       "4  56848   20   3  78  56861  \n",
       "5  56847   18   3  80  56861  \n",
       "6  56843   16   5  82  56859  \n",
       "7  56834   16   5  82  56859  \n",
       "8  56814   15  10  83  56854  "
      ]
     },
     "execution_count": 40,
     "metadata": {},
     "output_type": "execute_result"
    }
   ],
   "source": [
    "create_df(results_dict=results, relevant_cols=['FN','FP','TP','TN'])    "
   ]
  },
  {
   "cell_type": "code",
   "execution_count": 52,
   "metadata": {},
   "outputs": [
    {
     "data": {
      "application/vnd.plotly.v1+json": {
       "config": {
        "plotlyServerURL": "https://plot.ly"
       },
       "data": [
        {
         "mode": "markers",
         "name": "Random Forest",
         "text": [
          "Random Forest at 0.1 threshold",
          "Random Forest at 0.2 threshold",
          "Random Forest at 0.3 threshold",
          "Random Forest at 0.4 threshold",
          "Random Forest at 0.5 threshold",
          "Random Forest at 0.6 threshold",
          "Random Forest at 0.7 threshold",
          "Random Forest at 0.8 threshold",
          "Random Forest at 0.9 threshold"
         ],
         "type": "scatter",
         "x": [
          3,
          3,
          4,
          8,
          13,
          15,
          20,
          27,
          44
         ],
         "y": [
          31,
          24,
          20,
          17,
          15,
          13,
          13,
          12,
          10
         ]
        },
        {
         "mode": "markers",
         "name": "XGB",
         "text": [
          "XGB at 0.1 threshold",
          "XGB at 0.2 threshold",
          "XGB at 0.3 threshold",
          "XGB at 0.4 threshold",
          "XGB at 0.5 threshold",
          "XGB at 0.6 threshold",
          "XGB at 0.7 threshold",
          "XGB at 0.8 threshold",
          "XGB at 0.9 threshold"
         ],
         "type": "scatter",
         "x": [
          4,
          6,
          8,
          9,
          9,
          18,
          22,
          31,
          50
         ],
         "y": [
          18,
          16,
          15,
          15,
          14,
          13,
          12,
          10,
          10
         ]
        },
        {
         "mode": "markers",
         "name": "CatBoost",
         "text": [
          "CatBoost at 0.1 threshold",
          "CatBoost at 0.2 threshold",
          "CatBoost at 0.3 threshold",
          "CatBoost at 0.4 threshold",
          "CatBoost at 0.5 threshold",
          "CatBoost at 0.6 threshold",
          "CatBoost at 0.7 threshold",
          "CatBoost at 0.8 threshold",
          "CatBoost at 0.9 threshold"
         ],
         "type": "scatter",
         "x": [
          13,
          14,
          14,
          15,
          16,
          17,
          21,
          30,
          50
         ],
         "y": [
          21,
          20,
          20,
          17,
          14,
          14,
          13,
          11,
          9
         ]
        },
        {
         "mode": "markers",
         "name": "LGBM",
         "text": [
          "LGBM at 0.1 threshold",
          "LGBM at 0.2 threshold",
          "LGBM at 0.3 threshold",
          "LGBM at 0.4 threshold",
          "LGBM at 0.5 threshold",
          "LGBM at 0.6 threshold",
          "LGBM at 0.7 threshold",
          "LGBM at 0.8 threshold",
          "LGBM at 0.9 threshold"
         ],
         "type": "scatter",
         "x": [
          1,
          2,
          3,
          3,
          3,
          3,
          5,
          5,
          10
         ],
         "y": [
          27,
          24,
          22,
          21,
          20,
          18,
          16,
          16,
          15
         ]
        }
       ],
       "layout": {
        "height": 600,
        "shapes": [
         {
          "fillcolor": "green",
          "opacity": 0.1,
          "type": "rect",
          "x0": 0,
          "x1": 50,
          "xref": "x",
          "y0": 0,
          "y1": 15,
          "yref": "y"
         },
         {
          "fillcolor": "green",
          "opacity": 0.1,
          "type": "rect",
          "x0": 0,
          "x1": 50,
          "xref": "x",
          "y0": 0,
          "y1": 15,
          "yref": "y"
         },
         {
          "fillcolor": "green",
          "opacity": 0.1,
          "type": "rect",
          "x0": 0,
          "x1": 50,
          "xref": "x",
          "y0": 0,
          "y1": 15,
          "yref": "y"
         },
         {
          "fillcolor": "green",
          "opacity": 0.1,
          "type": "rect",
          "x0": 0,
          "x1": 50,
          "xref": "x",
          "y0": 0,
          "y1": 15,
          "yref": "y"
         }
        ],
        "template": {
         "data": {
          "bar": [
           {
            "error_x": {
             "color": "#2a3f5f"
            },
            "error_y": {
             "color": "#2a3f5f"
            },
            "marker": {
             "line": {
              "color": "#E5ECF6",
              "width": 0.5
             },
             "pattern": {
              "fillmode": "overlay",
              "size": 10,
              "solidity": 0.2
             }
            },
            "type": "bar"
           }
          ],
          "barpolar": [
           {
            "marker": {
             "line": {
              "color": "#E5ECF6",
              "width": 0.5
             },
             "pattern": {
              "fillmode": "overlay",
              "size": 10,
              "solidity": 0.2
             }
            },
            "type": "barpolar"
           }
          ],
          "carpet": [
           {
            "aaxis": {
             "endlinecolor": "#2a3f5f",
             "gridcolor": "white",
             "linecolor": "white",
             "minorgridcolor": "white",
             "startlinecolor": "#2a3f5f"
            },
            "baxis": {
             "endlinecolor": "#2a3f5f",
             "gridcolor": "white",
             "linecolor": "white",
             "minorgridcolor": "white",
             "startlinecolor": "#2a3f5f"
            },
            "type": "carpet"
           }
          ],
          "choropleth": [
           {
            "colorbar": {
             "outlinewidth": 0,
             "ticks": ""
            },
            "type": "choropleth"
           }
          ],
          "contour": [
           {
            "colorbar": {
             "outlinewidth": 0,
             "ticks": ""
            },
            "colorscale": [
             [
              0,
              "#0d0887"
             ],
             [
              0.1111111111111111,
              "#46039f"
             ],
             [
              0.2222222222222222,
              "#7201a8"
             ],
             [
              0.3333333333333333,
              "#9c179e"
             ],
             [
              0.4444444444444444,
              "#bd3786"
             ],
             [
              0.5555555555555556,
              "#d8576b"
             ],
             [
              0.6666666666666666,
              "#ed7953"
             ],
             [
              0.7777777777777778,
              "#fb9f3a"
             ],
             [
              0.8888888888888888,
              "#fdca26"
             ],
             [
              1,
              "#f0f921"
             ]
            ],
            "type": "contour"
           }
          ],
          "contourcarpet": [
           {
            "colorbar": {
             "outlinewidth": 0,
             "ticks": ""
            },
            "type": "contourcarpet"
           }
          ],
          "heatmap": [
           {
            "colorbar": {
             "outlinewidth": 0,
             "ticks": ""
            },
            "colorscale": [
             [
              0,
              "#0d0887"
             ],
             [
              0.1111111111111111,
              "#46039f"
             ],
             [
              0.2222222222222222,
              "#7201a8"
             ],
             [
              0.3333333333333333,
              "#9c179e"
             ],
             [
              0.4444444444444444,
              "#bd3786"
             ],
             [
              0.5555555555555556,
              "#d8576b"
             ],
             [
              0.6666666666666666,
              "#ed7953"
             ],
             [
              0.7777777777777778,
              "#fb9f3a"
             ],
             [
              0.8888888888888888,
              "#fdca26"
             ],
             [
              1,
              "#f0f921"
             ]
            ],
            "type": "heatmap"
           }
          ],
          "heatmapgl": [
           {
            "colorbar": {
             "outlinewidth": 0,
             "ticks": ""
            },
            "colorscale": [
             [
              0,
              "#0d0887"
             ],
             [
              0.1111111111111111,
              "#46039f"
             ],
             [
              0.2222222222222222,
              "#7201a8"
             ],
             [
              0.3333333333333333,
              "#9c179e"
             ],
             [
              0.4444444444444444,
              "#bd3786"
             ],
             [
              0.5555555555555556,
              "#d8576b"
             ],
             [
              0.6666666666666666,
              "#ed7953"
             ],
             [
              0.7777777777777778,
              "#fb9f3a"
             ],
             [
              0.8888888888888888,
              "#fdca26"
             ],
             [
              1,
              "#f0f921"
             ]
            ],
            "type": "heatmapgl"
           }
          ],
          "histogram": [
           {
            "marker": {
             "pattern": {
              "fillmode": "overlay",
              "size": 10,
              "solidity": 0.2
             }
            },
            "type": "histogram"
           }
          ],
          "histogram2d": [
           {
            "colorbar": {
             "outlinewidth": 0,
             "ticks": ""
            },
            "colorscale": [
             [
              0,
              "#0d0887"
             ],
             [
              0.1111111111111111,
              "#46039f"
             ],
             [
              0.2222222222222222,
              "#7201a8"
             ],
             [
              0.3333333333333333,
              "#9c179e"
             ],
             [
              0.4444444444444444,
              "#bd3786"
             ],
             [
              0.5555555555555556,
              "#d8576b"
             ],
             [
              0.6666666666666666,
              "#ed7953"
             ],
             [
              0.7777777777777778,
              "#fb9f3a"
             ],
             [
              0.8888888888888888,
              "#fdca26"
             ],
             [
              1,
              "#f0f921"
             ]
            ],
            "type": "histogram2d"
           }
          ],
          "histogram2dcontour": [
           {
            "colorbar": {
             "outlinewidth": 0,
             "ticks": ""
            },
            "colorscale": [
             [
              0,
              "#0d0887"
             ],
             [
              0.1111111111111111,
              "#46039f"
             ],
             [
              0.2222222222222222,
              "#7201a8"
             ],
             [
              0.3333333333333333,
              "#9c179e"
             ],
             [
              0.4444444444444444,
              "#bd3786"
             ],
             [
              0.5555555555555556,
              "#d8576b"
             ],
             [
              0.6666666666666666,
              "#ed7953"
             ],
             [
              0.7777777777777778,
              "#fb9f3a"
             ],
             [
              0.8888888888888888,
              "#fdca26"
             ],
             [
              1,
              "#f0f921"
             ]
            ],
            "type": "histogram2dcontour"
           }
          ],
          "mesh3d": [
           {
            "colorbar": {
             "outlinewidth": 0,
             "ticks": ""
            },
            "type": "mesh3d"
           }
          ],
          "parcoords": [
           {
            "line": {
             "colorbar": {
              "outlinewidth": 0,
              "ticks": ""
             }
            },
            "type": "parcoords"
           }
          ],
          "pie": [
           {
            "automargin": true,
            "type": "pie"
           }
          ],
          "scatter": [
           {
            "fillpattern": {
             "fillmode": "overlay",
             "size": 10,
             "solidity": 0.2
            },
            "type": "scatter"
           }
          ],
          "scatter3d": [
           {
            "line": {
             "colorbar": {
              "outlinewidth": 0,
              "ticks": ""
             }
            },
            "marker": {
             "colorbar": {
              "outlinewidth": 0,
              "ticks": ""
             }
            },
            "type": "scatter3d"
           }
          ],
          "scattercarpet": [
           {
            "marker": {
             "colorbar": {
              "outlinewidth": 0,
              "ticks": ""
             }
            },
            "type": "scattercarpet"
           }
          ],
          "scattergeo": [
           {
            "marker": {
             "colorbar": {
              "outlinewidth": 0,
              "ticks": ""
             }
            },
            "type": "scattergeo"
           }
          ],
          "scattergl": [
           {
            "marker": {
             "colorbar": {
              "outlinewidth": 0,
              "ticks": ""
             }
            },
            "type": "scattergl"
           }
          ],
          "scattermapbox": [
           {
            "marker": {
             "colorbar": {
              "outlinewidth": 0,
              "ticks": ""
             }
            },
            "type": "scattermapbox"
           }
          ],
          "scatterpolar": [
           {
            "marker": {
             "colorbar": {
              "outlinewidth": 0,
              "ticks": ""
             }
            },
            "type": "scatterpolar"
           }
          ],
          "scatterpolargl": [
           {
            "marker": {
             "colorbar": {
              "outlinewidth": 0,
              "ticks": ""
             }
            },
            "type": "scatterpolargl"
           }
          ],
          "scatterternary": [
           {
            "marker": {
             "colorbar": {
              "outlinewidth": 0,
              "ticks": ""
             }
            },
            "type": "scatterternary"
           }
          ],
          "surface": [
           {
            "colorbar": {
             "outlinewidth": 0,
             "ticks": ""
            },
            "colorscale": [
             [
              0,
              "#0d0887"
             ],
             [
              0.1111111111111111,
              "#46039f"
             ],
             [
              0.2222222222222222,
              "#7201a8"
             ],
             [
              0.3333333333333333,
              "#9c179e"
             ],
             [
              0.4444444444444444,
              "#bd3786"
             ],
             [
              0.5555555555555556,
              "#d8576b"
             ],
             [
              0.6666666666666666,
              "#ed7953"
             ],
             [
              0.7777777777777778,
              "#fb9f3a"
             ],
             [
              0.8888888888888888,
              "#fdca26"
             ],
             [
              1,
              "#f0f921"
             ]
            ],
            "type": "surface"
           }
          ],
          "table": [
           {
            "cells": {
             "fill": {
              "color": "#EBF0F8"
             },
             "line": {
              "color": "white"
             }
            },
            "header": {
             "fill": {
              "color": "#C8D4E3"
             },
             "line": {
              "color": "white"
             }
            },
            "type": "table"
           }
          ]
         },
         "layout": {
          "annotationdefaults": {
           "arrowcolor": "#2a3f5f",
           "arrowhead": 0,
           "arrowwidth": 1
          },
          "autotypenumbers": "strict",
          "coloraxis": {
           "colorbar": {
            "outlinewidth": 0,
            "ticks": ""
           }
          },
          "colorscale": {
           "diverging": [
            [
             0,
             "#8e0152"
            ],
            [
             0.1,
             "#c51b7d"
            ],
            [
             0.2,
             "#de77ae"
            ],
            [
             0.3,
             "#f1b6da"
            ],
            [
             0.4,
             "#fde0ef"
            ],
            [
             0.5,
             "#f7f7f7"
            ],
            [
             0.6,
             "#e6f5d0"
            ],
            [
             0.7,
             "#b8e186"
            ],
            [
             0.8,
             "#7fbc41"
            ],
            [
             0.9,
             "#4d9221"
            ],
            [
             1,
             "#276419"
            ]
           ],
           "sequential": [
            [
             0,
             "#0d0887"
            ],
            [
             0.1111111111111111,
             "#46039f"
            ],
            [
             0.2222222222222222,
             "#7201a8"
            ],
            [
             0.3333333333333333,
             "#9c179e"
            ],
            [
             0.4444444444444444,
             "#bd3786"
            ],
            [
             0.5555555555555556,
             "#d8576b"
            ],
            [
             0.6666666666666666,
             "#ed7953"
            ],
            [
             0.7777777777777778,
             "#fb9f3a"
            ],
            [
             0.8888888888888888,
             "#fdca26"
            ],
            [
             1,
             "#f0f921"
            ]
           ],
           "sequentialminus": [
            [
             0,
             "#0d0887"
            ],
            [
             0.1111111111111111,
             "#46039f"
            ],
            [
             0.2222222222222222,
             "#7201a8"
            ],
            [
             0.3333333333333333,
             "#9c179e"
            ],
            [
             0.4444444444444444,
             "#bd3786"
            ],
            [
             0.5555555555555556,
             "#d8576b"
            ],
            [
             0.6666666666666666,
             "#ed7953"
            ],
            [
             0.7777777777777778,
             "#fb9f3a"
            ],
            [
             0.8888888888888888,
             "#fdca26"
            ],
            [
             1,
             "#f0f921"
            ]
           ]
          },
          "colorway": [
           "#636efa",
           "#EF553B",
           "#00cc96",
           "#ab63fa",
           "#FFA15A",
           "#19d3f3",
           "#FF6692",
           "#B6E880",
           "#FF97FF",
           "#FECB52"
          ],
          "font": {
           "color": "#2a3f5f"
          },
          "geo": {
           "bgcolor": "white",
           "lakecolor": "white",
           "landcolor": "#E5ECF6",
           "showlakes": true,
           "showland": true,
           "subunitcolor": "white"
          },
          "hoverlabel": {
           "align": "left"
          },
          "hovermode": "closest",
          "mapbox": {
           "style": "light"
          },
          "paper_bgcolor": "white",
          "plot_bgcolor": "#E5ECF6",
          "polar": {
           "angularaxis": {
            "gridcolor": "white",
            "linecolor": "white",
            "ticks": ""
           },
           "bgcolor": "#E5ECF6",
           "radialaxis": {
            "gridcolor": "white",
            "linecolor": "white",
            "ticks": ""
           }
          },
          "scene": {
           "xaxis": {
            "backgroundcolor": "#E5ECF6",
            "gridcolor": "white",
            "gridwidth": 2,
            "linecolor": "white",
            "showbackground": true,
            "ticks": "",
            "zerolinecolor": "white"
           },
           "yaxis": {
            "backgroundcolor": "#E5ECF6",
            "gridcolor": "white",
            "gridwidth": 2,
            "linecolor": "white",
            "showbackground": true,
            "ticks": "",
            "zerolinecolor": "white"
           },
           "zaxis": {
            "backgroundcolor": "#E5ECF6",
            "gridcolor": "white",
            "gridwidth": 2,
            "linecolor": "white",
            "showbackground": true,
            "ticks": "",
            "zerolinecolor": "white"
           }
          },
          "shapedefaults": {
           "line": {
            "color": "#2a3f5f"
           }
          },
          "ternary": {
           "aaxis": {
            "gridcolor": "white",
            "linecolor": "white",
            "ticks": ""
           },
           "baxis": {
            "gridcolor": "white",
            "linecolor": "white",
            "ticks": ""
           },
           "bgcolor": "#E5ECF6",
           "caxis": {
            "gridcolor": "white",
            "linecolor": "white",
            "ticks": ""
           }
          },
          "title": {
           "x": 0.05
          },
          "xaxis": {
           "automargin": true,
           "gridcolor": "white",
           "linecolor": "white",
           "ticks": "",
           "title": {
            "standoff": 15
           },
           "zerolinecolor": "white",
           "zerolinewidth": 2
          },
          "yaxis": {
           "automargin": true,
           "gridcolor": "white",
           "linecolor": "white",
           "ticks": "",
           "title": {
            "standoff": 15
           },
           "zerolinecolor": "white",
           "zerolinewidth": 2
          }
         }
        },
        "title": {
         "text": "Scatter Plot"
        },
        "width": 800,
        "xaxis": {
         "title": {
          "text": "FP - incorrectly classified as fraudulent"
         }
        },
        "yaxis": {
         "title": {
          "text": "FN- incorrectly classified as nonfraudulent"
         }
        }
       }
      },
      "text/html": [
       "<div>                            <div id=\"278eb2e4-bdd8-4fc7-80a2-b863d48ae540\" class=\"plotly-graph-div\" style=\"height:600px; width:800px;\"></div>            <script type=\"text/javascript\">                require([\"plotly\"], function(Plotly) {                    window.PLOTLYENV=window.PLOTLYENV || {};                                    if (document.getElementById(\"278eb2e4-bdd8-4fc7-80a2-b863d48ae540\")) {                    Plotly.newPlot(                        \"278eb2e4-bdd8-4fc7-80a2-b863d48ae540\",                        [{\"mode\":\"markers\",\"name\":\"Random Forest\",\"text\":[\"Random Forest at 0.1 threshold\",\"Random Forest at 0.2 threshold\",\"Random Forest at 0.3 threshold\",\"Random Forest at 0.4 threshold\",\"Random Forest at 0.5 threshold\",\"Random Forest at 0.6 threshold\",\"Random Forest at 0.7 threshold\",\"Random Forest at 0.8 threshold\",\"Random Forest at 0.9 threshold\"],\"x\":[3,3,4,8,13,15,20,27,44],\"y\":[31,24,20,17,15,13,13,12,10],\"type\":\"scatter\"},{\"mode\":\"markers\",\"name\":\"XGB\",\"text\":[\"XGB at 0.1 threshold\",\"XGB at 0.2 threshold\",\"XGB at 0.3 threshold\",\"XGB at 0.4 threshold\",\"XGB at 0.5 threshold\",\"XGB at 0.6 threshold\",\"XGB at 0.7 threshold\",\"XGB at 0.8 threshold\",\"XGB at 0.9 threshold\"],\"x\":[4,6,8,9,9,18,22,31,50],\"y\":[18,16,15,15,14,13,12,10,10],\"type\":\"scatter\"},{\"mode\":\"markers\",\"name\":\"CatBoost\",\"text\":[\"CatBoost at 0.1 threshold\",\"CatBoost at 0.2 threshold\",\"CatBoost at 0.3 threshold\",\"CatBoost at 0.4 threshold\",\"CatBoost at 0.5 threshold\",\"CatBoost at 0.6 threshold\",\"CatBoost at 0.7 threshold\",\"CatBoost at 0.8 threshold\",\"CatBoost at 0.9 threshold\"],\"x\":[13,14,14,15,16,17,21,30,50],\"y\":[21,20,20,17,14,14,13,11,9],\"type\":\"scatter\"},{\"mode\":\"markers\",\"name\":\"LGBM\",\"text\":[\"LGBM at 0.1 threshold\",\"LGBM at 0.2 threshold\",\"LGBM at 0.3 threshold\",\"LGBM at 0.4 threshold\",\"LGBM at 0.5 threshold\",\"LGBM at 0.6 threshold\",\"LGBM at 0.7 threshold\",\"LGBM at 0.8 threshold\",\"LGBM at 0.9 threshold\"],\"x\":[1,2,3,3,3,3,5,5,10],\"y\":[27,24,22,21,20,18,16,16,15],\"type\":\"scatter\"}],                        {\"template\":{\"data\":{\"histogram2dcontour\":[{\"type\":\"histogram2dcontour\",\"colorbar\":{\"outlinewidth\":0,\"ticks\":\"\"},\"colorscale\":[[0.0,\"#0d0887\"],[0.1111111111111111,\"#46039f\"],[0.2222222222222222,\"#7201a8\"],[0.3333333333333333,\"#9c179e\"],[0.4444444444444444,\"#bd3786\"],[0.5555555555555556,\"#d8576b\"],[0.6666666666666666,\"#ed7953\"],[0.7777777777777778,\"#fb9f3a\"],[0.8888888888888888,\"#fdca26\"],[1.0,\"#f0f921\"]]}],\"choropleth\":[{\"type\":\"choropleth\",\"colorbar\":{\"outlinewidth\":0,\"ticks\":\"\"}}],\"histogram2d\":[{\"type\":\"histogram2d\",\"colorbar\":{\"outlinewidth\":0,\"ticks\":\"\"},\"colorscale\":[[0.0,\"#0d0887\"],[0.1111111111111111,\"#46039f\"],[0.2222222222222222,\"#7201a8\"],[0.3333333333333333,\"#9c179e\"],[0.4444444444444444,\"#bd3786\"],[0.5555555555555556,\"#d8576b\"],[0.6666666666666666,\"#ed7953\"],[0.7777777777777778,\"#fb9f3a\"],[0.8888888888888888,\"#fdca26\"],[1.0,\"#f0f921\"]]}],\"heatmap\":[{\"type\":\"heatmap\",\"colorbar\":{\"outlinewidth\":0,\"ticks\":\"\"},\"colorscale\":[[0.0,\"#0d0887\"],[0.1111111111111111,\"#46039f\"],[0.2222222222222222,\"#7201a8\"],[0.3333333333333333,\"#9c179e\"],[0.4444444444444444,\"#bd3786\"],[0.5555555555555556,\"#d8576b\"],[0.6666666666666666,\"#ed7953\"],[0.7777777777777778,\"#fb9f3a\"],[0.8888888888888888,\"#fdca26\"],[1.0,\"#f0f921\"]]}],\"heatmapgl\":[{\"type\":\"heatmapgl\",\"colorbar\":{\"outlinewidth\":0,\"ticks\":\"\"},\"colorscale\":[[0.0,\"#0d0887\"],[0.1111111111111111,\"#46039f\"],[0.2222222222222222,\"#7201a8\"],[0.3333333333333333,\"#9c179e\"],[0.4444444444444444,\"#bd3786\"],[0.5555555555555556,\"#d8576b\"],[0.6666666666666666,\"#ed7953\"],[0.7777777777777778,\"#fb9f3a\"],[0.8888888888888888,\"#fdca26\"],[1.0,\"#f0f921\"]]}],\"contourcarpet\":[{\"type\":\"contourcarpet\",\"colorbar\":{\"outlinewidth\":0,\"ticks\":\"\"}}],\"contour\":[{\"type\":\"contour\",\"colorbar\":{\"outlinewidth\":0,\"ticks\":\"\"},\"colorscale\":[[0.0,\"#0d0887\"],[0.1111111111111111,\"#46039f\"],[0.2222222222222222,\"#7201a8\"],[0.3333333333333333,\"#9c179e\"],[0.4444444444444444,\"#bd3786\"],[0.5555555555555556,\"#d8576b\"],[0.6666666666666666,\"#ed7953\"],[0.7777777777777778,\"#fb9f3a\"],[0.8888888888888888,\"#fdca26\"],[1.0,\"#f0f921\"]]}],\"surface\":[{\"type\":\"surface\",\"colorbar\":{\"outlinewidth\":0,\"ticks\":\"\"},\"colorscale\":[[0.0,\"#0d0887\"],[0.1111111111111111,\"#46039f\"],[0.2222222222222222,\"#7201a8\"],[0.3333333333333333,\"#9c179e\"],[0.4444444444444444,\"#bd3786\"],[0.5555555555555556,\"#d8576b\"],[0.6666666666666666,\"#ed7953\"],[0.7777777777777778,\"#fb9f3a\"],[0.8888888888888888,\"#fdca26\"],[1.0,\"#f0f921\"]]}],\"mesh3d\":[{\"type\":\"mesh3d\",\"colorbar\":{\"outlinewidth\":0,\"ticks\":\"\"}}],\"scatter\":[{\"fillpattern\":{\"fillmode\":\"overlay\",\"size\":10,\"solidity\":0.2},\"type\":\"scatter\"}],\"parcoords\":[{\"type\":\"parcoords\",\"line\":{\"colorbar\":{\"outlinewidth\":0,\"ticks\":\"\"}}}],\"scatterpolargl\":[{\"type\":\"scatterpolargl\",\"marker\":{\"colorbar\":{\"outlinewidth\":0,\"ticks\":\"\"}}}],\"bar\":[{\"error_x\":{\"color\":\"#2a3f5f\"},\"error_y\":{\"color\":\"#2a3f5f\"},\"marker\":{\"line\":{\"color\":\"#E5ECF6\",\"width\":0.5},\"pattern\":{\"fillmode\":\"overlay\",\"size\":10,\"solidity\":0.2}},\"type\":\"bar\"}],\"scattergeo\":[{\"type\":\"scattergeo\",\"marker\":{\"colorbar\":{\"outlinewidth\":0,\"ticks\":\"\"}}}],\"scatterpolar\":[{\"type\":\"scatterpolar\",\"marker\":{\"colorbar\":{\"outlinewidth\":0,\"ticks\":\"\"}}}],\"histogram\":[{\"marker\":{\"pattern\":{\"fillmode\":\"overlay\",\"size\":10,\"solidity\":0.2}},\"type\":\"histogram\"}],\"scattergl\":[{\"type\":\"scattergl\",\"marker\":{\"colorbar\":{\"outlinewidth\":0,\"ticks\":\"\"}}}],\"scatter3d\":[{\"type\":\"scatter3d\",\"line\":{\"colorbar\":{\"outlinewidth\":0,\"ticks\":\"\"}},\"marker\":{\"colorbar\":{\"outlinewidth\":0,\"ticks\":\"\"}}}],\"scattermapbox\":[{\"type\":\"scattermapbox\",\"marker\":{\"colorbar\":{\"outlinewidth\":0,\"ticks\":\"\"}}}],\"scatterternary\":[{\"type\":\"scatterternary\",\"marker\":{\"colorbar\":{\"outlinewidth\":0,\"ticks\":\"\"}}}],\"scattercarpet\":[{\"type\":\"scattercarpet\",\"marker\":{\"colorbar\":{\"outlinewidth\":0,\"ticks\":\"\"}}}],\"carpet\":[{\"aaxis\":{\"endlinecolor\":\"#2a3f5f\",\"gridcolor\":\"white\",\"linecolor\":\"white\",\"minorgridcolor\":\"white\",\"startlinecolor\":\"#2a3f5f\"},\"baxis\":{\"endlinecolor\":\"#2a3f5f\",\"gridcolor\":\"white\",\"linecolor\":\"white\",\"minorgridcolor\":\"white\",\"startlinecolor\":\"#2a3f5f\"},\"type\":\"carpet\"}],\"table\":[{\"cells\":{\"fill\":{\"color\":\"#EBF0F8\"},\"line\":{\"color\":\"white\"}},\"header\":{\"fill\":{\"color\":\"#C8D4E3\"},\"line\":{\"color\":\"white\"}},\"type\":\"table\"}],\"barpolar\":[{\"marker\":{\"line\":{\"color\":\"#E5ECF6\",\"width\":0.5},\"pattern\":{\"fillmode\":\"overlay\",\"size\":10,\"solidity\":0.2}},\"type\":\"barpolar\"}],\"pie\":[{\"automargin\":true,\"type\":\"pie\"}]},\"layout\":{\"autotypenumbers\":\"strict\",\"colorway\":[\"#636efa\",\"#EF553B\",\"#00cc96\",\"#ab63fa\",\"#FFA15A\",\"#19d3f3\",\"#FF6692\",\"#B6E880\",\"#FF97FF\",\"#FECB52\"],\"font\":{\"color\":\"#2a3f5f\"},\"hovermode\":\"closest\",\"hoverlabel\":{\"align\":\"left\"},\"paper_bgcolor\":\"white\",\"plot_bgcolor\":\"#E5ECF6\",\"polar\":{\"bgcolor\":\"#E5ECF6\",\"angularaxis\":{\"gridcolor\":\"white\",\"linecolor\":\"white\",\"ticks\":\"\"},\"radialaxis\":{\"gridcolor\":\"white\",\"linecolor\":\"white\",\"ticks\":\"\"}},\"ternary\":{\"bgcolor\":\"#E5ECF6\",\"aaxis\":{\"gridcolor\":\"white\",\"linecolor\":\"white\",\"ticks\":\"\"},\"baxis\":{\"gridcolor\":\"white\",\"linecolor\":\"white\",\"ticks\":\"\"},\"caxis\":{\"gridcolor\":\"white\",\"linecolor\":\"white\",\"ticks\":\"\"}},\"coloraxis\":{\"colorbar\":{\"outlinewidth\":0,\"ticks\":\"\"}},\"colorscale\":{\"sequential\":[[0.0,\"#0d0887\"],[0.1111111111111111,\"#46039f\"],[0.2222222222222222,\"#7201a8\"],[0.3333333333333333,\"#9c179e\"],[0.4444444444444444,\"#bd3786\"],[0.5555555555555556,\"#d8576b\"],[0.6666666666666666,\"#ed7953\"],[0.7777777777777778,\"#fb9f3a\"],[0.8888888888888888,\"#fdca26\"],[1.0,\"#f0f921\"]],\"sequentialminus\":[[0.0,\"#0d0887\"],[0.1111111111111111,\"#46039f\"],[0.2222222222222222,\"#7201a8\"],[0.3333333333333333,\"#9c179e\"],[0.4444444444444444,\"#bd3786\"],[0.5555555555555556,\"#d8576b\"],[0.6666666666666666,\"#ed7953\"],[0.7777777777777778,\"#fb9f3a\"],[0.8888888888888888,\"#fdca26\"],[1.0,\"#f0f921\"]],\"diverging\":[[0,\"#8e0152\"],[0.1,\"#c51b7d\"],[0.2,\"#de77ae\"],[0.3,\"#f1b6da\"],[0.4,\"#fde0ef\"],[0.5,\"#f7f7f7\"],[0.6,\"#e6f5d0\"],[0.7,\"#b8e186\"],[0.8,\"#7fbc41\"],[0.9,\"#4d9221\"],[1,\"#276419\"]]},\"xaxis\":{\"gridcolor\":\"white\",\"linecolor\":\"white\",\"ticks\":\"\",\"title\":{\"standoff\":15},\"zerolinecolor\":\"white\",\"automargin\":true,\"zerolinewidth\":2},\"yaxis\":{\"gridcolor\":\"white\",\"linecolor\":\"white\",\"ticks\":\"\",\"title\":{\"standoff\":15},\"zerolinecolor\":\"white\",\"automargin\":true,\"zerolinewidth\":2},\"scene\":{\"xaxis\":{\"backgroundcolor\":\"#E5ECF6\",\"gridcolor\":\"white\",\"linecolor\":\"white\",\"showbackground\":true,\"ticks\":\"\",\"zerolinecolor\":\"white\",\"gridwidth\":2},\"yaxis\":{\"backgroundcolor\":\"#E5ECF6\",\"gridcolor\":\"white\",\"linecolor\":\"white\",\"showbackground\":true,\"ticks\":\"\",\"zerolinecolor\":\"white\",\"gridwidth\":2},\"zaxis\":{\"backgroundcolor\":\"#E5ECF6\",\"gridcolor\":\"white\",\"linecolor\":\"white\",\"showbackground\":true,\"ticks\":\"\",\"zerolinecolor\":\"white\",\"gridwidth\":2}},\"shapedefaults\":{\"line\":{\"color\":\"#2a3f5f\"}},\"annotationdefaults\":{\"arrowcolor\":\"#2a3f5f\",\"arrowhead\":0,\"arrowwidth\":1},\"geo\":{\"bgcolor\":\"white\",\"landcolor\":\"#E5ECF6\",\"subunitcolor\":\"white\",\"showland\":true,\"showlakes\":true,\"lakecolor\":\"white\"},\"title\":{\"x\":0.05},\"mapbox\":{\"style\":\"light\"}}},\"shapes\":[{\"fillcolor\":\"green\",\"opacity\":0.1,\"type\":\"rect\",\"x0\":0,\"x1\":50,\"xref\":\"x\",\"y0\":0,\"y1\":15,\"yref\":\"y\"},{\"fillcolor\":\"green\",\"opacity\":0.1,\"type\":\"rect\",\"x0\":0,\"x1\":50,\"xref\":\"x\",\"y0\":0,\"y1\":15,\"yref\":\"y\"},{\"fillcolor\":\"green\",\"opacity\":0.1,\"type\":\"rect\",\"x0\":0,\"x1\":50,\"xref\":\"x\",\"y0\":0,\"y1\":15,\"yref\":\"y\"},{\"fillcolor\":\"green\",\"opacity\":0.1,\"type\":\"rect\",\"x0\":0,\"x1\":50,\"xref\":\"x\",\"y0\":0,\"y1\":15,\"yref\":\"y\"}],\"title\":{\"text\":\"Scatter Plot\"},\"xaxis\":{\"title\":{\"text\":\"FP - incorrectly classified as fraudulent\"}},\"yaxis\":{\"title\":{\"text\":\"FN- incorrectly classified as nonfraudulent\"}},\"width\":800,\"height\":600},                        {\"responsive\": true}                    ).then(function(){\n",
       "                            \n",
       "var gd = document.getElementById('278eb2e4-bdd8-4fc7-80a2-b863d48ae540');\n",
       "var x = new MutationObserver(function (mutations, observer) {{\n",
       "        var display = window.getComputedStyle(gd).display;\n",
       "        if (!display || display === 'none') {{\n",
       "            console.log([gd, 'removed!']);\n",
       "            Plotly.purge(gd);\n",
       "            observer.disconnect();\n",
       "        }}\n",
       "}});\n",
       "\n",
       "// Listen for the removal of the full notebook cells\n",
       "var notebookContainer = gd.closest('#notebook-container');\n",
       "if (notebookContainer) {{\n",
       "    x.observe(notebookContainer, {childList: true});\n",
       "}}\n",
       "\n",
       "// Listen for the clearing of the current output cell\n",
       "var outputEl = gd.closest('.output');\n",
       "if (outputEl) {{\n",
       "    x.observe(outputEl, {childList: true});\n",
       "}}\n",
       "\n",
       "                        })                };                });            </script>        </div>"
      ]
     },
     "metadata": {},
     "output_type": "display_data"
    }
   ],
   "source": [
    "# Create a scatter plot for each dataset\n",
    "fig = go.Figure()\n",
    "\n",
    "\n",
    "for result in results.items():\n",
    "    # Create custom hover text with the additional information\n",
    "    hover_text = [f\"{result[0]} at {info:.1f} threshold\" for info in result[1][0]['threshold']]\n",
    "\n",
    "    fig.add_trace(go.Scatter(\n",
    "        x=result[1][0]['FP'], \n",
    "        y=result[1][0]['FN'], \n",
    "        mode='markers', \n",
    "        name=result[0],\n",
    "        text=hover_text  # Assign the custom hover text here\n",
    "    ))\n",
    "\n",
    "    fig.add_shape(type=\"rect\",\n",
    "    xref=\"x\", yref=\"y\",\n",
    "    x0=0, y0=0,\n",
    "    x1=50, y1=15,\n",
    "    fillcolor=\"green\",\n",
    "    opacity=0.1\n",
    "    )\n",
    "\n",
    "\n",
    "# Customize the layout, axis labels, and size\n",
    "fig.update_layout(\n",
    "    title='Scatter Plot',\n",
    "    xaxis_title='FP - incorrectly classified as fraudulent',\n",
    "    yaxis_title='FN- incorrectly classified as nonfraudulent',\n",
    "    width=800,\n",
    "    height=600\n",
    ")\n",
    "\n",
    "# Show the plot\n",
    "fig.show()\n"
   ]
  },
  {
   "cell_type": "markdown",
   "metadata": {},
   "source": [
    "### Conclusion:\n",
    "\n",
    "We have achieved satisfactory predictive performance using all four models, despite the extremely imbalanced dataset.\n",
    "\n",
    "I've highlighted the promising results on the above plot with a green rectangle based on my intuition. However, our ultimate decision regarding model selection and the threshold could depend on several crucial factors. For example, in a real-world scenario, the cost of misclassifying a fraudulent case as non-fraudulent may be significantly higher than misclassifying a non-fraudulent case as fraudulent. In such cases, further fine-tuning of the models is necessary, with a greater emphasis on recall rather than the overall AUCPR score.\""
   ]
  }
 ],
 "metadata": {
  "kernelspec": {
   "display_name": "venv-data-analysis",
   "language": "python",
   "name": "python3"
  },
  "language_info": {
   "codemirror_mode": {
    "name": "ipython",
    "version": 3
   },
   "file_extension": ".py",
   "mimetype": "text/x-python",
   "name": "python",
   "nbconvert_exporter": "python",
   "pygments_lexer": "ipython3",
   "version": "3.11.5"
  },
  "orig_nbformat": 4
 },
 "nbformat": 4,
 "nbformat_minor": 2
}
